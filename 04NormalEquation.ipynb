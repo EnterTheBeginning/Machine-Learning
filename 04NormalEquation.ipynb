{
  "nbformat": 4,
  "nbformat_minor": 0,
  "metadata": {
    "colab": {
      "name": "04NormalEquation.ipynb",
      "version": "0.3.2",
      "provenance": [],
      "include_colab_link": true
    },
    "kernelspec": {
      "name": "python3",
      "display_name": "Python 3"
    }
  },
  "cells": [
    {
      "cell_type": "markdown",
      "metadata": {
        "id": "view-in-github",
        "colab_type": "text"
      },
      "source": [
        "<a href=\"https://colab.research.google.com/github/EnterTheBeginning/Machine-Learning/blob/master/04NormalEquation.ipynb\" target=\"_parent\"><img src=\"https://colab.research.google.com/assets/colab-badge.svg\" alt=\"Open In Colab\"/></a>"
      ]
    },
    {
      "metadata": {
        "id": "I3s8XAFcUa3y",
        "colab_type": "code",
        "colab": {}
      },
      "cell_type": "code",
      "source": [
        "import numpy as np\n",
        "import pandas as pd\n",
        "import matplotlib.pyplot as plt\n",
        "%matplotlib inline"
      ],
      "execution_count": 0,
      "outputs": []
    },
    {
      "metadata": {
        "id": "7TnICPhJUtBr",
        "colab_type": "code",
        "colab": {}
      },
      "cell_type": "code",
      "source": [
        "np.random.seed(42)\n",
        "X= 2* np.random.rand(100,1)\n",
        "y = 4 + 3 * X + np.random.rand(100,1)\n"
      ],
      "execution_count": 0,
      "outputs": []
    },
    {
      "metadata": {
        "id": "vTpNCUB8WNRY",
        "colab_type": "code",
        "outputId": "7fed02a1-30be-49f2-f72d-363eeff11e79",
        "colab": {
          "base_uri": "https://localhost:8080/",
          "height": 289
        }
      },
      "cell_type": "code",
      "source": [
        "# Use . to make it looking like dots rather messy lines\n",
        "plt.plot(X, y, \"r.\")\n",
        "plt.xlabel(\"$X$\", fontsize=21)\n",
        "# $ for Italic\n",
        "plt.ylabel(\"$y$\", rotation=90, fontsize=21)\n",
        "plt.axis([0, 2, 0, 15])\n",
        "plt.show()"
      ],
      "execution_count": 5,
      "outputs": [
        {
          "output_type": "display_data",
          "data": {
            "image/png": "[encoded data removed]",
            "text/plain": [
              "<Figure size 432x288 with 1 Axes>"
            ]
          },
          "metadata": {
            "tags": []
          }
        }
      ]
    },
    {
      "metadata": {
        "id": "nOPLZ9AnoqPp",
        "colab_type": "code",
        "outputId": "e10789a6-1600-4572-f7f6-2b332a37d188",
        "colab": {
          "base_uri": "https://localhost:8080/",
          "height": 85
        }
      },
      "cell_type": "code",
      "source": [
        "#Simple For Loop\n",
        "for i in range(4):\n",
        "  print(X[i],y[i])"
      ],
      "execution_count": 6,
      "outputs": [
        {
          "output_type": "stream",
          "text": [
            "[0.74908024] [6.2786699]\n",
            "[1.90142861] [10.34069625]\n",
            "[1.46398788] [8.70631963]\n",
            "[1.19731697] [8.1005216]\n"
          ],
          "name": "stdout"
        }
      ]
    },
    {
      "metadata": {
        "id": "4iqsAd48rCwp",
        "colab_type": "text"
      },
      "cell_type": "markdown",
      "source": [
        "m = Training Examples  \n",
        "n = features  \n",
        "In this example, m = 100  \n",
        "\n"
      ]
    },
    {
      "metadata": {
        "id": "sZtmY_8xsNJH",
        "colab_type": "text"
      },
      "cell_type": "markdown",
      "source": [
        "Lets find the optimal **Weight** vector"
      ]
    },
    {
      "metadata": {
        "id": "TlY5_LEro0kQ",
        "colab_type": "code",
        "colab": {}
      },
      "cell_type": "code",
      "source": [
        "XT = np.transpose(X)"
      ],
      "execution_count": 0,
      "outputs": []
    },
    {
      "metadata": {
        "id": "cCH_Rlc6sU0A",
        "colab_type": "code",
        "colab": {}
      },
      "cell_type": "code",
      "source": [
        "invXTX = np.linalg.inv(np.dot(XT,X))"
      ],
      "execution_count": 0,
      "outputs": []
    },
    {
      "metadata": {
        "id": "6MtqiUMotQUA",
        "colab_type": "code",
        "colab": {}
      },
      "cell_type": "code",
      "source": [
        "w = np.dot(invXTX,XT).dot(y)"
      ],
      "execution_count": 0,
      "outputs": []
    },
    {
      "metadata": {
        "id": "NQIlSX1BtnEo",
        "colab_type": "code",
        "colab": {
          "base_uri": "https://localhost:8080/",
          "height": 34
        },
        "outputId": "126c72b7-2ec9-4f2d-e3aa-12c209805709"
      },
      "cell_type": "code",
      "source": [
        "print(w)"
      ],
      "execution_count": 10,
      "outputs": [
        {
          "output_type": "stream",
          "text": [
            "[[6.42073117]]\n"
          ],
          "name": "stdout"
        }
      ]
    },
    {
      "metadata": {
        "id": "sJedRBl3uym4",
        "colab_type": "text"
      },
      "cell_type": "markdown",
      "source": [
        "Now lets try to predict new training data|"
      ]
    },
    {
      "metadata": {
        "id": "OViaR_9Cu18X",
        "colab_type": "code",
        "colab": {}
      },
      "cell_type": "code",
      "source": [
        "X_test = np.array([[0],[2]])"
      ],
      "execution_count": 0,
      "outputs": []
    },
    {
      "metadata": {
        "id": "xnsvXHEDvPfA",
        "colab_type": "code",
        "colab": {
          "base_uri": "https://localhost:8080/",
          "height": 51
        },
        "outputId": "2a45b327-c7f2-45a3-e0bb-cacbcc08f22d"
      },
      "cell_type": "code",
      "source": [
        "X_predict = X_test.dot(w)\n",
        "X_predict"
      ],
      "execution_count": 38,
      "outputs": [
        {
          "output_type": "execute_result",
          "data": {
            "text/plain": [
              "array([[ 0.        ],\n",
              "       [12.84146233]])"
            ]
          },
          "metadata": {
            "tags": []
          },
          "execution_count": 38
        }
      ]
    },
    {
      "metadata": {
        "id": "p1JzZShyvuTn",
        "colab_type": "code",
        "colab": {
          "base_uri": "https://localhost:8080/",
          "height": 286
        },
        "outputId": "8aaf83c0-0ff5-412d-c7ca-a125dc02b9e8"
      },
      "cell_type": "code",
      "source": [
        "plt.plot(X_test, X_predict, \"r-\", linewidth=2, label=\"Predictions\")\n",
        "plt.plot(X, y, \"b.\")\n",
        "plt.xlabel(\"$x_1$\", fontsize=18)\n",
        "plt.ylabel(\"$y$\", rotation=0, fontsize=18)\n",
        "plt.legend(loc=\"upper left\", fontsize=14)\n",
        "plt.axis([0, 2, 0, 15])\n",
        "plt.show()"
      ],
      "execution_count": 39,
      "outputs": [
        {
          "output_type": "display_data",
          "data": {
            "image/png": "[encoded data removed]",
            "text/plain": [
              "<Figure size 432x288 with 1 Axes>"
            ]
          },
          "metadata": {
            "tags": []
          }
        }
      ]
    },
    {
      "metadata": {
        "id": "D1qjO9pRwJ_4",
        "colab_type": "code",
        "colab": {}
      },
      "cell_type": "code",
      "source": [
        ""
      ],
      "execution_count": 0,
      "outputs": []
    }
  ]
}