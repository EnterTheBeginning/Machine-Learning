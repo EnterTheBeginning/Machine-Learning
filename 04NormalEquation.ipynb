{
  "nbformat": 4,
  "nbformat_minor": 0,
  "metadata": {
    "colab": {
      "name": "04NormalEquation.ipynb",
      "version": "0.3.2",
      "provenance": [],
      "collapsed_sections": [],
      "include_colab_link": true
    },
    "kernelspec": {
      "name": "python3",
      "display_name": "Python 3"
    }
  },
  "cells": [
    {
      "cell_type": "markdown",
      "metadata": {
        "id": "view-in-github",
        "colab_type": "text"
      },
      "source": [
        "<a href=\"https://colab.research.google.com/github/EnterTheBeginning/Machine-Learning/blob/master/04NormalEquation.ipynb\" target=\"_parent\"><img src=\"https://colab.research.google.com/assets/colab-badge.svg\" alt=\"Open In Colab\"/></a>"
      ]
    },
    {
      "metadata": {
        "id": "I3s8XAFcUa3y",
        "colab_type": "code",
        "colab": {}
      },
      "cell_type": "code",
      "source": [
        "# Fin\n",
        "import numpy as np\n",
        "import pandas as pd\n",
        "import matplotlib as mpl\n",
        "\n",
        "import matplotlib.pyplot as plt\n",
        "%matplotlib inline\n",
        "mpl.rc('axes', labelsize=14)\n",
        "mpl.rc('xtick', labelsize=12)\n",
        "mpl.rc('ytick', labelsize=12)"
      ],
      "execution_count": 0,
      "outputs": []
    },
    {
      "metadata": {
        "id": "7TnICPhJUtBr",
        "colab_type": "code",
        "colab": {}
      },
      "cell_type": "code",
      "source": [
        "\n",
        "np.random.seed(42)\n",
        "X= 2* np.random.rand(100,1)\n",
        "y = 4 + 3 * X + np.random.rand(100,1)\n"
      ],
      "execution_count": 0,
      "outputs": []
    },
    {
      "metadata": {
        "id": "vTpNCUB8WNRY",
        "colab_type": "code",
        "outputId": "f218d935-fab6-4563-ceb0-6212ad8d9d50",
        "colab": {
          "base_uri": "https://localhost:8080/",
          "height": 291
        }
      },
      "cell_type": "code",
      "source": [
        "# Use . to make it looking like dots rather messy lines\n",
        "plt.plot(X, y, \"r.\")\n",
        "plt.xlabel(\"$X$\", fontsize=21)\n",
        "# $ for Italic\n",
        "plt.ylabel(\"$y$\", rotation=90, fontsize=21)\n",
        "plt.axis([0, 2, 0, 15])\n",
        "plt.show()"
      ],
      "execution_count": 63,
      "outputs": [
        {
          "output_type": "display_data",
          "data": {
            "image/png": "[encoded data removed]",
            "text/plain": [
              "<Figure size 432x288 with 1 Axes>"
            ]
          },
          "metadata": {
            "tags": []
          }
        }
      ]
    },
    {
      "metadata": {
        "id": "nOPLZ9AnoqPp",
        "colab_type": "code",
        "outputId": "b98bbade-a776-4eb1-9e91-56f5a36d5243",
        "colab": {
          "base_uri": "https://localhost:8080/",
          "height": 85
        }
      },
      "cell_type": "code",
      "source": [
        "#Simple For Loop\n",
        "for i in range(4):\n",
        "  print(X[i],y[i])"
      ],
      "execution_count": 64,
      "outputs": [
        {
          "output_type": "stream",
          "text": [
            "[0.74908024] [6.2786699]\n",
            "[1.90142861] [10.34069625]\n",
            "[1.46398788] [8.70631963]\n",
            "[1.19731697] [8.1005216]\n"
          ],
          "name": "stdout"
        }
      ]
    },
    {
      "metadata": {
        "id": "4iqsAd48rCwp",
        "colab_type": "text"
      },
      "cell_type": "markdown",
      "source": [
        "m = Training Examples  \n",
        "n = features  \n",
        "In this example, m = 100  \n",
        "\n"
      ]
    },
    {
      "metadata": {
        "id": "sZtmY_8xsNJH",
        "colab_type": "text"
      },
      "cell_type": "markdown",
      "source": [
        "Lets find the optimal **Weight** vector"
      ]
    },
    {
      "metadata": {
        "id": "BiiI2Yds0Xp2",
        "colab_type": "text"
      },
      "cell_type": "markdown",
      "source": [
        "np.c_[np.array([1,2,3]), np.array([4,5,6])]  \n",
        "array([[1, 4],\n",
        "       [2, 5],\n",
        "       [3, 6]])"
      ]
    },
    {
      "metadata": {
        "id": "5z8kCUNO0BVV",
        "colab_type": "code",
        "outputId": "cbbb7d0c-4e62-4891-860e-c8f2749305fc",
        "colab": {
          "base_uri": "https://localhost:8080/",
          "height": 272
        }
      },
      "cell_type": "code",
      "source": [
        "X_b = np.c_[np.ones((100,1)),X]\n",
        "X_b[40:55]\n",
        "# Use the New X_b not X since ipython doesnt replace the New X to older X."
      ],
      "execution_count": 73,
      "outputs": [
        {
          "output_type": "execute_result",
          "data": {
            "text/plain": [
              "array([[1.        , 0.24407647],\n",
              "       [1.        , 0.99035382],\n",
              "       [1.        , 0.06877704],\n",
              "       [1.        , 1.8186408 ],\n",
              "       [1.        , 0.51755996],\n",
              "       [1.        , 1.32504457],\n",
              "       [1.        , 0.62342215],\n",
              "       [1.        , 1.04013604],\n",
              "       [1.        , 1.09342056],\n",
              "       [1.        , 0.36970891],\n",
              "       [1.        , 1.93916926],\n",
              "       [1.        , 1.55026565],\n",
              "       [1.        , 1.87899788],\n",
              "       [1.        , 1.7896547 ],\n",
              "       [1.        , 1.19579996]])"
            ]
          },
          "metadata": {
            "tags": []
          },
          "execution_count": 73
        }
      ]
    },
    {
      "metadata": {
        "id": "TlY5_LEro0kQ",
        "colab_type": "code",
        "colab": {}
      },
      "cell_type": "code",
      "source": [
        "XT = np.transpose(X_b)"
      ],
      "execution_count": 0,
      "outputs": []
    },
    {
      "metadata": {
        "id": "cCH_Rlc6sU0A",
        "colab_type": "code",
        "colab": {}
      },
      "cell_type": "code",
      "source": [
        "invXTX = np.linalg.inv(np.dot(XT,X_b))"
      ],
      "execution_count": 0,
      "outputs": []
    },
    {
      "metadata": {
        "id": "6MtqiUMotQUA",
        "colab_type": "code",
        "colab": {}
      },
      "cell_type": "code",
      "source": [
        "w = np.dot(invXTX,XT).dot(y)"
      ],
      "execution_count": 0,
      "outputs": []
    },
    {
      "metadata": {
        "id": "NQIlSX1BtnEo",
        "colab_type": "code",
        "outputId": "4c5e2652-b0e4-4d95-863f-379fdb2e2b53",
        "colab": {
          "base_uri": "https://localhost:8080/",
          "height": 51
        }
      },
      "cell_type": "code",
      "source": [
        "w"
      ],
      "execution_count": 69,
      "outputs": [
        {
          "output_type": "execute_result",
          "data": {
            "text/plain": [
              "array([[4.51359766],\n",
              "       [2.98323418]])"
            ]
          },
          "metadata": {
            "tags": []
          },
          "execution_count": 69
        }
      ]
    },
    {
      "metadata": {
        "id": "sJedRBl3uym4",
        "colab_type": "text"
      },
      "cell_type": "markdown",
      "source": [
        "Now lets try to predict new training data|"
      ]
    },
    {
      "metadata": {
        "id": "OViaR_9Cu18X",
        "colab_type": "code",
        "colab": {}
      },
      "cell_type": "code",
      "source": [
        "X_new = np.array([[0],[2]])"
      ],
      "execution_count": 0,
      "outputs": []
    },
    {
      "metadata": {
        "id": "xnsvXHEDvPfA",
        "colab_type": "code",
        "outputId": "0087a13e-2e49-4d63-8e26-4eee54a25a10",
        "colab": {
          "base_uri": "https://localhost:8080/",
          "height": 51
        }
      },
      "cell_type": "code",
      "source": [
        "X_new_b = np.c_[np.ones((2, 1)), X_new]  \n",
        "y_predict = X_new_b.dot(w)\n",
        "y_predict"
      ],
      "execution_count": 71,
      "outputs": [
        {
          "output_type": "execute_result",
          "data": {
            "text/plain": [
              "array([[ 4.51359766],\n",
              "       [10.48006601]])"
            ]
          },
          "metadata": {
            "tags": []
          },
          "execution_count": 71
        }
      ]
    },
    {
      "metadata": {
        "id": "p1JzZShyvuTn",
        "colab_type": "code",
        "outputId": "ad2bd31a-cb5a-4a5e-c9cc-fa698664d176",
        "colab": {
          "base_uri": "https://localhost:8080/",
          "height": 288
        }
      },
      "cell_type": "code",
      "source": [
        "plt.plot(X_new, y_predict, \"r-\", linewidth=2, label=\"Predictions\")\n",
        "plt.plot(X, y, \"b.\")\n",
        "plt.xlabel(\"$x_1$\", fontsize=18)\n",
        "plt.ylabel(\"$y$\", rotation=0, fontsize=18)\n",
        "plt.legend(loc=\"upper left\", fontsize=14)\n",
        "plt.axis([0, 2, 0, 15])\n",
        "plt.show()"
      ],
      "execution_count": 72,
      "outputs": [
        {
          "output_type": "display_data",
          "data": {
            "image/png": "[encoded data removed]",
            "text/plain": [
              "<Figure size 432x288 with 1 Axes>"
            ]
          },
          "metadata": {
            "tags": []
          }
        }
      ]
    },
    {
      "metadata": {
        "id": "zpvMVwkHQaCJ",
        "colab_type": "text"
      },
      "cell_type": "markdown",
      "source": [
        "Now lets try the above simulation in SK Learn library "
      ]
    },
    {
      "metadata": {
        "id": "pyF6_pMcQdnb",
        "colab_type": "code",
        "colab": {
          "base_uri": "https://localhost:8080/",
          "height": 34
        },
        "outputId": "b75aafe9-d360-44d5-afa7-7fe980224bb8"
      },
      "cell_type": "code",
      "source": [
        "from sklearn.linear_model import LinearRegression\n",
        "lin_reg = LinearRegression()\n",
        "lin_reg.fit(X,y)\n",
        "lin_reg.intercept_, lin_reg.coef_ \n",
        "# Intercept is the same as bias. Coef is slope\n"
      ],
      "execution_count": 81,
      "outputs": [
        {
          "output_type": "execute_result",
          "data": {
            "text/plain": [
              "(array([4.51359766]), array([[2.98323418]]))"
            ]
          },
          "metadata": {
            "tags": []
          },
          "execution_count": 81
        }
      ]
    },
    {
      "metadata": {
        "id": "HZEoitUCQ8m-",
        "colab_type": "code",
        "colab": {
          "base_uri": "https://localhost:8080/",
          "height": 51
        },
        "outputId": "cf5f0ac6-05e1-479f-eb72-59249e22b34d"
      },
      "cell_type": "code",
      "source": [
        "lin_reg.predict(X_new)"
      ],
      "execution_count": 82,
      "outputs": [
        {
          "output_type": "execute_result",
          "data": {
            "text/plain": [
              "array([[ 4.51359766],\n",
              "       [10.48006601]])"
            ]
          },
          "metadata": {
            "tags": []
          },
          "execution_count": 82
        }
      ]
    },
    {
      "metadata": {
        "id": "xF_FCix3RBsW",
        "colab_type": "code",
        "colab": {
          "base_uri": "https://localhost:8080/",
          "height": 51
        },
        "outputId": "50dc2ea1-c3f5-44a2-c5fc-2ad2721151d1"
      },
      "cell_type": "code",
      "source": [
        "w_best_svd, residuals, rank, s = np.linalg.lstsq(X_b, y, rcond=1e-6)\n",
        "w_best_svd"
      ],
      "execution_count": 83,
      "outputs": [
        {
          "output_type": "execute_result",
          "data": {
            "text/plain": [
              "array([[4.51359766],\n",
              "       [2.98323418]])"
            ]
          },
          "metadata": {
            "tags": []
          },
          "execution_count": 83
        }
      ]
    },
    {
      "metadata": {
        "id": "EqISQc2gRLUs",
        "colab_type": "text"
      },
      "cell_type": "markdown",
      "source": [
        "least squares lst sq is used to calculate the optimal weight"
      ]
    },
    {
      "metadata": {
        "id": "RVdXhGM2RTq8",
        "colab_type": "text"
      },
      "cell_type": "markdown",
      "source": [
        "This one is pseudoinverse:| "
      ]
    },
    {
      "metadata": {
        "id": "MoZT3FJbROqG",
        "colab_type": "code",
        "colab": {
          "base_uri": "https://localhost:8080/",
          "height": 51
        },
        "outputId": "1110e0da-dca6-41d7-b88a-2f1204be9992"
      },
      "cell_type": "code",
      "source": [
        "np.linalg.pinv(X_b).dot(y)"
      ],
      "execution_count": 85,
      "outputs": [
        {
          "output_type": "execute_result",
          "data": {
            "text/plain": [
              "array([[4.51359766],\n",
              "       [2.98323418]])"
            ]
          },
          "metadata": {
            "tags": []
          },
          "execution_count": 85
        }
      ]
    },
    {
      "metadata": {
        "id": "0HNNfw0zRXzu",
        "colab_type": "code",
        "colab": {}
      },
      "cell_type": "code",
      "source": [
        ""
      ],
      "execution_count": 0,
      "outputs": []
    }
  ]
}