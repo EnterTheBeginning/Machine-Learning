{
  "nbformat": 4,
  "nbformat_minor": 0,
  "metadata": {
    "colab": {
      "name": "HW2.ipynb",
      "version": "0.3.2",
      "provenance": [],
      "collapsed_sections": [
        "fsJt8AuKU1JZ"
      ],
      "toc_visible": true,
      "include_colab_link": true
    },
    "kernelspec": {
      "name": "python3",
      "display_name": "Python 3"
    },
    "accelerator": "GPU"
  },
  "cells": [
    {
      "cell_type": "markdown",
      "metadata": {
        "id": "view-in-github",
        "colab_type": "text"
      },
      "source": [
        "<a href=\"https://colab.research.google.com/github/EnterTheBeginning/Machine-Learning/blob/master/HW2.ipynb\" target=\"_parent\"><img src=\"https://colab.research.google.com/assets/colab-badge.svg\" alt=\"Open In Colab\"/></a>"
      ]
    },
    {
      "metadata": {
        "id": "RDHYu7PwG_di",
        "colab_type": "code",
        "colab": {}
      },
      "cell_type": "code",
      "source": [
        "# Working, Add more than 7 models\n",
        "#Batch size = 32 vs 64 vs 128 for model 3 W/O Aug\n",
        "#Model 5 winner"
      ],
      "execution_count": 0,
      "outputs": []
    },
    {
      "metadata": {
        "id": "fsJt8AuKU1JZ",
        "colab_type": "text"
      },
      "cell_type": "markdown",
      "source": [
        "##Preprocessing"
      ]
    },
    {
      "metadata": {
        "id": "AiR3z1oHWziS",
        "colab_type": "code",
        "colab": {}
      },
      "cell_type": "code",
      "source": [
        "import numpy as np\n",
        "import pandas as pd\n",
        "import keras\n",
        "import matplotlib.pyplot as plt\n",
        "%matplotlib inline\n",
        "import warnings\n",
        "warnings.filterwarnings('ignore')\n",
        "from keras.utils import np_utils\n",
        "from keras.models import Sequential\n",
        "from scipy.misc import toimage\n",
        "from keras.layers import Dense, Activation, Flatten,Conv2D,MaxPooling2D,Dropout, BatchNormalization\n",
        "from keras.optimizers import SGD, Adam, RMSprop\n",
        "from keras.preprocessing.image import ImageDataGenerator\n",
        "from keras import regularizers"
      ],
      "execution_count": 0,
      "outputs": []
    },
    {
      "metadata": {
        "id": "jwEPJBeiO_SD",
        "colab_type": "text"
      },
      "cell_type": "markdown",
      "source": [
        "The goal is to recognize previously unseen images and assign them to one of the 10 classes.\n",
        "Let us define a suitable deep net."
      ]
    },
    {
      "metadata": {
        "id": "pwO-fucWTV_B",
        "colab_type": "code",
        "colab": {}
      },
      "cell_type": "code",
      "source": [
        "from keras.datasets import cifar10 \n",
        "(X_train_original, y_train_original), (X_test_original, y_test_original) = cifar10.load_data()\n"
      ],
      "execution_count": 0,
      "outputs": []
    },
    {
      "metadata": {
        "id": "RGrZ-tj_AFCC",
        "colab_type": "code",
        "colab": {}
      },
      "cell_type": "code",
      "source": [
        "#OneHotEncoding\n",
        "y_train_hot = np_utils.to_categorical(y_train_original,10)\n",
        "y_test = np_utils.to_categorical(y_test_original,10)\n"
      ],
      "execution_count": 0,
      "outputs": []
    },
    {
      "metadata": {
        "id": "ppydf_Ht-53g",
        "colab_type": "code",
        "colab": {}
      },
      "cell_type": "code",
      "source": [
        "#Normalize\n",
        "X_train_nor = X_train_original.astype('float32')\n",
        "X_test_nor = X_test_original.astype('float32')\n",
        "X_train_nor = (X_train_nor) / 255\n",
        "X_test = (X_test_nor) / 255\n"
      ],
      "execution_count": 0,
      "outputs": []
    },
    {
      "metadata": {
        "id": "TVJEuFizY3Xh",
        "colab_type": "code",
        "colab": {}
      },
      "cell_type": "code",
      "source": [
        "#Manual Validation Divide\n",
        "split = int(X_train_original.shape[0] * (4/5))\n",
        "\n",
        "X_train = X_train_nor[:split]\n",
        "y_train = y_train_hot[:split]\n",
        "\n",
        "X_train_val = X_train_nor[split:]\n",
        "y_train_val = y_train_hot[split:]\n"
      ],
      "execution_count": 0,
      "outputs": []
    },
    {
      "metadata": {
        "id": "VHqenXygXWu3",
        "colab_type": "text"
      },
      "cell_type": "markdown",
      "source": [
        "#Models"
      ]
    },
    {
      "metadata": {
        "id": "UPdv5O98Pags",
        "colab_type": "text"
      },
      "cell_type": "markdown",
      "source": [
        "##Model 1: 69%"
      ]
    },
    {
      "metadata": {
        "id": "S_WLxm2cNxCc",
        "colab_type": "code",
        "colab": {}
      },
      "cell_type": "code",
      "source": [
        "#Overfitting\n",
        "#0.68 test 0.6904\n",
        "model = Sequential()\n",
        "model.add(Conv2D(32,(3,3),input_shape=(32,32,3)))\n",
        "model.add(MaxPooling2D(pool_size=(2,2)))\n",
        "model.add(Dropout(0.2))\n",
        "model.add(Conv2D(32,(3,3),input_shape=(30,30,3)))\n",
        "model.add(MaxPooling2D(pool_size=(2,2)))\n",
        "model.add(Dropout(0.2))\n",
        "model.add(Flatten())\n",
        "model.add(Dense(128,activation='relu'))\n",
        "model.add(Dense(10,activation='softmax'))\n",
        "model.compile(optimizer = 'adam', loss = 'categorical_crossentropy', metrics = ['accuracy'])\n",
        "model.summary()\n"
      ],
      "execution_count": 0,
      "outputs": []
    },
    {
      "metadata": {
        "id": "YT59BCZkUFUD",
        "colab_type": "code",
        "colab": {
          "base_uri": "https://localhost:8080/",
          "height": 232
        },
        "outputId": "4f8e8bbe-7f14-4b3a-a7e3-f54192f2d454"
      },
      "cell_type": "code",
      "source": [
        "model.fit(X_train, y_train, epochs = 20,batch_size= 32,verbose = 1,validation_data=[X_train_val,y_train_val])\n",
        "\n",
        "score = model.evaluate(X_test,y_test,batch_size = 128,verbose = 1)\n",
        "print(\"Test score: \", score[0])\n",
        "print(\"Test accuracy: \", score[1])"
      ],
      "execution_count": 78,
      "outputs": [
        {
          "output_type": "error",
          "ename": "NameError",
          "evalue": "ignored",
          "traceback": [
            "\u001b[0;31m---------------------------------------------------------------------------\u001b[0m",
            "\u001b[0;31mNameError\u001b[0m                                 Traceback (most recent call last)",
            "\u001b[0;32m<ipython-input-78-79d85dded83a>\u001b[0m in \u001b[0;36m<module>\u001b[0;34m()\u001b[0m\n\u001b[0;32m----> 1\u001b[0;31m \u001b[0mmodel\u001b[0m\u001b[0;34m.\u001b[0m\u001b[0mfit\u001b[0m\u001b[0;34m(\u001b[0m\u001b[0mX_train\u001b[0m\u001b[0;34m,\u001b[0m \u001b[0my_train\u001b[0m\u001b[0;34m,\u001b[0m \u001b[0mepochs\u001b[0m \u001b[0;34m=\u001b[0m \u001b[0;36m20\u001b[0m\u001b[0;34m,\u001b[0m\u001b[0mbatch_size\u001b[0m\u001b[0;34m=\u001b[0m \u001b[0;36m32\u001b[0m\u001b[0;34m,\u001b[0m\u001b[0mverbose\u001b[0m \u001b[0;34m=\u001b[0m \u001b[0;36m1\u001b[0m\u001b[0;34m,\u001b[0m\u001b[0mvalidation_data\u001b[0m\u001b[0;34m=\u001b[0m\u001b[0;34m[\u001b[0m\u001b[0mX_train_val\u001b[0m\u001b[0;34m,\u001b[0m\u001b[0my_train_val\u001b[0m\u001b[0;34m]\u001b[0m\u001b[0;34m)\u001b[0m\u001b[0;34m\u001b[0m\u001b[0;34m\u001b[0m\u001b[0m\n\u001b[0m\u001b[1;32m      2\u001b[0m \u001b[0;34m\u001b[0m\u001b[0m\n\u001b[1;32m      3\u001b[0m \u001b[0mscore\u001b[0m \u001b[0;34m=\u001b[0m \u001b[0mmodel\u001b[0m\u001b[0;34m.\u001b[0m\u001b[0mevaluate\u001b[0m\u001b[0;34m(\u001b[0m\u001b[0mX_test\u001b[0m\u001b[0;34m,\u001b[0m\u001b[0my_test\u001b[0m\u001b[0;34m,\u001b[0m\u001b[0mbatch_size\u001b[0m \u001b[0;34m=\u001b[0m \u001b[0;36m128\u001b[0m\u001b[0;34m,\u001b[0m\u001b[0mverbose\u001b[0m \u001b[0;34m=\u001b[0m \u001b[0;36m1\u001b[0m\u001b[0;34m)\u001b[0m\u001b[0;34m\u001b[0m\u001b[0;34m\u001b[0m\u001b[0m\n\u001b[1;32m      4\u001b[0m \u001b[0mprint\u001b[0m\u001b[0;34m(\u001b[0m\u001b[0;34m\"Test score: \"\u001b[0m\u001b[0;34m,\u001b[0m \u001b[0mscore\u001b[0m\u001b[0;34m[\u001b[0m\u001b[0;36m0\u001b[0m\u001b[0;34m]\u001b[0m\u001b[0;34m)\u001b[0m\u001b[0;34m\u001b[0m\u001b[0;34m\u001b[0m\u001b[0m\n\u001b[1;32m      5\u001b[0m \u001b[0mprint\u001b[0m\u001b[0;34m(\u001b[0m\u001b[0;34m\"Test accuracy: \"\u001b[0m\u001b[0;34m,\u001b[0m \u001b[0mscore\u001b[0m\u001b[0;34m[\u001b[0m\u001b[0;36m1\u001b[0m\u001b[0;34m]\u001b[0m\u001b[0;34m)\u001b[0m\u001b[0;34m\u001b[0m\u001b[0;34m\u001b[0m\u001b[0m\n",
            "\u001b[0;31mNameError\u001b[0m: name 'model' is not defined"
          ]
        }
      ]
    },
    {
      "metadata": {
        "id": "S4svqG39PSca",
        "colab_type": "text"
      },
      "cell_type": "markdown",
      "source": [
        "##Model 2: 50%"
      ]
    },
    {
      "metadata": {
        "id": "92_CNniMSvJ2",
        "colab_type": "code",
        "outputId": "6b68a375-47e9-4f23-86fa-109550d8b7b0",
        "colab": {
          "base_uri": "https://localhost:8080/",
          "height": 1458
        }
      },
      "cell_type": "code",
      "source": [
        "#47%\n",
        "model2 = Sequential()\n",
        "model2.add(Conv2D(32,(3,3),input_shape=(32,32,3)))\n",
        "model2.add(Conv2D(32,(3,3),input_shape=(30,30,3)))\n",
        "model2.add(Conv2D(32,(3,3),input_shape=(28,28,3)))\n",
        "model2.add(Flatten())\n",
        "model2.add(Dense(512,activation = 'relu'))\n",
        "model2.add(Dense(10,activation='softmax'))\n",
        "model2.compile(optimizer = 'adam',loss = 'categorical_crossentropy',metrics = ['accuracy'])\n",
        "model2.summary()\n",
        "model2.fit(X_train,y_train,epochs=20 , batch_size = 128,verbose = 1,validation_data=[X_train_val,y_train_val])\n",
        "\n",
        "score = model2.evaluate(X_test,y_test,batch_size = 128,verbose = 1)\n",
        "print(\"Test score: \", score[0])\n",
        "print(\"Test accuracy: \", score[1])"
      ],
      "execution_count": 0,
      "outputs": [
        {
          "output_type": "stream",
          "text": [
            "_________________________________________________________________\n",
            "Layer (type)                 Output Shape              Param #   \n",
            "=================================================================\n",
            "conv2d_2 (Conv2D)            (None, 30, 30, 32)        896       \n",
            "_________________________________________________________________\n",
            "conv2d_3 (Conv2D)            (None, 28, 28, 32)        9248      \n",
            "_________________________________________________________________\n",
            "conv2d_4 (Conv2D)            (None, 26, 26, 32)        9248      \n",
            "_________________________________________________________________\n",
            "flatten_2 (Flatten)          (None, 21632)             0         \n",
            "_________________________________________________________________\n",
            "dense_3 (Dense)              (None, 512)               11076096  \n",
            "_________________________________________________________________\n",
            "dense_4 (Dense)              (None, 10)                5130      \n",
            "=================================================================\n",
            "Total params: 11,100,618\n",
            "Trainable params: 11,100,618\n",
            "Non-trainable params: 0\n",
            "_________________________________________________________________\n",
            "Train on 40000 samples, validate on 10000 samples\n",
            "Epoch 1/20\n",
            "40000/40000 [==============================] - 13s 323us/step - loss: 1.7467 - acc: 0.3941 - val_loss: 1.5386 - val_acc: 0.4653\n",
            "Epoch 2/20\n",
            "40000/40000 [==============================] - 12s 303us/step - loss: 1.3861 - acc: 0.5160 - val_loss: 1.4685 - val_acc: 0.4900\n",
            "Epoch 3/20\n",
            "40000/40000 [==============================] - 12s 301us/step - loss: 1.1958 - acc: 0.5830 - val_loss: 1.4264 - val_acc: 0.5083\n",
            "Epoch 4/20\n",
            "40000/40000 [==============================] - 12s 298us/step - loss: 0.9941 - acc: 0.6547 - val_loss: 1.5061 - val_acc: 0.5077\n",
            "Epoch 5/20\n",
            "40000/40000 [==============================] - 12s 299us/step - loss: 0.7396 - acc: 0.7475 - val_loss: 1.7203 - val_acc: 0.4911\n",
            "Epoch 6/20\n",
            "40000/40000 [==============================] - 12s 305us/step - loss: 0.5058 - acc: 0.8285 - val_loss: 2.0476 - val_acc: 0.4678\n",
            "Epoch 7/20\n",
            "40000/40000 [==============================] - 12s 305us/step - loss: 0.3661 - acc: 0.8775 - val_loss: 2.5827 - val_acc: 0.4849\n",
            "Epoch 8/20\n",
            "14976/40000 [==========>...................] - ETA: 7s - loss: 0.2114 - acc: 0.9304"
          ],
          "name": "stdout"
        },
        {
          "output_type": "error",
          "ename": "KeyboardInterrupt",
          "evalue": "ignored",
          "traceback": [
            "\u001b[0;31m---------------------------------------------------------------------------\u001b[0m",
            "\u001b[0;31mKeyboardInterrupt\u001b[0m                         Traceback (most recent call last)",
            "\u001b[0;32m<ipython-input-7-277cca244329>\u001b[0m in \u001b[0;36m<module>\u001b[0;34m()\u001b[0m\n\u001b[1;32m      8\u001b[0m \u001b[0mmodel2\u001b[0m\u001b[0;34m.\u001b[0m\u001b[0mcompile\u001b[0m\u001b[0;34m(\u001b[0m\u001b[0moptimizer\u001b[0m \u001b[0;34m=\u001b[0m \u001b[0;34m'adam'\u001b[0m\u001b[0;34m,\u001b[0m\u001b[0mloss\u001b[0m \u001b[0;34m=\u001b[0m \u001b[0;34m'categorical_crossentropy'\u001b[0m\u001b[0;34m,\u001b[0m\u001b[0mmetrics\u001b[0m \u001b[0;34m=\u001b[0m \u001b[0;34m[\u001b[0m\u001b[0;34m'accuracy'\u001b[0m\u001b[0;34m]\u001b[0m\u001b[0;34m)\u001b[0m\u001b[0;34m\u001b[0m\u001b[0;34m\u001b[0m\u001b[0m\n\u001b[1;32m      9\u001b[0m \u001b[0mmodel2\u001b[0m\u001b[0;34m.\u001b[0m\u001b[0msummary\u001b[0m\u001b[0;34m(\u001b[0m\u001b[0;34m)\u001b[0m\u001b[0;34m\u001b[0m\u001b[0;34m\u001b[0m\u001b[0m\n\u001b[0;32m---> 10\u001b[0;31m \u001b[0mmodel2\u001b[0m\u001b[0;34m.\u001b[0m\u001b[0mfit\u001b[0m\u001b[0;34m(\u001b[0m\u001b[0mX_train\u001b[0m\u001b[0;34m,\u001b[0m\u001b[0my_train\u001b[0m\u001b[0;34m,\u001b[0m\u001b[0mepochs\u001b[0m\u001b[0;34m=\u001b[0m\u001b[0;36m20\u001b[0m \u001b[0;34m,\u001b[0m \u001b[0mbatch_size\u001b[0m \u001b[0;34m=\u001b[0m \u001b[0;36m128\u001b[0m\u001b[0;34m,\u001b[0m\u001b[0mverbose\u001b[0m \u001b[0;34m=\u001b[0m \u001b[0;36m1\u001b[0m\u001b[0;34m,\u001b[0m\u001b[0mvalidation_data\u001b[0m\u001b[0;34m=\u001b[0m\u001b[0;34m[\u001b[0m\u001b[0mX_train_val\u001b[0m\u001b[0;34m,\u001b[0m\u001b[0my_train_val\u001b[0m\u001b[0;34m]\u001b[0m\u001b[0;34m)\u001b[0m\u001b[0;34m\u001b[0m\u001b[0;34m\u001b[0m\u001b[0m\n\u001b[0m\u001b[1;32m     11\u001b[0m \u001b[0;34m\u001b[0m\u001b[0m\n\u001b[1;32m     12\u001b[0m \u001b[0mscore\u001b[0m \u001b[0;34m=\u001b[0m \u001b[0mmodel2\u001b[0m\u001b[0;34m.\u001b[0m\u001b[0mevaluate\u001b[0m\u001b[0;34m(\u001b[0m\u001b[0mX_test\u001b[0m\u001b[0;34m,\u001b[0m\u001b[0my_test\u001b[0m\u001b[0;34m,\u001b[0m\u001b[0mbatch_size\u001b[0m \u001b[0;34m=\u001b[0m \u001b[0;36m128\u001b[0m\u001b[0;34m,\u001b[0m\u001b[0mverbose\u001b[0m \u001b[0;34m=\u001b[0m \u001b[0;36m1\u001b[0m\u001b[0;34m)\u001b[0m\u001b[0;34m\u001b[0m\u001b[0;34m\u001b[0m\u001b[0m\n",
            "\u001b[0;32m/usr/local/lib/python3.6/dist-packages/keras/engine/training.py\u001b[0m in \u001b[0;36mfit\u001b[0;34m(self, x, y, batch_size, epochs, verbose, callbacks, validation_split, validation_data, shuffle, class_weight, sample_weight, initial_epoch, steps_per_epoch, validation_steps, **kwargs)\u001b[0m\n\u001b[1;32m   1037\u001b[0m                                         \u001b[0minitial_epoch\u001b[0m\u001b[0;34m=\u001b[0m\u001b[0minitial_epoch\u001b[0m\u001b[0;34m,\u001b[0m\u001b[0;34m\u001b[0m\u001b[0;34m\u001b[0m\u001b[0m\n\u001b[1;32m   1038\u001b[0m                                         \u001b[0msteps_per_epoch\u001b[0m\u001b[0;34m=\u001b[0m\u001b[0msteps_per_epoch\u001b[0m\u001b[0;34m,\u001b[0m\u001b[0;34m\u001b[0m\u001b[0;34m\u001b[0m\u001b[0m\n\u001b[0;32m-> 1039\u001b[0;31m                                         validation_steps=validation_steps)\n\u001b[0m\u001b[1;32m   1040\u001b[0m \u001b[0;34m\u001b[0m\u001b[0m\n\u001b[1;32m   1041\u001b[0m     def evaluate(self, x=None, y=None,\n",
            "\u001b[0;32m/usr/local/lib/python3.6/dist-packages/keras/engine/training_arrays.py\u001b[0m in \u001b[0;36mfit_loop\u001b[0;34m(model, f, ins, out_labels, batch_size, epochs, verbose, callbacks, val_f, val_ins, shuffle, callback_metrics, initial_epoch, steps_per_epoch, validation_steps)\u001b[0m\n\u001b[1;32m    197\u001b[0m                     \u001b[0mins_batch\u001b[0m\u001b[0;34m[\u001b[0m\u001b[0mi\u001b[0m\u001b[0;34m]\u001b[0m \u001b[0;34m=\u001b[0m \u001b[0mins_batch\u001b[0m\u001b[0;34m[\u001b[0m\u001b[0mi\u001b[0m\u001b[0;34m]\u001b[0m\u001b[0;34m.\u001b[0m\u001b[0mtoarray\u001b[0m\u001b[0;34m(\u001b[0m\u001b[0;34m)\u001b[0m\u001b[0;34m\u001b[0m\u001b[0;34m\u001b[0m\u001b[0m\n\u001b[1;32m    198\u001b[0m \u001b[0;34m\u001b[0m\u001b[0m\n\u001b[0;32m--> 199\u001b[0;31m                 \u001b[0mouts\u001b[0m \u001b[0;34m=\u001b[0m \u001b[0mf\u001b[0m\u001b[0;34m(\u001b[0m\u001b[0mins_batch\u001b[0m\u001b[0;34m)\u001b[0m\u001b[0;34m\u001b[0m\u001b[0;34m\u001b[0m\u001b[0m\n\u001b[0m\u001b[1;32m    200\u001b[0m                 \u001b[0mouts\u001b[0m \u001b[0;34m=\u001b[0m \u001b[0mto_list\u001b[0m\u001b[0;34m(\u001b[0m\u001b[0mouts\u001b[0m\u001b[0;34m)\u001b[0m\u001b[0;34m\u001b[0m\u001b[0;34m\u001b[0m\u001b[0m\n\u001b[1;32m    201\u001b[0m                 \u001b[0;32mfor\u001b[0m \u001b[0ml\u001b[0m\u001b[0;34m,\u001b[0m \u001b[0mo\u001b[0m \u001b[0;32min\u001b[0m \u001b[0mzip\u001b[0m\u001b[0;34m(\u001b[0m\u001b[0mout_labels\u001b[0m\u001b[0;34m,\u001b[0m \u001b[0mouts\u001b[0m\u001b[0;34m)\u001b[0m\u001b[0;34m:\u001b[0m\u001b[0;34m\u001b[0m\u001b[0;34m\u001b[0m\u001b[0m\n",
            "\u001b[0;32m/usr/local/lib/python3.6/dist-packages/keras/backend/tensorflow_backend.py\u001b[0m in \u001b[0;36m__call__\u001b[0;34m(self, inputs)\u001b[0m\n\u001b[1;32m   2713\u001b[0m                 \u001b[0;32mreturn\u001b[0m \u001b[0mself\u001b[0m\u001b[0;34m.\u001b[0m\u001b[0m_legacy_call\u001b[0m\u001b[0;34m(\u001b[0m\u001b[0minputs\u001b[0m\u001b[0;34m)\u001b[0m\u001b[0;34m\u001b[0m\u001b[0;34m\u001b[0m\u001b[0m\n\u001b[1;32m   2714\u001b[0m \u001b[0;34m\u001b[0m\u001b[0m\n\u001b[0;32m-> 2715\u001b[0;31m             \u001b[0;32mreturn\u001b[0m \u001b[0mself\u001b[0m\u001b[0;34m.\u001b[0m\u001b[0m_call\u001b[0m\u001b[0;34m(\u001b[0m\u001b[0minputs\u001b[0m\u001b[0;34m)\u001b[0m\u001b[0;34m\u001b[0m\u001b[0;34m\u001b[0m\u001b[0m\n\u001b[0m\u001b[1;32m   2716\u001b[0m         \u001b[0;32melse\u001b[0m\u001b[0;34m:\u001b[0m\u001b[0;34m\u001b[0m\u001b[0;34m\u001b[0m\u001b[0m\n\u001b[1;32m   2717\u001b[0m             \u001b[0;32mif\u001b[0m \u001b[0mpy_any\u001b[0m\u001b[0;34m(\u001b[0m\u001b[0mis_tensor\u001b[0m\u001b[0;34m(\u001b[0m\u001b[0mx\u001b[0m\u001b[0;34m)\u001b[0m \u001b[0;32mfor\u001b[0m \u001b[0mx\u001b[0m \u001b[0;32min\u001b[0m \u001b[0minputs\u001b[0m\u001b[0;34m)\u001b[0m\u001b[0;34m:\u001b[0m\u001b[0;34m\u001b[0m\u001b[0;34m\u001b[0m\u001b[0m\n",
            "\u001b[0;32m/usr/local/lib/python3.6/dist-packages/keras/backend/tensorflow_backend.py\u001b[0m in \u001b[0;36m_call\u001b[0;34m(self, inputs)\u001b[0m\n\u001b[1;32m   2673\u001b[0m             \u001b[0mfetched\u001b[0m \u001b[0;34m=\u001b[0m \u001b[0mself\u001b[0m\u001b[0;34m.\u001b[0m\u001b[0m_callable_fn\u001b[0m\u001b[0;34m(\u001b[0m\u001b[0;34m*\u001b[0m\u001b[0marray_vals\u001b[0m\u001b[0;34m,\u001b[0m \u001b[0mrun_metadata\u001b[0m\u001b[0;34m=\u001b[0m\u001b[0mself\u001b[0m\u001b[0;34m.\u001b[0m\u001b[0mrun_metadata\u001b[0m\u001b[0;34m)\u001b[0m\u001b[0;34m\u001b[0m\u001b[0;34m\u001b[0m\u001b[0m\n\u001b[1;32m   2674\u001b[0m         \u001b[0;32melse\u001b[0m\u001b[0;34m:\u001b[0m\u001b[0;34m\u001b[0m\u001b[0;34m\u001b[0m\u001b[0m\n\u001b[0;32m-> 2675\u001b[0;31m             \u001b[0mfetched\u001b[0m \u001b[0;34m=\u001b[0m \u001b[0mself\u001b[0m\u001b[0;34m.\u001b[0m\u001b[0m_callable_fn\u001b[0m\u001b[0;34m(\u001b[0m\u001b[0;34m*\u001b[0m\u001b[0marray_vals\u001b[0m\u001b[0;34m)\u001b[0m\u001b[0;34m\u001b[0m\u001b[0;34m\u001b[0m\u001b[0m\n\u001b[0m\u001b[1;32m   2676\u001b[0m         \u001b[0;32mreturn\u001b[0m \u001b[0mfetched\u001b[0m\u001b[0;34m[\u001b[0m\u001b[0;34m:\u001b[0m\u001b[0mlen\u001b[0m\u001b[0;34m(\u001b[0m\u001b[0mself\u001b[0m\u001b[0;34m.\u001b[0m\u001b[0moutputs\u001b[0m\u001b[0;34m)\u001b[0m\u001b[0;34m]\u001b[0m\u001b[0;34m\u001b[0m\u001b[0;34m\u001b[0m\u001b[0m\n\u001b[1;32m   2677\u001b[0m \u001b[0;34m\u001b[0m\u001b[0m\n",
            "\u001b[0;32m/usr/local/lib/python3.6/dist-packages/tensorflow/python/client/session.py\u001b[0m in \u001b[0;36m__call__\u001b[0;34m(self, *args, **kwargs)\u001b[0m\n\u001b[1;32m   1437\u001b[0m           ret = tf_session.TF_SessionRunCallable(\n\u001b[1;32m   1438\u001b[0m               \u001b[0mself\u001b[0m\u001b[0;34m.\u001b[0m\u001b[0m_session\u001b[0m\u001b[0;34m.\u001b[0m\u001b[0m_session\u001b[0m\u001b[0;34m,\u001b[0m \u001b[0mself\u001b[0m\u001b[0;34m.\u001b[0m\u001b[0m_handle\u001b[0m\u001b[0;34m,\u001b[0m \u001b[0margs\u001b[0m\u001b[0;34m,\u001b[0m \u001b[0mstatus\u001b[0m\u001b[0;34m,\u001b[0m\u001b[0;34m\u001b[0m\u001b[0;34m\u001b[0m\u001b[0m\n\u001b[0;32m-> 1439\u001b[0;31m               run_metadata_ptr)\n\u001b[0m\u001b[1;32m   1440\u001b[0m         \u001b[0;32mif\u001b[0m \u001b[0mrun_metadata\u001b[0m\u001b[0;34m:\u001b[0m\u001b[0;34m\u001b[0m\u001b[0;34m\u001b[0m\u001b[0m\n\u001b[1;32m   1441\u001b[0m           \u001b[0mproto_data\u001b[0m \u001b[0;34m=\u001b[0m \u001b[0mtf_session\u001b[0m\u001b[0;34m.\u001b[0m\u001b[0mTF_GetBuffer\u001b[0m\u001b[0;34m(\u001b[0m\u001b[0mrun_metadata_ptr\u001b[0m\u001b[0;34m)\u001b[0m\u001b[0;34m\u001b[0m\u001b[0;34m\u001b[0m\u001b[0m\n",
            "\u001b[0;31mKeyboardInterrupt\u001b[0m: "
          ]
        }
      ]
    },
    {
      "metadata": {
        "id": "B5G8-Nc4PVpr",
        "colab_type": "text"
      },
      "cell_type": "markdown",
      "source": [
        "##Model 3 78%:"
      ]
    },
    {
      "metadata": {
        "id": "Bd0Aa3ygbjEa",
        "colab_type": "text"
      },
      "cell_type": "markdown",
      "source": [
        "One way to improve the performance is to define a deeper network"
      ]
    },
    {
      "metadata": {
        "id": "cZ88KAKuwq0c",
        "colab_type": "code",
        "colab": {}
      },
      "cell_type": "code",
      "source": [
        "#0.78 , test 0.76\n",
        "model3 = Sequential()\n",
        "model3.add(Conv2D(32,(3,3), input_shape=(32,32,3)))\n",
        "model3.add(Activation('relu'))\n",
        "model3.add(Conv2D(32,(3,3)))\n",
        "model3.add(Activation('relu'))\n",
        "model3.add(MaxPooling2D(pool_size=(2,2)))\n",
        "model3.add(Dropout(0.25))\n",
        "\n",
        "model3.add(Conv2D(64,(3,3)))\n",
        "model3.add(Activation('relu'))\n",
        "model3.add(Conv2D(64,(3,3)))\n",
        "model3.add(Activation('relu'))\n",
        "model3.add(MaxPooling2D(pool_size=(2, 2)))\n",
        "model3.add(Dropout(0.25))\n",
        "\n",
        "model3.add(Flatten())\n",
        "model3.add(Dense(512))\n",
        "model3.add(Activation('relu'))\n",
        "model3.add(Dropout(0.25))\n",
        "\n",
        "model3.add(Dense(10))\n",
        "model3.add(Activation('softmax'))\n",
        "\n",
        "#model3.summary()\n",
        "model3.compile(optimizer='adam',loss='categorical_crossentropy',metrics=['accuracy'])\n"
      ],
      "execution_count": 0,
      "outputs": []
    },
    {
      "metadata": {
        "id": "F3CfDvrhLpX9",
        "colab_type": "code",
        "colab": {
          "base_uri": "https://localhost:8080/",
          "height": 929
        },
        "outputId": "c6732b40-3f06-4a5b-be78-7c41b048e038"
      },
      "cell_type": "code",
      "source": [
        "model3.fit(X_train,y_train,epochs = 20,batch_size = 128, verbose = 1,validation_data=[X_train_val,y_train_val])\n",
        "score = model3.evaluate(X_test,y_test,batch_size = 128,verbose = 1)\n",
        "print(\"Test score: \", score[0])\n",
        "print(\"Test accuracy: \", score[1])"
      ],
      "execution_count": 89,
      "outputs": [
        {
          "output_type": "stream",
          "text": [
            "Train on 40000 samples, validate on 10000 samples\n",
            "Epoch 1/20\n",
            "40000/40000 [==============================] - 13s 326us/step - loss: 1.6007 - acc: 0.4125 - val_loss: 1.3461 - val_acc: 0.5159\n",
            "Epoch 2/20\n",
            "40000/40000 [==============================] - 12s 299us/step - loss: 1.2478 - acc: 0.5539 - val_loss: 1.0784 - val_acc: 0.6258\n",
            "Epoch 3/20\n",
            "40000/40000 [==============================] - 12s 296us/step - loss: 1.0746 - acc: 0.6179 - val_loss: 0.9816 - val_acc: 0.6541\n",
            "Epoch 4/20\n",
            "40000/40000 [==============================] - 12s 296us/step - loss: 0.9593 - acc: 0.6603 - val_loss: 0.8733 - val_acc: 0.6960\n",
            "Epoch 5/20\n",
            "40000/40000 [==============================] - 12s 296us/step - loss: 0.8676 - acc: 0.6936 - val_loss: 0.8418 - val_acc: 0.7082\n",
            "Epoch 6/20\n",
            "40000/40000 [==============================] - 12s 295us/step - loss: 0.7951 - acc: 0.7170 - val_loss: 0.7627 - val_acc: 0.7351\n",
            "Epoch 7/20\n",
            "40000/40000 [==============================] - 12s 294us/step - loss: 0.7370 - acc: 0.7387 - val_loss: 0.7661 - val_acc: 0.7349\n",
            "Epoch 8/20\n",
            "40000/40000 [==============================] - 12s 294us/step - loss: 0.6913 - acc: 0.7567 - val_loss: 0.7229 - val_acc: 0.7511\n",
            "Epoch 9/20\n",
            "40000/40000 [==============================] - 12s 293us/step - loss: 0.6481 - acc: 0.7726 - val_loss: 0.7107 - val_acc: 0.7612\n",
            "Epoch 10/20\n",
            "40000/40000 [==============================] - 12s 294us/step - loss: 0.6085 - acc: 0.7837 - val_loss: 0.7282 - val_acc: 0.7489\n",
            "Epoch 11/20\n",
            "40000/40000 [==============================] - 12s 294us/step - loss: 0.5740 - acc: 0.7958 - val_loss: 0.6871 - val_acc: 0.7621\n",
            "Epoch 12/20\n",
            "40000/40000 [==============================] - 12s 294us/step - loss: 0.5435 - acc: 0.8066 - val_loss: 0.7019 - val_acc: 0.7634\n",
            "Epoch 13/20\n",
            "40000/40000 [==============================] - 12s 294us/step - loss: 0.5133 - acc: 0.8175 - val_loss: 0.7043 - val_acc: 0.7602\n",
            "Epoch 14/20\n",
            "40000/40000 [==============================] - 12s 294us/step - loss: 0.4869 - acc: 0.8278 - val_loss: 0.6964 - val_acc: 0.7688\n",
            "Epoch 15/20\n",
            "40000/40000 [==============================] - 12s 294us/step - loss: 0.4658 - acc: 0.8354 - val_loss: 0.7217 - val_acc: 0.7608\n",
            "Epoch 16/20\n",
            "40000/40000 [==============================] - 12s 294us/step - loss: 0.4478 - acc: 0.8416 - val_loss: 0.7038 - val_acc: 0.7682\n",
            "Epoch 17/20\n",
            "40000/40000 [==============================] - 12s 293us/step - loss: 0.4197 - acc: 0.8513 - val_loss: 0.7143 - val_acc: 0.7647\n",
            "Epoch 18/20\n",
            "40000/40000 [==============================] - 12s 294us/step - loss: 0.4065 - acc: 0.8561 - val_loss: 0.7292 - val_acc: 0.7672\n",
            "Epoch 19/20\n",
            "40000/40000 [==============================] - 12s 294us/step - loss: 0.3922 - acc: 0.8597 - val_loss: 0.7060 - val_acc: 0.7725\n",
            "Epoch 20/20\n",
            "40000/40000 [==============================] - 12s 294us/step - loss: 0.3774 - acc: 0.8654 - val_loss: 0.7293 - val_acc: 0.7687\n"
          ],
          "name": "stdout"
        },
        {
          "output_type": "error",
          "ename": "NameError",
          "evalue": "ignored",
          "traceback": [
            "\u001b[0;31m---------------------------------------------------------------------------\u001b[0m",
            "\u001b[0;31mNameError\u001b[0m                                 Traceback (most recent call last)",
            "\u001b[0;32m<ipython-input-89-c817e5cad6fd>\u001b[0m in \u001b[0;36m<module>\u001b[0;34m()\u001b[0m\n\u001b[1;32m      1\u001b[0m \u001b[0mmodel3\u001b[0m\u001b[0;34m.\u001b[0m\u001b[0mfit\u001b[0m\u001b[0;34m(\u001b[0m\u001b[0mX_train\u001b[0m\u001b[0;34m,\u001b[0m\u001b[0my_train\u001b[0m\u001b[0;34m,\u001b[0m\u001b[0mepochs\u001b[0m \u001b[0;34m=\u001b[0m \u001b[0;36m20\u001b[0m\u001b[0;34m,\u001b[0m\u001b[0mbatch_size\u001b[0m \u001b[0;34m=\u001b[0m \u001b[0;36m64\u001b[0m\u001b[0;34m,\u001b[0m \u001b[0mverbose\u001b[0m \u001b[0;34m=\u001b[0m \u001b[0;36m1\u001b[0m\u001b[0;34m,\u001b[0m\u001b[0mvalidation_data\u001b[0m\u001b[0;34m=\u001b[0m\u001b[0;34m[\u001b[0m\u001b[0mX_train_val\u001b[0m\u001b[0;34m,\u001b[0m\u001b[0my_train_val\u001b[0m\u001b[0;34m]\u001b[0m\u001b[0;34m)\u001b[0m\u001b[0;34m\u001b[0m\u001b[0;34m\u001b[0m\u001b[0m\n\u001b[1;32m      2\u001b[0m \u001b[0;34m\u001b[0m\u001b[0m\n\u001b[0;32m----> 3\u001b[0;31m \u001b[0mscore\u001b[0m \u001b[0;34m=\u001b[0m \u001b[0mmodel3\u001b[0m\u001b[0;34m.\u001b[0m\u001b[0mevaluate\u001b[0m\u001b[0;34m(\u001b[0m\u001b[0mX_test\u001b[0m\u001b[0;34m,\u001b[0m\u001b[0my_test\u001b[0m\u001b[0;34m,\u001b[0m\u001b[0mbatch_size\u001b[0m \u001b[0;34m=\u001b[0m \u001b[0;36m64\u001b[0m\u001b[0;34m,\u001b[0m\u001b[0mverbose\u001b[0m \u001b[0;34m=\u001b[0m \u001b[0;36m1\u001b[0m\u001b[0;34m)\u001b[0m\u001b[0;34m\u001b[0m\u001b[0;34m\u001b[0m\u001b[0m\n\u001b[0m\u001b[1;32m      4\u001b[0m \u001b[0mprint\u001b[0m\u001b[0;34m(\u001b[0m\u001b[0;34m\"Test score: \"\u001b[0m\u001b[0;34m,\u001b[0m \u001b[0mscore\u001b[0m\u001b[0;34m[\u001b[0m\u001b[0;36m0\u001b[0m\u001b[0;34m]\u001b[0m\u001b[0;34m)\u001b[0m\u001b[0;34m\u001b[0m\u001b[0;34m\u001b[0m\u001b[0m\n\u001b[1;32m      5\u001b[0m \u001b[0mprint\u001b[0m\u001b[0;34m(\u001b[0m\u001b[0;34m\"Test accuracy: \"\u001b[0m\u001b[0;34m,\u001b[0m \u001b[0mscore\u001b[0m\u001b[0;34m[\u001b[0m\u001b[0;36m1\u001b[0m\u001b[0;34m]\u001b[0m\u001b[0;34m)\u001b[0m\u001b[0;34m\u001b[0m\u001b[0;34m\u001b[0m\u001b[0m\n",
            "\u001b[0;31mNameError\u001b[0m: name 'X_test' is not defined"
          ]
        }
      ]
    },
    {
      "metadata": {
        "id": "APCaFy3CPodL",
        "colab_type": "text"
      },
      "cell_type": "markdown",
      "source": [
        "##Model 4:  Only One CNN Layer 67%"
      ]
    },
    {
      "metadata": {
        "id": "gPSX4AE4PzeM",
        "colab_type": "text"
      },
      "cell_type": "markdown",
      "source": [
        "Our net will learn 32 convolutional filters, each of which with a 3 x 3 size. The output\n",
        "dimension is the same one of the input shape, so it will be 32 x 32 and activation is ReLU"
      ]
    },
    {
      "metadata": {
        "id": "tBARX5F6P2Qr",
        "colab_type": "text"
      },
      "cell_type": "markdown",
      "source": [
        " After that we have a max-pooling\n",
        "operation with pool size 2 x 2 and a dropout at 25%"
      ]
    },
    {
      "metadata": {
        "id": "odstl0wtPmuM",
        "colab_type": "code",
        "outputId": "f4ea1ba5-1d16-43c6-e0b1-36fb13100ceb",
        "colab": {
          "base_uri": "https://localhost:8080/",
          "height": 476
        }
      },
      "cell_type": "code",
      "source": [
        "#68% 0.6755 test\n",
        "model4 = Sequential()\n",
        "model4.add(Conv2D(32,(3,3),padding = 'same',input_shape =(32,32,3)))\n",
        "model4.add(Activation('relu'))\n",
        "model4.add(MaxPooling2D(pool_size= (2,2)))\n",
        "model4.add(Dropout(0.25))\n",
        "\n",
        "model4.add(Flatten())\n",
        "model4.add(Dense(512))\n",
        "model4.add(Activation('relu'))\n",
        "model4.add(Dropout(0.5))\n",
        "model4.add(Dense(10))\n",
        "model4.add(Activation('softmax'))\n",
        "model4.summary()\n",
        "\n",
        "OPTIM = RMSprop()\n",
        "model4.compile(loss = 'categorical_crossentropy', optimizer=OPTIM,metrics=['accuracy'])\n"
      ],
      "execution_count": 56,
      "outputs": [
        {
          "output_type": "stream",
          "text": [
            "_________________________________________________________________\n",
            "Layer (type)                 Output Shape              Param #   \n",
            "=================================================================\n",
            "conv2d_9 (Conv2D)            (None, 32, 32, 32)        896       \n",
            "_________________________________________________________________\n",
            "activation_13 (Activation)   (None, 32, 32, 32)        0         \n",
            "_________________________________________________________________\n",
            "max_pooling2d_5 (MaxPooling2 (None, 16, 16, 32)        0         \n",
            "_________________________________________________________________\n",
            "dropout_7 (Dropout)          (None, 16, 16, 32)        0         \n",
            "_________________________________________________________________\n",
            "flatten_3 (Flatten)          (None, 8192)              0         \n",
            "_________________________________________________________________\n",
            "dense_5 (Dense)              (None, 512)               4194816   \n",
            "_________________________________________________________________\n",
            "activation_14 (Activation)   (None, 512)               0         \n",
            "_________________________________________________________________\n",
            "dropout_8 (Dropout)          (None, 512)               0         \n",
            "_________________________________________________________________\n",
            "dense_6 (Dense)              (None, 10)                5130      \n",
            "_________________________________________________________________\n",
            "activation_15 (Activation)   (None, 10)                0         \n",
            "=================================================================\n",
            "Total params: 4,200,842\n",
            "Trainable params: 4,200,842\n",
            "Non-trainable params: 0\n",
            "_________________________________________________________________\n"
          ],
          "name": "stdout"
        }
      ]
    },
    {
      "metadata": {
        "id": "fEBPM_0eQRu5",
        "colab_type": "code",
        "colab": {}
      },
      "cell_type": "code",
      "source": [
        "model4.fit(X_train,y_train,batch_size = 128, epochs =20 , verbose = 1,validation_data = [X_train_val,y_train_val])\n",
        "\n",
        "score = model4.evaluate(X_test,y_test,batch_size = 128,verbose = 1)\n",
        "print(\"Test score: \", score[0])\n",
        "print(\"Test accuracy: \", score[1])"
      ],
      "execution_count": 0,
      "outputs": []
    },
    {
      "metadata": {
        "id": "TgKy7wcpRjUs",
        "colab_type": "text"
      },
      "cell_type": "markdown",
      "source": [
        "After defining the network, we can train the model. In this case, we split the data and\n",
        "compute a validation set in addition to the training and testing sets"
      ]
    },
    {
      "metadata": {
        "id": "P6gevPpcXbNA",
        "colab_type": "text"
      },
      "cell_type": "markdown",
      "source": [
        "##Model 5: More Depth in CNN Layers 82% {Winner}"
      ]
    },
    {
      "metadata": {
        "id": "ZnNdaA9_XsiQ",
        "colab_type": "text"
      },
      "cell_type": "markdown",
      "source": [
        "**Description**  \n",
        "Kernel_regularizer  which allows to apply penalties on layer parameters during optimization. weights will decay after a while   \n",
        "Activation = ELU &  \n",
        "Batch Normalization   \n",
        "ELU is far better than Relu since the model will underfit    \n",
        "Dropout and Batch normalization will further improve the model"
      ]
    },
    {
      "metadata": {
        "id": "qcZeZeM1cTsX",
        "colab_type": "text"
      },
      "cell_type": "markdown",
      "source": [
        "![alt text](https://www.researchgate.net/profile/Sepp_Hochreiter/publication/284579051/figure/fig1/AS:614057178578955@1523414048184/The-rectified-linear-unit-ReLU-the-leaky-ReLU-LReLU-a-01-the-shifted-ReLUs.png)"
      ]
    },
    {
      "metadata": {
        "id": "W7SFz8I-XZ7w",
        "colab_type": "code",
        "colab": {}
      },
      "cell_type": "code",
      "source": [
        "weight_decay = 0.0001\n",
        "model5 = Sequential()\n",
        "model5.add(Conv2D(32, (3,3), padding='same', kernel_regularizer=regularizers.l2(weight_decay), input_shape=(32,32,3)))\n",
        "model5.add(Activation('elu'))\n",
        "model5.add(BatchNormalization())\n",
        "model5.add(Conv2D(32, (3,3), padding='same', kernel_regularizer=regularizers.l2(weight_decay)))\n",
        "model5.add(Activation('elu'))\n",
        "model5.add(BatchNormalization())\n",
        "model5.add(MaxPooling2D(pool_size=(2,2)))\n",
        "model5.add(Dropout(0.2))\n",
        " \n",
        "model5.add(Conv2D(64, (3,3), padding='same', kernel_regularizer=regularizers.l2(weight_decay)))\n",
        "model5.add(Activation('elu'))\n",
        "model5.add(BatchNormalization())\n",
        "model5.add(Conv2D(64, (3,3), padding='same', kernel_regularizer=regularizers.l2(weight_decay)))\n",
        "model5.add(Activation('elu'))\n",
        "model5.add(BatchNormalization())\n",
        "model5.add(MaxPooling2D(pool_size=(2,2)))\n",
        "model5.add(Dropout(0.3))\n",
        " \n",
        "model5.add(Conv2D(128, (3,3), padding='same', kernel_regularizer=regularizers.l2(weight_decay)))\n",
        "model5.add(Activation('elu'))\n",
        "model5.add(BatchNormalization())\n",
        "model5.add(Conv2D(128, (3,3), padding='same', kernel_regularizer=regularizers.l2(weight_decay)))\n",
        "model5.add(Activation('elu'))\n",
        "model5.add(BatchNormalization())\n",
        "model5.add(MaxPooling2D(pool_size=(2,2)))\n",
        "model5.add(Dropout(0.4))\n",
        " \n",
        "model5.add(Flatten())\n",
        "model5.add(Dense(10, activation='softmax'))\n",
        " \n",
        "#model.summary()\n",
        "opt_rms = keras.optimizers.rmsprop(lr=0.001,decay=0.000001)\n",
        "model5.compile(loss='categorical_crossentropy', optimizer=opt_rms, metrics=['accuracy'])\n"
      ],
      "execution_count": 0,
      "outputs": []
    },
    {
      "metadata": {
        "id": "J0dgG8HTd2K0",
        "colab_type": "code",
        "colab": {
          "base_uri": "https://localhost:8080/",
          "height": 765
        },
        "outputId": "cdd48c40-7e9d-444b-bed7-260ace0df762"
      },
      "cell_type": "code",
      "source": [
        "model5.fit(X_train,y_train,batch_size = 128, epochs =20 , verbose = 1,validation_data = [X_train_val,y_train_val])\n",
        "\n",
        "score = model5.evaluate(X_test,y_test,batch_size = 128,verbose = 1)\n",
        "print(\"Test score: \", score[0])\n",
        "print(\"Test accuracy: \", score[1])"
      ],
      "execution_count": 106,
      "outputs": [
        {
          "output_type": "stream",
          "text": [
            "Train on 40000 samples, validate on 10000 samples\n",
            "Epoch 1/20\n",
            "40000/40000 [==============================] - 20s 507us/step - loss: 1.9619 - acc: 0.4241 - val_loss: 1.5414 - val_acc: 0.5065\n",
            "Epoch 2/20\n",
            "40000/40000 [==============================] - 17s 435us/step - loss: 1.2526 - acc: 0.6038 - val_loss: 1.4192 - val_acc: 0.5993\n",
            "Epoch 3/20\n",
            "40000/40000 [==============================] - 17s 432us/step - loss: 1.0390 - acc: 0.6737 - val_loss: 1.0547 - val_acc: 0.6893\n",
            "Epoch 4/20\n",
            "40000/40000 [==============================] - 17s 433us/step - loss: 0.9164 - acc: 0.7158 - val_loss: 1.0578 - val_acc: 0.7077\n",
            "Epoch 5/20\n",
            "40000/40000 [==============================] - 17s 432us/step - loss: 0.8606 - acc: 0.7412 - val_loss: 0.9697 - val_acc: 0.7038\n",
            "Epoch 6/20\n",
            "40000/40000 [==============================] - 17s 432us/step - loss: 0.7766 - acc: 0.7633 - val_loss: 0.8647 - val_acc: 0.7392\n",
            "Epoch 7/20\n",
            "40000/40000 [==============================] - 17s 434us/step - loss: 0.7194 - acc: 0.7829 - val_loss: 0.9349 - val_acc: 0.7542\n",
            "Epoch 8/20\n",
            "40000/40000 [==============================] - 17s 431us/step - loss: 0.6836 - acc: 0.7953 - val_loss: 0.8405 - val_acc: 0.7545\n",
            "Epoch 9/20\n",
            "40000/40000 [==============================] - 17s 431us/step - loss: 0.6448 - acc: 0.8119 - val_loss: 0.7028 - val_acc: 0.7935\n",
            "Epoch 10/20\n",
            "40000/40000 [==============================] - 17s 435us/step - loss: 0.6163 - acc: 0.8208 - val_loss: 0.6818 - val_acc: 0.8032\n",
            "Epoch 11/20\n",
            "40000/40000 [==============================] - 17s 435us/step - loss: 0.5887 - acc: 0.8312 - val_loss: 0.7701 - val_acc: 0.7916\n",
            "Epoch 12/20\n",
            "40000/40000 [==============================] - 17s 434us/step - loss: 0.5659 - acc: 0.8419 - val_loss: 0.7887 - val_acc: 0.7905\n",
            "Epoch 13/20\n",
            "40000/40000 [==============================] - 17s 432us/step - loss: 0.5469 - acc: 0.8457 - val_loss: 0.6695 - val_acc: 0.8097\n",
            "Epoch 14/20\n",
            "40000/40000 [==============================] - 17s 434us/step - loss: 0.5282 - acc: 0.8542 - val_loss: 0.6835 - val_acc: 0.8146\n",
            "Epoch 15/20\n",
            "40000/40000 [==============================] - 17s 429us/step - loss: 0.5111 - acc: 0.8624 - val_loss: 0.8559 - val_acc: 0.7684\n",
            "Epoch 16/20\n",
            "40000/40000 [==============================] - 17s 433us/step - loss: 0.5027 - acc: 0.8665 - val_loss: 0.7066 - val_acc: 0.8154\n",
            "Epoch 17/20\n",
            "40000/40000 [==============================] - 17s 435us/step - loss: 0.4895 - acc: 0.8717 - val_loss: 0.7656 - val_acc: 0.8005\n",
            "Epoch 18/20\n",
            "40000/40000 [==============================] - 17s 435us/step - loss: 0.4859 - acc: 0.8726 - val_loss: 0.7725 - val_acc: 0.8139\n",
            "Epoch 19/20\n",
            "40000/40000 [==============================] - 18s 441us/step - loss: 0.4715 - acc: 0.8793 - val_loss: 0.9189 - val_acc: 0.7758\n",
            "Epoch 20/20\n",
            "40000/40000 [==============================] - 18s 441us/step - loss: 0.4618 - acc: 0.8819 - val_loss: 0.6994 - val_acc: 0.8256\n",
            "10000/10000 [==============================] - 0s 47us/step\n",
            "Test score:  1.3792327787399292\n",
            "Test accuracy:  0.5125\n"
          ],
          "name": "stdout"
        }
      ]
    },
    {
      "metadata": {
        "id": "NiQBaSkDXTKg",
        "colab_type": "text"
      },
      "cell_type": "markdown",
      "source": [
        "#Data Augmentations"
      ]
    },
    {
      "metadata": {
        "id": "1os3971ibz84",
        "colab_type": "text"
      },
      "cell_type": "markdown",
      "source": [
        "##Data Augmentation 1[3rd Place]:"
      ]
    },
    {
      "metadata": {
        "id": "t5CoE7cNIFIy",
        "colab_type": "text"
      },
      "cell_type": "markdown",
      "source": [
        "ImageDataGenerator class that is used to generate batches of tensor image data with real-time data augmentation."
      ]
    },
    {
      "metadata": {
        "id": "cmAdco6Cb24Q",
        "colab_type": "code",
        "colab": {}
      },
      "cell_type": "code",
      "source": [
        "datagen = ImageDataGenerator(\n",
        "    featurewise_center=True,\n",
        "    featurewise_std_normalization=True,\n",
        "    rotation_range=20,\n",
        "    width_shift_range=0.2,\n",
        "    height_shift_range=0.2,\n",
        "    horizontal_flip=True)\n",
        "datagen.fit(X_train)"
      ],
      "execution_count": 0,
      "outputs": []
    },
    {
      "metadata": {
        "id": "9yfMkcCOJrSK",
        "colab_type": "text"
      },
      "cell_type": "markdown",
      "source": [
        "Augmented Images preview"
      ]
    },
    {
      "metadata": {
        "id": "nldwRfQZJENy",
        "colab_type": "code",
        "colab": {
          "base_uri": "https://localhost:8080/",
          "height": 268
        },
        "outputId": "6c8c8fe5-8616-4e74-8996-06297a2b4546"
      },
      "cell_type": "code",
      "source": [
        "from matplotlib import pyplot as plt\n",
        "for X_batch, y_batch in datagen.flow(X_train, y_train, batch_size=9):\n",
        "    for i in range(0, 9):\n",
        "        plt.subplot(330 + 1 + i)\n",
        "        plt.imshow(toimage(X_batch[i].reshape(32, 32, 3)))\n",
        "    plt.show()\n",
        "    break"
      ],
      "execution_count": 43,
      "outputs": [
        {
          "output_type": "display_data",
          "data": {
            "image/png": "[encoded data removed]",
            "text/plain": [
              "<Figure size 432x288 with 9 Axes>"
            ]
          },
          "metadata": {
            "tags": []
          }
        }
      ]
    },
    {
      "metadata": {
        "id": "JPpX6B_aKnQa",
        "colab_type": "code",
        "colab": {
          "base_uri": "https://localhost:8080/",
          "height": 102
        },
        "outputId": "b558006e-ac4c-4923-ca8f-a972cd748348"
      },
      "cell_type": "code",
      "source": [
        "batch_size = 32\n",
        "epochs = 2\n",
        "model3.fit_generator(datagen.flow(X_train,y_train,batch_size = 4),steps_per_epoch = X_train.shape[0]//batch_size,epochs = epochs,verbose = 1, validation_data=(X_train_val,y_train_val))\n"
      ],
      "execution_count": 69,
      "outputs": [
        {
          "output_type": "stream",
          "text": [
            "Epoch 1/2\n",
            "1250/1250 [==============================] - 20s 16ms/step - loss: 1.5308 - acc: 0.4434 - val_loss: 3.0842 - val_acc: 0.1957\n",
            "Epoch 2/2\n",
            "1250/1250 [==============================] - 20s 16ms/step - loss: 1.5222 - acc: 0.4452 - val_loss: 2.8828 - val_acc: 0.1800\n"
          ],
          "name": "stdout"
        },
        {
          "output_type": "execute_result",
          "data": {
            "text/plain": [
              "<keras.callbacks.History at 0x7f97b4460908>"
            ]
          },
          "metadata": {
            "tags": []
          },
          "execution_count": 69
        }
      ]
    },
    {
      "metadata": {
        "id": "9Yl-7y13QWQZ",
        "colab_type": "code",
        "colab": {
          "base_uri": "https://localhost:8080/",
          "height": 102
        },
        "outputId": "0c33eb6b-9e80-4614-d47d-575fa95f2c25"
      },
      "cell_type": "code",
      "source": [
        "batch_size = 32\n",
        "epochs = 2\n",
        "model4.fit_generator(datagen.flow(X_train,y_train,batch_size = 4),steps_per_epoch = X_train.shape[0]//batch_size,epochs = epochs,verbose = 1, validation_data=(X_train_val,y_train_val))"
      ],
      "execution_count": 57,
      "outputs": [
        {
          "output_type": "stream",
          "text": [
            "Epoch 1/2\n",
            "1250/1250 [==============================] - 19s 15ms/step - loss: 2.1293 - acc: 0.2572 - val_loss: 2.2161 - val_acc: 0.1660\n",
            "Epoch 2/2\n",
            "1250/1250 [==============================] - 19s 15ms/step - loss: 1.9505 - acc: 0.3218 - val_loss: 2.3598 - val_acc: 0.1003\n"
          ],
          "name": "stdout"
        },
        {
          "output_type": "execute_result",
          "data": {
            "text/plain": [
              "<keras.callbacks.History at 0x7f97b4562208>"
            ]
          },
          "metadata": {
            "tags": []
          },
          "execution_count": 57
        }
      ]
    },
    {
      "metadata": {
        "id": "H40njMTeQ1q5",
        "colab_type": "code",
        "colab": {
          "base_uri": "https://localhost:8080/",
          "height": 102
        },
        "outputId": "e93288e2-859a-430f-8502-57703707d720"
      },
      "cell_type": "code",
      "source": [
        "batch_size = 32\n",
        "epochs = 2\n",
        "model3.fit_generator(datagen.flow(X_train, y_train,\n",
        "                                     batch_size=batch_size),\n",
        "                        steps_per_epoch = X_train.shape[0]//batch_size,\n",
        "                        epochs=epochs,\n",
        "                        validation_data=(X_train_val, y_train_val),\n",
        "                        workers=4)"
      ],
      "execution_count": 73,
      "outputs": [
        {
          "output_type": "stream",
          "text": [
            "Epoch 1/2\n",
            "1250/1250 [==============================] - 40s 32ms/step - loss: 1.3268 - acc: 0.5173 - val_loss: 3.0898 - val_acc: 0.1802\n",
            "Epoch 2/2\n",
            "1250/1250 [==============================] - 40s 32ms/step - loss: 1.2658 - acc: 0.5443 - val_loss: 2.8309 - val_acc: 0.2410\n"
          ],
          "name": "stdout"
        },
        {
          "output_type": "execute_result",
          "data": {
            "text/plain": [
              "<keras.callbacks.History at 0x7f97b3953b70>"
            ]
          },
          "metadata": {
            "tags": []
          },
          "execution_count": 73
        }
      ]
    },
    {
      "metadata": {
        "id": "_iaRJd8GTTyZ",
        "colab_type": "text"
      },
      "cell_type": "markdown",
      "source": [
        ""
      ]
    },
    {
      "metadata": {
        "id": "GUdsav_GTO8g",
        "colab_type": "text"
      },
      "cell_type": "markdown",
      "source": [
        "##Data Augmentation 2[2nd Place]:"
      ]
    },
    {
      "metadata": {
        "id": "XT3xV5TzS2px",
        "colab_type": "code",
        "colab": {}
      },
      "cell_type": "code",
      "source": [
        "    datagen2 = ImageDataGenerator(\n",
        "        featurewise_center=False,  # set input mean to 0 over the dataset\n",
        "        samplewise_center=False,  # set each sample mean to 0\n",
        "        featurewise_std_normalization=False,  # divide inputs by std of the dataset\n",
        "        samplewise_std_normalization=False,  # divide each input by its std\n",
        "        zca_whitening=False,  # apply ZCA whitening\n",
        "        zca_epsilon=1e-06,  # epsilon for ZCA whitening\n",
        "        rotation_range=0,  # randomly rotate images in the range (degrees, 0 to 180)\n",
        "        # randomly shift images horizontally (fraction of total width)\n",
        "        width_shift_range=0.1,\n",
        "        # randomly shift images vertically (fraction of total height)\n",
        "        height_shift_range=0.1,\n",
        "        shear_range=0.,  # set range for random shear\n",
        "        zoom_range=0.,  # set range for random zoom\n",
        "        channel_shift_range=0.,  # set range for random channel shifts\n",
        "        # set mode for filling points outside the input boundaries\n",
        "        fill_mode='nearest',\n",
        "        cval=0.,  # value used for fill_mode = \"constant\"\n",
        "        horizontal_flip=True,  # randomly flip images\n",
        "        vertical_flip=False,  # randomly flip images\n",
        "        # set rescaling factor (applied before any other transformation)\n",
        "        rescale=None,\n",
        "        # set function that will be applied on each input\n",
        "        preprocessing_function=None,\n",
        "        # image data format, either \"channels_first\" or \"channels_last\"\n",
        "        data_format=None,\n",
        "        # fraction of images reserved for validation (strictly between 0 and 1)\n",
        "        validation_split=0.0)\n",
        "\n",
        "    # Compute quantities required for feature-wise normalization\n",
        "    # (std, mean, and principal components if ZCA whitening is applied).\n",
        "    datagen2.fit(X_train)\n"
      ],
      "execution_count": 0,
      "outputs": []
    },
    {
      "metadata": {
        "id": "lcWDQrzsS50K",
        "colab_type": "code",
        "colab": {
          "base_uri": "https://localhost:8080/",
          "height": 374
        },
        "outputId": "e0c94dcf-2354-4b6e-ee99-8136fb1607a4"
      },
      "cell_type": "code",
      "source": [
        "#Model 3 With improvement \n",
        "batch_size = 64\n",
        "epochs = 10\n",
        "model3.fit_generator(datagen2.flow(X_train, y_train,\n",
        "                                     batch_size=batch_size),\n",
        "                        steps_per_epoch = X_train.shape[0]//batch_size,\n",
        "                        epochs=epochs,\n",
        "                        validation_data=(X_train_val, y_train_val),\n",
        "                        workers=4)"
      ],
      "execution_count": 81,
      "outputs": [
        {
          "output_type": "stream",
          "text": [
            "Epoch 1/10\n",
            "1250/1250 [==============================] - 34s 28ms/step - loss: 1.0268 - acc: 0.6327 - val_loss: 0.9102 - val_acc: 0.6762\n",
            "Epoch 2/10\n",
            "1250/1250 [==============================] - 34s 27ms/step - loss: 0.9963 - acc: 0.6457 - val_loss: 0.8625 - val_acc: 0.6923\n",
            "Epoch 3/10\n",
            "1250/1250 [==============================] - 34s 27ms/step - loss: 0.9705 - acc: 0.6585 - val_loss: 0.8249 - val_acc: 0.7105\n",
            "Epoch 4/10\n",
            "1250/1250 [==============================] - 35s 28ms/step - loss: 0.9458 - acc: 0.6660 - val_loss: 0.7994 - val_acc: 0.7161\n",
            "Epoch 5/10\n",
            "1250/1250 [==============================] - 33s 27ms/step - loss: 0.9166 - acc: 0.6777 - val_loss: 0.7908 - val_acc: 0.7228\n",
            "Epoch 6/10\n",
            "1250/1250 [==============================] - 33s 27ms/step - loss: 0.8964 - acc: 0.6829 - val_loss: 0.8621 - val_acc: 0.7010\n",
            "Epoch 7/10\n",
            "1250/1250 [==============================] - 33s 27ms/step - loss: 0.8810 - acc: 0.6899 - val_loss: 0.7660 - val_acc: 0.7313\n",
            "Epoch 8/10\n",
            "1250/1250 [==============================] - 33s 27ms/step - loss: 0.8676 - acc: 0.6954 - val_loss: 0.7592 - val_acc: 0.7350\n",
            "Epoch 9/10\n",
            "1250/1250 [==============================] - 33s 26ms/step - loss: 0.8648 - acc: 0.6979 - val_loss: 0.7035 - val_acc: 0.7490\n",
            "Epoch 10/10\n",
            "1250/1250 [==============================] - 33s 26ms/step - loss: 0.8457 - acc: 0.7056 - val_loss: 0.8106 - val_acc: 0.7205\n"
          ],
          "name": "stdout"
        },
        {
          "output_type": "execute_result",
          "data": {
            "text/plain": [
              "<keras.callbacks.History at 0x7f97b4562c18>"
            ]
          },
          "metadata": {
            "tags": []
          },
          "execution_count": 81
        }
      ]
    },
    {
      "metadata": {
        "id": "CWa_AZzbS_Nx",
        "colab_type": "code",
        "colab": {
          "base_uri": "https://localhost:8080/",
          "height": 102
        },
        "outputId": "81c499c6-0db3-4088-82c6-d145acc4f716"
      },
      "cell_type": "code",
      "source": [
        "model4.fit_generator(datagen2.flow(X_train, y_train,\n",
        "                                     batch_size=batch_size),\n",
        "                        steps_per_epoch = X_train.shape[0]//batch_size,\n",
        "                        epochs=epochs,\n",
        "                        validation_data=(X_train_val, y_train_val),\n",
        "                        workers=4)"
      ],
      "execution_count": 76,
      "outputs": [
        {
          "output_type": "stream",
          "text": [
            "Epoch 1/2\n",
            "1250/1250 [==============================] - 34s 27ms/step - loss: 1.7675 - acc: 0.3663 - val_loss: 1.5193 - val_acc: 0.4635\n",
            "Epoch 2/2\n",
            "1250/1250 [==============================] - 34s 27ms/step - loss: 1.5745 - acc: 0.4387 - val_loss: 1.4204 - val_acc: 0.5061\n"
          ],
          "name": "stdout"
        },
        {
          "output_type": "execute_result",
          "data": {
            "text/plain": [
              "<keras.callbacks.History at 0x7f97b4448780>"
            ]
          },
          "metadata": {
            "tags": []
          },
          "execution_count": 76
        }
      ]
    },
    {
      "metadata": {
        "id": "Z1NY3vb3Tr9J",
        "colab_type": "code",
        "colab": {
          "base_uri": "https://localhost:8080/",
          "height": 102
        },
        "outputId": "a5d790f6-689d-4356-ed96-9ed8f0f6160a"
      },
      "cell_type": "code",
      "source": [
        "model.fit_generator(datagen2.flow(X_train, y_train,\n",
        "                                     batch_size=batch_size),\n",
        "                        steps_per_epoch = X_train.shape[0]//batch_size,\n",
        "                        epochs=epochs,\n",
        "                        validation_data=(X_train_val, y_train_val),\n",
        "                        workers=4)"
      ],
      "execution_count": 80,
      "outputs": [
        {
          "output_type": "stream",
          "text": [
            "Epoch 1/2\n",
            "1250/1250 [==============================] - 33s 27ms/step - loss: 1.6235 - acc: 0.4156 - val_loss: 1.2727 - val_acc: 0.5545\n",
            "Epoch 2/2\n",
            "1250/1250 [==============================] - 33s 26ms/step - loss: 1.3343 - acc: 0.5259 - val_loss: 1.2630 - val_acc: 0.5578\n"
          ],
          "name": "stdout"
        },
        {
          "output_type": "execute_result",
          "data": {
            "text/plain": [
              "<keras.callbacks.History at 0x7f97b45629e8>"
            ]
          },
          "metadata": {
            "tags": []
          },
          "execution_count": 80
        }
      ]
    },
    {
      "metadata": {
        "id": "gZ4cZqT6h5_o",
        "colab_type": "code",
        "colab": {}
      },
      "cell_type": "code",
      "source": [
        "model5.fit_generator(datagen2.flow(X_train, y_train,\n",
        "                                     batch_size=batch_size),\n",
        "                        steps_per_epoch = X_train.shape[0]//batch_size,\n",
        "                        epochs=epochs,\n",
        "                        validation_data=(X_train_val, y_train_val),\n",
        "                        workers=4)\n",
        "scores = model5.evaluate(X_test, y_test, batch_size=128, verbose=1)\n",
        "print('\\nTest result: %.3f loss: %.3f' % (scores[1]*100,scores[0]))"
      ],
      "execution_count": 0,
      "outputs": []
    },
    {
      "metadata": {
        "id": "8MJ6ICJGYSwQ",
        "colab_type": "text"
      },
      "cell_type": "markdown",
      "source": [
        "## Data Augmentation 3 [1st Place] {Winner}:"
      ]
    },
    {
      "metadata": {
        "id": "jsL8z-f1YU-x",
        "colab_type": "code",
        "colab": {}
      },
      "cell_type": "code",
      "source": [
        "datagen3 = ImageDataGenerator(\n",
        "    rotation_range=15,\n",
        "    width_shift_range=0.1,\n",
        "    height_shift_range=0.1,\n",
        "    horizontal_flip=True,\n",
        "    )\n",
        "datagen3.fit(X_train)"
      ],
      "execution_count": 0,
      "outputs": []
    },
    {
      "metadata": {
        "id": "55-khDZWYY-Z",
        "colab_type": "code",
        "colab": {}
      },
      "cell_type": "code",
      "source": [
        "batch_size = 64\n",
        "epochs = 20\n",
        "model3.fit_generator(datagen3.flow(X_train, y_train,\n",
        "                                     batch_size=batch_size),\n",
        "                        steps_per_epoch = X_train.shape[0]//batch_size,\n",
        "                        epochs=epochs,\n",
        "                        validation_data=(X_train_val, y_train_val),\n",
        "                        workers=4)\n",
        "scores = model3.evaluate(X_test, y_test, batch_size=128, verbose=1)\n",
        "print('\\nTest result: %.3f loss: %.3f' % (scores[1]*100,scores[0]))"
      ],
      "execution_count": 0,
      "outputs": []
    },
    {
      "metadata": {
        "id": "jvuFz5nLgwiY",
        "colab_type": "text"
      },
      "cell_type": "markdown",
      "source": [
        "There is underfitting happening in here, Therefore It is the winner model for solving the Cifar10 Problem"
      ]
    },
    {
      "metadata": {
        "id": "gT8OI-AifYpN",
        "colab_type": "code",
        "colab": {
          "base_uri": "https://localhost:8080/",
          "height": 748
        },
        "outputId": "1620d56b-998b-4bf6-9d4d-1057edc68ba9"
      },
      "cell_type": "code",
      "source": [
        "batch_size = 64\n",
        "epochs = 20\n",
        "model5.fit_generator(datagen3.flow(X_train, y_train,\n",
        "                                     batch_size=batch_size),\n",
        "                        steps_per_epoch = X_train.shape[0]//batch_size,\n",
        "                        epochs=epochs,\n",
        "                        validation_data=(X_train_val, y_train_val),\n",
        "                        workers=4)\n",
        "scores = model5.evaluate(X_test, y_test, batch_size=128, verbose=1)\n",
        "print('\\nTest result: %.3f loss: %.3f' % (scores[1]*100,scores[0]))"
      ],
      "execution_count": 108,
      "outputs": [
        {
          "output_type": "stream",
          "text": [
            "Epoch 1/20\n",
            "625/625 [==============================] - 36s 58ms/step - loss: 0.9193 - acc: 0.7484 - val_loss: 0.9866 - val_acc: 0.7607\n",
            "Epoch 2/20\n",
            "625/625 [==============================] - 35s 56ms/step - loss: 0.8695 - acc: 0.7597 - val_loss: 0.9183 - val_acc: 0.7764\n",
            "Epoch 3/20\n",
            "625/625 [==============================] - 34s 54ms/step - loss: 0.8406 - acc: 0.7658 - val_loss: 1.0983 - val_acc: 0.7800\n",
            "Epoch 4/20\n",
            "625/625 [==============================] - 35s 56ms/step - loss: 0.8302 - acc: 0.7713 - val_loss: 1.0941 - val_acc: 0.7678\n",
            "Epoch 5/20\n",
            "625/625 [==============================] - 35s 56ms/step - loss: 0.8123 - acc: 0.7752 - val_loss: 0.9381 - val_acc: 0.7648\n",
            "Epoch 6/20\n",
            "625/625 [==============================] - 34s 55ms/step - loss: 0.7958 - acc: 0.7833 - val_loss: 0.7144 - val_acc: 0.8082\n",
            "Epoch 7/20\n",
            "625/625 [==============================] - 34s 55ms/step - loss: 0.7756 - acc: 0.7893 - val_loss: 0.7770 - val_acc: 0.8143\n",
            "Epoch 8/20\n",
            "625/625 [==============================] - 34s 54ms/step - loss: 0.7656 - acc: 0.7887 - val_loss: 0.7871 - val_acc: 0.7931\n",
            "Epoch 9/20\n",
            "625/625 [==============================] - 33s 53ms/step - loss: 0.7518 - acc: 0.7952 - val_loss: 0.6964 - val_acc: 0.8205\n",
            "Epoch 10/20\n",
            "625/625 [==============================] - 34s 55ms/step - loss: 0.7413 - acc: 0.7984 - val_loss: 0.7437 - val_acc: 0.8155\n",
            "Epoch 11/20\n",
            "625/625 [==============================] - 33s 53ms/step - loss: 0.7303 - acc: 0.7992 - val_loss: 0.7323 - val_acc: 0.8119\n",
            "Epoch 12/20\n",
            "625/625 [==============================] - 33s 53ms/step - loss: 0.7180 - acc: 0.8056 - val_loss: 0.8126 - val_acc: 0.7965\n",
            "Epoch 13/20\n",
            "625/625 [==============================] - 33s 54ms/step - loss: 0.7108 - acc: 0.8098 - val_loss: 0.7581 - val_acc: 0.8052\n",
            "Epoch 14/20\n",
            "625/625 [==============================] - 33s 52ms/step - loss: 0.7097 - acc: 0.8085 - val_loss: 0.7177 - val_acc: 0.8095\n",
            "Epoch 15/20\n",
            "625/625 [==============================] - 32s 52ms/step - loss: 0.6945 - acc: 0.8149 - val_loss: 0.7636 - val_acc: 0.7982\n",
            "Epoch 16/20\n",
            "625/625 [==============================] - 34s 54ms/step - loss: 0.6922 - acc: 0.8127 - val_loss: 0.7313 - val_acc: 0.8111\n",
            "Epoch 17/20\n",
            "625/625 [==============================] - 32s 52ms/step - loss: 0.6929 - acc: 0.8108 - val_loss: 0.7400 - val_acc: 0.8105\n",
            "Epoch 18/20\n",
            "625/625 [==============================] - 32s 52ms/step - loss: 0.6828 - acc: 0.8180 - val_loss: 0.6936 - val_acc: 0.8234\n",
            "Epoch 19/20\n",
            "625/625 [==============================] - 33s 53ms/step - loss: 0.6754 - acc: 0.8205 - val_loss: 0.8415 - val_acc: 0.7806\n",
            "Epoch 20/20\n",
            "625/625 [==============================] - 33s 53ms/step - loss: 0.6698 - acc: 0.8210 - val_loss: 0.6615 - val_acc: 0.8270\n",
            "10000/10000 [==============================] - 1s 66us/step\n",
            "\n",
            "Test result: 76.200 loss: 0.763\n"
          ],
          "name": "stdout"
        }
      ]
    }
  ]
}