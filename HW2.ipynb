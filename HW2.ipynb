{
  "nbformat": 4,
  "nbformat_minor": 0,
  "metadata": {
    "colab": {
      "name": "HW2.ipynb",
      "version": "0.3.2",
      "provenance": [],
      "collapsed_sections": [
        "fsJt8AuKU1JZ"
      ],
      "toc_visible": true,
      "include_colab_link": true
    },
    "kernelspec": {
      "name": "python3",
      "display_name": "Python 3"
    },
    "accelerator": "GPU"
  },
  "cells": [
    {
      "cell_type": "markdown",
      "metadata": {
        "id": "view-in-github",
        "colab_type": "text"
      },
      "source": [
        "<a href=\"https://colab.research.google.com/github/EnterTheBeginning/Machine-Learning/blob/master/HW2.ipynb\" target=\"_parent\"><img src=\"https://colab.research.google.com/assets/colab-badge.svg\" alt=\"Open In Colab\"/></a>"
      ]
    },
    {
      "metadata": {
        "id": "RDHYu7PwG_di",
        "colab_type": "code",
        "colab": {}
      },
      "cell_type": "code",
      "source": [
        "# Working, Add more than 7 models\n",
        "#Batch size = 32 vs 64 vs 128 for model 3 W/O Aug\n",
        "#Model 5 winner"
      ],
      "execution_count": 0,
      "outputs": []
    },
    {
      "metadata": {
        "id": "fsJt8AuKU1JZ",
        "colab_type": "text"
      },
      "cell_type": "markdown",
      "source": [
        "##Preprocessing"
      ]
    },
    {
      "metadata": {
        "id": "AiR3z1oHWziS",
        "colab_type": "code",
        "colab": {
          "base_uri": "https://localhost:8080/",
          "height": 34
        },
        "outputId": "5cc85cbc-29a2-459b-8925-570aa3be4e78"
      },
      "cell_type": "code",
      "source": [
        "import numpy as np\n",
        "import pandas as pd\n",
        "import keras\n",
        "import matplotlib.pyplot as plt\n",
        "%matplotlib inline\n",
        "import warnings\n",
        "warnings.filterwarnings('ignore')\n",
        "from keras.utils import np_utils\n",
        "from keras.models import Sequential\n",
        "from scipy.misc import toimage\n",
        "from keras.layers import Dense, Activation, Flatten,Conv2D,MaxPooling2D,Dropout, BatchNormalization\n",
        "from keras.optimizers import SGD, Adam, RMSprop\n",
        "from keras.preprocessing.image import ImageDataGenerator\n",
        "from keras import regularizers"
      ],
      "execution_count": 2,
      "outputs": [
        {
          "output_type": "stream",
          "text": [
            "Using TensorFlow backend.\n"
          ],
          "name": "stderr"
        }
      ]
    },
    {
      "metadata": {
        "id": "jwEPJBeiO_SD",
        "colab_type": "text"
      },
      "cell_type": "markdown",
      "source": [
        "The goal is to recognize previously unseen images and assign them to one of the 10 classes.\n",
        "Let us define a suitable deep net."
      ]
    },
    {
      "metadata": {
        "id": "pwO-fucWTV_B",
        "colab_type": "code",
        "colab": {}
      },
      "cell_type": "code",
      "source": [
        "from keras.datasets import cifar10 \n",
        "(X_train_original, y_train_original), (X_test_original, y_test_original) = cifar10.load_data()\n"
      ],
      "execution_count": 0,
      "outputs": []
    },
    {
      "metadata": {
        "id": "RGrZ-tj_AFCC",
        "colab_type": "code",
        "colab": {}
      },
      "cell_type": "code",
      "source": [
        "#OneHotEncoding\n",
        "y_train_hot = np_utils.to_categorical(y_train_original,10)\n",
        "y_test = np_utils.to_categorical(y_test_original,10)\n"
      ],
      "execution_count": 0,
      "outputs": []
    },
    {
      "metadata": {
        "id": "ppydf_Ht-53g",
        "colab_type": "code",
        "colab": {}
      },
      "cell_type": "code",
      "source": [
        "#Normalize\n",
        "X_train_nor = X_train_original.astype('float32')\n",
        "X_test_nor = X_test_original.astype('float32')\n",
        "X_train_nor = (X_train_nor) / 255\n",
        "X_test = (X_test_nor) / 255\n"
      ],
      "execution_count": 0,
      "outputs": []
    },
    {
      "metadata": {
        "id": "TVJEuFizY3Xh",
        "colab_type": "code",
        "colab": {}
      },
      "cell_type": "code",
      "source": [
        "#Manual Validation Divide\n",
        "split = int(X_train_original.shape[0] * (4/5))\n",
        "\n",
        "X_train = X_train_nor[:split]\n",
        "y_train = y_train_hot[:split]\n",
        "\n",
        "X_train_val = X_train_nor[split:]\n",
        "y_train_val = y_train_hot[split:]\n"
      ],
      "execution_count": 0,
      "outputs": []
    },
    {
      "metadata": {
        "id": "VHqenXygXWu3",
        "colab_type": "text"
      },
      "cell_type": "markdown",
      "source": [
        "#Models"
      ]
    },
    {
      "metadata": {
        "id": "UPdv5O98Pags",
        "colab_type": "text"
      },
      "cell_type": "markdown",
      "source": [
        "##Model 1: 69%"
      ]
    },
    {
      "metadata": {
        "id": "S_WLxm2cNxCc",
        "colab_type": "code",
        "colab": {
          "base_uri": "https://localhost:8080/",
          "height": 564
        },
        "outputId": "ebf95aae-35f2-45d3-dd0e-3a9675f364c1"
      },
      "cell_type": "code",
      "source": [
        "#Overfitting\n",
        "#0.68 test 0.6904\n",
        "model = Sequential()\n",
        "model.add(Conv2D(32,(3,3),input_shape=(32,32,3)))\n",
        "model.add(MaxPooling2D(pool_size=(2,2)))\n",
        "model.add(Dropout(0.2))\n",
        "model.add(Conv2D(32,(3,3),input_shape=(30,30,3)))\n",
        "model.add(MaxPooling2D(pool_size=(2,2)))\n",
        "model.add(Dropout(0.2))\n",
        "model.add(Flatten())\n",
        "model.add(Dense(128,activation='relu'))\n",
        "model.add(Dense(10,activation='softmax'))\n",
        "model.compile(optimizer = 'adam', loss = 'categorical_crossentropy', metrics = ['accuracy'])\n",
        "model.summary()\n"
      ],
      "execution_count": 7,
      "outputs": [
        {
          "output_type": "stream",
          "text": [
            "WARNING:tensorflow:From /usr/local/lib/python3.6/dist-packages/tensorflow/python/framework/op_def_library.py:263: colocate_with (from tensorflow.python.framework.ops) is deprecated and will be removed in a future version.\n",
            "Instructions for updating:\n",
            "Colocations handled automatically by placer.\n",
            "WARNING:tensorflow:From /usr/local/lib/python3.6/dist-packages/keras/backend/tensorflow_backend.py:3445: calling dropout (from tensorflow.python.ops.nn_ops) with keep_prob is deprecated and will be removed in a future version.\n",
            "Instructions for updating:\n",
            "Please use `rate` instead of `keep_prob`. Rate should be set to `rate = 1 - keep_prob`.\n",
            "_________________________________________________________________\n",
            "Layer (type)                 Output Shape              Param #   \n",
            "=================================================================\n",
            "conv2d_1 (Conv2D)            (None, 30, 30, 32)        896       \n",
            "_________________________________________________________________\n",
            "max_pooling2d_1 (MaxPooling2 (None, 15, 15, 32)        0         \n",
            "_________________________________________________________________\n",
            "dropout_1 (Dropout)          (None, 15, 15, 32)        0         \n",
            "_________________________________________________________________\n",
            "conv2d_2 (Conv2D)            (None, 13, 13, 32)        9248      \n",
            "_________________________________________________________________\n",
            "max_pooling2d_2 (MaxPooling2 (None, 6, 6, 32)          0         \n",
            "_________________________________________________________________\n",
            "dropout_2 (Dropout)          (None, 6, 6, 32)          0         \n",
            "_________________________________________________________________\n",
            "flatten_1 (Flatten)          (None, 1152)              0         \n",
            "_________________________________________________________________\n",
            "dense_1 (Dense)              (None, 128)               147584    \n",
            "_________________________________________________________________\n",
            "dense_2 (Dense)              (None, 10)                1290      \n",
            "=================================================================\n",
            "Total params: 159,018\n",
            "Trainable params: 159,018\n",
            "Non-trainable params: 0\n",
            "_________________________________________________________________\n"
          ],
          "name": "stdout"
        }
      ]
    },
    {
      "metadata": {
        "id": "YT59BCZkUFUD",
        "colab_type": "code",
        "outputId": "7c59fd80-c091-4f06-f8e7-baa4d6c38844",
        "colab": {
          "base_uri": "https://localhost:8080/",
          "height": 836
        }
      },
      "cell_type": "code",
      "source": [
        "model.fit(X_train, y_train, epochs = 20,batch_size= 32,verbose = 1,validation_data=[X_train_val,y_train_val])\n",
        "\n",
        "score = model.evaluate(X_test,y_test,batch_size = 128,verbose = 1)\n",
        "print(\"Test score: \", score[0])\n",
        "print(\"Test accuracy: \", score[1])"
      ],
      "execution_count": 8,
      "outputs": [
        {
          "output_type": "stream",
          "text": [
            "WARNING:tensorflow:From /usr/local/lib/python3.6/dist-packages/tensorflow/python/ops/math_ops.py:3066: to_int32 (from tensorflow.python.ops.math_ops) is deprecated and will be removed in a future version.\n",
            "Instructions for updating:\n",
            "Use tf.cast instead.\n",
            "Train on 40000 samples, validate on 10000 samples\n",
            "Epoch 1/20\n",
            "40000/40000 [==============================] - 14s 340us/step - loss: 1.5139 - acc: 0.4600 - val_loss: 1.2357 - val_acc: 0.5685\n",
            "Epoch 2/20\n",
            "40000/40000 [==============================] - 11s 280us/step - loss: 1.1746 - acc: 0.5856 - val_loss: 1.3323 - val_acc: 0.5476\n",
            "Epoch 3/20\n",
            "40000/40000 [==============================] - 11s 284us/step - loss: 1.0496 - acc: 0.6312 - val_loss: 1.0380 - val_acc: 0.6440\n",
            "Epoch 4/20\n",
            "40000/40000 [==============================] - 11s 285us/step - loss: 0.9475 - acc: 0.6685 - val_loss: 1.0368 - val_acc: 0.6486\n",
            "Epoch 5/20\n",
            "40000/40000 [==============================] - 12s 300us/step - loss: 0.8861 - acc: 0.6917 - val_loss: 0.9707 - val_acc: 0.6722\n",
            "Epoch 6/20\n",
            "40000/40000 [==============================] - 13s 326us/step - loss: 0.8320 - acc: 0.7114 - val_loss: 0.9991 - val_acc: 0.6655\n",
            "Epoch 7/20\n",
            "40000/40000 [==============================] - 16s 391us/step - loss: 0.7774 - acc: 0.7259 - val_loss: 1.0574 - val_acc: 0.6531\n",
            "Epoch 8/20\n",
            "40000/40000 [==============================] - 13s 323us/step - loss: 0.7333 - acc: 0.7449 - val_loss: 0.9789 - val_acc: 0.6835\n",
            "Epoch 9/20\n",
            "40000/40000 [==============================] - 13s 323us/step - loss: 0.7017 - acc: 0.7537 - val_loss: 0.9846 - val_acc: 0.6831\n",
            "Epoch 10/20\n",
            "40000/40000 [==============================] - 13s 324us/step - loss: 0.6720 - acc: 0.7656 - val_loss: 1.0829 - val_acc: 0.6675\n",
            "Epoch 11/20\n",
            "40000/40000 [==============================] - 13s 324us/step - loss: 0.6461 - acc: 0.7722 - val_loss: 1.0106 - val_acc: 0.6805\n",
            "Epoch 12/20\n",
            "40000/40000 [==============================] - 13s 321us/step - loss: 0.6186 - acc: 0.7834 - val_loss: 1.0444 - val_acc: 0.6754\n",
            "Epoch 13/20\n",
            "40000/40000 [==============================] - 13s 322us/step - loss: 0.6018 - acc: 0.7882 - val_loss: 1.1282 - val_acc: 0.6608\n",
            "Epoch 14/20\n",
            "40000/40000 [==============================] - 13s 322us/step - loss: 0.5732 - acc: 0.7981 - val_loss: 1.1030 - val_acc: 0.6731\n",
            "Epoch 15/20\n",
            "40000/40000 [==============================] - 13s 317us/step - loss: 0.5645 - acc: 0.8033 - val_loss: 1.0704 - val_acc: 0.6842\n",
            "Epoch 16/20\n",
            "40000/40000 [==============================] - 13s 321us/step - loss: 0.5433 - acc: 0.8065 - val_loss: 1.0933 - val_acc: 0.6804\n",
            "Epoch 17/20\n",
            "40000/40000 [==============================] - 13s 320us/step - loss: 0.5206 - acc: 0.8158 - val_loss: 1.0607 - val_acc: 0.6864\n",
            "Epoch 18/20\n",
            "40000/40000 [==============================] - 13s 321us/step - loss: 0.5201 - acc: 0.8155 - val_loss: 1.1135 - val_acc: 0.6685\n",
            "Epoch 19/20\n",
            "40000/40000 [==============================] - 13s 318us/step - loss: 0.4946 - acc: 0.8246 - val_loss: 1.1039 - val_acc: 0.6846\n",
            "Epoch 20/20\n",
            "40000/40000 [==============================] - 13s 321us/step - loss: 0.4765 - acc: 0.8305 - val_loss: 1.1086 - val_acc: 0.6781\n",
            "10000/10000 [==============================] - 1s 66us/step\n",
            "Test score:  1.118552182006836\n",
            "Test accuracy:  0.6763\n"
          ],
          "name": "stdout"
        }
      ]
    },
    {
      "metadata": {
        "id": "S4svqG39PSca",
        "colab_type": "text"
      },
      "cell_type": "markdown",
      "source": [
        "##Model 2: 50%"
      ]
    },
    {
      "metadata": {
        "id": "92_CNniMSvJ2",
        "colab_type": "code",
        "outputId": "d2e6792d-16f6-426a-9bea-93a697067559",
        "colab": {
          "base_uri": "https://localhost:8080/",
          "height": 1088
        }
      },
      "cell_type": "code",
      "source": [
        "#47%\n",
        "model2 = Sequential()\n",
        "model2.add(Conv2D(32,(3,3),input_shape=(32,32,3)))\n",
        "model2.add(Conv2D(32,(3,3),input_shape=(30,30,3)))\n",
        "model2.add(Conv2D(32,(3,3),input_shape=(28,28,3)))\n",
        "model2.add(Flatten())\n",
        "model2.add(Dense(512,activation = 'relu'))\n",
        "model2.add(Dense(10,activation='softmax'))\n",
        "model2.compile(optimizer = 'adam',loss = 'categorical_crossentropy',metrics = ['accuracy'])\n",
        "model2.summary()\n",
        "model2.fit(X_train,y_train,epochs=20 , batch_size = 128,verbose = 1,validation_data=[X_train_val,y_train_val])\n",
        "\n",
        "score = model2.evaluate(X_test,y_test,batch_size = 128,verbose = 1)\n",
        "print(\"Test score: \", score[0])\n",
        "print(\"Test accuracy: \", score[1])"
      ],
      "execution_count": 9,
      "outputs": [
        {
          "output_type": "stream",
          "text": [
            "_________________________________________________________________\n",
            "Layer (type)                 Output Shape              Param #   \n",
            "=================================================================\n",
            "conv2d_3 (Conv2D)            (None, 30, 30, 32)        896       \n",
            "_________________________________________________________________\n",
            "conv2d_4 (Conv2D)            (None, 28, 28, 32)        9248      \n",
            "_________________________________________________________________\n",
            "conv2d_5 (Conv2D)            (None, 26, 26, 32)        9248      \n",
            "_________________________________________________________________\n",
            "flatten_2 (Flatten)          (None, 21632)             0         \n",
            "_________________________________________________________________\n",
            "dense_3 (Dense)              (None, 512)               11076096  \n",
            "_________________________________________________________________\n",
            "dense_4 (Dense)              (None, 10)                5130      \n",
            "=================================================================\n",
            "Total params: 11,100,618\n",
            "Trainable params: 11,100,618\n",
            "Non-trainable params: 0\n",
            "_________________________________________________________________\n",
            "Train on 40000 samples, validate on 10000 samples\n",
            "Epoch 1/20\n",
            "40000/40000 [==============================] - 14s 347us/step - loss: 1.7847 - acc: 0.3891 - val_loss: 1.5441 - val_acc: 0.4590\n",
            "Epoch 2/20\n",
            "40000/40000 [==============================] - 13s 320us/step - loss: 1.4125 - acc: 0.5021 - val_loss: 1.4332 - val_acc: 0.4943\n",
            "Epoch 3/20\n",
            "40000/40000 [==============================] - 13s 321us/step - loss: 1.2514 - acc: 0.5624 - val_loss: 1.4182 - val_acc: 0.5059\n",
            "Epoch 4/20\n",
            "40000/40000 [==============================] - 13s 321us/step - loss: 1.0948 - acc: 0.6154 - val_loss: 1.4507 - val_acc: 0.5116\n",
            "Epoch 5/20\n",
            "40000/40000 [==============================] - 13s 324us/step - loss: 0.9022 - acc: 0.6858 - val_loss: 1.5655 - val_acc: 0.5010\n",
            "Epoch 6/20\n",
            "40000/40000 [==============================] - 13s 321us/step - loss: 0.6968 - acc: 0.7586 - val_loss: 1.7405 - val_acc: 0.4976\n",
            "Epoch 7/20\n",
            "40000/40000 [==============================] - 13s 320us/step - loss: 0.5060 - acc: 0.8268 - val_loss: 2.0618 - val_acc: 0.4861\n",
            "Epoch 8/20\n",
            "40000/40000 [==============================] - 13s 320us/step - loss: 0.3860 - acc: 0.8687 - val_loss: 2.4268 - val_acc: 0.4799\n",
            "Epoch 9/20\n",
            "40000/40000 [==============================] - 13s 320us/step - loss: 0.2855 - acc: 0.9043 - val_loss: 2.7273 - val_acc: 0.4792\n",
            "Epoch 10/20\n",
            "40000/40000 [==============================] - 13s 322us/step - loss: 0.2214 - acc: 0.9263 - val_loss: 3.2921 - val_acc: 0.4616\n",
            "Epoch 11/20\n",
            "40000/40000 [==============================] - 13s 320us/step - loss: 0.2030 - acc: 0.9335 - val_loss: 3.4066 - val_acc: 0.4669\n",
            "Epoch 12/20\n",
            "40000/40000 [==============================] - 13s 319us/step - loss: 0.1724 - acc: 0.9437 - val_loss: 3.5559 - val_acc: 0.4728\n",
            "Epoch 13/20\n",
            "40000/40000 [==============================] - 13s 320us/step - loss: 0.1666 - acc: 0.9474 - val_loss: 3.8375 - val_acc: 0.4685\n",
            "Epoch 14/20\n",
            "40000/40000 [==============================] - 13s 317us/step - loss: 0.1470 - acc: 0.9534 - val_loss: 3.9597 - val_acc: 0.4621\n",
            "Epoch 15/20\n",
            "40000/40000 [==============================] - 13s 317us/step - loss: 0.1242 - acc: 0.9618 - val_loss: 4.0545 - val_acc: 0.4622\n",
            "Epoch 16/20\n",
            "40000/40000 [==============================] - 13s 317us/step - loss: 0.1295 - acc: 0.9601 - val_loss: 4.0931 - val_acc: 0.4660\n",
            "Epoch 17/20\n",
            "40000/40000 [==============================] - 13s 318us/step - loss: 0.1292 - acc: 0.9601 - val_loss: 4.2725 - val_acc: 0.4611\n",
            "Epoch 18/20\n",
            "40000/40000 [==============================] - 13s 316us/step - loss: 0.1078 - acc: 0.9678 - val_loss: 4.3455 - val_acc: 0.4571\n",
            "Epoch 19/20\n",
            "40000/40000 [==============================] - 13s 317us/step - loss: 0.1080 - acc: 0.9682 - val_loss: 4.3814 - val_acc: 0.4602\n",
            "Epoch 20/20\n",
            "40000/40000 [==============================] - 13s 315us/step - loss: 0.1032 - acc: 0.9697 - val_loss: 4.5536 - val_acc: 0.4664\n",
            "10000/10000 [==============================] - 1s 94us/step\n",
            "Test score:  4.531794738769531\n",
            "Test accuracy:  0.4664\n"
          ],
          "name": "stdout"
        }
      ]
    },
    {
      "metadata": {
        "id": "B5G8-Nc4PVpr",
        "colab_type": "text"
      },
      "cell_type": "markdown",
      "source": [
        "##Model 3 78%:"
      ]
    },
    {
      "metadata": {
        "id": "Bd0Aa3ygbjEa",
        "colab_type": "text"
      },
      "cell_type": "markdown",
      "source": [
        "One way to improve the performance is to define a deeper network"
      ]
    },
    {
      "metadata": {
        "id": "cZ88KAKuwq0c",
        "colab_type": "code",
        "colab": {}
      },
      "cell_type": "code",
      "source": [
        "#0.78 , test 0.76\n",
        "model3 = Sequential()\n",
        "model3.add(Conv2D(32,(3,3), input_shape=(32,32,3)))\n",
        "model3.add(Activation('relu'))\n",
        "model3.add(Conv2D(32,(3,3)))\n",
        "model3.add(Activation('relu'))\n",
        "model3.add(MaxPooling2D(pool_size=(2,2)))\n",
        "model3.add(Dropout(0.25))\n",
        "\n",
        "model3.add(Conv2D(64,(3,3)))\n",
        "model3.add(Activation('relu'))\n",
        "model3.add(Conv2D(64,(3,3)))\n",
        "model3.add(Activation('relu'))\n",
        "model3.add(MaxPooling2D(pool_size=(2, 2)))\n",
        "model3.add(Dropout(0.25))\n",
        "\n",
        "model3.add(Flatten())\n",
        "model3.add(Dense(512))\n",
        "model3.add(Activation('relu'))\n",
        "model3.add(Dropout(0.25))\n",
        "\n",
        "model3.add(Dense(10))\n",
        "model3.add(Activation('softmax'))\n",
        "\n",
        "#model3.summary()\n",
        "model3.compile(optimizer='adam',loss='categorical_crossentropy',metrics=['accuracy'])\n"
      ],
      "execution_count": 0,
      "outputs": []
    },
    {
      "metadata": {
        "id": "F3CfDvrhLpX9",
        "colab_type": "code",
        "outputId": "8a2763d8-46f1-42e4-a565-7e52ff068e6e",
        "colab": {
          "base_uri": "https://localhost:8080/",
          "height": 765
        }
      },
      "cell_type": "code",
      "source": [
        "model3.fit(X_train,y_train,epochs = 20,batch_size = 128, verbose = 1,validation_data=[X_train_val,y_train_val])\n",
        "score = model3.evaluate(X_test,y_test,batch_size = 128,verbose = 1)\n",
        "print(\"Test score: \", score[0])\n",
        "print(\"Test accuracy: \", score[1])"
      ],
      "execution_count": 11,
      "outputs": [
        {
          "output_type": "stream",
          "text": [
            "Train on 40000 samples, validate on 10000 samples\n",
            "Epoch 1/20\n",
            "40000/40000 [==============================] - 10s 252us/step - loss: 1.6632 - acc: 0.3839 - val_loss: 1.3360 - val_acc: 0.5200\n",
            "Epoch 2/20\n",
            "40000/40000 [==============================] - 9s 224us/step - loss: 1.2567 - acc: 0.5507 - val_loss: 1.1897 - val_acc: 0.5828\n",
            "Epoch 3/20\n",
            "40000/40000 [==============================] - 9s 226us/step - loss: 1.1034 - acc: 0.6076 - val_loss: 0.9888 - val_acc: 0.6515\n",
            "Epoch 4/20\n",
            "40000/40000 [==============================] - 9s 223us/step - loss: 0.9945 - acc: 0.6496 - val_loss: 0.9478 - val_acc: 0.6711\n",
            "Epoch 5/20\n",
            "40000/40000 [==============================] - 9s 230us/step - loss: 0.9144 - acc: 0.6773 - val_loss: 0.8482 - val_acc: 0.7071\n",
            "Epoch 6/20\n",
            "40000/40000 [==============================] - 9s 229us/step - loss: 0.8373 - acc: 0.7052 - val_loss: 0.8158 - val_acc: 0.7111\n",
            "Epoch 7/20\n",
            "40000/40000 [==============================] - 9s 226us/step - loss: 0.7806 - acc: 0.7276 - val_loss: 0.8095 - val_acc: 0.7221\n",
            "Epoch 8/20\n",
            "40000/40000 [==============================] - 9s 222us/step - loss: 0.7315 - acc: 0.7417 - val_loss: 0.7285 - val_acc: 0.7462\n",
            "Epoch 9/20\n",
            "40000/40000 [==============================] - 9s 224us/step - loss: 0.6892 - acc: 0.7582 - val_loss: 0.7934 - val_acc: 0.7296\n",
            "Epoch 10/20\n",
            "40000/40000 [==============================] - 9s 223us/step - loss: 0.6487 - acc: 0.7726 - val_loss: 0.6892 - val_acc: 0.7617\n",
            "Epoch 11/20\n",
            "40000/40000 [==============================] - 9s 225us/step - loss: 0.5986 - acc: 0.7872 - val_loss: 0.7129 - val_acc: 0.7586\n",
            "Epoch 12/20\n",
            "40000/40000 [==============================] - 9s 229us/step - loss: 0.5683 - acc: 0.7994 - val_loss: 0.6819 - val_acc: 0.7680\n",
            "Epoch 13/20\n",
            "40000/40000 [==============================] - 9s 230us/step - loss: 0.5319 - acc: 0.8104 - val_loss: 0.6811 - val_acc: 0.7715\n",
            "Epoch 14/20\n",
            "40000/40000 [==============================] - 9s 229us/step - loss: 0.5095 - acc: 0.8197 - val_loss: 0.6888 - val_acc: 0.7700\n",
            "Epoch 15/20\n",
            "40000/40000 [==============================] - 9s 225us/step - loss: 0.4806 - acc: 0.8284 - val_loss: 0.6587 - val_acc: 0.7783\n",
            "Epoch 16/20\n",
            "40000/40000 [==============================] - 9s 221us/step - loss: 0.4557 - acc: 0.8381 - val_loss: 0.6667 - val_acc: 0.7829\n",
            "Epoch 17/20\n",
            "40000/40000 [==============================] - 9s 224us/step - loss: 0.4246 - acc: 0.8495 - val_loss: 0.6713 - val_acc: 0.7735\n",
            "Epoch 18/20\n",
            "40000/40000 [==============================] - 9s 223us/step - loss: 0.4067 - acc: 0.8539 - val_loss: 0.6801 - val_acc: 0.7761\n",
            "Epoch 19/20\n",
            "40000/40000 [==============================] - 9s 227us/step - loss: 0.3861 - acc: 0.8628 - val_loss: 0.7621 - val_acc: 0.7636\n",
            "Epoch 20/20\n",
            "40000/40000 [==============================] - 9s 222us/step - loss: 0.3698 - acc: 0.8660 - val_loss: 0.6867 - val_acc: 0.7806\n",
            "10000/10000 [==============================] - 1s 72us/step\n",
            "Test score:  0.732407870721817\n",
            "Test accuracy:  0.7695\n"
          ],
          "name": "stdout"
        }
      ]
    },
    {
      "metadata": {
        "id": "APCaFy3CPodL",
        "colab_type": "text"
      },
      "cell_type": "markdown",
      "source": [
        "##Model 4:  Only One CNN Layer 67%"
      ]
    },
    {
      "metadata": {
        "id": "gPSX4AE4PzeM",
        "colab_type": "text"
      },
      "cell_type": "markdown",
      "source": [
        "Our net will learn 32 convolutional filters, each of which with a 3 x 3 size. The output\n",
        "dimension is the same one of the input shape, so it will be 32 x 32 and activation is ReLU"
      ]
    },
    {
      "metadata": {
        "id": "tBARX5F6P2Qr",
        "colab_type": "text"
      },
      "cell_type": "markdown",
      "source": [
        " After that we have a max-pooling\n",
        "operation with pool size 2 x 2 and a dropout at 25%"
      ]
    },
    {
      "metadata": {
        "id": "odstl0wtPmuM",
        "colab_type": "code",
        "outputId": "b4a1db09-bb75-4cdb-f66a-6a46153ec7e8",
        "colab": {
          "base_uri": "https://localhost:8080/",
          "height": 476
        }
      },
      "cell_type": "code",
      "source": [
        "#68% 0.6755 test\n",
        "model4 = Sequential()\n",
        "model4.add(Conv2D(32,(3,3),padding = 'same',input_shape =(32,32,3)))\n",
        "model4.add(Activation('relu'))\n",
        "model4.add(MaxPooling2D(pool_size= (2,2)))\n",
        "model4.add(Dropout(0.25))\n",
        "\n",
        "model4.add(Flatten())\n",
        "model4.add(Dense(512))\n",
        "model4.add(Activation('relu'))\n",
        "model4.add(Dropout(0.5))\n",
        "model4.add(Dense(10))\n",
        "model4.add(Activation('softmax'))\n",
        "model4.summary()\n",
        "\n",
        "OPTIM = RMSprop()\n",
        "model4.compile(loss = 'categorical_crossentropy', optimizer=OPTIM,metrics=['accuracy'])\n"
      ],
      "execution_count": 12,
      "outputs": [
        {
          "output_type": "stream",
          "text": [
            "_________________________________________________________________\n",
            "Layer (type)                 Output Shape              Param #   \n",
            "=================================================================\n",
            "conv2d_10 (Conv2D)           (None, 32, 32, 32)        896       \n",
            "_________________________________________________________________\n",
            "activation_7 (Activation)    (None, 32, 32, 32)        0         \n",
            "_________________________________________________________________\n",
            "max_pooling2d_5 (MaxPooling2 (None, 16, 16, 32)        0         \n",
            "_________________________________________________________________\n",
            "dropout_6 (Dropout)          (None, 16, 16, 32)        0         \n",
            "_________________________________________________________________\n",
            "flatten_4 (Flatten)          (None, 8192)              0         \n",
            "_________________________________________________________________\n",
            "dense_7 (Dense)              (None, 512)               4194816   \n",
            "_________________________________________________________________\n",
            "activation_8 (Activation)    (None, 512)               0         \n",
            "_________________________________________________________________\n",
            "dropout_7 (Dropout)          (None, 512)               0         \n",
            "_________________________________________________________________\n",
            "dense_8 (Dense)              (None, 10)                5130      \n",
            "_________________________________________________________________\n",
            "activation_9 (Activation)    (None, 10)                0         \n",
            "=================================================================\n",
            "Total params: 4,200,842\n",
            "Trainable params: 4,200,842\n",
            "Non-trainable params: 0\n",
            "_________________________________________________________________\n"
          ],
          "name": "stdout"
        }
      ]
    },
    {
      "metadata": {
        "id": "fEBPM_0eQRu5",
        "colab_type": "code",
        "colab": {
          "base_uri": "https://localhost:8080/",
          "height": 765
        },
        "outputId": "15adcb8c-dd1e-4018-dd55-75119bed8687"
      },
      "cell_type": "code",
      "source": [
        "model4.fit(X_train,y_train,batch_size = 128, epochs =20 , verbose = 1,validation_data = [X_train_val,y_train_val])\n",
        "\n",
        "score = model4.evaluate(X_test,y_test,batch_size = 128,verbose = 1)\n",
        "print(\"Test score: \", score[0])\n",
        "print(\"Test accuracy: \", score[1])"
      ],
      "execution_count": 13,
      "outputs": [
        {
          "output_type": "stream",
          "text": [
            "Train on 40000 samples, validate on 10000 samples\n",
            "Epoch 1/20\n",
            "40000/40000 [==============================] - 6s 157us/step - loss: 1.7015 - acc: 0.3967 - val_loss: 1.4591 - val_acc: 0.4825\n",
            "Epoch 2/20\n",
            "40000/40000 [==============================] - 6s 144us/step - loss: 1.3493 - acc: 0.5202 - val_loss: 1.2159 - val_acc: 0.5728\n",
            "Epoch 3/20\n",
            "40000/40000 [==============================] - 6s 144us/step - loss: 1.2225 - acc: 0.5679 - val_loss: 1.1774 - val_acc: 0.5913\n",
            "Epoch 4/20\n",
            "40000/40000 [==============================] - 6s 148us/step - loss: 1.1341 - acc: 0.6011 - val_loss: 1.1050 - val_acc: 0.6201\n",
            "Epoch 5/20\n",
            "40000/40000 [==============================] - 6s 148us/step - loss: 1.0655 - acc: 0.6263 - val_loss: 1.0433 - val_acc: 0.6413\n",
            "Epoch 6/20\n",
            "40000/40000 [==============================] - 6s 145us/step - loss: 1.0020 - acc: 0.6504 - val_loss: 1.0627 - val_acc: 0.6363\n",
            "Epoch 7/20\n",
            "40000/40000 [==============================] - 6s 141us/step - loss: 0.9544 - acc: 0.6691 - val_loss: 1.0050 - val_acc: 0.6571\n",
            "Epoch 8/20\n",
            "40000/40000 [==============================] - 6s 146us/step - loss: 0.9145 - acc: 0.6824 - val_loss: 1.0106 - val_acc: 0.6608\n",
            "Epoch 9/20\n",
            "40000/40000 [==============================] - 6s 154us/step - loss: 0.8715 - acc: 0.6959 - val_loss: 1.0174 - val_acc: 0.6570\n",
            "Epoch 10/20\n",
            "40000/40000 [==============================] - 6s 154us/step - loss: 0.8373 - acc: 0.7087 - val_loss: 1.0386 - val_acc: 0.6597\n",
            "Epoch 11/20\n",
            "40000/40000 [==============================] - 6s 154us/step - loss: 0.8005 - acc: 0.7216 - val_loss: 1.0086 - val_acc: 0.6681\n",
            "Epoch 12/20\n",
            "40000/40000 [==============================] - 6s 154us/step - loss: 0.7733 - acc: 0.7318 - val_loss: 1.0024 - val_acc: 0.6733\n",
            "Epoch 13/20\n",
            "40000/40000 [==============================] - 6s 152us/step - loss: 0.7385 - acc: 0.7454 - val_loss: 0.9997 - val_acc: 0.6742\n",
            "Epoch 14/20\n",
            "40000/40000 [==============================] - 6s 153us/step - loss: 0.7188 - acc: 0.7498 - val_loss: 1.0201 - val_acc: 0.6699\n",
            "Epoch 15/20\n",
            "40000/40000 [==============================] - 6s 154us/step - loss: 0.6868 - acc: 0.7624 - val_loss: 1.0183 - val_acc: 0.6827\n",
            "Epoch 16/20\n",
            "40000/40000 [==============================] - 6s 153us/step - loss: 0.6638 - acc: 0.7727 - val_loss: 0.9800 - val_acc: 0.6839\n",
            "Epoch 17/20\n",
            "40000/40000 [==============================] - 6s 155us/step - loss: 0.6455 - acc: 0.7788 - val_loss: 1.0085 - val_acc: 0.6777\n",
            "Epoch 18/20\n",
            "40000/40000 [==============================] - 6s 154us/step - loss: 0.6216 - acc: 0.7874 - val_loss: 1.2006 - val_acc: 0.6556\n",
            "Epoch 19/20\n",
            "40000/40000 [==============================] - 6s 153us/step - loss: 0.6081 - acc: 0.7927 - val_loss: 1.0200 - val_acc: 0.6805\n",
            "Epoch 20/20\n",
            "40000/40000 [==============================] - 6s 154us/step - loss: 0.5895 - acc: 0.7999 - val_loss: 1.0247 - val_acc: 0.6837\n",
            "10000/10000 [==============================] - 1s 66us/step\n",
            "Test score:  1.0169944316864015\n",
            "Test accuracy:  0.6769\n"
          ],
          "name": "stdout"
        }
      ]
    },
    {
      "metadata": {
        "id": "TgKy7wcpRjUs",
        "colab_type": "text"
      },
      "cell_type": "markdown",
      "source": [
        "After defining the network, we can train the model. In this case, we split the data and\n",
        "compute a validation set in addition to the training and testing sets"
      ]
    },
    {
      "metadata": {
        "id": "P6gevPpcXbNA",
        "colab_type": "text"
      },
      "cell_type": "markdown",
      "source": [
        "##Model 5: More Depth in CNN Layers 82% {Winner}"
      ]
    },
    {
      "metadata": {
        "id": "ZnNdaA9_XsiQ",
        "colab_type": "text"
      },
      "cell_type": "markdown",
      "source": [
        "**Description**  \n",
        "Kernel_regularizer  which allows to apply penalties on layer parameters during optimization. weights will decay after a while   \n",
        "Activation = ELU &  \n",
        "Batch Normalization   \n",
        "ELU is far better than Relu since the model will underfit    \n",
        "Dropout and Batch normalization will further improve the model"
      ]
    },
    {
      "metadata": {
        "id": "qcZeZeM1cTsX",
        "colab_type": "text"
      },
      "cell_type": "markdown",
      "source": [
        "![alt text](https://www.researchgate.net/profile/Sepp_Hochreiter/publication/284579051/figure/fig1/AS:614057178578955@1523414048184/The-rectified-linear-unit-ReLU-the-leaky-ReLU-LReLU-a-01-the-shifted-ReLUs.png)"
      ]
    },
    {
      "metadata": {
        "id": "W7SFz8I-XZ7w",
        "colab_type": "code",
        "colab": {}
      },
      "cell_type": "code",
      "source": [
        "weight_decay = 0.0001\n",
        "model5 = Sequential()\n",
        "model5.add(Conv2D(32, (3,3), padding='same', kernel_regularizer=regularizers.l2(weight_decay), input_shape=(32,32,3)))\n",
        "model5.add(Activation('elu'))\n",
        "model5.add(BatchNormalization())\n",
        "model5.add(Conv2D(32, (3,3), padding='same', kernel_regularizer=regularizers.l2(weight_decay)))\n",
        "model5.add(Activation('elu'))\n",
        "model5.add(BatchNormalization())\n",
        "model5.add(MaxPooling2D(pool_size=(2,2)))\n",
        "model5.add(Dropout(0.2))\n",
        " \n",
        "model5.add(Conv2D(64, (3,3), padding='same', kernel_regularizer=regularizers.l2(weight_decay)))\n",
        "model5.add(Activation('elu'))\n",
        "model5.add(BatchNormalization())\n",
        "model5.add(Conv2D(64, (3,3), padding='same', kernel_regularizer=regularizers.l2(weight_decay)))\n",
        "model5.add(Activation('elu'))\n",
        "model5.add(BatchNormalization())\n",
        "model5.add(MaxPooling2D(pool_size=(2,2)))\n",
        "model5.add(Dropout(0.3))\n",
        " \n",
        "model5.add(Conv2D(128, (3,3), padding='same', kernel_regularizer=regularizers.l2(weight_decay)))\n",
        "model5.add(Activation('elu'))\n",
        "model5.add(BatchNormalization())\n",
        "model5.add(Conv2D(128, (3,3), padding='same', kernel_regularizer=regularizers.l2(weight_decay)))\n",
        "model5.add(Activation('elu'))\n",
        "model5.add(BatchNormalization())\n",
        "model5.add(MaxPooling2D(pool_size=(2,2)))\n",
        "model5.add(Dropout(0.4))\n",
        " \n",
        "model5.add(Flatten())\n",
        "model5.add(Dense(10, activation='softmax'))\n",
        " \n",
        "#model.summary()\n",
        "opt_rms = keras.optimizers.rmsprop(lr=0.001,decay=0.000001)\n",
        "model5.compile(loss='categorical_crossentropy', optimizer=opt_rms, metrics=['accuracy'])\n"
      ],
      "execution_count": 0,
      "outputs": []
    },
    {
      "metadata": {
        "id": "J0dgG8HTd2K0",
        "colab_type": "code",
        "outputId": "5446989d-0a08-4179-aa81-f89e4641a5c0",
        "colab": {
          "base_uri": "https://localhost:8080/",
          "height": 765
        }
      },
      "cell_type": "code",
      "source": [
        "model5.fit(X_train,y_train,batch_size = 128, epochs =20 , verbose = 1,validation_data = [X_train_val,y_train_val])\n",
        "\n",
        "score = model5.evaluate(X_test,y_test,batch_size = 128,verbose = 1)\n",
        "print(\"Test score: \", score[0])\n",
        "print(\"Test accuracy: \", score[1])"
      ],
      "execution_count": 15,
      "outputs": [
        {
          "output_type": "stream",
          "text": [
            "Train on 40000 samples, validate on 10000 samples\n",
            "Epoch 1/20\n",
            "40000/40000 [==============================] - 22s 553us/step - loss: 1.9731 - acc: 0.4189 - val_loss: 1.8432 - val_acc: 0.4666\n",
            "Epoch 2/20\n",
            "40000/40000 [==============================] - 18s 451us/step - loss: 1.2360 - acc: 0.6052 - val_loss: 1.3168 - val_acc: 0.5866\n",
            "Epoch 3/20\n",
            "40000/40000 [==============================] - 18s 453us/step - loss: 1.0112 - acc: 0.6761 - val_loss: 1.0495 - val_acc: 0.6769\n",
            "Epoch 4/20\n",
            "40000/40000 [==============================] - 18s 451us/step - loss: 0.8897 - acc: 0.7171 - val_loss: 0.9083 - val_acc: 0.7158\n",
            "Epoch 5/20\n",
            "40000/40000 [==============================] - 18s 453us/step - loss: 0.8001 - acc: 0.7470 - val_loss: 0.8006 - val_acc: 0.7453\n",
            "Epoch 6/20\n",
            "40000/40000 [==============================] - 18s 452us/step - loss: 0.7450 - acc: 0.7672 - val_loss: 1.1145 - val_acc: 0.6739\n",
            "Epoch 7/20\n",
            "40000/40000 [==============================] - 18s 448us/step - loss: 0.6935 - acc: 0.7850 - val_loss: 0.7075 - val_acc: 0.7879\n",
            "Epoch 8/20\n",
            "40000/40000 [==============================] - 18s 450us/step - loss: 0.6512 - acc: 0.8022 - val_loss: 0.7676 - val_acc: 0.7666\n",
            "Epoch 9/20\n",
            "40000/40000 [==============================] - 18s 448us/step - loss: 0.6196 - acc: 0.8145 - val_loss: 0.7371 - val_acc: 0.7776\n",
            "Epoch 10/20\n",
            "40000/40000 [==============================] - 18s 450us/step - loss: 0.5878 - acc: 0.8267 - val_loss: 0.6941 - val_acc: 0.7974\n",
            "Epoch 11/20\n",
            "40000/40000 [==============================] - 18s 449us/step - loss: 0.5577 - acc: 0.8386 - val_loss: 1.0179 - val_acc: 0.7245\n",
            "Epoch 12/20\n",
            "40000/40000 [==============================] - 18s 447us/step - loss: 0.5397 - acc: 0.8435 - val_loss: 0.8603 - val_acc: 0.7546\n",
            "Epoch 13/20\n",
            "40000/40000 [==============================] - 18s 448us/step - loss: 0.5229 - acc: 0.8526 - val_loss: 0.7079 - val_acc: 0.8099\n",
            "Epoch 14/20\n",
            "40000/40000 [==============================] - 18s 445us/step - loss: 0.5018 - acc: 0.8600 - val_loss: 0.7152 - val_acc: 0.8049\n",
            "Epoch 15/20\n",
            "40000/40000 [==============================] - 18s 447us/step - loss: 0.4856 - acc: 0.8639 - val_loss: 0.7623 - val_acc: 0.7991\n",
            "Epoch 16/20\n",
            "40000/40000 [==============================] - 18s 451us/step - loss: 0.4731 - acc: 0.8725 - val_loss: 0.6485 - val_acc: 0.8204\n",
            "Epoch 17/20\n",
            "40000/40000 [==============================] - 18s 453us/step - loss: 0.4554 - acc: 0.8783 - val_loss: 0.7208 - val_acc: 0.8041\n",
            "Epoch 18/20\n",
            "40000/40000 [==============================] - 18s 452us/step - loss: 0.4506 - acc: 0.8809 - val_loss: 0.6850 - val_acc: 0.8177\n",
            "Epoch 19/20\n",
            "40000/40000 [==============================] - 18s 448us/step - loss: 0.4381 - acc: 0.8880 - val_loss: 0.6688 - val_acc: 0.8195\n",
            "Epoch 20/20\n",
            "40000/40000 [==============================] - 18s 447us/step - loss: 0.4253 - acc: 0.8930 - val_loss: 0.7650 - val_acc: 0.8122\n",
            "10000/10000 [==============================] - 1s 134us/step\n",
            "Test score:  0.7885011268615723\n",
            "Test accuracy:  0.8051\n"
          ],
          "name": "stdout"
        }
      ]
    },
    {
      "metadata": {
        "id": "NiQBaSkDXTKg",
        "colab_type": "text"
      },
      "cell_type": "markdown",
      "source": [
        "#Data Augmentations"
      ]
    },
    {
      "metadata": {
        "id": "1os3971ibz84",
        "colab_type": "text"
      },
      "cell_type": "markdown",
      "source": [
        "##Data Augmentation 1[3rd Place]:"
      ]
    },
    {
      "metadata": {
        "id": "t5CoE7cNIFIy",
        "colab_type": "text"
      },
      "cell_type": "markdown",
      "source": [
        "ImageDataGenerator class that is used to generate batches of tensor image data with real-time data augmentation."
      ]
    },
    {
      "metadata": {
        "id": "cmAdco6Cb24Q",
        "colab_type": "code",
        "colab": {}
      },
      "cell_type": "code",
      "source": [
        "datagen = ImageDataGenerator(\n",
        "    featurewise_center=True,\n",
        "    featurewise_std_normalization=True,\n",
        "    rotation_range=20,\n",
        "    width_shift_range=0.2,\n",
        "    height_shift_range=0.2,\n",
        "    horizontal_flip=True)\n",
        "datagen.fit(X_train)"
      ],
      "execution_count": 0,
      "outputs": []
    },
    {
      "metadata": {
        "id": "9yfMkcCOJrSK",
        "colab_type": "text"
      },
      "cell_type": "markdown",
      "source": [
        "Augmented Images preview"
      ]
    },
    {
      "metadata": {
        "id": "nldwRfQZJENy",
        "colab_type": "code",
        "outputId": "e52efee5-d28f-4e05-bd95-7ad972c6f79d",
        "colab": {
          "base_uri": "https://localhost:8080/",
          "height": 268
        }
      },
      "cell_type": "code",
      "source": [
        "from matplotlib import pyplot as plt\n",
        "for X_batch, y_batch in datagen.flow(X_train, y_train, batch_size=9):\n",
        "    for i in range(0, 9):\n",
        "        plt.subplot(330 + 1 + i)\n",
        "        plt.imshow(toimage(X_batch[i].reshape(32, 32, 3)))\n",
        "    plt.show()\n",
        "    break"
      ],
      "execution_count": 17,
      "outputs": [
        {
          "output_type": "display_data",
          "data": {
            "image/png": "[encoded data removed]",
            "text/plain": [
              "<Figure size 432x288 with 9 Axes>"
            ]
          },
          "metadata": {
            "tags": []
          }
        }
      ]
    },
    {
      "metadata": {
        "id": "JPpX6B_aKnQa",
        "colab_type": "code",
        "outputId": "a07cfbc4-f4c9-42c6-b6f1-d644db50cb7d",
        "colab": {
          "base_uri": "https://localhost:8080/",
          "height": 102
        }
      },
      "cell_type": "code",
      "source": [
        "batch_size = 32\n",
        "epochs = 5\n",
        "model3.fit_generator(datagen.flow(X_train,y_train,batch_size = 4),steps_per_epoch = X_train.shape[0]//batch_size,epochs = epochs,verbose = 1, validation_data=(X_train_val,y_train_val))\n"
      ],
      "execution_count": 18,
      "outputs": [
        {
          "output_type": "stream",
          "text": [
            "Epoch 1/2\n",
            "1250/1250 [==============================] - 25s 20ms/step - loss: 14.4718 - acc: 0.1006 - val_loss: 14.5015 - val_acc: 0.1003\n",
            "Epoch 2/2\n",
            "1250/1250 [==============================] - 25s 20ms/step - loss: 14.5417 - acc: 0.0978 - val_loss: 14.5015 - val_acc: 0.1003\n"
          ],
          "name": "stdout"
        },
        {
          "output_type": "execute_result",
          "data": {
            "text/plain": [
              "<keras.callbacks.History at 0x7fc9bbd10b70>"
            ]
          },
          "metadata": {
            "tags": []
          },
          "execution_count": 18
        }
      ]
    },
    {
      "metadata": {
        "id": "9Yl-7y13QWQZ",
        "colab_type": "code",
        "outputId": "81e92bae-3116-4146-aa8a-0087a51cc0c2",
        "colab": {
          "base_uri": "https://localhost:8080/",
          "height": 102
        }
      },
      "cell_type": "code",
      "source": [
        "batch_size = 32\n",
        "epochs = 5\n",
        "model4.fit_generator(datagen.flow(X_train,y_train,batch_size = 4),steps_per_epoch = X_train.shape[0]//batch_size,epochs = epochs,verbose = 1, validation_data=(X_train_val,y_train_val))"
      ],
      "execution_count": 19,
      "outputs": [
        {
          "output_type": "stream",
          "text": [
            "Epoch 1/2\n",
            "1250/1250 [==============================] - 26s 21ms/step - loss: 11.2695 - acc: 0.2568 - val_loss: 9.3262 - val_acc: 0.2025\n",
            "Epoch 2/2\n",
            "1250/1250 [==============================] - 24s 19ms/step - loss: 10.8921 - acc: 0.2754 - val_loss: 6.6782 - val_acc: 0.2196\n"
          ],
          "name": "stdout"
        },
        {
          "output_type": "execute_result",
          "data": {
            "text/plain": [
              "<keras.callbacks.History at 0x7fc9b6d3aa20>"
            ]
          },
          "metadata": {
            "tags": []
          },
          "execution_count": 19
        }
      ]
    },
    {
      "metadata": {
        "id": "H40njMTeQ1q5",
        "colab_type": "code",
        "outputId": "bc147940-e7e1-4fc0-af16-4ad921ea097e",
        "colab": {
          "base_uri": "https://localhost:8080/",
          "height": 102
        }
      },
      "cell_type": "code",
      "source": [
        "batch_size = 32\n",
        "epochs = 5\n",
        "model3.fit_generator(datagen.flow(X_train, y_train,\n",
        "                                     batch_size=batch_size),\n",
        "                        steps_per_epoch = X_train.shape[0]//batch_size,\n",
        "                        epochs=epochs,\n",
        "                        validation_data=(X_train_val, y_train_val),\n",
        "                        workers=4)"
      ],
      "execution_count": 20,
      "outputs": [
        {
          "output_type": "stream",
          "text": [
            "Epoch 1/2\n",
            "1250/1250 [==============================] - 56s 45ms/step - loss: 14.5075 - acc: 0.0999 - val_loss: 14.5015 - val_acc: 0.1003\n",
            "Epoch 2/2\n",
            "1250/1250 [==============================] - 52s 41ms/step - loss: 14.5075 - acc: 0.0999 - val_loss: 14.5015 - val_acc: 0.1003\n"
          ],
          "name": "stdout"
        },
        {
          "output_type": "execute_result",
          "data": {
            "text/plain": [
              "<keras.callbacks.History at 0x7fc9ba1acc88>"
            ]
          },
          "metadata": {
            "tags": []
          },
          "execution_count": 20
        }
      ]
    },
    {
      "metadata": {
        "id": "_iaRJd8GTTyZ",
        "colab_type": "text"
      },
      "cell_type": "markdown",
      "source": [
        ""
      ]
    },
    {
      "metadata": {
        "id": "GUdsav_GTO8g",
        "colab_type": "text"
      },
      "cell_type": "markdown",
      "source": [
        "##Data Augmentation 2[2nd Place]:"
      ]
    },
    {
      "metadata": {
        "id": "XT3xV5TzS2px",
        "colab_type": "code",
        "colab": {}
      },
      "cell_type": "code",
      "source": [
        "    datagen2 = ImageDataGenerator(\n",
        "        featurewise_center=False,  \n",
        "        samplewise_center=False,  \n",
        "        featurewise_std_normalization=False, \n",
        "        samplewise_std_normalization=False,  \n",
        "        zca_whitening=False,\n",
        "        zca_epsilon=1e-06,  \n",
        "        rotation_range=0,\n",
        "        width_shift_range=0.1,\n",
        "        height_shift_range=0.1,\n",
        "        shear_range=0.,  \n",
        "        zoom_range=0.,  \n",
        "        channel_shift_range=0.,  \n",
        "        fill_mode='nearest',\n",
        "        cval=0.,  \n",
        "        horizontal_flip=True,  \n",
        "        vertical_flip=False, \n",
        "        rescale=None,\n",
        "        preprocessing_function=None,\n",
        "        data_format=None,\n",
        "        validation_split=0.0)\n",
        "\n",
        "    datagen2.fit(X_train)\n"
      ],
      "execution_count": 0,
      "outputs": []
    },
    {
      "metadata": {
        "id": "lcWDQrzsS50K",
        "colab_type": "code",
        "outputId": "4103b0aa-0fba-4e20-f637-b60ace44d43b",
        "colab": {
          "base_uri": "https://localhost:8080/",
          "height": 374
        }
      },
      "cell_type": "code",
      "source": [
        "#Model 3 With improvement \n",
        "batch_size = 128\n",
        "epochs = 5\n",
        "model3.fit_generator(datagen2.flow(X_train, y_train,\n",
        "                                     batch_size=batch_size),\n",
        "                        steps_per_epoch = X_train.shape[0]//batch_size,\n",
        "                        epochs=epochs,\n",
        "                        validation_data=(X_train_val, y_train_val),\n",
        "                        workers=4)"
      ],
      "execution_count": 22,
      "outputs": [
        {
          "output_type": "stream",
          "text": [
            "Epoch 1/10\n",
            "625/625 [==============================] - 40s 64ms/step - loss: 14.5075 - acc: 0.0999 - val_loss: 14.5015 - val_acc: 0.1003\n",
            "Epoch 2/10\n",
            "625/625 [==============================] - 32s 51ms/step - loss: 14.5075 - acc: 0.0999 - val_loss: 14.5015 - val_acc: 0.1003\n",
            "Epoch 3/10\n",
            "625/625 [==============================] - 33s 52ms/step - loss: 14.5075 - acc: 0.0999 - val_loss: 14.5015 - val_acc: 0.1003\n",
            "Epoch 4/10\n",
            "625/625 [==============================] - 32s 52ms/step - loss: 14.5075 - acc: 0.0999 - val_loss: 14.5015 - val_acc: 0.1003\n",
            "Epoch 5/10\n",
            "625/625 [==============================] - 33s 53ms/step - loss: 14.5075 - acc: 0.0999 - val_loss: 14.5015 - val_acc: 0.1003\n",
            "Epoch 6/10\n",
            "625/625 [==============================] - 32s 52ms/step - loss: 14.5075 - acc: 0.0999 - val_loss: 14.5015 - val_acc: 0.1003\n",
            "Epoch 7/10\n",
            "625/625 [==============================] - 34s 54ms/step - loss: 14.5075 - acc: 0.0999 - val_loss: 14.5015 - val_acc: 0.1003\n",
            "Epoch 8/10\n",
            "625/625 [==============================] - 33s 53ms/step - loss: 14.5075 - acc: 0.0999 - val_loss: 14.5015 - val_acc: 0.1003\n",
            "Epoch 9/10\n",
            "625/625 [==============================] - 32s 51ms/step - loss: 14.5075 - acc: 0.0999 - val_loss: 14.5015 - val_acc: 0.1003\n",
            "Epoch 10/10\n",
            "625/625 [==============================] - 32s 52ms/step - loss: 14.5075 - acc: 0.0999 - val_loss: 14.5015 - val_acc: 0.1003\n"
          ],
          "name": "stdout"
        },
        {
          "output_type": "execute_result",
          "data": {
            "text/plain": [
              "<keras.callbacks.History at 0x7fc9ba1accc0>"
            ]
          },
          "metadata": {
            "tags": []
          },
          "execution_count": 22
        }
      ]
    },
    {
      "metadata": {
        "id": "CWa_AZzbS_Nx",
        "colab_type": "code",
        "outputId": "0c1e1362-2f8b-4571-d14b-713b2e68699c",
        "colab": {
          "base_uri": "https://localhost:8080/",
          "height": 68
        }
      },
      "cell_type": "code",
      "source": [
        "epochs = 1\n",
        "\n",
        "model4.fit_generator(datagen2.flow(X_train, y_train,\n",
        "                                     batch_size=batch_size),\n",
        "                        steps_per_epoch = X_train.shape[0]//batch_size,\n",
        "                        epochs=epochs,\n",
        "                        validation_data=(X_train_val, y_train_val),\n",
        "                        workers=4)"
      ],
      "execution_count": 24,
      "outputs": [
        {
          "output_type": "stream",
          "text": [
            "Epoch 1/1\n",
            "625/625 [==============================] - 31s 50ms/step - loss: 1.3860 - acc: 0.5342 - val_loss: 1.1765 - val_acc: 0.6176\n"
          ],
          "name": "stdout"
        },
        {
          "output_type": "execute_result",
          "data": {
            "text/plain": [
              "<keras.callbacks.History at 0x7fc9b6cb53c8>"
            ]
          },
          "metadata": {
            "tags": []
          },
          "execution_count": 24
        }
      ]
    },
    {
      "metadata": {
        "id": "Z1NY3vb3Tr9J",
        "colab_type": "code",
        "outputId": "53830022-343d-4bfb-da13-9d998803cb85",
        "colab": {
          "base_uri": "https://localhost:8080/",
          "height": 68
        }
      },
      "cell_type": "code",
      "source": [
        "model.fit_generator(datagen2.flow(X_train, y_train,\n",
        "                                     batch_size=batch_size),\n",
        "                        steps_per_epoch = X_train.shape[0]//batch_size,\n",
        "                        epochs=epochs,\n",
        "                        validation_data=(X_train_val, y_train_val),\n",
        "                        workers=4)"
      ],
      "execution_count": 25,
      "outputs": [
        {
          "output_type": "stream",
          "text": [
            "Epoch 1/1\n",
            "625/625 [==============================] - 30s 48ms/step - loss: 1.1085 - acc: 0.6260 - val_loss: 0.9296 - val_acc: 0.6916\n"
          ],
          "name": "stdout"
        },
        {
          "output_type": "execute_result",
          "data": {
            "text/plain": [
              "<keras.callbacks.History at 0x7fc9b6cb56d8>"
            ]
          },
          "metadata": {
            "tags": []
          },
          "execution_count": 25
        }
      ]
    },
    {
      "metadata": {
        "id": "gZ4cZqT6h5_o",
        "colab_type": "code",
        "colab": {
          "base_uri": "https://localhost:8080/",
          "height": 102
        },
        "outputId": "2def7aeb-741d-4f7e-9f13-0ed7c7d9427e"
      },
      "cell_type": "code",
      "source": [
        "model5.fit_generator(datagen2.flow(X_train, y_train,\n",
        "                                     batch_size=batch_size),\n",
        "                        steps_per_epoch = X_train.shape[0]//batch_size,\n",
        "                        epochs=epochs,\n",
        "                        validation_data=(X_train_val, y_train_val),\n",
        "                        workers=4)\n",
        "scores = model5.evaluate(X_test, y_test, batch_size=128, verbose=1)\n",
        "print('\\nTest result: %.3f loss: %.3f' % (scores[1]*100,scores[0]))"
      ],
      "execution_count": 26,
      "outputs": [
        {
          "output_type": "stream",
          "text": [
            "Epoch 1/1\n",
            "625/625 [==============================] - 36s 58ms/step - loss: 0.8126 - acc: 0.7718 - val_loss: 0.6867 - val_acc: 0.8088\n",
            "10000/10000 [==============================] - 1s 150us/step\n",
            "\n",
            "Test result: 80.820 loss: 0.710\n"
          ],
          "name": "stdout"
        }
      ]
    },
    {
      "metadata": {
        "id": "8MJ6ICJGYSwQ",
        "colab_type": "text"
      },
      "cell_type": "markdown",
      "source": [
        "## Data Augmentation 3 [1st Place] {Winner}:"
      ]
    },
    {
      "metadata": {
        "id": "jsL8z-f1YU-x",
        "colab_type": "code",
        "colab": {}
      },
      "cell_type": "code",
      "source": [
        "datagen3 = ImageDataGenerator(\n",
        "    rotation_range=15,\n",
        "    width_shift_range=0.1,\n",
        "    height_shift_range=0.1,\n",
        "    horizontal_flip=True,\n",
        "    )\n",
        "datagen3.fit(X_train)"
      ],
      "execution_count": 0,
      "outputs": []
    },
    {
      "metadata": {
        "id": "55-khDZWYY-Z",
        "colab_type": "code",
        "colab": {
          "base_uri": "https://localhost:8080/",
          "height": 238
        },
        "outputId": "e73f6eb5-b874-4824-eb11-2af08ada1c31"
      },
      "cell_type": "code",
      "source": [
        "batch_size = 64\n",
        "epochs = 5\n",
        "model3.fit_generator(datagen3.flow(X_train, y_train,\n",
        "                                     batch_size=batch_size),\n",
        "                        steps_per_epoch = X_train.shape[0]//batch_size,\n",
        "                        epochs=epochs,\n",
        "                        validation_data=(X_train_val, y_train_val),\n",
        "                        workers=4)\n",
        "scores = model3.evaluate(X_test, y_test, batch_size=128, verbose=1)\n",
        "print('\\nTest result: %.3f loss: %.3f' % (scores[1]*100,scores[0]))"
      ],
      "execution_count": 28,
      "outputs": [
        {
          "output_type": "stream",
          "text": [
            "Epoch 1/5\n",
            "625/625 [==============================] - 35s 55ms/step - loss: 14.5075 - acc: 0.0999 - val_loss: 14.5015 - val_acc: 0.1003\n",
            "Epoch 2/5\n",
            "625/625 [==============================] - 34s 54ms/step - loss: 14.5075 - acc: 0.0999 - val_loss: 14.5015 - val_acc: 0.1003\n",
            "Epoch 3/5\n",
            "625/625 [==============================] - 33s 53ms/step - loss: 14.5075 - acc: 0.0999 - val_loss: 14.5015 - val_acc: 0.1003\n",
            "Epoch 4/5\n",
            "625/625 [==============================] - 32s 52ms/step - loss: 14.5075 - acc: 0.0999 - val_loss: 14.5015 - val_acc: 0.1003\n",
            "Epoch 5/5\n",
            "625/625 [==============================] - 31s 50ms/step - loss: 14.5075 - acc: 0.0999 - val_loss: 14.5015 - val_acc: 0.1003\n",
            "10000/10000 [==============================] - 1s 92us/step\n",
            "\n",
            "Test result: 10.000 loss: 14.506\n"
          ],
          "name": "stdout"
        }
      ]
    },
    {
      "metadata": {
        "id": "jvuFz5nLgwiY",
        "colab_type": "text"
      },
      "cell_type": "markdown",
      "source": [
        "There is underfitting happening in here, Therefore It is the winner model for solving the Cifar10 Problem"
      ]
    },
    {
      "metadata": {
        "id": "gT8OI-AifYpN",
        "colab_type": "code",
        "outputId": "e2ab233f-eb60-4275-f01d-16ee1e9dc9c3",
        "colab": {
          "base_uri": "https://localhost:8080/",
          "height": 408
        }
      },
      "cell_type": "code",
      "source": [
        "batch_size = 64\n",
        "epochs = 10\n",
        "model5.fit_generator(datagen3.flow(X_train, y_train,\n",
        "                                     batch_size=batch_size),\n",
        "                        steps_per_epoch = X_train.shape[0]//batch_size,\n",
        "                        epochs=epochs,\n",
        "                        validation_data=(X_train_val, y_train_val),\n",
        "                        workers=4)\n",
        "scores = model5.evaluate(X_test, y_test, batch_size=128, verbose=1)\n",
        "print('\\nTest result: %.3f loss: %.3f' % (scores[1]*100,scores[0]))"
      ],
      "execution_count": 29,
      "outputs": [
        {
          "output_type": "stream",
          "text": [
            "Epoch 1/10\n",
            "625/625 [==============================] - 38s 61ms/step - loss: 0.8178 - acc: 0.7622 - val_loss: 0.7144 - val_acc: 0.8072\n",
            "Epoch 2/10\n",
            "625/625 [==============================] - 35s 56ms/step - loss: 0.7878 - acc: 0.7747 - val_loss: 0.6763 - val_acc: 0.8196\n",
            "Epoch 3/10\n",
            "625/625 [==============================] - 34s 55ms/step - loss: 0.7669 - acc: 0.7835 - val_loss: 0.8047 - val_acc: 0.7791\n",
            "Epoch 4/10\n",
            "625/625 [==============================] - 35s 56ms/step - loss: 0.7622 - acc: 0.7852 - val_loss: 0.7943 - val_acc: 0.7912\n",
            "Epoch 5/10\n",
            "625/625 [==============================] - 37s 59ms/step - loss: 0.7462 - acc: 0.7899 - val_loss: 0.8280 - val_acc: 0.7794\n",
            "Epoch 6/10\n",
            "625/625 [==============================] - 35s 55ms/step - loss: 0.7356 - acc: 0.7948 - val_loss: 0.7383 - val_acc: 0.8024\n",
            "Epoch 7/10\n",
            "625/625 [==============================] - 34s 55ms/step - loss: 0.7260 - acc: 0.7992 - val_loss: 0.7113 - val_acc: 0.8120\n",
            "Epoch 8/10\n",
            "625/625 [==============================] - 35s 56ms/step - loss: 0.7145 - acc: 0.8030 - val_loss: 0.6657 - val_acc: 0.8223\n",
            "Epoch 9/10\n",
            "625/625 [==============================] - 36s 58ms/step - loss: 0.7079 - acc: 0.8086 - val_loss: 0.7155 - val_acc: 0.8174\n",
            "Epoch 10/10\n",
            "625/625 [==============================] - 35s 56ms/step - loss: 0.7108 - acc: 0.8043 - val_loss: 0.6676 - val_acc: 0.8243\n",
            "10000/10000 [==============================] - 1s 122us/step\n",
            "\n",
            "Test result: 81.670 loss: 0.696\n"
          ],
          "name": "stdout"
        }
      ]
    }
  ]
}