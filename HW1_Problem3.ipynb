{
  "nbformat": 4,
  "nbformat_minor": 0,
  "metadata": {
    "colab": {
      "name": "HW1_Problem3.ipynb",
      "version": "0.3.2",
      "provenance": [],
      "collapsed_sections": [],
      "include_colab_link": true
    },
    "kernelspec": {
      "name": "python3",
      "display_name": "Python 3"
    }
  },
  "cells": [
    {
      "cell_type": "markdown",
      "metadata": {
        "id": "view-in-github",
        "colab_type": "text"
      },
      "source": [
        "<a href=\"https://colab.research.google.com/github/EnterTheBeginning/Machine-Learning/blob/master/HW1_Problem3.ipynb\" target=\"_parent\"><img src=\"https://colab.research.google.com/assets/colab-badge.svg\" alt=\"Open In Colab\"/></a>"
      ]
    },
    {
      "metadata": {
        "id": "IPtpatWO1m36",
        "colab_type": "text"
      },
      "cell_type": "markdown",
      "source": [
        "Accuracy ,Add forumlas, Add visualization"
      ]
    },
    {
      "metadata": {
        "id": "CEghsswc1JiU",
        "colab_type": "code",
        "colab": {}
      },
      "cell_type": "code",
      "source": [
        "import numpy as np\n",
        "import matplotlib.pyplot as plt\n",
        "%matplotlib inline"
      ],
      "execution_count": 0,
      "outputs": []
    },
    {
      "metadata": {
        "id": "5-Pl3BgX1jJw",
        "colab_type": "text"
      },
      "cell_type": "markdown",
      "source": [
        "## Importing Data\n"
      ]
    },
    {
      "metadata": {
        "id": "Ef4PxUoo1fb4",
        "colab_type": "code",
        "colab": {
          "base_uri": "https://localhost:8080/",
          "height": 34
        },
        "outputId": "6ad8d93d-fc7b-4c99-b07c-bacb658f7f1d"
      },
      "cell_type": "code",
      "source": [
        "from keras.datasets import mnist\n",
        "\n",
        "(X_train_original, y_train_original), (X_test_original, y_test_original) = mnist.load_data()"
      ],
      "execution_count": 2,
      "outputs": [
        {
          "output_type": "stream",
          "text": [
            "Using TensorFlow backend.\n"
          ],
          "name": "stderr"
        }
      ]
    },
    {
      "metadata": {
        "id": "pNZtsqhI1WBN",
        "colab_type": "code",
        "colab": {}
      },
      "cell_type": "code",
      "source": [
        "X_train = X_train_original.reshape((60000, 28 * 28))\n",
        "X_train = X_train.astype('float32') / 255\n",
        "\n",
        "X_test = X_test_original.reshape((10000, 28 * 28))\n",
        "X_test = X_test.astype('float32') / 255"
      ],
      "execution_count": 0,
      "outputs": []
    },
    {
      "metadata": {
        "id": "di3W4of2qd-A",
        "colab_type": "code",
        "colab": {}
      },
      "cell_type": "code",
      "source": [
        "y_train, y_test = y_train_original.reshape(60000,1),y_test_original.reshape(10000,1)\n",
        "\n"
      ],
      "execution_count": 0,
      "outputs": []
    },
    {
      "metadata": {
        "id": "4rKMQCnRrQCi",
        "colab_type": "text"
      },
      "cell_type": "markdown",
      "source": [
        "###Categorical encoding"
      ]
    },
    {
      "metadata": {
        "id": "F-VlCj8Us0DN",
        "colab_type": "text"
      },
      "cell_type": "markdown",
      "source": [
        "Using one hot encoding with Numpy\n",
        "\n",
        "\n",
        "\n"
      ]
    },
    {
      "metadata": {
        "id": "pj2qOVxYoyyc",
        "colab_type": "code",
        "colab": {}
      },
      "cell_type": "code",
      "source": [
        "y_train1 = np.zeros((y_train_original.shape[0],10))\n",
        "y_train1[np.arange(y_train_original.shape[0]),y_train_original] = 1\n",
        "#Return evenly spaced values within a given interval.\n",
        "y_train = y_train1\n",
        "y_test1 = np.zeros((y_test_original.shape[0],10))\n",
        "y_test1[np.arange(y_test_original.shape[0]),y_test_original] = 1\n",
        "#Return evenly spaced values within a given interval.\n",
        "y_test = y_test1"
      ],
      "execution_count": 0,
      "outputs": []
    },
    {
      "metadata": {
        "id": "QPrt0B0RdkiN",
        "colab_type": "text"
      },
      "cell_type": "markdown",
      "source": [
        "Now that we have input and output ready\n",
        "\n",
        "Lets start building our network"
      ]
    },
    {
      "metadata": {
        "id": "7igJTn7qeYIE",
        "colab_type": "text"
      },
      "cell_type": "markdown",
      "source": [
        "##Categorical Cross Entropy\n",
        "\n",
        "1.   Weights\n",
        "2.   Bias\n",
        "3. Activation\n",
        "4. Input X   \n",
        "n = Number of Features which is 784   \n",
        "m = Number of samples which in training set is 60000\n"
      ]
    },
    {
      "metadata": {
        "id": "qbIDf13AupXD",
        "colab_type": "code",
        "colab": {}
      },
      "cell_type": "code",
      "source": [
        "# Weights, Bias\n",
        "np.random.seed(47)\n",
        "W = np.zeros((X_train.shape[1], 1))\n",
        "b = np.zeros((1,1))\n"
      ],
      "execution_count": 0,
      "outputs": []
    },
    {
      "metadata": {
        "id": "RBsoF0VikKYW",
        "colab_type": "text"
      },
      "cell_type": "markdown",
      "source": [
        "## Categorical Cross Enteropy (CCE) class:\n",
        "\n",
        "---\n",
        "\n"
      ]
    },
    {
      "metadata": {
        "id": "UfVHgu9qHDbH",
        "colab_type": "code",
        "colab": {}
      },
      "cell_type": "code",
      "source": [
        "class CCE:\n",
        "  \n",
        "  \n",
        "  #class constructor\n",
        "  #In order to save W for other methods such as prediction\n",
        "  def __init__(self,W,b):\n",
        "    self.W = np.zeros((X_train.shape[1],10))\n",
        "    self.b = np.zeros((1,10))\n",
        "    \n",
        "    \n",
        "  #Softmax method\n",
        "  def softMax(self, Z):\n",
        "    arg1 = np.exp(Z- np.max(Z,-1,keepdims = True))\n",
        "    arg2 = arg1/(np.sum(arg1,-1,keepdims=True))\n",
        "    return arg2\n",
        "\n",
        "  def CCELoss(self,A,y):\n",
        "    arg1 = np.sum(y* np.log(A), axis= -1)\n",
        "    arg2 = -arg1\n",
        "    return arg2\n",
        "  \n",
        "  def softMaxUpdate(self,X):\n",
        "    arg1 = self.softMax(X.dot(self.W)+self.b)\n",
        "    return arg1\n",
        "  \n",
        "  def derCCELoss(self,A,y):\n",
        "    arg1 = A - y\n",
        "    return arg1\n",
        "  \n",
        "    #Training weights and Biases\n",
        "  def train(self, X, y,lr=0.01 , batch=4 , epochs = 10):\n",
        "    m=60000\n",
        "    history={\"Loss\":[]}\n",
        "\n",
        "    for i in range(epochs):\n",
        "      object_Loss = []\n",
        "      shuffle = np.random.permutation(m)\n",
        "      X_shuffled = X[shuffle]\n",
        "      y_shuffled = y[shuffle]\n",
        "      for e in range(0,m,batch):\n",
        "        \n",
        "        X1= X_shuffled[e:e+batch]\n",
        "        y1= y_shuffled[e:e+batch]\n",
        "        Z= X1.dot(self.W)+self.b\n",
        "        # soft Max Activation function\n",
        "        A = self.softMax(Z)\n",
        "        # Loss update\n",
        "        Gradient= self.derCCELoss(A,y1)\n",
        "        # Updating the weights\n",
        "        self.W= self.W - lr * (Gradient.T @ X1).T/batch\n",
        "        # Updating the bias\n",
        "        '!!!'\n",
        "        self.b= self.b- lr*Gradient.mean(axis=0)\n",
        "      object_Loss += [self.CCELoss(self.softMaxUpdate(X_shuffled),y_shuffled).mean()]\n",
        "      history['Loss'] += [np.mean(object_Loss)]\n",
        "      print(\" Loss: {}\\n\".format(history['Loss'][-1]))\n",
        "      \n",
        "    return history\n",
        "    print(\"Test accuracy : {} %\".format(100 - np.mean(np.abs(network.predict(X_test) - y_test))*100))\n",
        "  \n",
        "  def predict(self,X):\n",
        "        m = X.shape[0]\n",
        "        #creating a prediction vector\n",
        "        Z= X.dot(self.W)+self.b\n",
        "        A = self.softMax(Z)\n",
        "        y_prediction = np.zeros((1,m))\n",
        "        for i in range(A.shape[0]):\n",
        "          if( A[i]>= 0.5):\n",
        "            y_prediction[0,i] = 1\n",
        "          else:\n",
        "            y_prediction[0,i] = 0\n",
        "        return y_prediction\n",
        "    \n"
      ],
      "execution_count": 0,
      "outputs": []
    },
    {
      "metadata": {
        "id": "hzSMPv85X60Q",
        "colab_type": "text"
      },
      "cell_type": "markdown",
      "source": [
        "###The results shown for the softMAX:"
      ]
    },
    {
      "metadata": {
        "id": "q5ecUlQrMbwi",
        "colab_type": "code",
        "colab": {}
      },
      "cell_type": "code",
      "source": [
        "network = CCE(None,None)"
      ],
      "execution_count": 0,
      "outputs": []
    },
    {
      "metadata": {
        "id": "0EtTNcS7ItI_",
        "colab_type": "code",
        "outputId": "bb79260f-4265-4651-8bbc-d9b32d2a5148",
        "colab": {
          "base_uri": "https://localhost:8080/",
          "height": 357
        }
      },
      "cell_type": "code",
      "source": [
        "results = network.train(X_train, y_train)"
      ],
      "execution_count": 73,
      "outputs": [
        {
          "output_type": "stream",
          "text": [
            " Loss: 0.33051868598692363\n",
            "\n",
            " Loss: 0.3044825801855112\n",
            "\n",
            " Loss: 0.2920179989664141\n",
            "\n",
            " Loss: 0.2846706370355562\n",
            "\n",
            " Loss: 0.2805890586537044\n",
            "\n",
            " Loss: 0.27230366779275567\n",
            "\n",
            " Loss: 0.2692539940854952\n",
            "\n",
            " Loss: 0.2709277088689774\n",
            "\n",
            " Loss: 0.26643385110548046\n",
            "\n",
            " Loss: 0.26376932192510816\n",
            "\n"
          ],
          "name": "stdout"
        }
      ]
    },
    {
      "metadata": {
        "id": "fgz_zCHZCUJp",
        "colab_type": "code",
        "colab": {}
      },
      "cell_type": "code",
      "source": [
        ""
      ],
      "execution_count": 0,
      "outputs": []
    }
  ]
}