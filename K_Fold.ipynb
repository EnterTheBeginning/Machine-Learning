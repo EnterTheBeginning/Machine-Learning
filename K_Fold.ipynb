{
  "nbformat": 4,
  "nbformat_minor": 0,
  "metadata": {
    "colab": {
      "name": "K_Fold.ipynb",
      "version": "0.3.2",
      "provenance": [],
      "collapsed_sections": [],
      "include_colab_link": true
    },
    "kernelspec": {
      "name": "python3",
      "display_name": "Python 3"
    },
    "accelerator": "GPU"
  },
  "cells": [
    {
      "cell_type": "markdown",
      "metadata": {
        "id": "view-in-github",
        "colab_type": "text"
      },
      "source": [
        "<a href=\"https://colab.research.google.com/github/EnterTheBeginning/Machine-Learning/blob/master/K_Fold.ipynb\" target=\"_parent\"><img src=\"https://colab.research.google.com/assets/colab-badge.svg\" alt=\"Open In Colab\"/></a>"
      ]
    },
    {
      "metadata": {
        "id": "voN80VP4NR7x",
        "colab_type": "code",
        "colab": {}
      },
      "cell_type": "code",
      "source": [
        "import numpy as np\n",
        "import pandas as pd\n",
        "import keras\n",
        "import matplotlib.pyplot as plt\n",
        "%matplotlib inline\n",
        "import warnings\n",
        "warnings.filterwarnings('ignore')\n",
        "from keras.utils import np_utils\n",
        "from keras.models import Sequential\n",
        "from scipy.misc import toimage\n",
        "from keras.layers import Dense, Activation, Flatten,Conv2D,MaxPooling2D,Dropout, BatchNormalization\n",
        "from keras.optimizers import SGD, Adam, RMSprop\n",
        "from keras.preprocessing.image import ImageDataGenerator\n",
        "from keras import regularizers\n",
        "\n",
        "#use of Learning rate scheduler to avoid overfitting\n",
        "from keras.callbacks import LearningRateScheduler"
      ],
      "execution_count": 0,
      "outputs": []
    },
    {
      "metadata": {
        "id": "pwO-fucWTV_B",
        "colab_type": "code",
        "colab": {}
      },
      "cell_type": "code",
      "source": [
        "from keras.datasets import cifar10 \n",
        "(X_train_original, y_train_original), (X_test_original, y_test_original) = cifar10.load_data()\n"
      ],
      "execution_count": 0,
      "outputs": []
    },
    {
      "metadata": {
        "id": "Lo6-HwO6Vg-P",
        "colab_type": "text"
      },
      "cell_type": "markdown",
      "source": [
        "##K-Fold 1:"
      ]
    },
    {
      "metadata": {
        "id": "RGrZ-tj_AFCC",
        "colab_type": "code",
        "colab": {}
      },
      "cell_type": "code",
      "source": [
        "#Restart\n",
        "#OneHotEncoding\n",
        "y_train = np_utils.to_categorical(y_train_original,10)\n",
        "y_test = np_utils.to_categorical(y_test_original,10)\n",
        "#Using Z-Score as the normalization\n",
        "X_train = X_train_original.astype('float32')\n",
        "X_test = X_test_original.astype('float32')\n",
        "\n",
        "mean = np.mean(X_train,axis=(0,1,2,3))\n",
        "std = np.std(X_train,axis=(0,1,2,3))\n",
        "X_train = (X_train-mean)/(std+1e-7)\n",
        "X_test = (X_test-mean)/(std+1e-7)\n",
        "#Weight Decay \n",
        "w_decay = 0.0001"
      ],
      "execution_count": 0,
      "outputs": []
    },
    {
      "metadata": {
        "id": "egwTbc9RVgUn",
        "colab_type": "code",
        "colab": {}
      },
      "cell_type": "code",
      "source": [
        "split = X_train.shape[0] // 5\n",
        "X_train_val = X_train[:split]\n",
        "X_train = X_train[split:]\n",
        "y_train_val = y_train[:split]\n",
        "y_train = y_train[split:]\n"
      ],
      "execution_count": 0,
      "outputs": []
    },
    {
      "metadata": {
        "id": "ArYu0XaRVjr_",
        "colab_type": "text"
      },
      "cell_type": "markdown",
      "source": [
        "###Model:"
      ]
    },
    {
      "metadata": {
        "colab_type": "code",
        "id": "PbRrCVudeSZ2",
        "colab": {}
      },
      "cell_type": "code",
      "source": [
        "model = Sequential()\n",
        "model.add(Conv2D(32, (3,3), padding='same',\n",
        "                 kernel_regularizer=regularizers.l2(w_decay), input_shape=X_train.shape[1:]))\n",
        "model.add(Activation('elu'))\n",
        "model.add(BatchNormalization())\n",
        "model.add(Conv2D(32, (3,3), padding='same',\n",
        "                 kernel_regularizer=regularizers.l2(w_decay)))\n",
        "model.add(Activation('elu'))\n",
        "model.add(BatchNormalization())\n",
        "model.add(MaxPooling2D(pool_size=(2,2)))\n",
        "model.add(Dropout(0.2))\n",
        " \n",
        "model.add(Conv2D(64, (3,3), padding='same',\n",
        "                 kernel_regularizer=regularizers.l2(w_decay)))\n",
        "model.add(Activation('elu'))\n",
        "model.add(BatchNormalization())\n",
        "model.add(Conv2D(64, (3,3), padding='same',\n",
        "                 kernel_regularizer=regularizers.l2(w_decay)))\n",
        "model.add(Activation('elu'))\n",
        "model.add(BatchNormalization())\n",
        "model.add(MaxPooling2D(pool_size=(2,2)))\n",
        "model.add(Dropout(0.3))\n",
        " \n",
        "model.add(Conv2D(128, (3,3), padding='same',\n",
        "                 kernel_regularizer=regularizers.l2(w_decay)))\n",
        "model.add(Activation('elu'))\n",
        "model.add(BatchNormalization())\n",
        "model.add(Conv2D(128, (3,3), padding='same',\n",
        "                 kernel_regularizer=regularizers.l2(w_decay)))\n",
        "model.add(Activation('elu'))\n",
        "model.add(BatchNormalization())\n",
        "model.add(MaxPooling2D(pool_size=(2,2)))\n",
        "model.add(Dropout(0.4))\n",
        " \n",
        "model.add(Flatten())\n",
        "model.add(Dense(10, activation='softmax'))\n",
        "\n",
        "opt_rms = keras.optimizers.rmsprop(lr=0.001,decay=0.000001)\n",
        "model.compile(loss='categorical_crossentropy', optimizer=opt_rms, metrics=['accuracy'])\n",
        "\n",
        "# model.summary()\n",
        "\n",
        "\n",
        " \n",
        " \n"
      ],
      "execution_count": 0,
      "outputs": []
    },
    {
      "metadata": {
        "id": "8oWUq6ZsNegJ",
        "colab_type": "code",
        "outputId": "42e0a29a-26fc-466f-cbc0-57c2cc214eca",
        "colab": {
          "base_uri": "https://localhost:8080/",
          "height": 1045
        }
      },
      "cell_type": "code",
      "source": [
        "datagen = ImageDataGenerator(\n",
        "    rotation_range=15,\n",
        "    width_shift_range=0.1,\n",
        "    height_shift_range=0.1,\n",
        "    horizontal_flip=True,\n",
        "    )\n",
        "datagen.fit(X_train)\n",
        "\n",
        "#batch size 64 gives the best result following by 128 which results in below 89%\n",
        "batch_size = 64\n",
        "epochs = 20\n",
        "history = model.fit_generator(datagen.flow(X_train, y_train, batch_size=batch_size),steps_per_epoch=X_train.shape[0] // batch_size, epochs=epochs,verbose=1,validation_data=[X_train_val,y_train_val])\n",
        "                              \n",
        "score1 = model.evaluate(X_test, y_test, batch_size=128, verbose=1)\n",
        "print(\"\\n Test score: \", score1[0])\n",
        "print(\"\\nTest accuracy: \", score1[1]*100)\n",
        "\n",
        "history_dict = history.history\n",
        "loss_values = history_dict['loss']\n",
        "plt.figure(1)\n",
        "plt.plot(loss_values, label='Loss')\n",
        "# plt.plot(prediction,label='prediction',color = 'green')\n",
        "plt.legend(loc='upper right')\n",
        "plt.title('Loss reduction per epoch')\n",
        "plt.ylabel('loss') \n",
        "plt.show()\n"
      ],
      "execution_count": 0,
      "outputs": [
        {
          "output_type": "stream",
          "text": [
            "Epoch 1/20\n",
            "625/625 [==============================] - 34s 54ms/step - loss: 1.9956 - acc: 0.4138 - val_loss: 1.4194 - val_acc: 0.5310\n",
            "Epoch 2/20\n",
            "625/625 [==============================] - 37s 60ms/step - loss: 1.4758 - acc: 0.5560 - val_loss: 1.6384 - val_acc: 0.6011\n",
            "Epoch 3/20\n",
            "625/625 [==============================] - 32s 51ms/step - loss: 1.2740 - acc: 0.6162 - val_loss: 1.5376 - val_acc: 0.6360\n",
            "Epoch 4/20\n",
            "625/625 [==============================] - 31s 50ms/step - loss: 1.1743 - acc: 0.6476 - val_loss: 2.6057 - val_acc: 0.6235\n",
            "Epoch 5/20\n",
            "625/625 [==============================] - 32s 52ms/step - loss: 1.0937 - acc: 0.6722 - val_loss: 1.1488 - val_acc: 0.6889\n",
            "Epoch 6/20\n",
            "625/625 [==============================] - 32s 51ms/step - loss: 1.0339 - acc: 0.6924 - val_loss: 1.5828 - val_acc: 0.6840\n",
            "Epoch 7/20\n",
            "625/625 [==============================] - 31s 50ms/step - loss: 0.9884 - acc: 0.7104 - val_loss: 1.0854 - val_acc: 0.7267\n",
            "Epoch 8/20\n",
            "625/625 [==============================] - 32s 51ms/step - loss: 0.9597 - acc: 0.7223 - val_loss: 1.0997 - val_acc: 0.7471\n",
            "Epoch 9/20\n",
            "625/625 [==============================] - 32s 51ms/step - loss: 0.9330 - acc: 0.7328 - val_loss: 1.4925 - val_acc: 0.7218\n",
            "Epoch 10/20\n",
            "625/625 [==============================] - 32s 50ms/step - loss: 0.9003 - acc: 0.7376 - val_loss: 1.0260 - val_acc: 0.7615\n",
            "Epoch 11/20\n",
            "625/625 [==============================] - 32s 52ms/step - loss: 0.8899 - acc: 0.7468 - val_loss: 1.0118 - val_acc: 0.7680\n",
            "Epoch 12/20\n",
            "625/625 [==============================] - 31s 50ms/step - loss: 0.8565 - acc: 0.7575 - val_loss: 0.8387 - val_acc: 0.7887\n",
            "Epoch 13/20\n",
            "625/625 [==============================] - 31s 50ms/step - loss: 0.8509 - acc: 0.7597 - val_loss: 0.8258 - val_acc: 0.7742\n",
            "Epoch 14/20\n",
            "625/625 [==============================] - 32s 51ms/step - loss: 0.8321 - acc: 0.7682 - val_loss: 1.1175 - val_acc: 0.7354\n",
            "Epoch 15/20\n",
            "625/625 [==============================] - 32s 51ms/step - loss: 0.8018 - acc: 0.7746 - val_loss: 1.0379 - val_acc: 0.7794\n",
            "Epoch 16/20\n",
            "625/625 [==============================] - 31s 50ms/step - loss: 0.7980 - acc: 0.7747 - val_loss: 0.7825 - val_acc: 0.8055\n",
            "Epoch 17/20\n",
            "625/625 [==============================] - 32s 52ms/step - loss: 0.7749 - acc: 0.7835 - val_loss: 0.7896 - val_acc: 0.7893\n",
            "Epoch 18/20\n",
            "625/625 [==============================] - 31s 50ms/step - loss: 0.7610 - acc: 0.7878 - val_loss: 0.9355 - val_acc: 0.7818\n",
            "Epoch 19/20\n",
            "625/625 [==============================] - 31s 50ms/step - loss: 0.7529 - acc: 0.7896 - val_loss: 0.7383 - val_acc: 0.8193\n",
            "Epoch 20/20\n",
            "625/625 [==============================] - 32s 51ms/step - loss: 0.7286 - acc: 0.7964 - val_loss: 0.6408 - val_acc: 0.8278\n",
            "10000/10000 [==============================] - 1s 125us/step\n",
            "\n",
            " Test score:  0.664486686706543\n",
            "\n",
            "Test accuracy:  82.59\n"
          ],
          "name": "stdout"
        },
        {
          "output_type": "display_data",
          "data": {
            "image/png": "[encoded data removed]",
            "text/plain": [
              "<Figure size 432x288 with 1 Axes>"
            ]
          },
          "metadata": {
            "tags": []
          }
        }
      ]
    },
    {
      "metadata": {
        "colab_type": "text",
        "id": "btVvPG76ZRUq"
      },
      "cell_type": "markdown",
      "source": [
        "##K-Fold 2:"
      ]
    },
    {
      "metadata": {
        "colab_type": "code",
        "id": "KiRhmY3mZRUr",
        "colab": {}
      },
      "cell_type": "code",
      "source": [
        "#Restart\n",
        "#OneHotEncoding\n",
        "y_train = np_utils.to_categorical(y_train_original,10)\n",
        "y_test = np_utils.to_categorical(y_test_original,10)\n",
        "#Using Z-Score as the normalization\n",
        "X_train = X_train_original.astype('float32')\n",
        "X_test = X_test_original.astype('float32')\n",
        "\n",
        "mean = np.mean(X_train,axis=(0,1,2,3))\n",
        "std = np.std(X_train,axis=(0,1,2,3))\n",
        "X_train = (X_train-mean)/(std+1e-7)\n",
        "X_test = (X_test-mean)/(std+1e-7)\n",
        "#Weight Decay \n",
        "w_decay = 0.0001\n",
        "split = X_train.shape[0] // 5\n",
        "\n",
        "#change per each Fold\n",
        "X_train_val = X_train[split:2*split]\n",
        "arg1 = X_train[:split]\n",
        "arg3 = y_train[:split]\n",
        "arg2 = X_train[2*split:]\n",
        "arg4 = y_train[2*split:]\n",
        "\n",
        "X_train = np.concatenate((arg1, arg2))\n",
        "y_train_val = y_train[split:2*split]\n",
        "y_train = np.concatenate((arg3, arg4))\n"
      ],
      "execution_count": 0,
      "outputs": []
    },
    {
      "metadata": {
        "colab_type": "code",
        "id": "3Nu4AFYoZRU0",
        "outputId": "311471a5-86fe-4c3b-9cfc-08951e26ef3f",
        "colab": {
          "base_uri": "https://localhost:8080/",
          "height": 1045
        }
      },
      "cell_type": "code",
      "source": [
        "datagen = ImageDataGenerator(\n",
        "    rotation_range=15,\n",
        "    width_shift_range=0.1,\n",
        "    height_shift_range=0.1,\n",
        "    horizontal_flip=True,\n",
        "    )\n",
        "datagen.fit(X_train)\n",
        "\n",
        "#batch size 64 gives the best result following by 128 which results in below 89%\n",
        "batch_size = 64\n",
        "epochs = 20\n",
        "history = model.fit_generator(datagen.flow(X_train, y_train, batch_size=batch_size),steps_per_epoch=X_train.shape[0] // batch_size, epochs=epochs,verbose=1,validation_data=[X_train_val,y_train_val])\n",
        "                              \n",
        "score2 = model.evaluate(X_test, y_test, batch_size=128, verbose=1)\n",
        "print(\"\\n Test score: \", score2[0])\n",
        "print(\"\\nTest accuracy: \", score2[1]*100)\n",
        "\n",
        "history_dict = history.history\n",
        "loss_values = history_dict['loss']\n",
        "plt.figure(1)\n",
        "plt.plot(loss_values, label='Loss')\n",
        "# plt.plot(prediction,label='prediction',color = 'green')\n",
        "plt.legend(loc='upper right')\n",
        "plt.title('Loss reduction per epoch')\n",
        "plt.ylabel('loss') \n",
        "plt.show()\n"
      ],
      "execution_count": 0,
      "outputs": [
        {
          "output_type": "stream",
          "text": [
            "Epoch 1/20\n",
            "625/625 [==============================] - 31s 50ms/step - loss: 0.7306 - acc: 0.7932 - val_loss: 0.6041 - val_acc: 0.8397\n",
            "Epoch 2/20\n",
            "625/625 [==============================] - 31s 50ms/step - loss: 0.7206 - acc: 0.7997 - val_loss: 0.6732 - val_acc: 0.8246\n",
            "Epoch 3/20\n",
            "625/625 [==============================] - 32s 52ms/step - loss: 0.7097 - acc: 0.8024 - val_loss: 0.6333 - val_acc: 0.8310\n",
            "Epoch 4/20\n",
            "625/625 [==============================] - 31s 50ms/step - loss: 0.6931 - acc: 0.8068 - val_loss: 0.6278 - val_acc: 0.8355\n",
            "Epoch 5/20\n",
            "625/625 [==============================] - 31s 50ms/step - loss: 0.6913 - acc: 0.8095 - val_loss: 0.6162 - val_acc: 0.8367\n",
            "Epoch 6/20\n",
            "625/625 [==============================] - 32s 51ms/step - loss: 0.6764 - acc: 0.8142 - val_loss: 0.6549 - val_acc: 0.8311\n",
            "Epoch 7/20\n",
            "625/625 [==============================] - 31s 50ms/step - loss: 0.6727 - acc: 0.8179 - val_loss: 0.6305 - val_acc: 0.8355\n",
            "Epoch 8/20\n",
            "625/625 [==============================] - 32s 52ms/step - loss: 0.6653 - acc: 0.8184 - val_loss: 0.6568 - val_acc: 0.8298\n",
            "Epoch 9/20\n",
            "625/625 [==============================] - 32s 51ms/step - loss: 0.6635 - acc: 0.8192 - val_loss: 0.6336 - val_acc: 0.8365\n",
            "Epoch 10/20\n",
            "625/625 [==============================] - 31s 50ms/step - loss: 0.6623 - acc: 0.8212 - val_loss: 0.6572 - val_acc: 0.8313\n",
            "Epoch 11/20\n",
            "625/625 [==============================] - 32s 52ms/step - loss: 0.6495 - acc: 0.8239 - val_loss: 0.6411 - val_acc: 0.8378\n",
            "Epoch 12/20\n",
            "625/625 [==============================] - 32s 51ms/step - loss: 0.6504 - acc: 0.8243 - val_loss: 0.6107 - val_acc: 0.8441\n",
            "Epoch 13/20\n",
            "625/625 [==============================] - 31s 50ms/step - loss: 0.6485 - acc: 0.8241 - val_loss: 0.6111 - val_acc: 0.8410\n",
            "Epoch 14/20\n",
            "625/625 [==============================] - 32s 52ms/step - loss: 0.6433 - acc: 0.8267 - val_loss: 0.6900 - val_acc: 0.8245\n",
            "Epoch 15/20\n",
            "625/625 [==============================] - 32s 50ms/step - loss: 0.6417 - acc: 0.8278 - val_loss: 0.6242 - val_acc: 0.8426\n",
            "Epoch 16/20\n",
            "625/625 [==============================] - 31s 50ms/step - loss: 0.6403 - acc: 0.8309 - val_loss: 0.6686 - val_acc: 0.8291\n",
            "Epoch 17/20\n",
            "625/625 [==============================] - 32s 51ms/step - loss: 0.6364 - acc: 0.8325 - val_loss: 0.6109 - val_acc: 0.8477\n",
            "Epoch 18/20\n",
            "625/625 [==============================] - 31s 50ms/step - loss: 0.6314 - acc: 0.8319 - val_loss: 0.6426 - val_acc: 0.8367\n",
            "Epoch 19/20\n",
            "625/625 [==============================] - 31s 50ms/step - loss: 0.6254 - acc: 0.8360 - val_loss: 0.5949 - val_acc: 0.8503\n",
            "Epoch 20/20\n",
            "625/625 [==============================] - 32s 52ms/step - loss: 0.6234 - acc: 0.8352 - val_loss: 0.6271 - val_acc: 0.8442\n",
            "10000/10000 [==============================] - 1s 124us/step\n",
            "\n",
            " Test score:  0.6453177157402039\n",
            "\n",
            "Test accuracy:  83.62\n"
          ],
          "name": "stdout"
        },
        {
          "output_type": "display_data",
          "data": {
            "image/png": "[encoded data removed]",
            "text/plain": [
              "<Figure size 432x288 with 1 Axes>"
            ]
          },
          "metadata": {
            "tags": []
          }
        }
      ]
    },
    {
      "metadata": {
        "colab_type": "text",
        "id": "UN8LuBu7gWdF"
      },
      "cell_type": "markdown",
      "source": [
        "##K-Fold 3:"
      ]
    },
    {
      "metadata": {
        "colab_type": "code",
        "id": "BMOGpZXVgWdG",
        "colab": {}
      },
      "cell_type": "code",
      "source": [
        "#Restart\n",
        "#OneHotEncoding\n",
        "y_train = np_utils.to_categorical(y_train_original,10)\n",
        "y_test = np_utils.to_categorical(y_test_original,10)\n",
        "#Using Z-Score as the normalization\n",
        "X_train = X_train_original.astype('float32')\n",
        "X_test = X_test_original.astype('float32')\n",
        "\n",
        "mean = np.mean(X_train,axis=(0,1,2,3))\n",
        "std = np.std(X_train,axis=(0,1,2,3))\n",
        "X_train = (X_train-mean)/(std+1e-7)\n",
        "X_test = (X_test-mean)/(std+1e-7)\n",
        "#Weight Decay \n",
        "w_decay = 0.0001\n",
        "split = X_train.shape[0] // 5\n",
        "\n",
        "#change per each Fold\n",
        "X_train_val = X_train[2*split:3*split]\n",
        "arg1 = X_train[:2*split]\n",
        "arg3 = y_train[:2*split]\n",
        "arg2 = X_train[3*split:]\n",
        "arg4 = y_train[3*split:]\n",
        "\n",
        "X_train = np.concatenate((arg1, arg2))\n",
        "y_train_val = y_train[2*split:3*split]\n",
        "y_train = np.concatenate((arg3, arg4))\n"
      ],
      "execution_count": 0,
      "outputs": []
    },
    {
      "metadata": {
        "colab_type": "code",
        "id": "qCRhNTAagWdI",
        "outputId": "c4aab11e-9be6-4e52-8ca2-717a21611d0d",
        "colab": {
          "base_uri": "https://localhost:8080/",
          "height": 1045
        }
      },
      "cell_type": "code",
      "source": [
        "datagen = ImageDataGenerator(\n",
        "    rotation_range=15,\n",
        "    width_shift_range=0.1,\n",
        "    height_shift_range=0.1,\n",
        "    horizontal_flip=True,\n",
        "    )\n",
        "datagen.fit(X_train)\n",
        "\n",
        "#batch size 64 gives the best result following by 128 which results in below 89%\n",
        "batch_size = 64\n",
        "epochs = 20\n",
        "history = model.fit_generator(datagen.flow(X_train, y_train, batch_size=batch_size),steps_per_epoch=X_train.shape[0] // batch_size, epochs=epochs,verbose=1,validation_data=[X_train_val,y_train_val])\n",
        "                              \n",
        "score3 = model.evaluate(X_test, y_test, batch_size=128, verbose=1)\n",
        "print(\"\\n Test score: \", score3[0])\n",
        "print(\"\\nTest accuracy: \", score3[1]*100)\n",
        "\n",
        "history_dict = history.history\n",
        "loss_values = history_dict['loss']\n",
        "plt.figure(1)\n",
        "plt.plot(loss_values, label='Loss')\n",
        "# plt.plot(prediction,label='prediction',color = 'green')\n",
        "plt.legend(loc='upper right')\n",
        "plt.title('Loss reduction per epoch')\n",
        "plt.ylabel('loss') \n",
        "plt.show()\n"
      ],
      "execution_count": 0,
      "outputs": [
        {
          "output_type": "stream",
          "text": [
            "Epoch 1/20\n",
            "625/625 [==============================] - 31s 50ms/step - loss: 0.6462 - acc: 0.8278 - val_loss: 0.5623 - val_acc: 0.8609\n",
            "Epoch 2/20\n",
            "625/625 [==============================] - 31s 50ms/step - loss: 0.6382 - acc: 0.8311 - val_loss: 0.5715 - val_acc: 0.8562\n",
            "Epoch 3/20\n",
            "625/625 [==============================] - 32s 51ms/step - loss: 0.6346 - acc: 0.8305 - val_loss: 0.5377 - val_acc: 0.8679\n",
            "Epoch 4/20\n",
            "625/625 [==============================] - 32s 51ms/step - loss: 0.6286 - acc: 0.8340 - val_loss: 0.5704 - val_acc: 0.8584\n",
            "Epoch 5/20\n",
            "625/625 [==============================] - 33s 52ms/step - loss: 0.6304 - acc: 0.8321 - val_loss: 0.5375 - val_acc: 0.8664\n",
            "Epoch 6/20\n",
            "625/625 [==============================] - 32s 51ms/step - loss: 0.6223 - acc: 0.8375 - val_loss: 0.5514 - val_acc: 0.8647\n",
            "Epoch 7/20\n",
            "625/625 [==============================] - 31s 50ms/step - loss: 0.6217 - acc: 0.8359 - val_loss: 0.5606 - val_acc: 0.8614\n",
            "Epoch 8/20\n",
            "625/625 [==============================] - 32s 52ms/step - loss: 0.6210 - acc: 0.8352 - val_loss: 0.5831 - val_acc: 0.8576\n",
            "Epoch 9/20\n",
            "625/625 [==============================] - 55s 88ms/step - loss: 0.6146 - acc: 0.8410 - val_loss: 0.5226 - val_acc: 0.8746\n",
            "Epoch 10/20\n",
            "625/625 [==============================] - 59s 95ms/step - loss: 0.6142 - acc: 0.8393 - val_loss: 0.5995 - val_acc: 0.8500\n",
            "Epoch 11/20\n",
            "625/625 [==============================] - 61s 97ms/step - loss: 0.6156 - acc: 0.8386 - val_loss: 0.5592 - val_acc: 0.8621\n",
            "Epoch 12/20\n",
            "625/625 [==============================] - 63s 101ms/step - loss: 0.6094 - acc: 0.8408 - val_loss: 0.5483 - val_acc: 0.8663\n",
            "Epoch 13/20\n",
            "625/625 [==============================] - 60s 96ms/step - loss: 0.6097 - acc: 0.8405 - val_loss: 0.5356 - val_acc: 0.8688\n",
            "Epoch 14/20\n",
            "625/625 [==============================] - 60s 96ms/step - loss: 0.6079 - acc: 0.8425 - val_loss: 0.5871 - val_acc: 0.8550\n",
            "Epoch 15/20\n",
            "625/625 [==============================] - 59s 95ms/step - loss: 0.6028 - acc: 0.8444 - val_loss: 0.5236 - val_acc: 0.8729\n",
            "Epoch 16/20\n",
            "625/625 [==============================] - 60s 95ms/step - loss: 0.6067 - acc: 0.8424 - val_loss: 0.5800 - val_acc: 0.8580\n",
            "Epoch 17/20\n",
            "625/625 [==============================] - 62s 99ms/step - loss: 0.6052 - acc: 0.8438 - val_loss: 0.5657 - val_acc: 0.8614\n",
            "Epoch 18/20\n",
            "625/625 [==============================] - 61s 97ms/step - loss: 0.5987 - acc: 0.8449 - val_loss: 0.5767 - val_acc: 0.8592\n",
            "Epoch 19/20\n",
            "625/625 [==============================] - 59s 94ms/step - loss: 0.6031 - acc: 0.8430 - val_loss: 0.5515 - val_acc: 0.8675\n",
            "Epoch 20/20\n",
            "625/625 [==============================] - 61s 98ms/step - loss: 0.5985 - acc: 0.8473 - val_loss: 0.6124 - val_acc: 0.8490\n",
            "10000/10000 [==============================] - 2s 217us/step\n",
            "\n",
            " Test score:  0.6724313293457032\n",
            "\n",
            "Test accuracy:  83.41\n"
          ],
          "name": "stdout"
        },
        {
          "output_type": "display_data",
          "data": {
            "image/png": "[encoded data removed]",
            "text/plain": [
              "<Figure size 432x288 with 1 Axes>"
            ]
          },
          "metadata": {
            "tags": []
          }
        }
      ]
    },
    {
      "metadata": {
        "colab_type": "text",
        "id": "WF_n6RGTgXOM"
      },
      "cell_type": "markdown",
      "source": [
        "##K-Fold 4:"
      ]
    },
    {
      "metadata": {
        "colab_type": "code",
        "id": "KzO6K2qogXOM",
        "colab": {}
      },
      "cell_type": "code",
      "source": [
        "#Restart\n",
        "#OneHotEncoding\n",
        "y_train = np_utils.to_categorical(y_train_original,10)\n",
        "y_test = np_utils.to_categorical(y_test_original,10)\n",
        "#Using Z-Score as the normalization\n",
        "X_train = X_train_original.astype('float32')\n",
        "X_test = X_test_original.astype('float32')\n",
        "\n",
        "mean = np.mean(X_train,axis=(0,1,2,3))\n",
        "std = np.std(X_train,axis=(0,1,2,3))\n",
        "X_train = (X_train-mean)/(std+1e-7)\n",
        "X_test = (X_test-mean)/(std+1e-7)\n",
        "#Weight Decay \n",
        "w_decay = 0.0001\n",
        "split = X_train.shape[0] // 5\n",
        "\n",
        "#change per each Fold\n",
        "X_train_val = X_train[3*split:4*split]\n",
        "arg1 = X_train[:3*split]\n",
        "arg3 = y_train[:3*split]\n",
        "arg2 = X_train[4*split:]\n",
        "arg4 = y_train[4*split:]\n",
        "\n",
        "X_train = np.concatenate((arg1, arg2))\n",
        "y_train_val = y_train[3*split:4*split]\n",
        "y_train = np.concatenate((arg3, arg4))\n"
      ],
      "execution_count": 0,
      "outputs": []
    },
    {
      "metadata": {
        "colab_type": "code",
        "id": "RQA-TJi2gXON",
        "outputId": "3ac29986-6f0c-4378-e6e5-bc3ab71178b6",
        "colab": {
          "base_uri": "https://localhost:8080/",
          "height": 1045
        }
      },
      "cell_type": "code",
      "source": [
        "datagen = ImageDataGenerator(\n",
        "    rotation_range=15,\n",
        "    width_shift_range=0.1,\n",
        "    height_shift_range=0.1,\n",
        "    horizontal_flip=True,\n",
        "    )\n",
        "datagen.fit(X_train)\n",
        "\n",
        "#batch size 64 gives the best result following by 128 which results in below 89%\n",
        "batch_size = 64\n",
        "epochs = 20\n",
        "history = model.fit_generator(datagen.flow(X_train, y_train, batch_size=batch_size),steps_per_epoch=X_train.shape[0] // batch_size, epochs=epochs,verbose=1,validation_data=[X_train_val,y_train_val])\n",
        "                              \n",
        "score4 = model.evaluate(X_test, y_test, batch_size=128, verbose=1)\n",
        "print(\"\\n Test score: \", score4[0])\n",
        "print(\"\\nTest accuracy: \", score4[1]*100)\n",
        "\n",
        "history_dict = history.history\n",
        "loss_values = history_dict['loss']\n",
        "plt.figure(1)\n",
        "plt.plot(loss_values, label='Loss')\n",
        "# plt.plot(prediction,label='prediction',color = 'green')\n",
        "plt.legend(loc='upper right')\n",
        "plt.title('Loss reduction per epoch')\n",
        "plt.ylabel('loss') \n",
        "plt.show()\n"
      ],
      "execution_count": 0,
      "outputs": [
        {
          "output_type": "stream",
          "text": [
            "Epoch 1/20\n",
            "625/625 [==============================] - 60s 96ms/step - loss: 0.6104 - acc: 0.8424 - val_loss: 0.5309 - val_acc: 0.8747\n",
            "Epoch 2/20\n",
            "625/625 [==============================] - 60s 96ms/step - loss: 0.6002 - acc: 0.8444 - val_loss: 0.5401 - val_acc: 0.8655\n",
            "Epoch 3/20\n",
            "625/625 [==============================] - 63s 101ms/step - loss: 0.6004 - acc: 0.8443 - val_loss: 0.5570 - val_acc: 0.8666\n",
            "Epoch 4/20\n",
            "625/625 [==============================] - 63s 101ms/step - loss: 0.5971 - acc: 0.8450 - val_loss: 0.5351 - val_acc: 0.8720\n",
            "Epoch 5/20\n",
            "625/625 [==============================] - 60s 96ms/step - loss: 0.5931 - acc: 0.8477 - val_loss: 0.4919 - val_acc: 0.8857\n",
            "Epoch 6/20\n",
            "625/625 [==============================] - 60s 96ms/step - loss: 0.5950 - acc: 0.8480 - val_loss: 0.6031 - val_acc: 0.8570\n",
            "Epoch 7/20\n",
            "625/625 [==============================] - 59s 95ms/step - loss: 0.5906 - acc: 0.8491 - val_loss: 0.5379 - val_acc: 0.8735\n",
            "Epoch 8/20\n",
            "625/625 [==============================] - 62s 99ms/step - loss: 0.5857 - acc: 0.8482 - val_loss: 0.5278 - val_acc: 0.8734\n",
            "Epoch 9/20\n",
            "625/625 [==============================] - 63s 101ms/step - loss: 0.5846 - acc: 0.8505 - val_loss: 0.5752 - val_acc: 0.8559\n",
            "Epoch 10/20\n",
            "625/625 [==============================] - 60s 95ms/step - loss: 0.5859 - acc: 0.8514 - val_loss: 0.6392 - val_acc: 0.8403\n",
            "Epoch 11/20\n",
            "625/625 [==============================] - 61s 97ms/step - loss: 0.5850 - acc: 0.8516 - val_loss: 0.5904 - val_acc: 0.8568\n",
            "Epoch 12/20\n",
            "625/625 [==============================] - 59s 95ms/step - loss: 0.5885 - acc: 0.8466 - val_loss: 0.5172 - val_acc: 0.8770\n",
            "Epoch 13/20\n",
            "625/625 [==============================] - 61s 97ms/step - loss: 0.5820 - acc: 0.8524 - val_loss: 0.5294 - val_acc: 0.8736\n",
            "Epoch 14/20\n",
            "625/625 [==============================] - 63s 101ms/step - loss: 0.5820 - acc: 0.8524 - val_loss: 0.6250 - val_acc: 0.8391\n",
            "Epoch 15/20\n",
            "625/625 [==============================] - 63s 101ms/step - loss: 0.5808 - acc: 0.8519 - val_loss: 0.6390 - val_acc: 0.8416\n",
            "Epoch 16/20\n",
            "625/625 [==============================] - 61s 97ms/step - loss: 0.5760 - acc: 0.8546 - val_loss: 0.5781 - val_acc: 0.8648\n",
            "Epoch 17/20\n",
            "625/625 [==============================] - 61s 98ms/step - loss: 0.5817 - acc: 0.8503 - val_loss: 0.5525 - val_acc: 0.8694\n",
            "Epoch 18/20\n",
            "625/625 [==============================] - 63s 101ms/step - loss: 0.5810 - acc: 0.8524 - val_loss: 0.6510 - val_acc: 0.8394\n",
            "Epoch 19/20\n",
            "625/625 [==============================] - 63s 100ms/step - loss: 0.5822 - acc: 0.8526 - val_loss: 0.5491 - val_acc: 0.8670\n",
            "Epoch 20/20\n",
            "625/625 [==============================] - 63s 101ms/step - loss: 0.5736 - acc: 0.8536 - val_loss: 0.6297 - val_acc: 0.8463\n",
            "10000/10000 [==============================] - 2s 217us/step\n",
            "\n",
            " Test score:  0.6560694477081299\n",
            "\n",
            "Test accuracy:  84.24000000000001\n"
          ],
          "name": "stdout"
        },
        {
          "output_type": "display_data",
          "data": {
            "image/png": "[encoded data removed]",
            "text/plain": [
              "<Figure size 432x288 with 1 Axes>"
            ]
          },
          "metadata": {
            "tags": []
          }
        }
      ]
    },
    {
      "metadata": {
        "colab_type": "text",
        "id": "Itrin8ltgYDM"
      },
      "cell_type": "markdown",
      "source": [
        "##K-Fold 5:"
      ]
    },
    {
      "metadata": {
        "colab_type": "code",
        "id": "LwziUY_egYDM",
        "colab": {}
      },
      "cell_type": "code",
      "source": [
        "#Restart\n",
        "#OneHotEncoding\n",
        "y_train = np_utils.to_categorical(y_train_original,10)\n",
        "y_test = np_utils.to_categorical(y_test_original,10)\n",
        "#Using Z-Score as the normalization\n",
        "X_train = X_train_original.astype('float32')\n",
        "X_test = X_test_original.astype('float32')\n",
        "\n",
        "mean = np.mean(X_train,axis=(0,1,2,3))\n",
        "std = np.std(X_train,axis=(0,1,2,3))\n",
        "X_train = (X_train-mean)/(std+1e-7)\n",
        "X_test = (X_test-mean)/(std+1e-7)\n",
        "#Weight Decay \n",
        "w_decay = 0.0001\n",
        "split = X_train.shape[0] // 5\n",
        "\n",
        "#change per each Fold\n",
        "X_train_val = X_train[4*split:]\n",
        "\n",
        "\n",
        "X_train = X_train[:4*split]\n",
        "y_train_val = y_train[4*split:]\n",
        "y_train = y_train[:4*split]\n"
      ],
      "execution_count": 0,
      "outputs": []
    },
    {
      "metadata": {
        "colab_type": "code",
        "id": "-_RB5KacgYDN",
        "outputId": "610d3182-a67e-40b2-fab3-b6ff36e01fe4",
        "colab": {
          "base_uri": "https://localhost:8080/",
          "height": 1045
        }
      },
      "cell_type": "code",
      "source": [
        "datagen = ImageDataGenerator(\n",
        "    rotation_range=15,\n",
        "    width_shift_range=0.1,\n",
        "    height_shift_range=0.1,\n",
        "    horizontal_flip=True,\n",
        "    )\n",
        "datagen.fit(X_train)\n",
        "\n",
        "#batch size 64 gives the best result following by 128 which results in below 89%\n",
        "batch_size = 64\n",
        "epochs = 20\n",
        "history = model.fit_generator(datagen.flow(X_train, y_train, batch_size=batch_size),steps_per_epoch=X_train.shape[0] // batch_size, epochs=epochs,verbose=1,validation_data=[X_train_val,y_train_val])\n",
        "                              \n",
        "score5 = model.evaluate(X_test, y_test, batch_size=128, verbose=1)\n",
        "print(\"\\n Test score: \", score5[0])\n",
        "print(\"\\nTest accuracy: \", score5[1]*100)\n",
        "\n",
        "history_dict = history.history\n",
        "loss_values = history_dict['loss']\n",
        "plt.figure(1)\n",
        "plt.plot(loss_values, label='Loss')\n",
        "# plt.plot(prediction,label='prediction',color = 'green')\n",
        "plt.legend(loc='upper right')\n",
        "plt.title('Loss reduction per epoch')\n",
        "plt.ylabel('loss') \n",
        "plt.show()\n"
      ],
      "execution_count": 0,
      "outputs": [
        {
          "output_type": "stream",
          "text": [
            "Epoch 1/20\n",
            "625/625 [==============================] - 61s 98ms/step - loss: 0.5952 - acc: 0.8479 - val_loss: 0.4674 - val_acc: 0.8914\n",
            "Epoch 2/20\n",
            "625/625 [==============================] - 61s 98ms/step - loss: 0.5930 - acc: 0.8502 - val_loss: 0.4814 - val_acc: 0.8866\n",
            "Epoch 3/20\n",
            "625/625 [==============================] - 61s 98ms/step - loss: 0.5843 - acc: 0.8505 - val_loss: 0.4927 - val_acc: 0.8832\n",
            "Epoch 4/20\n",
            "625/625 [==============================] - 60s 96ms/step - loss: 0.5868 - acc: 0.8500 - val_loss: 0.4832 - val_acc: 0.8866\n",
            "Epoch 5/20\n",
            "625/625 [==============================] - 63s 100ms/step - loss: 0.5821 - acc: 0.8528 - val_loss: 0.5428 - val_acc: 0.8629\n",
            "Epoch 6/20\n",
            "625/625 [==============================] - 62s 100ms/step - loss: 0.5846 - acc: 0.8499 - val_loss: 0.5250 - val_acc: 0.8771\n",
            "Epoch 7/20\n",
            "625/625 [==============================] - 62s 100ms/step - loss: 0.5755 - acc: 0.8534 - val_loss: 0.5058 - val_acc: 0.8830\n",
            "Epoch 8/20\n",
            "625/625 [==============================] - 60s 96ms/step - loss: 0.5788 - acc: 0.8513 - val_loss: 0.5349 - val_acc: 0.8686\n",
            "Epoch 9/20\n",
            "625/625 [==============================] - 63s 100ms/step - loss: 0.5806 - acc: 0.8515 - val_loss: 0.5168 - val_acc: 0.8788\n",
            "Epoch 10/20\n",
            "625/625 [==============================] - 62s 100ms/step - loss: 0.5782 - acc: 0.8540 - val_loss: 0.5631 - val_acc: 0.8630\n",
            "Epoch 11/20\n",
            "625/625 [==============================] - 64s 103ms/step - loss: 0.5761 - acc: 0.8553 - val_loss: 0.5506 - val_acc: 0.8680\n",
            "Epoch 12/20\n",
            "625/625 [==============================] - 59s 95ms/step - loss: 0.5747 - acc: 0.8549 - val_loss: 0.5287 - val_acc: 0.8742\n",
            "Epoch 13/20\n",
            "625/625 [==============================] - 61s 97ms/step - loss: 0.5710 - acc: 0.8559 - val_loss: 0.5068 - val_acc: 0.8797\n",
            "Epoch 14/20\n",
            "625/625 [==============================] - 59s 95ms/step - loss: 0.5734 - acc: 0.8542 - val_loss: 0.5175 - val_acc: 0.8735\n",
            "Epoch 15/20\n",
            "625/625 [==============================] - 61s 97ms/step - loss: 0.5685 - acc: 0.8572 - val_loss: 0.4949 - val_acc: 0.8825\n",
            "Epoch 16/20\n",
            "625/625 [==============================] - 64s 102ms/step - loss: 0.5765 - acc: 0.8533 - val_loss: 0.5413 - val_acc: 0.8707\n",
            "Epoch 17/20\n",
            "625/625 [==============================] - 63s 102ms/step - loss: 0.5646 - acc: 0.8564 - val_loss: 0.5731 - val_acc: 0.8599\n",
            "Epoch 18/20\n",
            "625/625 [==============================] - 59s 95ms/step - loss: 0.5659 - acc: 0.8582 - val_loss: 0.5288 - val_acc: 0.8731\n",
            "Epoch 19/20\n",
            "625/625 [==============================] - 61s 98ms/step - loss: 0.5679 - acc: 0.8557 - val_loss: 0.5400 - val_acc: 0.8726\n",
            "Epoch 20/20\n",
            "625/625 [==============================] - 61s 98ms/step - loss: 0.5692 - acc: 0.8554 - val_loss: 0.5494 - val_acc: 0.8671\n",
            "10000/10000 [==============================] - 2s 222us/step\n",
            "\n",
            " Test score:  0.6035172966957092\n",
            "\n",
            "Test accuracy:  85.34\n"
          ],
          "name": "stdout"
        },
        {
          "output_type": "display_data",
          "data": {
            "image/png": "[encoded data removed]",
            "text/plain": [
              "<Figure size 432x288 with 1 Axes>"
            ]
          },
          "metadata": {
            "tags": []
          }
        }
      ]
    },
    {
      "metadata": {
        "id": "-9JmK-dEkXQF",
        "colab_type": "text"
      },
      "cell_type": "markdown",
      "source": [
        "#Results:"
      ]
    },
    {
      "metadata": {
        "id": "atVYQjdRlA3t",
        "colab_type": "text"
      },
      "cell_type": "markdown",
      "source": [
        "Averaging the loss and accuracy:"
      ]
    },
    {
      "metadata": {
        "id": "Gd73Z0jkkaKw",
        "colab_type": "code",
        "outputId": "92027a6d-4a90-4b06-dd37-38c9d3d76111",
        "colab": {
          "base_uri": "https://localhost:8080/",
          "height": 85
        }
      },
      "cell_type": "code",
      "source": [
        "Loss_final = (score1[0] + score2[0] + score3[0] + score4[0] + score5[0]) /5 \n",
        "print(\"Final K-Fold Loss: \")\n",
        "print(Loss_final)\n",
        "\n",
        "Accuracy_final = (score1[1] + score2[1] + score3[1] + score4[1] + score5[1]) /5 \n",
        "print(\"Final K-Fold Accuracy: \")\n",
        "print(Accuracy_final)"
      ],
      "execution_count": 0,
      "outputs": [
        {
          "output_type": "stream",
          "text": [
            "Final K-Fold Loss: \n",
            "0.6483644952392578\n",
            "Final K-Fold Accuracy: \n",
            "0.8384\n"
          ],
          "name": "stdout"
        }
      ]
    },
    {
      "metadata": {
        "id": "GCyoeuuRl030",
        "colab_type": "text"
      },
      "cell_type": "markdown",
      "source": [
        "Comparing to the best Architecture results:    \n",
        "loss: 0.696  \n",
        "Accuracy : 83.300  \n",
        "Therefore we see improvment in the models Accuracy with K-Fold"
      ]
    },
    {
      "metadata": {
        "id": "gHMBE97ByqD_",
        "colab_type": "code",
        "colab": {}
      },
      "cell_type": "code",
      "source": [
        ""
      ],
      "execution_count": 0,
      "outputs": []
    }
  ]
}