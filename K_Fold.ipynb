{
  "nbformat": 4,
  "nbformat_minor": 0,
  "metadata": {
    "colab": {
      "name": "K_Fold.ipynb",
      "version": "0.3.2",
      "provenance": [],
      "collapsed_sections": [
        "ArYu0XaRVjr_"
      ],
      "include_colab_link": true
    },
    "kernelspec": {
      "name": "python3",
      "display_name": "Python 3"
    },
    "accelerator": "GPU"
  },
  "cells": [
    {
      "cell_type": "markdown",
      "metadata": {
        "id": "view-in-github",
        "colab_type": "text"
      },
      "source": [
        "<a href=\"https://colab.research.google.com/github/EnterTheBeginning/Machine-Learning/blob/master/K_Fold.ipynb\" target=\"_parent\"><img src=\"https://colab.research.google.com/assets/colab-badge.svg\" alt=\"Open In Colab\"/></a>"
      ]
    },
    {
      "metadata": {
        "id": "voN80VP4NR7x",
        "colab_type": "code",
        "outputId": "40d95f34-83d3-4bae-b109-a8c3ab374701",
        "colab": {
          "base_uri": "https://localhost:8080/",
          "height": 34
        }
      },
      "cell_type": "code",
      "source": [
        "import numpy as np\n",
        "import pandas as pd\n",
        "import keras\n",
        "import matplotlib.pyplot as plt\n",
        "%matplotlib inline\n",
        "import warnings\n",
        "warnings.filterwarnings('ignore')\n",
        "from keras.utils import np_utils\n",
        "from keras.models import Sequential\n",
        "from scipy.misc import toimage\n",
        "from keras.layers import Dense, Activation, Flatten,Conv2D,MaxPooling2D,Dropout, BatchNormalization\n",
        "from keras.optimizers import SGD, Adam, RMSprop\n",
        "from keras.preprocessing.image import ImageDataGenerator\n",
        "from keras import regularizers\n",
        "\n",
        "#use of Learning rate scheduler to avoid overfitting\n",
        "from keras.callbacks import LearningRateScheduler"
      ],
      "execution_count": 1,
      "outputs": [
        {
          "output_type": "stream",
          "text": [
            "Using TensorFlow backend.\n"
          ],
          "name": "stderr"
        }
      ]
    },
    {
      "metadata": {
        "id": "pwO-fucWTV_B",
        "colab_type": "code",
        "colab": {}
      },
      "cell_type": "code",
      "source": [
        "from keras.datasets import cifar10 \n",
        "(X_train_original, y_train_original), (X_test_original, y_test_original) = cifar10.load_data()\n"
      ],
      "execution_count": 0,
      "outputs": []
    },
    {
      "metadata": {
        "id": "Lo6-HwO6Vg-P",
        "colab_type": "text"
      },
      "cell_type": "markdown",
      "source": [
        "##K-Fold 1:"
      ]
    },
    {
      "metadata": {
        "id": "RGrZ-tj_AFCC",
        "colab_type": "code",
        "colab": {}
      },
      "cell_type": "code",
      "source": [
        "#Restart\n",
        "#OneHotEncoding\n",
        "y_train = np_utils.to_categorical(y_train_original,10)\n",
        "y_test = np_utils.to_categorical(y_test_original,10)\n",
        "#Using Z-Score as the normalization\n",
        "X_train = X_train_original.astype('float32')\n",
        "X_test = X_test_original.astype('float32')\n",
        "\n",
        "mean = np.mean(X_train,axis=(0,1,2,3))\n",
        "std = np.std(X_train,axis=(0,1,2,3))\n",
        "X_train = (X_train-mean)/(std+1e-7)\n",
        "X_test = (X_test-mean)/(std+1e-7)\n",
        "#Weight Decay \n",
        "w_decay = 0.0001"
      ],
      "execution_count": 0,
      "outputs": []
    },
    {
      "metadata": {
        "id": "egwTbc9RVgUn",
        "colab_type": "code",
        "colab": {}
      },
      "cell_type": "code",
      "source": [
        "split = X_train.shape[0] // 5\n",
        "X_train_val = X_train[:split]\n",
        "X_train = X_train[split:]\n",
        "y_train_val = y_train[:split]\n",
        "y_train = y_train[split:]\n"
      ],
      "execution_count": 0,
      "outputs": []
    },
    {
      "metadata": {
        "id": "ArYu0XaRVjr_",
        "colab_type": "text"
      },
      "cell_type": "markdown",
      "source": [
        "###Model:"
      ]
    },
    {
      "metadata": {
        "colab_type": "code",
        "id": "PbRrCVudeSZ2",
        "outputId": "efa578ad-6f01-4b9b-ec86-6c19e5250a9a",
        "colab": {
          "base_uri": "https://localhost:8080/",
          "height": 119
        }
      },
      "cell_type": "code",
      "source": [
        "model = Sequential()\n",
        "model.add(Conv2D(32, (3,3), padding='same',\n",
        "                 kernel_regularizer=regularizers.l2(w_decay), input_shape=X_train.shape[1:]))\n",
        "model.add(Activation('elu'))\n",
        "model.add(BatchNormalization())\n",
        "model.add(Conv2D(32, (3,3), padding='same',\n",
        "                 kernel_regularizer=regularizers.l2(w_decay)))\n",
        "model.add(Activation('elu'))\n",
        "model.add(BatchNormalization())\n",
        "model.add(MaxPooling2D(pool_size=(2,2)))\n",
        "model.add(Dropout(0.2))\n",
        " \n",
        "model.add(Conv2D(64, (3,3), padding='same',\n",
        "                 kernel_regularizer=regularizers.l2(w_decay)))\n",
        "model.add(Activation('elu'))\n",
        "model.add(BatchNormalization())\n",
        "model.add(Conv2D(64, (3,3), padding='same',\n",
        "                 kernel_regularizer=regularizers.l2(w_decay)))\n",
        "model.add(Activation('elu'))\n",
        "model.add(BatchNormalization())\n",
        "model.add(MaxPooling2D(pool_size=(2,2)))\n",
        "model.add(Dropout(0.3))\n",
        " \n",
        "model.add(Conv2D(128, (3,3), padding='same',\n",
        "                 kernel_regularizer=regularizers.l2(w_decay)))\n",
        "model.add(Activation('elu'))\n",
        "model.add(BatchNormalization())\n",
        "model.add(Conv2D(128, (3,3), padding='same',\n",
        "                 kernel_regularizer=regularizers.l2(w_decay)))\n",
        "model.add(Activation('elu'))\n",
        "model.add(BatchNormalization())\n",
        "model.add(MaxPooling2D(pool_size=(2,2)))\n",
        "model.add(Dropout(0.4))\n",
        " \n",
        "model.add(Flatten())\n",
        "model.add(Dense(10, activation='softmax'))\n",
        "\n",
        "opt_rms = keras.optimizers.rmsprop(lr=0.001,decay=0.000001)\n",
        "model.compile(loss='categorical_crossentropy', optimizer=opt_rms, metrics=['accuracy'])\n",
        "\n",
        "# model.summary()\n",
        "\n",
        "\n",
        " \n",
        " \n"
      ],
      "execution_count": 5,
      "outputs": [
        {
          "output_type": "stream",
          "text": [
            "WARNING:tensorflow:From /usr/local/lib/python3.6/dist-packages/tensorflow/python/framework/op_def_library.py:263: colocate_with (from tensorflow.python.framework.ops) is deprecated and will be removed in a future version.\n",
            "Instructions for updating:\n",
            "Colocations handled automatically by placer.\n",
            "WARNING:tensorflow:From /usr/local/lib/python3.6/dist-packages/keras/backend/tensorflow_backend.py:3445: calling dropout (from tensorflow.python.ops.nn_ops) with keep_prob is deprecated and will be removed in a future version.\n",
            "Instructions for updating:\n",
            "Please use `rate` instead of `keep_prob`. Rate should be set to `rate = 1 - keep_prob`.\n"
          ],
          "name": "stdout"
        }
      ]
    },
    {
      "metadata": {
        "id": "8oWUq6ZsNegJ",
        "colab_type": "code",
        "outputId": "7b7af3ce-4368-4782-8206-b86eb5286f95",
        "colab": {
          "base_uri": "https://localhost:8080/",
          "height": 450
        }
      },
      "cell_type": "code",
      "source": [
        "datagen = ImageDataGenerator(\n",
        "    rotation_range=15,\n",
        "    width_shift_range=0.1,\n",
        "    height_shift_range=0.1,\n",
        "    horizontal_flip=True,\n",
        "    )\n",
        "datagen.fit(X_train)\n",
        "\n",
        "#batch size 64 gives the best result following by 128 which results in below 89%\n",
        "batch_size = 64\n",
        "epochs = 1\n",
        "history = model.fit_generator(datagen.flow(X_train, y_train, batch_size=batch_size),steps_per_epoch=X_train.shape[0] // batch_size, epochs=epochs,verbose=1,validation_data=[X_train_val,y_train_val])\n",
        "                              \n",
        "score1 = model.evaluate(X_test, y_test, batch_size=128, verbose=1)\n",
        "print(\"\\n Test score: \", score1[0])\n",
        "print(\"\\nTest accuracy: \", score1[1]*100)\n",
        "\n",
        "history_dict = history.history\n",
        "loss_values = history_dict['loss']\n",
        "plt.figure(1)\n",
        "plt.plot(loss_values, label='Loss')\n",
        "# plt.plot(prediction,label='prediction',color = 'green')\n",
        "plt.legend(loc='upper right')\n",
        "plt.title('Loss reduction per epoch')\n",
        "plt.ylabel('loss') \n",
        "plt.show()\n"
      ],
      "execution_count": 6,
      "outputs": [
        {
          "output_type": "stream",
          "text": [
            "WARNING:tensorflow:From /usr/local/lib/python3.6/dist-packages/tensorflow/python/ops/math_ops.py:3066: to_int32 (from tensorflow.python.ops.math_ops) is deprecated and will be removed in a future version.\n",
            "Instructions for updating:\n",
            "Use tf.cast instead.\n",
            "Epoch 1/1\n",
            "625/625 [==============================] - 34s 54ms/step - loss: 2.0147 - acc: 0.3967 - val_loss: 1.3229 - val_acc: 0.5629\n",
            "10000/10000 [==============================] - 1s 128us/step\n",
            "\n",
            " Test score:  1.3204602296829224\n",
            "\n",
            "Test accuracy:  57.03\n"
          ],
          "name": "stdout"
        },
        {
          "output_type": "display_data",
          "data": {
            "image/png": "[encoded data removed]",
            "text/plain": [
              "<Figure size 432x288 with 1 Axes>"
            ]
          },
          "metadata": {
            "tags": []
          }
        }
      ]
    },
    {
      "metadata": {
        "colab_type": "text",
        "id": "btVvPG76ZRUq"
      },
      "cell_type": "markdown",
      "source": [
        "##K-Fold 2:"
      ]
    },
    {
      "metadata": {
        "colab_type": "code",
        "id": "KiRhmY3mZRUr",
        "colab": {}
      },
      "cell_type": "code",
      "source": [
        "#Restart\n",
        "#OneHotEncoding\n",
        "y_train = np_utils.to_categorical(y_train_original,10)\n",
        "y_test = np_utils.to_categorical(y_test_original,10)\n",
        "#Using Z-Score as the normalization\n",
        "X_train = X_train_original.astype('float32')\n",
        "X_test = X_test_original.astype('float32')\n",
        "\n",
        "mean = np.mean(X_train,axis=(0,1,2,3))\n",
        "std = np.std(X_train,axis=(0,1,2,3))\n",
        "X_train = (X_train-mean)/(std+1e-7)\n",
        "X_test = (X_test-mean)/(std+1e-7)\n",
        "#Weight Decay \n",
        "w_decay = 0.0001\n",
        "split = X_train.shape[0] // 5\n",
        "\n",
        "#change per each Fold\n",
        "X_train_val = X_train[split:2*split]\n",
        "arg1 = X_train[:split]\n",
        "arg3 = y_train[:split]\n",
        "arg2 = X_train[2*split:]\n",
        "arg4 = y_train[2*split:]\n",
        "\n",
        "X_train = np.concatenate((arg1, arg2))\n",
        "y_train_val = y_train[split:2*split]\n",
        "y_train = np.concatenate((arg3, arg4))\n"
      ],
      "execution_count": 0,
      "outputs": []
    },
    {
      "metadata": {
        "colab_type": "code",
        "id": "3Nu4AFYoZRU0",
        "colab": {
          "base_uri": "https://localhost:8080/",
          "height": 399
        },
        "outputId": "5ec768ef-4aac-4d5e-f739-6f0244b37742"
      },
      "cell_type": "code",
      "source": [
        "datagen = ImageDataGenerator(\n",
        "    rotation_range=15,\n",
        "    width_shift_range=0.1,\n",
        "    height_shift_range=0.1,\n",
        "    horizontal_flip=True,\n",
        "    )\n",
        "datagen.fit(X_train)\n",
        "\n",
        "#batch size 64 gives the best result following by 128 which results in below 89%\n",
        "batch_size = 64\n",
        "epochs = 1\n",
        "history = model.fit_generator(datagen.flow(X_train, y_train, batch_size=batch_size),steps_per_epoch=X_train.shape[0] // batch_size, epochs=epochs,verbose=1,validation_data=[X_train_val,y_train_val])\n",
        "                              \n",
        "score2 = model.evaluate(X_test, y_test, batch_size=128, verbose=1)\n",
        "print(\"\\n Test score: \", score2[0])\n",
        "print(\"\\nTest accuracy: \", score2[1]*100)\n",
        "\n",
        "history_dict = history.history\n",
        "loss_values = history_dict['loss']\n",
        "plt.figure(1)\n",
        "plt.plot(loss_values, label='Loss')\n",
        "# plt.plot(prediction,label='prediction',color = 'green')\n",
        "plt.legend(loc='upper right')\n",
        "plt.title('Loss reduction per epoch')\n",
        "plt.ylabel('loss') \n",
        "plt.show()\n"
      ],
      "execution_count": 17,
      "outputs": [
        {
          "output_type": "stream",
          "text": [
            "Epoch 1/1\n",
            "625/625 [==============================] - 32s 52ms/step - loss: 0.9764 - acc: 0.6930 - val_loss: 0.8727 - val_acc: 0.7384\n",
            "10000/10000 [==============================] - 1s 124us/step\n",
            "\n",
            " Test score:  0.8591835422515869\n",
            "\n",
            "Test accuracy:  73.95\n"
          ],
          "name": "stdout"
        },
        {
          "output_type": "display_data",
          "data": {
            "image/png": "[encoded data removed]",
            "text/plain": [
              "<Figure size 432x288 with 1 Axes>"
            ]
          },
          "metadata": {
            "tags": []
          }
        }
      ]
    },
    {
      "metadata": {
        "colab_type": "text",
        "id": "UN8LuBu7gWdF"
      },
      "cell_type": "markdown",
      "source": [
        "##K-Fold 3:"
      ]
    },
    {
      "metadata": {
        "colab_type": "code",
        "id": "BMOGpZXVgWdG",
        "colab": {}
      },
      "cell_type": "code",
      "source": [
        "#Restart\n",
        "#OneHotEncoding\n",
        "y_train = np_utils.to_categorical(y_train_original,10)\n",
        "y_test = np_utils.to_categorical(y_test_original,10)\n",
        "#Using Z-Score as the normalization\n",
        "X_train = X_train_original.astype('float32')\n",
        "X_test = X_test_original.astype('float32')\n",
        "\n",
        "mean = np.mean(X_train,axis=(0,1,2,3))\n",
        "std = np.std(X_train,axis=(0,1,2,3))\n",
        "X_train = (X_train-mean)/(std+1e-7)\n",
        "X_test = (X_test-mean)/(std+1e-7)\n",
        "#Weight Decay \n",
        "w_decay = 0.0001\n",
        "split = X_train.shape[0] // 5\n",
        "\n",
        "#change per each Fold\n",
        "X_train_val = X_train[2*split:3*split]\n",
        "arg1 = X_train[:2*split]\n",
        "arg3 = y_train[:2*split]\n",
        "arg2 = X_train[3*split:]\n",
        "arg4 = y_train[3*split:]\n",
        "\n",
        "X_train = np.concatenate((arg1, arg2))\n",
        "y_train_val = y_train[2*split:3*split]\n",
        "y_train = np.concatenate((arg3, arg4))\n"
      ],
      "execution_count": 0,
      "outputs": []
    },
    {
      "metadata": {
        "colab_type": "code",
        "id": "qCRhNTAagWdI",
        "colab": {
          "base_uri": "https://localhost:8080/",
          "height": 399
        },
        "outputId": "9732b3ba-4329-434d-f557-01b0913802b3"
      },
      "cell_type": "code",
      "source": [
        "datagen = ImageDataGenerator(\n",
        "    rotation_range=15,\n",
        "    width_shift_range=0.1,\n",
        "    height_shift_range=0.1,\n",
        "    horizontal_flip=True,\n",
        "    )\n",
        "datagen.fit(X_train)\n",
        "\n",
        "#batch size 64 gives the best result following by 128 which results in below 89%\n",
        "batch_size = 64\n",
        "epochs = 1\n",
        "history = model.fit_generator(datagen.flow(X_train, y_train, batch_size=batch_size),steps_per_epoch=X_train.shape[0] // batch_size, epochs=epochs,verbose=1,validation_data=[X_train_val,y_train_val])\n",
        "                              \n",
        "score3 = model.evaluate(X_test, y_test, batch_size=128, verbose=1)\n",
        "print(\"\\n Test score: \", score3[0])\n",
        "print(\"\\nTest accuracy: \", score3[1]*100)\n",
        "\n",
        "history_dict = history.history\n",
        "loss_values = history_dict['loss']\n",
        "plt.figure(1)\n",
        "plt.plot(loss_values, label='Loss')\n",
        "# plt.plot(prediction,label='prediction',color = 'green')\n",
        "plt.legend(loc='upper right')\n",
        "plt.title('Loss reduction per epoch')\n",
        "plt.ylabel('loss') \n",
        "plt.show()\n"
      ],
      "execution_count": 10,
      "outputs": [
        {
          "output_type": "stream",
          "text": [
            "Epoch 1/1\n",
            "625/625 [==============================] - 31s 50ms/step - loss: 1.1817 - acc: 0.6225 - val_loss: 7.1109 - val_acc: 0.0965\n",
            "10000/10000 [==============================] - 1s 122us/step\n",
            "\n",
            " Test score:  1.232065219306946\n",
            "\n",
            "Test accuracy:  63.04\n"
          ],
          "name": "stdout"
        },
        {
          "output_type": "display_data",
          "data": {
            "image/png": "[encoded data removed]",
            "text/plain": [
              "<Figure size 432x288 with 1 Axes>"
            ]
          },
          "metadata": {
            "tags": []
          }
        }
      ]
    },
    {
      "metadata": {
        "colab_type": "text",
        "id": "WF_n6RGTgXOM"
      },
      "cell_type": "markdown",
      "source": [
        "##K-Fold 4:"
      ]
    },
    {
      "metadata": {
        "colab_type": "code",
        "id": "KzO6K2qogXOM",
        "colab": {}
      },
      "cell_type": "code",
      "source": [
        "#Restart\n",
        "#OneHotEncoding\n",
        "y_train = np_utils.to_categorical(y_train_original,10)\n",
        "y_test = np_utils.to_categorical(y_test_original,10)\n",
        "#Using Z-Score as the normalization\n",
        "X_train = X_train_original.astype('float32')\n",
        "X_test = X_test_original.astype('float32')\n",
        "\n",
        "mean = np.mean(X_train,axis=(0,1,2,3))\n",
        "std = np.std(X_train,axis=(0,1,2,3))\n",
        "X_train = (X_train-mean)/(std+1e-7)\n",
        "X_test = (X_test-mean)/(std+1e-7)\n",
        "#Weight Decay \n",
        "w_decay = 0.0001\n",
        "split = X_train.shape[0] // 5\n",
        "\n",
        "#change per each Fold\n",
        "X_train_val = X_train[3*split:4*split]\n",
        "arg1 = X_train[:3*split]\n",
        "arg3 = y_train[:3*split]\n",
        "arg2 = X_train[4*split:]\n",
        "arg4 = y_train[4*split:]\n",
        "\n",
        "X_train = np.concatenate((arg1, arg2))\n",
        "y_train_val = y_train[3*split:4*split]\n",
        "y_train = np.concatenate((arg3, arg4))\n"
      ],
      "execution_count": 0,
      "outputs": []
    },
    {
      "metadata": {
        "colab_type": "code",
        "id": "RQA-TJi2gXON",
        "colab": {
          "base_uri": "https://localhost:8080/",
          "height": 399
        },
        "outputId": "9a5b90dc-f333-43ab-dbaf-427f122891f9"
      },
      "cell_type": "code",
      "source": [
        "datagen = ImageDataGenerator(\n",
        "    rotation_range=15,\n",
        "    width_shift_range=0.1,\n",
        "    height_shift_range=0.1,\n",
        "    horizontal_flip=True,\n",
        "    )\n",
        "datagen.fit(X_train)\n",
        "\n",
        "#batch size 64 gives the best result following by 128 which results in below 89%\n",
        "batch_size = 64\n",
        "epochs = 1\n",
        "history = model.fit_generator(datagen.flow(X_train, y_train, batch_size=batch_size),steps_per_epoch=X_train.shape[0] // batch_size, epochs=epochs,verbose=1,validation_data=[X_train_val,y_train_val])\n",
        "                              \n",
        "score3 = model.evaluate(X_test, y_test, batch_size=128, verbose=1)\n",
        "print(\"\\n Test score: \", score3[0])\n",
        "print(\"\\nTest accuracy: \", score3[1]*100)\n",
        "\n",
        "history_dict = history.history\n",
        "loss_values = history_dict['loss']\n",
        "plt.figure(1)\n",
        "plt.plot(loss_values, label='Loss')\n",
        "# plt.plot(prediction,label='prediction',color = 'green')\n",
        "plt.legend(loc='upper right')\n",
        "plt.title('Loss reduction per epoch')\n",
        "plt.ylabel('loss') \n",
        "plt.show()\n"
      ],
      "execution_count": 12,
      "outputs": [
        {
          "output_type": "stream",
          "text": [
            "Epoch 1/1\n",
            "625/625 [==============================] - 29s 47ms/step - loss: 1.0545 - acc: 0.6660 - val_loss: 7.2959 - val_acc: 0.0963\n",
            "10000/10000 [==============================] - 1s 120us/step\n",
            "\n",
            " Test score:  0.9518917252540589\n",
            "\n",
            "Test accuracy:  70.73\n"
          ],
          "name": "stdout"
        },
        {
          "output_type": "display_data",
          "data": {
            "image/png": "[encoded data removed]",
            "text/plain": [
              "<Figure size 432x288 with 1 Axes>"
            ]
          },
          "metadata": {
            "tags": []
          }
        }
      ]
    },
    {
      "metadata": {
        "colab_type": "text",
        "id": "Itrin8ltgYDM"
      },
      "cell_type": "markdown",
      "source": [
        "##K-Fold 5:"
      ]
    },
    {
      "metadata": {
        "colab_type": "code",
        "id": "LwziUY_egYDM",
        "colab": {
          "base_uri": "https://localhost:8080/",
          "height": 34
        },
        "outputId": "489ab484-fcdf-42ed-e2c9-6cf45d46dfac"
      },
      "cell_type": "code",
      "source": [
        "#Restart\n",
        "#OneHotEncoding\n",
        "y_train = np_utils.to_categorical(y_train_original,10)\n",
        "y_test = np_utils.to_categorical(y_test_original,10)\n",
        "#Using Z-Score as the normalization\n",
        "X_train = X_train_original.astype('float32')\n",
        "X_test = X_test_original.astype('float32')\n",
        "\n",
        "mean = np.mean(X_train,axis=(0,1,2,3))\n",
        "std = np.std(X_train,axis=(0,1,2,3))\n",
        "X_train = (X_train-mean)/(std+1e-7)\n",
        "X_test = (X_test-mean)/(std+1e-7)\n",
        "#Weight Decay \n",
        "w_decay = 0.0001\n",
        "split = X_train.shape[0] // 5\n",
        "\n",
        "#change per each Fold\n",
        "X_train_val = X_train[4*split:]\n",
        "\n",
        "\n",
        "X_train = X_train[:4*split]\n",
        "y_train_val = y_train[4*split:]\n",
        "y_train = y_train[:4*split]\n"
      ],
      "execution_count": 15,
      "outputs": [
        {
          "output_type": "stream",
          "text": [
            "(0, 10)\n"
          ],
          "name": "stdout"
        }
      ]
    },
    {
      "metadata": {
        "colab_type": "code",
        "id": "-_RB5KacgYDN",
        "colab": {
          "base_uri": "https://localhost:8080/",
          "height": 847
        },
        "outputId": "74138e1e-5270-42a4-af23-79e2dc9c08d6"
      },
      "cell_type": "code",
      "source": [
        "datagen = ImageDataGenerator(\n",
        "    rotation_range=15,\n",
        "    width_shift_range=0.1,\n",
        "    height_shift_range=0.1,\n",
        "    horizontal_flip=True,\n",
        "    )\n",
        "datagen.fit(X_train)\n",
        "\n",
        "#batch size 64 gives the best result following by 128 which results in below 89%\n",
        "batch_size = 64\n",
        "epochs = 1\n",
        "history = model.fit_generator(datagen.flow(X_train, y_train, batch_size=batch_size),steps_per_epoch=X_train.shape[0] // batch_size, epochs=epochs,verbose=1,validation_data=[X_train_val,y_train_val])\n",
        "                              \n",
        "score4 = model.evaluate(X_test, y_test, batch_size=128, verbose=1)\n",
        "print(\"\\n Test score: \", score4[0])\n",
        "print(\"\\nTest accuracy: \", score4[1]*100)\n",
        "\n",
        "history_dict = history.history\n",
        "loss_values = history_dict['loss']\n",
        "plt.figure(1)\n",
        "plt.plot(loss_values, label='Loss')\n",
        "# plt.plot(prediction,label='prediction',color = 'green')\n",
        "plt.legend(loc='upper right')\n",
        "plt.title('Loss reduction per epoch')\n",
        "plt.ylabel('loss') \n",
        "plt.show()\n"
      ],
      "execution_count": 14,
      "outputs": [
        {
          "output_type": "error",
          "ename": "ValueError",
          "evalue": "ignored",
          "traceback": [
            "\u001b[0;31m---------------------------------------------------------------------------\u001b[0m",
            "\u001b[0;31mValueError\u001b[0m                                Traceback (most recent call last)",
            "\u001b[0;32m<ipython-input-14-39582f36d9cd>\u001b[0m in \u001b[0;36m<module>\u001b[0;34m()\u001b[0m\n\u001b[1;32m     10\u001b[0m \u001b[0mbatch_size\u001b[0m \u001b[0;34m=\u001b[0m \u001b[0;36m64\u001b[0m\u001b[0;34m\u001b[0m\u001b[0;34m\u001b[0m\u001b[0m\n\u001b[1;32m     11\u001b[0m \u001b[0mepochs\u001b[0m \u001b[0;34m=\u001b[0m \u001b[0;36m1\u001b[0m\u001b[0;34m\u001b[0m\u001b[0;34m\u001b[0m\u001b[0m\n\u001b[0;32m---> 12\u001b[0;31m \u001b[0mhistory\u001b[0m \u001b[0;34m=\u001b[0m \u001b[0mmodel\u001b[0m\u001b[0;34m.\u001b[0m\u001b[0mfit_generator\u001b[0m\u001b[0;34m(\u001b[0m\u001b[0mdatagen\u001b[0m\u001b[0;34m.\u001b[0m\u001b[0mflow\u001b[0m\u001b[0;34m(\u001b[0m\u001b[0mX_train\u001b[0m\u001b[0;34m,\u001b[0m \u001b[0my_train\u001b[0m\u001b[0;34m,\u001b[0m \u001b[0mbatch_size\u001b[0m\u001b[0;34m=\u001b[0m\u001b[0mbatch_size\u001b[0m\u001b[0;34m)\u001b[0m\u001b[0;34m,\u001b[0m\u001b[0msteps_per_epoch\u001b[0m\u001b[0;34m=\u001b[0m\u001b[0mX_train\u001b[0m\u001b[0;34m.\u001b[0m\u001b[0mshape\u001b[0m\u001b[0;34m[\u001b[0m\u001b[0;36m0\u001b[0m\u001b[0;34m]\u001b[0m \u001b[0;34m//\u001b[0m \u001b[0mbatch_size\u001b[0m\u001b[0;34m,\u001b[0m \u001b[0mepochs\u001b[0m\u001b[0;34m=\u001b[0m\u001b[0mepochs\u001b[0m\u001b[0;34m,\u001b[0m\u001b[0mverbose\u001b[0m\u001b[0;34m=\u001b[0m\u001b[0;36m1\u001b[0m\u001b[0;34m,\u001b[0m\u001b[0mvalidation_data\u001b[0m\u001b[0;34m=\u001b[0m\u001b[0;34m[\u001b[0m\u001b[0mX_train_val\u001b[0m\u001b[0;34m,\u001b[0m\u001b[0my_train_val\u001b[0m\u001b[0;34m]\u001b[0m\u001b[0;34m)\u001b[0m\u001b[0;34m\u001b[0m\u001b[0;34m\u001b[0m\u001b[0m\n\u001b[0m\u001b[1;32m     13\u001b[0m \u001b[0;34m\u001b[0m\u001b[0m\n\u001b[1;32m     14\u001b[0m \u001b[0mscore4\u001b[0m \u001b[0;34m=\u001b[0m \u001b[0mmodel\u001b[0m\u001b[0;34m.\u001b[0m\u001b[0mevaluate\u001b[0m\u001b[0;34m(\u001b[0m\u001b[0mX_test\u001b[0m\u001b[0;34m,\u001b[0m \u001b[0my_test\u001b[0m\u001b[0;34m,\u001b[0m \u001b[0mbatch_size\u001b[0m\u001b[0;34m=\u001b[0m\u001b[0;36m128\u001b[0m\u001b[0;34m,\u001b[0m \u001b[0mverbose\u001b[0m\u001b[0;34m=\u001b[0m\u001b[0;36m1\u001b[0m\u001b[0;34m)\u001b[0m\u001b[0;34m\u001b[0m\u001b[0;34m\u001b[0m\u001b[0m\n",
            "\u001b[0;32m/usr/local/lib/python3.6/dist-packages/keras/legacy/interfaces.py\u001b[0m in \u001b[0;36mwrapper\u001b[0;34m(*args, **kwargs)\u001b[0m\n\u001b[1;32m     89\u001b[0m                 warnings.warn('Update your `' + object_name + '` call to the ' +\n\u001b[1;32m     90\u001b[0m                               'Keras 2 API: ' + signature, stacklevel=2)\n\u001b[0;32m---> 91\u001b[0;31m             \u001b[0;32mreturn\u001b[0m \u001b[0mfunc\u001b[0m\u001b[0;34m(\u001b[0m\u001b[0;34m*\u001b[0m\u001b[0margs\u001b[0m\u001b[0;34m,\u001b[0m \u001b[0;34m**\u001b[0m\u001b[0mkwargs\u001b[0m\u001b[0;34m)\u001b[0m\u001b[0;34m\u001b[0m\u001b[0;34m\u001b[0m\u001b[0m\n\u001b[0m\u001b[1;32m     92\u001b[0m         \u001b[0mwrapper\u001b[0m\u001b[0;34m.\u001b[0m\u001b[0m_original_function\u001b[0m \u001b[0;34m=\u001b[0m \u001b[0mfunc\u001b[0m\u001b[0;34m\u001b[0m\u001b[0;34m\u001b[0m\u001b[0m\n\u001b[1;32m     93\u001b[0m         \u001b[0;32mreturn\u001b[0m \u001b[0mwrapper\u001b[0m\u001b[0;34m\u001b[0m\u001b[0;34m\u001b[0m\u001b[0m\n",
            "\u001b[0;32m/usr/local/lib/python3.6/dist-packages/keras/engine/training.py\u001b[0m in \u001b[0;36mfit_generator\u001b[0;34m(self, generator, steps_per_epoch, epochs, verbose, callbacks, validation_data, validation_steps, class_weight, max_queue_size, workers, use_multiprocessing, shuffle, initial_epoch)\u001b[0m\n\u001b[1;32m   1416\u001b[0m             \u001b[0muse_multiprocessing\u001b[0m\u001b[0;34m=\u001b[0m\u001b[0muse_multiprocessing\u001b[0m\u001b[0;34m,\u001b[0m\u001b[0;34m\u001b[0m\u001b[0;34m\u001b[0m\u001b[0m\n\u001b[1;32m   1417\u001b[0m             \u001b[0mshuffle\u001b[0m\u001b[0;34m=\u001b[0m\u001b[0mshuffle\u001b[0m\u001b[0;34m,\u001b[0m\u001b[0;34m\u001b[0m\u001b[0;34m\u001b[0m\u001b[0m\n\u001b[0;32m-> 1418\u001b[0;31m             initial_epoch=initial_epoch)\n\u001b[0m\u001b[1;32m   1419\u001b[0m \u001b[0;34m\u001b[0m\u001b[0m\n\u001b[1;32m   1420\u001b[0m     \u001b[0;34m@\u001b[0m\u001b[0minterfaces\u001b[0m\u001b[0;34m.\u001b[0m\u001b[0mlegacy_generator_methods_support\u001b[0m\u001b[0;34m\u001b[0m\u001b[0;34m\u001b[0m\u001b[0m\n",
            "\u001b[0;32m/usr/local/lib/python3.6/dist-packages/keras/engine/training_generator.py\u001b[0m in \u001b[0;36mfit_generator\u001b[0;34m(model, generator, steps_per_epoch, epochs, verbose, callbacks, validation_data, validation_steps, class_weight, max_queue_size, workers, use_multiprocessing, shuffle, initial_epoch)\u001b[0m\n\u001b[1;32m    142\u001b[0m                                      str(validation_data))\n\u001b[1;32m    143\u001b[0m                 val_x, val_y, val_sample_weights = model._standardize_user_data(\n\u001b[0;32m--> 144\u001b[0;31m                     val_x, val_y, val_sample_weight)\n\u001b[0m\u001b[1;32m    145\u001b[0m                 \u001b[0mval_data\u001b[0m \u001b[0;34m=\u001b[0m \u001b[0mval_x\u001b[0m \u001b[0;34m+\u001b[0m \u001b[0mval_y\u001b[0m \u001b[0;34m+\u001b[0m \u001b[0mval_sample_weights\u001b[0m\u001b[0;34m\u001b[0m\u001b[0;34m\u001b[0m\u001b[0m\n\u001b[1;32m    146\u001b[0m                 if model.uses_learning_phase and not isinstance(K.learning_phase(),\n",
            "\u001b[0;32m/usr/local/lib/python3.6/dist-packages/keras/engine/training.py\u001b[0m in \u001b[0;36m_standardize_user_data\u001b[0;34m(self, x, y, sample_weight, class_weight, check_array_lengths, batch_size)\u001b[0m\n\u001b[1;32m    802\u001b[0m             ]\n\u001b[1;32m    803\u001b[0m             \u001b[0;31m# Check that all arrays have the same length.\u001b[0m\u001b[0;34m\u001b[0m\u001b[0;34m\u001b[0m\u001b[0;34m\u001b[0m\u001b[0m\n\u001b[0;32m--> 804\u001b[0;31m             \u001b[0mcheck_array_length_consistency\u001b[0m\u001b[0;34m(\u001b[0m\u001b[0mx\u001b[0m\u001b[0;34m,\u001b[0m \u001b[0my\u001b[0m\u001b[0;34m,\u001b[0m \u001b[0msample_weights\u001b[0m\u001b[0;34m)\u001b[0m\u001b[0;34m\u001b[0m\u001b[0;34m\u001b[0m\u001b[0m\n\u001b[0m\u001b[1;32m    805\u001b[0m             \u001b[0;32mif\u001b[0m \u001b[0mself\u001b[0m\u001b[0;34m.\u001b[0m\u001b[0m_is_graph_network\u001b[0m\u001b[0;34m:\u001b[0m\u001b[0;34m\u001b[0m\u001b[0;34m\u001b[0m\u001b[0m\n\u001b[1;32m    806\u001b[0m                 \u001b[0;31m# Additional checks to avoid users mistakenly\u001b[0m\u001b[0;34m\u001b[0m\u001b[0;34m\u001b[0m\u001b[0;34m\u001b[0m\u001b[0m\n",
            "\u001b[0;32m/usr/local/lib/python3.6/dist-packages/keras/engine/training_utils.py\u001b[0m in \u001b[0;36mcheck_array_length_consistency\u001b[0;34m(inputs, targets, weights)\u001b[0m\n\u001b[1;32m    235\u001b[0m                          \u001b[0;34m'the same number of samples as target arrays. '\u001b[0m\u001b[0;34m\u001b[0m\u001b[0;34m\u001b[0m\u001b[0m\n\u001b[1;32m    236\u001b[0m                          \u001b[0;34m'Found '\u001b[0m \u001b[0;34m+\u001b[0m \u001b[0mstr\u001b[0m\u001b[0;34m(\u001b[0m\u001b[0mlist\u001b[0m\u001b[0;34m(\u001b[0m\u001b[0mset_x\u001b[0m\u001b[0;34m)\u001b[0m\u001b[0;34m[\u001b[0m\u001b[0;36m0\u001b[0m\u001b[0;34m]\u001b[0m\u001b[0;34m)\u001b[0m \u001b[0;34m+\u001b[0m \u001b[0;34m' input samples '\u001b[0m\u001b[0;34m\u001b[0m\u001b[0;34m\u001b[0m\u001b[0m\n\u001b[0;32m--> 237\u001b[0;31m                          'and ' + str(list(set_y)[0]) + ' target samples.')\n\u001b[0m\u001b[1;32m    238\u001b[0m     \u001b[0;32mif\u001b[0m \u001b[0mlen\u001b[0m\u001b[0;34m(\u001b[0m\u001b[0mset_w\u001b[0m\u001b[0;34m)\u001b[0m \u001b[0;34m>\u001b[0m \u001b[0;36m1\u001b[0m\u001b[0;34m:\u001b[0m\u001b[0;34m\u001b[0m\u001b[0;34m\u001b[0m\u001b[0m\n\u001b[1;32m    239\u001b[0m         raise ValueError('All sample_weight arrays should have '\n",
            "\u001b[0;31mValueError\u001b[0m: Input arrays should have the same number of samples as target arrays. Found 10000 input samples and 0 target samples."
          ]
        }
      ]
    }
  ]
}