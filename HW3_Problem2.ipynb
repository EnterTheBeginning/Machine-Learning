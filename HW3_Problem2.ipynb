{
  "nbformat": 4,
  "nbformat_minor": 0,
  "metadata": {
    "colab": {
      "name": "HW3_Problem2.ipynb",
      "version": "0.3.2",
      "provenance": [],
      "collapsed_sections": [],
      "include_colab_link": true
    },
    "kernelspec": {
      "name": "python3",
      "display_name": "Python 3"
    },
    "accelerator": "GPU"
  },
  "cells": [
    {
      "cell_type": "markdown",
      "metadata": {
        "id": "view-in-github",
        "colab_type": "text"
      },
      "source": [
        "<a href=\"https://colab.research.google.com/github/EnterTheBeginning/Machine-Learning/blob/master/HW3_Problem2.ipynb\" target=\"_parent\"><img src=\"https://colab.research.google.com/assets/colab-badge.svg\" alt=\"Open In Colab\"/></a>"
      ]
    },
    {
      "metadata": {
        "id": "F0m5bO4YcXZI",
        "colab_type": "text"
      },
      "cell_type": "markdown",
      "source": [
        "#Fine-Tuning"
      ]
    },
    {
      "metadata": {
        "id": "lGxBFVXoci04",
        "colab_type": "text"
      },
      "cell_type": "markdown",
      "source": [
        "Now there is a need to Unfreeze some layers in Conv Base network. \n",
        "\n",
        "Then Jointly train both layers and the parts that are added"
      ]
    },
    {
      "metadata": {
        "id": "gj_ySN13R01_",
        "colab_type": "code",
        "colab": {}
      },
      "cell_type": "code",
      "source": [
        "import numpy as np\n",
        "import pandas as pd\n",
        "import matplotlib.pyplot as plt\n",
        "import matplotlib.image as mpimg\n",
        "\n",
        "%matplotlib inline\n",
        "import os\n",
        "import zipfile\n",
        "\n",
        "from keras.layers import Dense,Dropout,Activation,Flatten\n",
        "from keras.models import Sequential\n",
        "from keras.preprocessing.image import ImageDataGenerator\n",
        "from keras.applications import VGG19\n",
        "from keras import layers\n",
        "from keras import optimizers\n"
      ],
      "execution_count": 0,
      "outputs": []
    },
    {
      "metadata": {
        "id": "cYvPMvSEUH-E",
        "colab_type": "text"
      },
      "cell_type": "markdown",
      "source": [
        "##Preprocessing"
      ]
    },
    {
      "metadata": {
        "id": "16OhyjzZTCFp",
        "colab_type": "code",
        "outputId": "723045c0-cb6e-4543-f89e-dbd1f5f327c5",
        "colab": {
          "base_uri": "https://localhost:8080/",
          "height": 204
        }
      },
      "cell_type": "code",
      "source": [
        "!wget --no-check-certificate \\\n",
        "    https://storage.googleapis.com/mledu-datasets/cats_and_dogs_filtered.zip \\\n",
        "    -O /tmp/cats_and_dogs_filtered.zip\n",
        "  \n",
        "local_zip = '/tmp/cats_and_dogs_filtered.zip'\n",
        "zip_ref = zipfile.ZipFile(local_zip, 'r')\n",
        "zip_ref.extractall('/tmp')\n",
        "zip_ref.close()\n",
        "base_dir = '/tmp/cats_and_dogs_filtered'\n",
        "\n",
        "train_dir = os.path.join(base_dir, 'train')\n",
        "validation_dir = os.path.join(base_dir, 'validation')\n",
        "train_cats_dir = os.path.join(train_dir, 'cats')\n",
        "train_dogs_dir = os.path.join(train_dir, 'dogs')\n",
        "validation_cats_dir = os.path.join(validation_dir, 'cats')\n",
        "validation_dogs_dir = os.path.join(validation_dir, 'dogs')\n",
        "train_cat_fnames = os.listdir(train_cats_dir)\n",
        "train_cat_fnames.sort()\n",
        "train_dog_fnames = os.listdir(train_dogs_dir)\n",
        "train_dog_fnames.sort()\n",
        "conv_base = VGG19(weights='imagenet',include_top=False,input_shape=(150,150,3))"
      ],
      "execution_count": 5,
      "outputs": [
        {
          "output_type": "stream",
          "text": [
            "--2019-04-16 20:00:51--  https://storage.googleapis.com/mledu-datasets/cats_and_dogs_filtered.zip\n",
            "Resolving storage.googleapis.com (storage.googleapis.com)... 173.194.69.128, 2a00:1450:4013:c04::80\n",
            "Connecting to storage.googleapis.com (storage.googleapis.com)|173.194.69.128|:443... connected.\n",
            "HTTP request sent, awaiting response... 200 OK\n",
            "Length: 68606236 (65M) [application/zip]\n",
            "Saving to: ‘/tmp/cats_and_dogs_filtered.zip’\n",
            "\n",
            "/tmp/cats_and_dogs_ 100%[===================>]  65.43M   151MB/s    in 0.4s    \n",
            "\n",
            "2019-04-16 20:00:52 (151 MB/s) - ‘/tmp/cats_and_dogs_filtered.zip’ saved [68606236/68606236]\n",
            "\n"
          ],
          "name": "stdout"
        }
      ]
    },
    {
      "metadata": {
        "id": "3zifrS2QmYNw",
        "colab_type": "text"
      },
      "cell_type": "markdown",
      "source": [
        "##Freezing the Conv Base"
      ]
    },
    {
      "metadata": {
        "id": "MiLp3z3FmbU4",
        "colab_type": "code",
        "colab": {}
      },
      "cell_type": "code",
      "source": [
        "conv_base.trainable = False\n",
        "from keras import layers\n",
        "from keras import models\n",
        "from keras import optimizers\n",
        "\n",
        "model = models.Sequential()\n",
        "model.add(conv_base)\n",
        "model.add(layers.Flatten())\n",
        "model.add(layers.Dense(256, activation='relu'))\n",
        "model.add(layers.Dense(1, activation='sigmoid'))"
      ],
      "execution_count": 0,
      "outputs": []
    },
    {
      "metadata": {
        "id": "sWV6vPojn5fy",
        "colab_type": "code",
        "colab": {
          "base_uri": "https://localhost:8080/",
          "height": 442
        },
        "outputId": "fd9ba582-c4dd-401a-edd1-0dc293d65380"
      },
      "cell_type": "code",
      "source": [
        "train_datagen = ImageDataGenerator(\n",
        "    rescale=1./255, \n",
        "    rotation_range=40,\n",
        "    width_shift_range=0.2,\n",
        "    height_shift_range=0.2,\n",
        "    shear_range=0.2,\n",
        "    zoom_range=0.2,\n",
        "    horizontal_flip=True,\n",
        "    fill_mode='nearest'\n",
        ")\n",
        "\n",
        "train_generator = train_datagen.flow_from_directory(\n",
        "    train_dir,\n",
        "    target_size=(150, 150),\n",
        "    batch_size=20,\n",
        "    class_mode='binary')\n",
        "\n",
        "validation_datagen = ImageDataGenerator(rescale=1./255)\n",
        "\n",
        "validation_generator = validation_datagen.flow_from_directory(\n",
        "    validation_dir,\n",
        "    target_size=(150, 150),\n",
        "    batch_size=20,\n",
        "    class_mode='binary')\n",
        "\n",
        "# compile model\n",
        "\n",
        "model.compile(\n",
        "    loss='binary_crossentropy', \n",
        "    optimizer=optimizers.RMSprop(lr=2e-5), \n",
        "    metrics=['acc'])\n",
        "\n",
        "# train\n",
        "\n",
        "history = model.fit_generator(\n",
        "    train_generator,\n",
        "    steps_per_epoch=100,\n",
        "    epochs=10,\n",
        "    validation_data=validation_generator,\n",
        "    validation_steps=50\n",
        ")"
      ],
      "execution_count": 7,
      "outputs": [
        {
          "output_type": "stream",
          "text": [
            "Found 2000 images belonging to 2 classes.\n",
            "Found 1000 images belonging to 2 classes.\n",
            "WARNING:tensorflow:From /usr/local/lib/python3.6/dist-packages/tensorflow/python/ops/math_ops.py:3066: to_int32 (from tensorflow.python.ops.math_ops) is deprecated and will be removed in a future version.\n",
            "Instructions for updating:\n",
            "Use tf.cast instead.\n",
            "Epoch 1/10\n",
            "100/100 [==============================] - 23s 231ms/step - loss: 0.6188 - acc: 0.6595 - val_loss: 0.4950 - val_acc: 0.7810\n",
            "Epoch 2/10\n",
            "100/100 [==============================] - 18s 181ms/step - loss: 0.5300 - acc: 0.7460 - val_loss: 0.4219 - val_acc: 0.8290\n",
            "Epoch 3/10\n",
            "100/100 [==============================] - 18s 185ms/step - loss: 0.4760 - acc: 0.7955 - val_loss: 0.3733 - val_acc: 0.8420\n",
            "Epoch 4/10\n",
            "100/100 [==============================] - 18s 180ms/step - loss: 0.4411 - acc: 0.8125 - val_loss: 0.3483 - val_acc: 0.8540\n",
            "Epoch 5/10\n",
            "100/100 [==============================] - 18s 178ms/step - loss: 0.4347 - acc: 0.7965 - val_loss: 0.3294 - val_acc: 0.8670\n",
            "Epoch 6/10\n",
            "100/100 [==============================] - 18s 177ms/step - loss: 0.4088 - acc: 0.8135 - val_loss: 0.3165 - val_acc: 0.8690\n",
            "Epoch 7/10\n",
            "100/100 [==============================] - 18s 178ms/step - loss: 0.3997 - acc: 0.8210 - val_loss: 0.3178 - val_acc: 0.8580\n",
            "Epoch 8/10\n",
            "100/100 [==============================] - 19s 190ms/step - loss: 0.3964 - acc: 0.8215 - val_loss: 0.3203 - val_acc: 0.8510\n",
            "Epoch 9/10\n",
            "100/100 [==============================] - 18s 179ms/step - loss: 0.3845 - acc: 0.8275 - val_loss: 0.2922 - val_acc: 0.8750\n",
            "Epoch 10/10\n",
            "100/100 [==============================] - 18s 178ms/step - loss: 0.3827 - acc: 0.8255 - val_loss: 0.2902 - val_acc: 0.8730\n"
          ],
          "name": "stdout"
        }
      ]
    },
    {
      "metadata": {
        "id": "jT7hsdgddDR6",
        "colab_type": "text"
      },
      "cell_type": "markdown",
      "source": [
        "##Unfreezing\n",
        "\n"
      ]
    },
    {
      "metadata": {
        "id": "K2mCxOD9eRVN",
        "colab_type": "text"
      },
      "cell_type": "markdown",
      "source": [
        "Lets fine tune the last **four CNN** layers = all layers above needs to be frozen"
      ]
    },
    {
      "metadata": {
        "id": "mfDD4rbUePwk",
        "colab_type": "code",
        "colab": {}
      },
      "cell_type": "code",
      "source": [
        "conv_base.trainable = True\n",
        "set_trainable = False\n",
        "for layer in conv_base.layers:\n",
        "  if layer.name == 'block5_conv2':\n",
        "    set_trainable = True\n",
        "  if set_trainable:\n",
        "    layer.trainable = True\n",
        "  else:\n",
        "    layer.trainable = False"
      ],
      "execution_count": 0,
      "outputs": []
    },
    {
      "metadata": {
        "id": "jgoinbC2fjAo",
        "colab_type": "code",
        "colab": {
          "base_uri": "https://localhost:8080/",
          "height": 1037
        },
        "outputId": "fb91987b-d5d3-4617-a022-111c56a54c36"
      },
      "cell_type": "code",
      "source": [
        "model.compile(loss='binary_crossentropy',optimizer=optimizers.RMSprop(lr=2e-5),metrics=['acc'])\n",
        "history = model.fit_generator(train_generator,steps_per_epoch=100,epochs=30,validation_data=validation_generator,validation_steps = 50)"
      ],
      "execution_count": 9,
      "outputs": [
        {
          "output_type": "stream",
          "text": [
            "Epoch 1/30\n",
            "100/100 [==============================] - 21s 205ms/step - loss: 0.3640 - acc: 0.8375 - val_loss: 0.2667 - val_acc: 0.8780\n",
            "Epoch 2/30\n",
            "100/100 [==============================] - 19s 195ms/step - loss: 0.3146 - acc: 0.8680 - val_loss: 0.2570 - val_acc: 0.9030\n",
            "Epoch 3/30\n",
            "100/100 [==============================] - 18s 183ms/step - loss: 0.2674 - acc: 0.8885 - val_loss: 0.2500 - val_acc: 0.8970\n",
            "Epoch 4/30\n",
            "100/100 [==============================] - 18s 183ms/step - loss: 0.2756 - acc: 0.8785 - val_loss: 0.2376 - val_acc: 0.9120\n",
            "Epoch 5/30\n",
            "100/100 [==============================] - 18s 184ms/step - loss: 0.2459 - acc: 0.8980 - val_loss: 0.2010 - val_acc: 0.9180\n",
            "Epoch 6/30\n",
            "100/100 [==============================] - 19s 188ms/step - loss: 0.2343 - acc: 0.9055 - val_loss: 0.1998 - val_acc: 0.9250\n",
            "Epoch 7/30\n",
            "100/100 [==============================] - 19s 193ms/step - loss: 0.2177 - acc: 0.9130 - val_loss: 0.2040 - val_acc: 0.9310\n",
            "Epoch 8/30\n",
            "100/100 [==============================] - 19s 187ms/step - loss: 0.1804 - acc: 0.9245 - val_loss: 0.1673 - val_acc: 0.9320\n",
            "Epoch 9/30\n",
            "100/100 [==============================] - 18s 182ms/step - loss: 0.1818 - acc: 0.9245 - val_loss: 0.2193 - val_acc: 0.9200\n",
            "Epoch 10/30\n",
            "100/100 [==============================] - 18s 183ms/step - loss: 0.1794 - acc: 0.9320 - val_loss: 0.2161 - val_acc: 0.9230\n",
            "Epoch 11/30\n",
            "100/100 [==============================] - 19s 194ms/step - loss: 0.1832 - acc: 0.9305 - val_loss: 0.2240 - val_acc: 0.9180\n",
            "Epoch 12/30\n",
            "100/100 [==============================] - 18s 182ms/step - loss: 0.1609 - acc: 0.9345 - val_loss: 0.1614 - val_acc: 0.9460\n",
            "Epoch 13/30\n",
            "100/100 [==============================] - 18s 182ms/step - loss: 0.1479 - acc: 0.9380 - val_loss: 0.1895 - val_acc: 0.9300\n",
            "Epoch 14/30\n",
            "100/100 [==============================] - 18s 183ms/step - loss: 0.1443 - acc: 0.9440 - val_loss: 0.1926 - val_acc: 0.9320\n",
            "Epoch 15/30\n",
            "100/100 [==============================] - 19s 195ms/step - loss: 0.1393 - acc: 0.9370 - val_loss: 0.2275 - val_acc: 0.9270\n",
            "Epoch 16/30\n",
            "100/100 [==============================] - 18s 183ms/step - loss: 0.1378 - acc: 0.9460 - val_loss: 0.3876 - val_acc: 0.8980\n",
            "Epoch 17/30\n",
            "100/100 [==============================] - 18s 183ms/step - loss: 0.1306 - acc: 0.9500 - val_loss: 0.2626 - val_acc: 0.9190\n",
            "Epoch 18/30\n",
            "100/100 [==============================] - 18s 182ms/step - loss: 0.1181 - acc: 0.9540 - val_loss: 0.1670 - val_acc: 0.9350\n",
            "Epoch 19/30\n",
            "100/100 [==============================] - 19s 189ms/step - loss: 0.1116 - acc: 0.9540 - val_loss: 0.3740 - val_acc: 0.9010\n",
            "Epoch 20/30\n",
            "100/100 [==============================] - 19s 186ms/step - loss: 0.1120 - acc: 0.9545 - val_loss: 0.2097 - val_acc: 0.9340\n",
            "Epoch 21/30\n",
            "100/100 [==============================] - 18s 182ms/step - loss: 0.1092 - acc: 0.9590 - val_loss: 0.2505 - val_acc: 0.9310\n",
            "Epoch 22/30\n",
            "100/100 [==============================] - 18s 182ms/step - loss: 0.0970 - acc: 0.9600 - val_loss: 0.2205 - val_acc: 0.9320\n",
            "Epoch 23/30\n",
            "100/100 [==============================] - 19s 189ms/step - loss: 0.1106 - acc: 0.9580 - val_loss: 0.2382 - val_acc: 0.9340\n",
            "Epoch 24/30\n",
            "100/100 [==============================] - 21s 206ms/step - loss: 0.0914 - acc: 0.9630 - val_loss: 0.2529 - val_acc: 0.9300\n",
            "Epoch 25/30\n",
            "100/100 [==============================] - 18s 183ms/step - loss: 0.1108 - acc: 0.9580 - val_loss: 0.2633 - val_acc: 0.9160\n",
            "Epoch 26/30\n",
            "100/100 [==============================] - 18s 181ms/step - loss: 0.0883 - acc: 0.9685 - val_loss: 0.1933 - val_acc: 0.9410\n",
            "Epoch 27/30\n",
            "100/100 [==============================] - 18s 182ms/step - loss: 0.0910 - acc: 0.9595 - val_loss: 0.2821 - val_acc: 0.9190\n",
            "Epoch 28/30\n",
            "100/100 [==============================] - 19s 194ms/step - loss: 0.0821 - acc: 0.9690 - val_loss: 0.1983 - val_acc: 0.9450\n",
            "Epoch 29/30\n",
            "100/100 [==============================] - 18s 182ms/step - loss: 0.0855 - acc: 0.9660 - val_loss: 0.2187 - val_acc: 0.9380\n",
            "Epoch 30/30\n",
            "100/100 [==============================] - 18s 182ms/step - loss: 0.0714 - acc: 0.9720 - val_loss: 0.3037 - val_acc: 0.9150\n"
          ],
          "name": "stdout"
        }
      ]
    },
    {
      "metadata": {
        "id": "zFpr99qdhLYL",
        "colab_type": "code",
        "colab": {
          "base_uri": "https://localhost:8080/",
          "height": 51
        },
        "outputId": "3a5127c6-9ce5-437e-c7fa-6b1e20d8284f"
      },
      "cell_type": "code",
      "source": [
        "score= model.evaluate_generator(validation_generator,steps = 50)\n",
        "print(\"Loss :\",score[0])\n",
        "print(\"Accuracy: \",score[1])\n"
      ],
      "execution_count": 10,
      "outputs": [
        {
          "output_type": "stream",
          "text": [
            "Loss : 0.26852526399539783\n",
            "Accuracy:  0.9329999923706055\n"
          ],
          "name": "stdout"
        }
      ]
    },
    {
      "metadata": {
        "id": "J7OkHOgIlXld",
        "colab_type": "text"
      },
      "cell_type": "markdown",
      "source": [
        "Accuracy of 94%."
      ]
    },
    {
      "metadata": {
        "id": "yuHhTe7ahLsb",
        "colab_type": "code",
        "colab": {
          "base_uri": "https://localhost:8080/",
          "height": 545
        },
        "outputId": "57a685c4-f10e-4d99-9f2c-ef7134f11313"
      },
      "cell_type": "code",
      "source": [
        "acc = history.history['acc']\n",
        "val_acc = history.history['val_acc']\n",
        "\n",
        "loss = history.history['loss']\n",
        "val_loss = history.history['val_loss']\n",
        "\n",
        "epochs = range(1, len(acc) + 1)\n",
        "\n",
        "# training and validation accuracy\n",
        "\n",
        "plt.plot(epochs, acc, 'bo', label='training acc')\n",
        "plt.plot(epochs, val_acc, 'b', label='validation acc')\n",
        "plt.title('training and validation accuracy')\n",
        "plt.legend()\n",
        "\n",
        "plt.figure()\n",
        "\n",
        "# training and validation loss\n",
        "\n",
        "plt.plot(epochs, loss, 'bo', label='training loss')\n",
        "plt.plot(epochs, val_loss, 'b', label='validation loss')\n",
        "plt.title('training and validation loss')\n",
        "plt.legend()\n",
        "\n",
        "plt.show()\n"
      ],
      "execution_count": 11,
      "outputs": [
        {
          "output_type": "display_data",
          "data": {
            "image/png": "[encoded data removed]",
            "text/plain": [
              "<Figure size 432x288 with 1 Axes>"
            ]
          },
          "metadata": {
            "tags": []
          }
        },
        {
          "output_type": "display_data",
          "data": {
            "image/png": "[encoded data removed]",
            "text/plain": [
              "<Figure size 432x288 with 1 Axes>"
            ]
          },
          "metadata": {
            "tags": []
          }
        }
      ]
    },
    {
      "metadata": {
        "id": "8SSmjmYttf4r",
        "colab_type": "code",
        "colab": {}
      },
      "cell_type": "code",
      "source": [
        ""
      ],
      "execution_count": 0,
      "outputs": []
    }
  ]
}