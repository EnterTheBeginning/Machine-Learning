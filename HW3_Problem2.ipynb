{
  "nbformat": 4,
  "nbformat_minor": 0,
  "metadata": {
    "colab": {
      "name": "HW3_Problem2.ipynb",
      "version": "0.3.2",
      "provenance": [],
      "collapsed_sections": [],
      "include_colab_link": true
    },
    "kernelspec": {
      "name": "python3",
      "display_name": "Python 3"
    },
    "accelerator": "GPU"
  },
  "cells": [
    {
      "cell_type": "markdown",
      "metadata": {
        "id": "view-in-github",
        "colab_type": "text"
      },
      "source": [
        "<a href=\"https://colab.research.google.com/github/EnterTheBeginning/Machine-Learning/blob/master/HW3_Problem2.ipynb\" target=\"_parent\"><img src=\"https://colab.research.google.com/assets/colab-badge.svg\" alt=\"Open In Colab\"/></a>"
      ]
    },
    {
      "metadata": {
        "id": "F0m5bO4YcXZI",
        "colab_type": "text"
      },
      "cell_type": "markdown",
      "source": [
        "#Fine-Tuning"
      ]
    },
    {
      "metadata": {
        "id": "lGxBFVXoci04",
        "colab_type": "text"
      },
      "cell_type": "markdown",
      "source": [
        "Now there is a need to Unfreeze some layers in Conv Base network. \n",
        "\n",
        "Then Jointly train both layers and the parts that are added"
      ]
    },
    {
      "metadata": {
        "id": "gj_ySN13R01_",
        "colab_type": "code",
        "colab": {}
      },
      "cell_type": "code",
      "source": [
        "import numpy as np\n",
        "import pandas as pd\n",
        "import matplotlib.pyplot as plt\n",
        "import matplotlib.image as mpimg\n",
        "\n",
        "%matplotlib inline\n",
        "import os\n",
        "import zipfile\n",
        "\n",
        "from keras.layers import Dense,Dropout,Activation,Flatten\n",
        "from keras.models import Sequential\n",
        "from keras.preprocessing.image import ImageDataGenerator\n",
        "from keras.applications import VGG19\n",
        "from keras import layers\n",
        "from keras import optimizers\n"
      ],
      "execution_count": 0,
      "outputs": []
    },
    {
      "metadata": {
        "id": "cYvPMvSEUH-E",
        "colab_type": "text"
      },
      "cell_type": "markdown",
      "source": [
        "##Preprocessing"
      ]
    },
    {
      "metadata": {
        "id": "16OhyjzZTCFp",
        "colab_type": "code",
        "outputId": "be8feca0-3bff-4d72-c793-9111b231aada",
        "colab": {
          "base_uri": "https://localhost:8080/",
          "height": 418
        }
      },
      "cell_type": "code",
      "source": [
        "!wget --no-check-certificate \\\n",
        "    https://storage.googleapis.com/mledu-datasets/cats_and_dogs_filtered.zip \\\n",
        "    -O /tmp/cats_and_dogs_filtered.zip\n",
        "  \n",
        "local_zip = '/tmp/cats_and_dogs_filtered.zip'\n",
        "zip_ref = zipfile.ZipFile(local_zip, 'r')\n",
        "zip_ref.extractall('/tmp')\n",
        "zip_ref.close()\n",
        "base_dir = '/tmp/cats_and_dogs_filtered'\n",
        "\n",
        "train_dir = os.path.join(base_dir, 'train')\n",
        "validation_dir = os.path.join(base_dir, 'validation')\n",
        "test_dir = os.path.join()\n",
        "train_cats_dir = os.path.join(train_dir, 'cats')\n",
        "train_dogs_dir = os.path.join(train_dir, 'dogs')\n",
        "validation_cats_dir = os.path.join(validation_dir, 'cats')\n",
        "validation_dogs_dir = os.path.join(validation_dir, 'dogs')\n",
        "train_cat_fnames = os.listdir(train_cats_dir)\n",
        "train_cat_fnames.sort()\n",
        "train_dog_fnames = os.listdir(train_dogs_dir)\n",
        "train_dog_fnames.sort()\n",
        "conv_base = VGG19(weights='imagenet',include_top=False,input_shape=(150,150,3))"
      ],
      "execution_count": 36,
      "outputs": [
        {
          "output_type": "stream",
          "text": [
            "--2019-04-16 19:32:33--  https://storage.googleapis.com/mledu-datasets/cats_and_dogs_filtered.zip\n",
            "Resolving storage.googleapis.com (storage.googleapis.com)... 108.177.127.128, 2a00:1450:4013:c04::80\n",
            "Connecting to storage.googleapis.com (storage.googleapis.com)|108.177.127.128|:443... connected.\n",
            "HTTP request sent, awaiting response... 200 OK\n",
            "Length: 68606236 (65M) [application/zip]\n",
            "Saving to: ‘/tmp/cats_and_dogs_filtered.zip’\n",
            "\n",
            "/tmp/cats_and_dogs_ 100%[===================>]  65.43M  33.1MB/s    in 2.0s    \n",
            "\n",
            "2019-04-16 19:32:36 (33.1 MB/s) - ‘/tmp/cats_and_dogs_filtered.zip’ saved [68606236/68606236]\n",
            "\n"
          ],
          "name": "stdout"
        },
        {
          "output_type": "error",
          "ename": "TypeError",
          "evalue": "ignored",
          "traceback": [
            "\u001b[0;31m---------------------------------------------------------------------------\u001b[0m",
            "\u001b[0;31mTypeError\u001b[0m                                 Traceback (most recent call last)",
            "\u001b[0;32m<ipython-input-36-0ad3f4c7bb35>\u001b[0m in \u001b[0;36m<module>\u001b[0;34m()\u001b[0m\n\u001b[1;32m      9\u001b[0m \u001b[0mtrain_dir\u001b[0m \u001b[0;34m=\u001b[0m \u001b[0mos\u001b[0m\u001b[0;34m.\u001b[0m\u001b[0mpath\u001b[0m\u001b[0;34m.\u001b[0m\u001b[0mjoin\u001b[0m\u001b[0;34m(\u001b[0m\u001b[0mbase_dir\u001b[0m\u001b[0;34m,\u001b[0m \u001b[0;34m'train'\u001b[0m\u001b[0;34m)\u001b[0m\u001b[0;34m\u001b[0m\u001b[0;34m\u001b[0m\u001b[0m\n\u001b[1;32m     10\u001b[0m \u001b[0mvalidation_dir\u001b[0m \u001b[0;34m=\u001b[0m \u001b[0mos\u001b[0m\u001b[0;34m.\u001b[0m\u001b[0mpath\u001b[0m\u001b[0;34m.\u001b[0m\u001b[0mjoin\u001b[0m\u001b[0;34m(\u001b[0m\u001b[0mbase_dir\u001b[0m\u001b[0;34m,\u001b[0m \u001b[0;34m'validation'\u001b[0m\u001b[0;34m)\u001b[0m\u001b[0;34m\u001b[0m\u001b[0;34m\u001b[0m\u001b[0m\n\u001b[0;32m---> 11\u001b[0;31m \u001b[0mtest_dir\u001b[0m \u001b[0;34m=\u001b[0m \u001b[0mos\u001b[0m\u001b[0;34m.\u001b[0m\u001b[0mpath\u001b[0m\u001b[0;34m.\u001b[0m\u001b[0mjoin\u001b[0m\u001b[0;34m(\u001b[0m\u001b[0;34m)\u001b[0m\u001b[0;34m\u001b[0m\u001b[0;34m\u001b[0m\u001b[0m\n\u001b[0m\u001b[1;32m     12\u001b[0m \u001b[0mtrain_cats_dir\u001b[0m \u001b[0;34m=\u001b[0m \u001b[0mos\u001b[0m\u001b[0;34m.\u001b[0m\u001b[0mpath\u001b[0m\u001b[0;34m.\u001b[0m\u001b[0mjoin\u001b[0m\u001b[0;34m(\u001b[0m\u001b[0mtrain_dir\u001b[0m\u001b[0;34m,\u001b[0m \u001b[0;34m'cats'\u001b[0m\u001b[0;34m)\u001b[0m\u001b[0;34m\u001b[0m\u001b[0;34m\u001b[0m\u001b[0m\n\u001b[1;32m     13\u001b[0m \u001b[0mtrain_dogs_dir\u001b[0m \u001b[0;34m=\u001b[0m \u001b[0mos\u001b[0m\u001b[0;34m.\u001b[0m\u001b[0mpath\u001b[0m\u001b[0;34m.\u001b[0m\u001b[0mjoin\u001b[0m\u001b[0;34m(\u001b[0m\u001b[0mtrain_dir\u001b[0m\u001b[0;34m,\u001b[0m \u001b[0;34m'dogs'\u001b[0m\u001b[0;34m)\u001b[0m\u001b[0;34m\u001b[0m\u001b[0;34m\u001b[0m\u001b[0m\n",
            "\u001b[0;31mTypeError\u001b[0m: join() missing 1 required positional argument: 'a'"
          ]
        }
      ]
    },
    {
      "metadata": {
        "id": "3zifrS2QmYNw",
        "colab_type": "text"
      },
      "cell_type": "markdown",
      "source": [
        "##Freezing the Conv Base"
      ]
    },
    {
      "metadata": {
        "id": "MiLp3z3FmbU4",
        "colab_type": "code",
        "colab": {}
      },
      "cell_type": "code",
      "source": [
        "conv_base.trainable = False\n",
        "from keras import layers\n",
        "from keras import models\n",
        "from keras import optimizers\n",
        "\n",
        "model = models.Sequential()\n",
        "model.add(conv_base)\n",
        "model.add(layers.Flatten())\n",
        "model.add(layers.Dense(256, activation='relu'))\n",
        "model.add(layers.Dense(1, activation='sigmoid'))"
      ],
      "execution_count": 0,
      "outputs": []
    },
    {
      "metadata": {
        "id": "sWV6vPojn5fy",
        "colab_type": "code",
        "colab": {
          "base_uri": "https://localhost:8080/",
          "height": 731
        },
        "outputId": "47120cb9-578f-439e-d507-de46d305ea89"
      },
      "cell_type": "code",
      "source": [
        "train_datagen = ImageDataGenerator(\n",
        "    rescale=1./255, \n",
        "    rotation_range=40,\n",
        "    width_shift_range=0.2,\n",
        "    height_shift_range=0.2,\n",
        "    shear_range=0.2,\n",
        "    zoom_range=0.2,\n",
        "    horizontal_flip=True,\n",
        "    fill_mode='nearest'\n",
        ")\n",
        "\n",
        "train_generator = train_datagen.flow_from_directory(\n",
        "    train_dir,\n",
        "    target_size=(150, 150),\n",
        "    batch_size=20,\n",
        "    class_mode='binary')\n",
        "\n",
        "validation_datagen = ImageDataGenerator(rescale=1./255)\n",
        "\n",
        "validation_generator = validation_datagen.flow_from_directory(\n",
        "    validation_dir,\n",
        "    target_size=(150, 150),\n",
        "    batch_size=20,\n",
        "    class_mode='binary')\n",
        "\n",
        "# compile model\n",
        "\n",
        "model.compile(\n",
        "    loss='binary_crossentropy', \n",
        "    optimizer=optimizers.RMSprop(lr=2e-5), \n",
        "    metrics=['acc'])\n",
        "\n",
        "# train\n",
        "\n",
        "history = model.fit_generator(\n",
        "    train_generator,\n",
        "    steps_per_epoch=100,\n",
        "    epochs=20,\n",
        "    validation_data=validation_generator,\n",
        "    validation_steps=50\n",
        ")"
      ],
      "execution_count": 37,
      "outputs": [
        {
          "output_type": "stream",
          "text": [
            "Found 2000 images belonging to 2 classes.\n",
            "Found 1000 images belonging to 2 classes.\n",
            "Epoch 1/20\n",
            "100/100 [==============================] - 22s 218ms/step - loss: 0.0842 - acc: 0.9740 - val_loss: 0.2776 - val_acc: 0.9380\n",
            "Epoch 2/20\n",
            "100/100 [==============================] - 19s 192ms/step - loss: 0.0638 - acc: 0.9810 - val_loss: 0.2505 - val_acc: 0.9470\n",
            "Epoch 3/20\n",
            "100/100 [==============================] - 19s 192ms/step - loss: 0.0480 - acc: 0.9820 - val_loss: 0.3317 - val_acc: 0.9440\n",
            "Epoch 4/20\n",
            "100/100 [==============================] - 20s 195ms/step - loss: 0.0459 - acc: 0.9850 - val_loss: 0.2350 - val_acc: 0.9510\n",
            "Epoch 5/20\n",
            "100/100 [==============================] - 19s 191ms/step - loss: 0.0648 - acc: 0.9785 - val_loss: 0.2261 - val_acc: 0.9460\n",
            "Epoch 6/20\n",
            "100/100 [==============================] - 19s 190ms/step - loss: 0.0607 - acc: 0.9790 - val_loss: 0.3047 - val_acc: 0.9430\n",
            "Epoch 7/20\n",
            "100/100 [==============================] - 19s 190ms/step - loss: 0.0518 - acc: 0.9770 - val_loss: 0.3928 - val_acc: 0.9330\n",
            "Epoch 8/20\n",
            "100/100 [==============================] - 21s 207ms/step - loss: 0.0521 - acc: 0.9810 - val_loss: 0.3066 - val_acc: 0.9470\n",
            "Epoch 9/20\n",
            "100/100 [==============================] - 20s 196ms/step - loss: 0.0518 - acc: 0.9830 - val_loss: 0.3784 - val_acc: 0.9340\n",
            "Epoch 10/20\n",
            "100/100 [==============================] - 19s 189ms/step - loss: 0.0484 - acc: 0.9865 - val_loss: 0.2574 - val_acc: 0.9480\n",
            "Epoch 11/20\n",
            "100/100 [==============================] - 19s 190ms/step - loss: 0.0402 - acc: 0.9870 - val_loss: 0.2627 - val_acc: 0.9520\n",
            "Epoch 12/20\n",
            "100/100 [==============================] - 20s 199ms/step - loss: 0.0599 - acc: 0.9805 - val_loss: 0.2753 - val_acc: 0.9490\n",
            "Epoch 13/20\n",
            "100/100 [==============================] - 19s 189ms/step - loss: 0.0377 - acc: 0.9875 - val_loss: 0.3388 - val_acc: 0.9370\n",
            "Epoch 14/20\n",
            "100/100 [==============================] - 19s 188ms/step - loss: 0.0586 - acc: 0.9815 - val_loss: 0.2842 - val_acc: 0.9490\n",
            "Epoch 15/20\n",
            "100/100 [==============================] - 19s 188ms/step - loss: 0.0488 - acc: 0.9830 - val_loss: 0.3982 - val_acc: 0.9340\n",
            "Epoch 16/20\n",
            "100/100 [==============================] - 20s 199ms/step - loss: 0.0498 - acc: 0.9875 - val_loss: 0.7798 - val_acc: 0.8850\n",
            "Epoch 17/20\n",
            "100/100 [==============================] - 19s 188ms/step - loss: 0.0588 - acc: 0.9810 - val_loss: 0.5029 - val_acc: 0.9090\n",
            "Epoch 18/20\n",
            "100/100 [==============================] - 19s 187ms/step - loss: 0.0551 - acc: 0.9835 - val_loss: 0.2360 - val_acc: 0.9470\n",
            "Epoch 19/20\n",
            "100/100 [==============================] - 19s 188ms/step - loss: 0.0414 - acc: 0.9860 - val_loss: 0.3025 - val_acc: 0.9470\n",
            "Epoch 20/20\n",
            "100/100 [==============================] - 19s 194ms/step - loss: 0.0427 - acc: 0.9875 - val_loss: 0.2729 - val_acc: 0.9440\n"
          ],
          "name": "stdout"
        }
      ]
    },
    {
      "metadata": {
        "id": "jT7hsdgddDR6",
        "colab_type": "text"
      },
      "cell_type": "markdown",
      "source": [
        "##Unfreezing\n",
        "\n"
      ]
    },
    {
      "metadata": {
        "id": "K2mCxOD9eRVN",
        "colab_type": "text"
      },
      "cell_type": "markdown",
      "source": [
        "Lets fine tune the last **four CNN** layers = all layers above needs to be frozen"
      ]
    },
    {
      "metadata": {
        "id": "mfDD4rbUePwk",
        "colab_type": "code",
        "colab": {}
      },
      "cell_type": "code",
      "source": [
        "conv_base.trainable = True\n",
        "set_trainable = False\n",
        "for layer in conv_base.layers:\n",
        "  if layer.name == 'block5_conv1':\n",
        "    set_trainable = True\n",
        "  if set_trainable:\n",
        "    layer.trainable = True\n",
        "  else:\n",
        "    layer.trainable = False"
      ],
      "execution_count": 0,
      "outputs": []
    },
    {
      "metadata": {
        "id": "jgoinbC2fjAo",
        "colab_type": "code",
        "colab": {
          "base_uri": "https://localhost:8080/",
          "height": 1037
        },
        "outputId": "b6cb8d82-83e8-4afa-dea5-7c892f908e10"
      },
      "cell_type": "code",
      "source": [
        "model.compile(loss='binary_crossentropy',optimizer=optimizers.RMSprop(lr=2e-5),metrics=['acc'])\n",
        "history = model.fit_generator(train_generator,steps_per_epoch=100,epochs=30,validation_data=validation_generator,validation_steps = 50)"
      ],
      "execution_count": 39,
      "outputs": [
        {
          "output_type": "stream",
          "text": [
            "Epoch 1/30\n",
            "100/100 [==============================] - 21s 210ms/step - loss: 0.0443 - acc: 0.9855 - val_loss: 0.3372 - val_acc: 0.9470\n",
            "Epoch 2/30\n",
            "100/100 [==============================] - 19s 186ms/step - loss: 0.0540 - acc: 0.9850 - val_loss: 0.2739 - val_acc: 0.9460\n",
            "Epoch 3/30\n",
            "100/100 [==============================] - 19s 187ms/step - loss: 0.0387 - acc: 0.9870 - val_loss: 0.2642 - val_acc: 0.9470\n",
            "Epoch 4/30\n",
            "100/100 [==============================] - 20s 200ms/step - loss: 0.0442 - acc: 0.9865 - val_loss: 0.2800 - val_acc: 0.9460\n",
            "Epoch 5/30\n",
            "100/100 [==============================] - 19s 191ms/step - loss: 0.0300 - acc: 0.9890 - val_loss: 0.3636 - val_acc: 0.9420\n",
            "Epoch 6/30\n",
            "100/100 [==============================] - 19s 188ms/step - loss: 0.0530 - acc: 0.9830 - val_loss: 0.4694 - val_acc: 0.9290\n",
            "Epoch 7/30\n",
            "100/100 [==============================] - 19s 186ms/step - loss: 0.0479 - acc: 0.9860 - val_loss: 0.2747 - val_acc: 0.9570\n",
            "Epoch 8/30\n",
            "100/100 [==============================] - 19s 189ms/step - loss: 0.0342 - acc: 0.9870 - val_loss: 0.3176 - val_acc: 0.9480\n",
            "Epoch 9/30\n",
            "100/100 [==============================] - 20s 197ms/step - loss: 0.0344 - acc: 0.9895 - val_loss: 0.4390 - val_acc: 0.9240\n",
            "Epoch 10/30\n",
            "100/100 [==============================] - 19s 186ms/step - loss: 0.0436 - acc: 0.9835 - val_loss: 0.4079 - val_acc: 0.9390\n",
            "Epoch 11/30\n",
            "100/100 [==============================] - 19s 186ms/step - loss: 0.0370 - acc: 0.9890 - val_loss: 0.3472 - val_acc: 0.9450\n",
            "Epoch 12/30\n",
            "100/100 [==============================] - 19s 187ms/step - loss: 0.0357 - acc: 0.9900 - val_loss: 0.3479 - val_acc: 0.9480\n",
            "Epoch 13/30\n",
            "100/100 [==============================] - 20s 197ms/step - loss: 0.0292 - acc: 0.9915 - val_loss: 0.4592 - val_acc: 0.9350\n",
            "Epoch 14/30\n",
            "100/100 [==============================] - 18s 184ms/step - loss: 0.0356 - acc: 0.9905 - val_loss: 0.3360 - val_acc: 0.9480\n",
            "Epoch 15/30\n",
            "100/100 [==============================] - 18s 184ms/step - loss: 0.0369 - acc: 0.9875 - val_loss: 0.3112 - val_acc: 0.9490\n",
            "Epoch 16/30\n",
            "100/100 [==============================] - 18s 185ms/step - loss: 0.0299 - acc: 0.9930 - val_loss: 0.3698 - val_acc: 0.9460\n",
            "Epoch 17/30\n",
            "100/100 [==============================] - 20s 196ms/step - loss: 0.0330 - acc: 0.9860 - val_loss: 0.3698 - val_acc: 0.9500\n",
            "Epoch 18/30\n",
            "100/100 [==============================] - 19s 185ms/step - loss: 0.0304 - acc: 0.9895 - val_loss: 0.3492 - val_acc: 0.9500\n",
            "Epoch 19/30\n",
            "100/100 [==============================] - 18s 184ms/step - loss: 0.0272 - acc: 0.9910 - val_loss: 0.3710 - val_acc: 0.9480\n",
            "Epoch 20/30\n",
            "100/100 [==============================] - 18s 185ms/step - loss: 0.0418 - acc: 0.9870 - val_loss: 0.3227 - val_acc: 0.9490\n",
            "Epoch 21/30\n",
            "100/100 [==============================] - 20s 201ms/step - loss: 0.0243 - acc: 0.9935 - val_loss: 0.3949 - val_acc: 0.9400\n",
            "Epoch 22/30\n",
            "100/100 [==============================] - 19s 188ms/step - loss: 0.0398 - acc: 0.9890 - val_loss: 0.3230 - val_acc: 0.9430\n",
            "Epoch 23/30\n",
            "100/100 [==============================] - 18s 184ms/step - loss: 0.0267 - acc: 0.9920 - val_loss: 0.3079 - val_acc: 0.9520\n",
            "Epoch 24/30\n",
            "100/100 [==============================] - 18s 185ms/step - loss: 0.0319 - acc: 0.9900 - val_loss: 0.3575 - val_acc: 0.9510\n",
            "Epoch 25/30\n",
            "100/100 [==============================] - 18s 183ms/step - loss: 0.0329 - acc: 0.9930 - val_loss: 0.3944 - val_acc: 0.9470\n",
            "Epoch 26/30\n",
            "100/100 [==============================] - 20s 195ms/step - loss: 0.0302 - acc: 0.9930 - val_loss: 0.4923 - val_acc: 0.9310\n",
            "Epoch 27/30\n",
            "100/100 [==============================] - 18s 184ms/step - loss: 0.0501 - acc: 0.9895 - val_loss: 0.3422 - val_acc: 0.9490\n",
            "Epoch 28/30\n",
            "100/100 [==============================] - 18s 184ms/step - loss: 0.0304 - acc: 0.9930 - val_loss: 0.3473 - val_acc: 0.9480\n",
            "Epoch 29/30\n",
            "100/100 [==============================] - 18s 184ms/step - loss: 0.0237 - acc: 0.9905 - val_loss: 0.3787 - val_acc: 0.9490\n",
            "Epoch 30/30\n",
            "100/100 [==============================] - 20s 197ms/step - loss: 0.0310 - acc: 0.9900 - val_loss: 0.5552 - val_acc: 0.9350\n"
          ],
          "name": "stdout"
        }
      ]
    },
    {
      "metadata": {
        "id": "zFpr99qdhLYL",
        "colab_type": "code",
        "colab": {
          "base_uri": "https://localhost:8080/",
          "height": 51
        },
        "outputId": "a0b41133-b500-4029-a20d-2e0ee6a49953"
      },
      "cell_type": "code",
      "source": [
        "score= model.evaluate_generator(validation_generator,steps = 50)\n",
        "print(\"Loss :\",score[0])\n",
        "print(\"Accuracy: \",score[1])\n"
      ],
      "execution_count": 42,
      "outputs": [
        {
          "output_type": "stream",
          "text": [
            "Loss : 0.44575313260890653\n",
            "Accuracy:  0.9439999890327454\n"
          ],
          "name": "stdout"
        }
      ]
    },
    {
      "metadata": {
        "id": "J7OkHOgIlXld",
        "colab_type": "text"
      },
      "cell_type": "markdown",
      "source": [
        "Accuracy of 94%."
      ]
    },
    {
      "metadata": {
        "id": "yuHhTe7ahLsb",
        "colab_type": "code",
        "colab": {
          "base_uri": "https://localhost:8080/",
          "height": 545
        },
        "outputId": "eb57793e-1724-4ccf-d7aa-bd55dfdc7175"
      },
      "cell_type": "code",
      "source": [
        "acc = history.history['acc']\n",
        "val_acc = history.history['val_acc']\n",
        "\n",
        "loss = history.history['loss']\n",
        "val_loss = history.history['val_loss']\n",
        "\n",
        "epochs = range(1, len(acc) + 1)\n",
        "\n",
        "# training and validation accuracy\n",
        "\n",
        "plt.plot(epochs, acc, 'bo', label='training acc')\n",
        "plt.plot(epochs, val_acc, 'b', label='validation acc')\n",
        "plt.title('training and validation accuracy')\n",
        "plt.legend()\n",
        "\n",
        "plt.figure()\n",
        "\n",
        "# training and validation loss\n",
        "\n",
        "plt.plot(epochs, loss, 'bo', label='training loss')\n",
        "plt.plot(epochs, val_loss, 'b', label='validation loss')\n",
        "plt.title('training and validation loss')\n",
        "plt.legend()\n",
        "\n",
        "plt.show()\n"
      ],
      "execution_count": 43,
      "outputs": [
        {
          "output_type": "display_data",
          "data": {
            "image/png": "[encoded data removed]",
            "text/plain": [
              "<Figure size 432x288 with 1 Axes>"
            ]
          },
          "metadata": {
            "tags": []
          }
        },
        {
          "output_type": "display_data",
          "data": {
            "image/png": "[encoded data removed]",
            "text/plain": [
              "<Figure size 432x288 with 1 Axes>"
            ]
          },
          "metadata": {
            "tags": []
          }
        }
      ]
    },
    {
      "metadata": {
        "id": "8SSmjmYttf4r",
        "colab_type": "code",
        "colab": {}
      },
      "cell_type": "code",
      "source": [
        ""
      ],
      "execution_count": 0,
      "outputs": []
    }
  ]
}