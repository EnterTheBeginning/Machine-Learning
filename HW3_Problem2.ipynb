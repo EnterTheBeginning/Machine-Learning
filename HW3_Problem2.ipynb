{
  "nbformat": 4,
  "nbformat_minor": 0,
  "metadata": {
    "colab": {
      "name": "HW3_Problem2.ipynb",
      "version": "0.3.2",
      "provenance": [],
      "collapsed_sections": [],
      "include_colab_link": true
    },
    "kernelspec": {
      "name": "python3",
      "display_name": "Python 3"
    },
    "accelerator": "GPU"
  },
  "cells": [
    {
      "cell_type": "markdown",
      "metadata": {
        "id": "view-in-github",
        "colab_type": "text"
      },
      "source": [
        "<a href=\"https://colab.research.google.com/github/EnterTheBeginning/Machine-Learning/blob/master/HW3_Problem2.ipynb\" target=\"_parent\"><img src=\"https://colab.research.google.com/assets/colab-badge.svg\" alt=\"Open In Colab\"/></a>"
      ]
    },
    {
      "metadata": {
        "id": "F0m5bO4YcXZI",
        "colab_type": "text"
      },
      "cell_type": "markdown",
      "source": [
        "#Fine-Tuning"
      ]
    },
    {
      "metadata": {
        "id": "lGxBFVXoci04",
        "colab_type": "text"
      },
      "cell_type": "markdown",
      "source": [
        "Now there is a need to Unfreeze some layers in Conv Base network. \n",
        "\n",
        "Then Jointly train both layers and the parts that are added"
      ]
    },
    {
      "metadata": {
        "id": "gj_ySN13R01_",
        "colab_type": "code",
        "colab": {}
      },
      "cell_type": "code",
      "source": [
        "import numpy as np\n",
        "import pandas as pd\n",
        "import matplotlib.pyplot as plt\n",
        "import matplotlib.image as mpimg\n",
        "\n",
        "%matplotlib inline\n",
        "import os\n",
        "import zipfile\n",
        "\n",
        "from keras.layers import Dense,Dropout,Activation,Flatten\n",
        "from keras.models import Sequential\n",
        "from keras.preprocessing.image import ImageDataGenerator\n",
        "from keras.applications import VGG19\n",
        "from keras import layers\n",
        "from keras import optimizers\n"
      ],
      "execution_count": 0,
      "outputs": []
    },
    {
      "metadata": {
        "id": "cYvPMvSEUH-E",
        "colab_type": "text"
      },
      "cell_type": "markdown",
      "source": [
        "##Preprocessing"
      ]
    },
    {
      "metadata": {
        "id": "16OhyjzZTCFp",
        "colab_type": "code",
        "outputId": "93ef66b0-ce93-4e65-d1a3-651d482a70d5",
        "colab": {
          "base_uri": "https://localhost:8080/",
          "height": 275
        }
      },
      "cell_type": "code",
      "source": [
        "!wget --no-check-certificate \\\n",
        "    https://storage.googleapis.com/mledu-datasets/cats_and_dogs_filtered.zip \\\n",
        "    -O /tmp/cats_and_dogs_filtered.zip\n",
        "  \n",
        "local_zip = '/tmp/cats_and_dogs_filtered.zip'\n",
        "zip_ref = zipfile.ZipFile(local_zip, 'r')\n",
        "zip_ref.extractall('/tmp')\n",
        "zip_ref.close()\n",
        "base_dir = '/tmp/cats_and_dogs_filtered'\n",
        "\n",
        "train_dir = os.path.join(base_dir, 'train')\n",
        "validation_dir = os.path.join(base_dir, 'validation')\n",
        "test_dir = os.path.join()\n",
        "train_cats_dir = os.path.join(train_dir, 'cats')\n",
        "train_dogs_dir = os.path.join(train_dir, 'dogs')\n",
        "validation_cats_dir = os.path.join(validation_dir, 'cats')\n",
        "validation_dogs_dir = os.path.join(validation_dir, 'dogs')\n",
        "train_cat_fnames = os.listdir(train_cats_dir)\n",
        "train_cat_fnames.sort()\n",
        "train_dog_fnames = os.listdir(train_dogs_dir)\n",
        "train_dog_fnames.sort()\n",
        "conv_base = VGG19(weights='imagenet',include_top=False,input_shape=(150,150,3))"
      ],
      "execution_count": 7,
      "outputs": [
        {
          "output_type": "stream",
          "text": [
            "--2019-04-16 18:45:49--  https://storage.googleapis.com/mledu-datasets/cats_and_dogs_filtered.zip\n",
            "Resolving storage.googleapis.com (storage.googleapis.com)... 173.194.69.128, 2a00:1450:4013:c04::80\n",
            "Connecting to storage.googleapis.com (storage.googleapis.com)|173.194.69.128|:443... connected.\n",
            "HTTP request sent, awaiting response... 200 OK\n",
            "Length: 68606236 (65M) [application/zip]\n",
            "Saving to: ‘/tmp/cats_and_dogs_filtered.zip’\n",
            "\n",
            "/tmp/cats_and_dogs_ 100%[===================>]  65.43M  58.8MB/s    in 1.1s    \n",
            "\n",
            "2019-04-16 18:45:50 (58.8 MB/s) - ‘/tmp/cats_and_dogs_filtered.zip’ saved [68606236/68606236]\n",
            "\n",
            "WARNING:tensorflow:From /usr/local/lib/python3.6/dist-packages/tensorflow/python/framework/op_def_library.py:263: colocate_with (from tensorflow.python.framework.ops) is deprecated and will be removed in a future version.\n",
            "Instructions for updating:\n",
            "Colocations handled automatically by placer.\n"
          ],
          "name": "stdout"
        }
      ]
    },
    {
      "metadata": {
        "id": "3zifrS2QmYNw",
        "colab_type": "text"
      },
      "cell_type": "markdown",
      "source": [
        "##Freezing the Conv Base"
      ]
    },
    {
      "metadata": {
        "id": "MiLp3z3FmbU4",
        "colab_type": "code",
        "colab": {}
      },
      "cell_type": "code",
      "source": [
        "conv_base.trainable = False\n",
        "from keras import layers\n",
        "from keras import models\n",
        "from keras import optimizers\n",
        "\n",
        "model = models.Sequential()\n",
        "model.add(conv_base)\n",
        "model.add(layers.Flatten())\n",
        "model.add(layers.Dense(256, activation='relu'))\n",
        "#model.add(layers.Dropout(0.1))\n",
        "model.add(layers.Dense(1, activation='sigmoid'))"
      ],
      "execution_count": 0,
      "outputs": []
    },
    {
      "metadata": {
        "id": "jT7hsdgddDR6",
        "colab_type": "text"
      },
      "cell_type": "markdown",
      "source": [
        "##Unfreezing"
      ]
    },
    {
      "metadata": {
        "id": "i7Bl4mPOdG0B",
        "colab_type": "code",
        "colab": {
          "base_uri": "https://localhost:8080/",
          "height": 884
        },
        "outputId": "a8b009ba-3711-4545-e957-874b92a30b76"
      },
      "cell_type": "code",
      "source": [
        "conv_base.summary()"
      ],
      "execution_count": 9,
      "outputs": [
        {
          "output_type": "stream",
          "text": [
            "_________________________________________________________________\n",
            "Layer (type)                 Output Shape              Param #   \n",
            "=================================================================\n",
            "input_1 (InputLayer)         (None, 150, 150, 3)       0         \n",
            "_________________________________________________________________\n",
            "block1_conv1 (Conv2D)        (None, 150, 150, 64)      1792      \n",
            "_________________________________________________________________\n",
            "block1_conv2 (Conv2D)        (None, 150, 150, 64)      36928     \n",
            "_________________________________________________________________\n",
            "block1_pool (MaxPooling2D)   (None, 75, 75, 64)        0         \n",
            "_________________________________________________________________\n",
            "block2_conv1 (Conv2D)        (None, 75, 75, 128)       73856     \n",
            "_________________________________________________________________\n",
            "block2_conv2 (Conv2D)        (None, 75, 75, 128)       147584    \n",
            "_________________________________________________________________\n",
            "block2_pool (MaxPooling2D)   (None, 37, 37, 128)       0         \n",
            "_________________________________________________________________\n",
            "block3_conv1 (Conv2D)        (None, 37, 37, 256)       295168    \n",
            "_________________________________________________________________\n",
            "block3_conv2 (Conv2D)        (None, 37, 37, 256)       590080    \n",
            "_________________________________________________________________\n",
            "block3_conv3 (Conv2D)        (None, 37, 37, 256)       590080    \n",
            "_________________________________________________________________\n",
            "block3_conv4 (Conv2D)        (None, 37, 37, 256)       590080    \n",
            "_________________________________________________________________\n",
            "block3_pool (MaxPooling2D)   (None, 18, 18, 256)       0         \n",
            "_________________________________________________________________\n",
            "block4_conv1 (Conv2D)        (None, 18, 18, 512)       1180160   \n",
            "_________________________________________________________________\n",
            "block4_conv2 (Conv2D)        (None, 18, 18, 512)       2359808   \n",
            "_________________________________________________________________\n",
            "block4_conv3 (Conv2D)        (None, 18, 18, 512)       2359808   \n",
            "_________________________________________________________________\n",
            "block4_conv4 (Conv2D)        (None, 18, 18, 512)       2359808   \n",
            "_________________________________________________________________\n",
            "block4_pool (MaxPooling2D)   (None, 9, 9, 512)         0         \n",
            "_________________________________________________________________\n",
            "block5_conv1 (Conv2D)        (None, 9, 9, 512)         2359808   \n",
            "_________________________________________________________________\n",
            "block5_conv2 (Conv2D)        (None, 9, 9, 512)         2359808   \n",
            "_________________________________________________________________\n",
            "block5_conv3 (Conv2D)        (None, 9, 9, 512)         2359808   \n",
            "_________________________________________________________________\n",
            "block5_conv4 (Conv2D)        (None, 9, 9, 512)         2359808   \n",
            "_________________________________________________________________\n",
            "block5_pool (MaxPooling2D)   (None, 4, 4, 512)         0         \n",
            "=================================================================\n",
            "Total params: 20,024,384\n",
            "Trainable params: 20,024,384\n",
            "Non-trainable params: 0\n",
            "_________________________________________________________________\n"
          ],
          "name": "stdout"
        }
      ]
    },
    {
      "metadata": {
        "id": "K2mCxOD9eRVN",
        "colab_type": "text"
      },
      "cell_type": "markdown",
      "source": [
        "Lets fine tune the last **four CNN** layers = all layers above needs to be frozen"
      ]
    },
    {
      "metadata": {
        "id": "mfDD4rbUePwk",
        "colab_type": "code",
        "colab": {}
      },
      "cell_type": "code",
      "source": [
        "conv_base.trainable = True\n",
        "set_trainable = False\n",
        "for layer in conv_base.layers:\n",
        "  if layer.name == 'block5_conv1':\n",
        "    set_trainable = True\n",
        "  if set_trainable:\n",
        "    layer.trainable = True\n",
        "  else:\n",
        "    layer.trainable = False"
      ],
      "execution_count": 0,
      "outputs": []
    },
    {
      "metadata": {
        "id": "rEobeGAXg0FK",
        "colab_type": "code",
        "colab": {
          "base_uri": "https://localhost:8080/",
          "height": 51
        },
        "outputId": "0a07facb-346b-4d6c-8dac-1aaefcb99ebe"
      },
      "cell_type": "code",
      "source": [
        "#Data Augmentation\n",
        "train_datagen = ImageDataGenerator(rescale = 1./255,\n",
        "                                   rotation_range=40,\n",
        "                                   width_shift_range=0.2,\n",
        "                                   height_shift_range=0.2,\n",
        "                                   shear_range=0.2,\n",
        "                                   zoom_range=0.2,\n",
        "                                   horizontal_flip=True,\n",
        "                                   fill_mode='nearest')\n",
        "test_datagen = ImageDataGenerator(rescale=1./255)\n",
        "\n",
        "train_generator = train_datagen.flow_from_directory(\n",
        "    train_dir,\n",
        "    target_size = (150,150),\n",
        "    batch_size = 20,\n",
        "    class_mode = 'binary'\n",
        ")\n",
        "validation_generator = train_datagen.flow_from_directory(\n",
        "    validation_dir,\n",
        "    target_size = (150,150),\n",
        "    batch_size = 20,\n",
        "    class_mode = 'binary'\n",
        ")\n",
        "test_generator = \n"
      ],
      "execution_count": 19,
      "outputs": [
        {
          "output_type": "stream",
          "text": [
            "Found 2000 images belonging to 2 classes.\n",
            "Found 1000 images belonging to 2 classes.\n"
          ],
          "name": "stdout"
        }
      ]
    },
    {
      "metadata": {
        "id": "jgoinbC2fjAo",
        "colab_type": "code",
        "colab": {
          "base_uri": "https://localhost:8080/",
          "height": 1088
        },
        "outputId": "d76a9f4d-7b84-44bd-b26f-1ca74e802534"
      },
      "cell_type": "code",
      "source": [
        "model = Sequential()\n",
        "model.add(conv_base)\n",
        "model.add(Flatten())\n",
        "model.add(Dense(256,activation = 'relu'))\n",
        "model.add(Dense(1,activation = 'sigmoid'))\n",
        "model.compile(loss='binary_crossentropy',optimizer=optimizers.RMSprop(lr=2e-5),metrics=['acc'])\n",
        "history = model.fit_generator(train_generator,steps_per_epoch=100,epochs=30,validation_data=validation_generator,validation_steps = 50)"
      ],
      "execution_count": 21,
      "outputs": [
        {
          "output_type": "stream",
          "text": [
            "WARNING:tensorflow:From /usr/local/lib/python3.6/dist-packages/tensorflow/python/ops/math_ops.py:3066: to_int32 (from tensorflow.python.ops.math_ops) is deprecated and will be removed in a future version.\n",
            "Instructions for updating:\n",
            "Use tf.cast instead.\n",
            "Epoch 1/30\n",
            "100/100 [==============================] - 29s 286ms/step - loss: 0.4853 - acc: 0.7530 - val_loss: 0.3979 - val_acc: 0.8190\n",
            "Epoch 2/30\n",
            "100/100 [==============================] - 22s 223ms/step - loss: 0.3283 - acc: 0.8550 - val_loss: 0.3706 - val_acc: 0.8420\n",
            "Epoch 3/30\n",
            "100/100 [==============================] - 23s 229ms/step - loss: 0.2963 - acc: 0.8735 - val_loss: 0.3003 - val_acc: 0.8790\n",
            "Epoch 4/30\n",
            "100/100 [==============================] - 23s 232ms/step - loss: 0.2577 - acc: 0.8975 - val_loss: 0.2883 - val_acc: 0.8680\n",
            "Epoch 5/30\n",
            "100/100 [==============================] - 22s 222ms/step - loss: 0.2275 - acc: 0.9075 - val_loss: 0.2604 - val_acc: 0.9000\n",
            "Epoch 6/30\n",
            "100/100 [==============================] - 22s 223ms/step - loss: 0.2175 - acc: 0.9175 - val_loss: 0.3180 - val_acc: 0.8730\n",
            "Epoch 7/30\n",
            "100/100 [==============================] - 23s 229ms/step - loss: 0.2122 - acc: 0.9050 - val_loss: 0.2176 - val_acc: 0.9120\n",
            "Epoch 8/30\n",
            "100/100 [==============================] - 22s 223ms/step - loss: 0.1852 - acc: 0.9235 - val_loss: 0.2377 - val_acc: 0.8950\n",
            "Epoch 9/30\n",
            "100/100 [==============================] - 22s 221ms/step - loss: 0.1841 - acc: 0.9225 - val_loss: 0.3717 - val_acc: 0.8640\n",
            "Epoch 10/30\n",
            "100/100 [==============================] - 22s 220ms/step - loss: 0.1571 - acc: 0.9325 - val_loss: 0.2443 - val_acc: 0.9040\n",
            "Epoch 11/30\n",
            "100/100 [==============================] - 23s 232ms/step - loss: 0.1401 - acc: 0.9435 - val_loss: 0.2332 - val_acc: 0.9010\n",
            "Epoch 12/30\n",
            "100/100 [==============================] - 22s 220ms/step - loss: 0.1437 - acc: 0.9490 - val_loss: 0.2864 - val_acc: 0.9070\n",
            "Epoch 13/30\n",
            "100/100 [==============================] - 22s 220ms/step - loss: 0.1499 - acc: 0.9370 - val_loss: 0.2461 - val_acc: 0.9110\n",
            "Epoch 14/30\n",
            "100/100 [==============================] - 23s 231ms/step - loss: 0.1355 - acc: 0.9445 - val_loss: 0.2719 - val_acc: 0.9010\n",
            "Epoch 15/30\n",
            "100/100 [==============================] - 23s 227ms/step - loss: 0.1267 - acc: 0.9495 - val_loss: 0.2494 - val_acc: 0.9050\n",
            "Epoch 16/30\n",
            "100/100 [==============================] - 23s 226ms/step - loss: 0.1146 - acc: 0.9545 - val_loss: 0.2107 - val_acc: 0.9170\n",
            "Epoch 17/30\n",
            "100/100 [==============================] - 22s 221ms/step - loss: 0.1162 - acc: 0.9565 - val_loss: 0.2689 - val_acc: 0.9240\n",
            "Epoch 18/30\n",
            "100/100 [==============================] - 23s 231ms/step - loss: 0.1227 - acc: 0.9535 - val_loss: 0.3293 - val_acc: 0.8960\n",
            "Epoch 19/30\n",
            "100/100 [==============================] - 22s 219ms/step - loss: 0.1070 - acc: 0.9635 - val_loss: 0.2369 - val_acc: 0.9190\n",
            "Epoch 20/30\n",
            "100/100 [==============================] - 22s 220ms/step - loss: 0.1132 - acc: 0.9530 - val_loss: 0.2385 - val_acc: 0.9120\n",
            "Epoch 21/30\n",
            "100/100 [==============================] - 22s 217ms/step - loss: 0.0961 - acc: 0.9675 - val_loss: 0.2659 - val_acc: 0.9160\n",
            "Epoch 22/30\n",
            "100/100 [==============================] - 23s 231ms/step - loss: 0.0923 - acc: 0.9660 - val_loss: 0.2880 - val_acc: 0.9120\n",
            "Epoch 23/30\n",
            "100/100 [==============================] - 22s 219ms/step - loss: 0.0801 - acc: 0.9715 - val_loss: 0.2121 - val_acc: 0.9310\n",
            "Epoch 24/30\n",
            "100/100 [==============================] - 22s 220ms/step - loss: 0.0768 - acc: 0.9715 - val_loss: 0.3297 - val_acc: 0.9050\n",
            "Epoch 25/30\n",
            "100/100 [==============================] - 23s 228ms/step - loss: 0.0782 - acc: 0.9720 - val_loss: 0.3089 - val_acc: 0.9130\n",
            "Epoch 26/30\n",
            "100/100 [==============================] - 22s 222ms/step - loss: 0.0643 - acc: 0.9780 - val_loss: 0.3803 - val_acc: 0.9140\n",
            "Epoch 27/30\n",
            "100/100 [==============================] - 22s 219ms/step - loss: 0.0661 - acc: 0.9720 - val_loss: 0.2730 - val_acc: 0.9180\n",
            "Epoch 28/30\n",
            "100/100 [==============================] - 23s 233ms/step - loss: 0.0642 - acc: 0.9755 - val_loss: 0.3217 - val_acc: 0.9150\n",
            "Epoch 29/30\n",
            "100/100 [==============================] - 23s 231ms/step - loss: 0.0742 - acc: 0.9735 - val_loss: 0.3268 - val_acc: 0.9090\n",
            "Epoch 30/30\n",
            "100/100 [==============================] - 22s 224ms/step - loss: 0.0612 - acc: 0.9790 - val_loss: 0.3312 - val_acc: 0.9110\n"
          ],
          "name": "stdout"
        }
      ]
    },
    {
      "metadata": {
        "id": "zFpr99qdhLYL",
        "colab_type": "code",
        "colab": {
          "base_uri": "https://localhost:8080/",
          "height": 51
        },
        "outputId": "057cae18-be46-4682-a5c8-093e2771047c"
      },
      "cell_type": "code",
      "source": [
        "score= model.evaluate_generator(validation_generator,steps = 50)\n",
        "print(\"Loss :\",score[0])\n",
        "print(\"Accuracy: \",score[1])\n"
      ],
      "execution_count": 23,
      "outputs": [
        {
          "output_type": "stream",
          "text": [
            "Loss : 0.3058997538080439\n",
            "Accuracy:  0.9209999930858612\n"
          ],
          "name": "stdout"
        }
      ]
    },
    {
      "metadata": {
        "id": "J7OkHOgIlXld",
        "colab_type": "text"
      },
      "cell_type": "markdown",
      "source": [
        "Accuracy of 92% initially."
      ]
    },
    {
      "metadata": {
        "id": "yuHhTe7ahLsb",
        "colab_type": "code",
        "colab": {
          "base_uri": "https://localhost:8080/",
          "height": 545
        },
        "outputId": "eb9871b1-8638-4b86-e020-85979bbca194"
      },
      "cell_type": "code",
      "source": [
        "acc = history.history['acc']\n",
        "val_acc = history.history['val_acc']\n",
        "\n",
        "loss = history.history['loss']\n",
        "val_loss = history.history['val_loss']\n",
        "\n",
        "epochs = range(1, len(acc) + 1)\n",
        "\n",
        "# training and validation accuracy\n",
        "\n",
        "plt.plot(epochs, acc, 'bo', label='training acc')\n",
        "plt.plot(epochs, val_acc, 'b', label='validation acc')\n",
        "plt.title('training and validation accuracy')\n",
        "plt.legend()\n",
        "\n",
        "plt.figure()\n",
        "\n",
        "# training and validation loss\n",
        "\n",
        "plt.plot(epochs, loss, 'bo', label='training loss')\n",
        "plt.plot(epochs, val_loss, 'b', label='validation loss')\n",
        "plt.title('training and validation loss')\n",
        "plt.legend()\n",
        "\n",
        "plt.show()\n"
      ],
      "execution_count": 26,
      "outputs": [
        {
          "output_type": "display_data",
          "data": {
            "image/png": "[encoded data removed]",
            "text/plain": [
              "<Figure size 432x288 with 1 Axes>"
            ]
          },
          "metadata": {
            "tags": []
          }
        },
        {
          "output_type": "display_data",
          "data": {
            "image/png": "[encoded data removed]",
            "text/plain": [
              "<Figure size 432x288 with 1 Axes>"
            ]
          },
          "metadata": {
            "tags": []
          }
        }
      ]
    },
    {
      "metadata": {
        "id": "YMyyJaJanXOq",
        "colab_type": "code",
        "colab": {}
      },
      "cell_type": "code",
      "source": [
        ""
      ],
      "execution_count": 0,
      "outputs": []
    }
  ]
}