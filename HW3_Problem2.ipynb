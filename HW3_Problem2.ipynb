{
  "nbformat": 4,
  "nbformat_minor": 0,
  "metadata": {
    "colab": {
      "name": "HW3_Problem2.ipynb",
      "version": "0.3.2",
      "provenance": [],
      "collapsed_sections": [],
      "include_colab_link": true
    },
    "kernelspec": {
      "name": "python3",
      "display_name": "Python 3"
    },
    "accelerator": "GPU"
  },
  "cells": [
    {
      "cell_type": "markdown",
      "metadata": {
        "id": "view-in-github",
        "colab_type": "text"
      },
      "source": [
        "<a href=\"https://colab.research.google.com/github/EnterTheBeginning/Machine-Learning/blob/master/HW3_Problem2.ipynb\" target=\"_parent\"><img src=\"https://colab.research.google.com/assets/colab-badge.svg\" alt=\"Open In Colab\"/></a>"
      ]
    },
    {
      "metadata": {
        "id": "F0m5bO4YcXZI",
        "colab_type": "text"
      },
      "cell_type": "markdown",
      "source": [
        "#Fine-Tuning"
      ]
    },
    {
      "metadata": {
        "id": "lGxBFVXoci04",
        "colab_type": "text"
      },
      "cell_type": "markdown",
      "source": [
        "Now there is a need to Unfreeze some layers in Conv Base network. \n",
        "\n",
        "Then Jointly train both layers and the parts that are added"
      ]
    },
    {
      "metadata": {
        "id": "gj_ySN13R01_",
        "colab_type": "code",
        "outputId": "670f81ac-b0d8-41f4-9d82-ee94b6355eea",
        "colab": {
          "base_uri": "https://localhost:8080/",
          "height": 34
        }
      },
      "cell_type": "code",
      "source": [
        "import numpy as np\n",
        "import pandas as pd\n",
        "import matplotlib.pyplot as plt\n",
        "import matplotlib.image as mpimg\n",
        "\n",
        "%matplotlib inline\n",
        "import os\n",
        "import zipfile\n",
        "\n",
        "from keras.layers import Dense,Dropout,Activation,Flatten\n",
        "from keras.models import Sequential\n",
        "from keras.preprocessing.image import ImageDataGenerator\n",
        "from keras.applications import VGG19\n",
        "from keras import layers\n",
        "from keras import optimizers\n"
      ],
      "execution_count": 1,
      "outputs": [
        {
          "output_type": "stream",
          "text": [
            "Using TensorFlow backend.\n"
          ],
          "name": "stderr"
        }
      ]
    },
    {
      "metadata": {
        "id": "cYvPMvSEUH-E",
        "colab_type": "text"
      },
      "cell_type": "markdown",
      "source": [
        "##Preprocessing"
      ]
    },
    {
      "metadata": {
        "id": "16OhyjzZTCFp",
        "colab_type": "code",
        "outputId": "53e355b9-e21a-4a15-f32b-fbd4324eae61",
        "colab": {
          "base_uri": "https://localhost:8080/",
          "height": 255
        }
      },
      "cell_type": "code",
      "source": [
        "!wget --no-check-certificate \\\n",
        "    https://storage.googleapis.com/mledu-datasets/cats_and_dogs_filtered.zip \\\n",
        "    -O /tmp/cats_and_dogs_filtered.zip\n",
        "  \n",
        "local_zip = '/tmp/cats_and_dogs_filtered.zip'\n",
        "zip_ref = zipfile.ZipFile(local_zip, 'r')\n",
        "zip_ref.extractall('/tmp')\n",
        "zip_ref.close()\n",
        "base_dir = '/tmp/cats_and_dogs_filtered'\n",
        "\n",
        "train_dir = os.path.join(base_dir, 'train')\n",
        "validation_dir = os.path.join(base_dir, 'validation')\n",
        "train_cats_dir = os.path.join(train_dir, 'cats')\n",
        "train_dogs_dir = os.path.join(train_dir, 'dogs')\n",
        "validation_cats_dir = os.path.join(validation_dir, 'cats')\n",
        "validation_dogs_dir = os.path.join(validation_dir, 'dogs')\n",
        "train_cat_fnames = os.listdir(train_cats_dir)\n",
        "train_cat_fnames.sort()\n",
        "train_dog_fnames = os.listdir(train_dogs_dir)\n",
        "train_dog_fnames.sort()\n",
        "#Conv Base VGG19\n",
        "conv_base = VGG19(weights='imagenet',\n",
        "                  include_top=False,\n",
        "                  input_shape=(150,150,3))"
      ],
      "execution_count": 2,
      "outputs": [
        {
          "output_type": "stream",
          "text": [
            "--2019-04-17 21:49:36--  https://storage.googleapis.com/mledu-datasets/cats_and_dogs_filtered.zip\n",
            "Resolving storage.googleapis.com (storage.googleapis.com)... 173.194.197.128, 2607:f8b0:4001:c07::80\n",
            "Connecting to storage.googleapis.com (storage.googleapis.com)|173.194.197.128|:443... connected.\n",
            "HTTP request sent, awaiting response... 200 OK\n",
            "Length: 68606236 (65M) [application/zip]\n",
            "Saving to: ‘/tmp/cats_and_dogs_filtered.zip’\n",
            "\n",
            "/tmp/cats_and_dogs_ 100%[===================>]  65.43M   204MB/s    in 0.3s    \n",
            "\n",
            "2019-04-17 21:49:36 (204 MB/s) - ‘/tmp/cats_and_dogs_filtered.zip’ saved [68606236/68606236]\n",
            "\n",
            "WARNING:tensorflow:From /usr/local/lib/python3.6/dist-packages/tensorflow/python/framework/op_def_library.py:263: colocate_with (from tensorflow.python.framework.ops) is deprecated and will be removed in a future version.\n",
            "Instructions for updating:\n",
            "Colocations handled automatically by placer.\n"
          ],
          "name": "stdout"
        }
      ]
    },
    {
      "metadata": {
        "id": "tf8gdBXRIGtR",
        "colab_type": "text"
      },
      "cell_type": "markdown",
      "source": [
        "##Feature Extraction"
      ]
    },
    {
      "metadata": {
        "id": "1azcCyt3IBYR",
        "colab_type": "code",
        "outputId": "e2d1f5b6-4859-4500-ddf6-999e9e9449bd",
        "colab": {
          "base_uri": "https://localhost:8080/",
          "height": 85
        }
      },
      "cell_type": "code",
      "source": [
        "##Feature Extractions\n",
        "%%time\n",
        "from keras.preprocessing.image import ImageDataGenerator\n",
        "import numpy as np\n",
        "\n",
        "datagen = ImageDataGenerator(rescale=1./255)\n",
        "batch_size = 20\n",
        "\n",
        "def extract_features(directory, sample_count):\n",
        "  features = np.zeros(shape=(sample_count, 4, 4, 512))\n",
        "  labels = np.zeros(shape=(sample_count))\n",
        "  generator = datagen.flow_from_directory(\n",
        "      directory, target_size=(150, 150),\n",
        "      batch_size=batch_size,\n",
        "      class_mode='binary'\n",
        "  )\n",
        "  i = 0\n",
        "  for input_batch, labels_batch in generator:\n",
        "    features_batch = conv_base.predict(input_batch)\n",
        "    features[i * batch_size : (i + 1) * batch_size] = features_batch\n",
        "    labels[i * batch_size : (i + 1) * batch_size] = labels_batch\n",
        "    i += 1\n",
        "    if i * batch_size >= sample_count:\n",
        "      break\n",
        "  return features, labels\n",
        "\n",
        "train_features, train_labels = extract_features(train_dir, 2000)\n",
        "validation_features, validation_labels = extract_features(validation_dir, 1000)\n",
        "\n",
        "train_features = np.reshape(train_features, (2000, 4 * 4 * 512))\n",
        "validation_features = np.reshape(validation_features, (1000, 4 * 4 * 512))\n"
      ],
      "execution_count": 3,
      "outputs": [
        {
          "output_type": "stream",
          "text": [
            "Found 2000 images belonging to 2 classes.\n",
            "Found 1000 images belonging to 2 classes.\n",
            "CPU times: user 16.1 s, sys: 6.05 s, total: 22.2 s\n",
            "Wall time: 21.2 s\n"
          ],
          "name": "stdout"
        }
      ]
    },
    {
      "metadata": {
        "id": "3zifrS2QmYNw",
        "colab_type": "text"
      },
      "cell_type": "markdown",
      "source": [
        "##Freezing the Conv Base"
      ]
    },
    {
      "metadata": {
        "id": "NJOj-Zy-VwvQ",
        "colab_type": "code",
        "colab": {
          "base_uri": "https://localhost:8080/",
          "height": 391
        },
        "outputId": "3d64a133-0b4c-4263-9a10-9b36b50c6311"
      },
      "cell_type": "code",
      "source": [
        "for i,layer in enumerate(conv_base.layers):\n",
        "    print(i,layer.name)\n"
      ],
      "execution_count": 15,
      "outputs": [
        {
          "output_type": "stream",
          "text": [
            "0 input_1\n",
            "1 block1_conv1\n",
            "2 block1_conv2\n",
            "3 block1_pool\n",
            "4 block2_conv1\n",
            "5 block2_conv2\n",
            "6 block2_pool\n",
            "7 block3_conv1\n",
            "8 block3_conv2\n",
            "9 block3_conv3\n",
            "10 block3_conv4\n",
            "11 block3_pool\n",
            "12 block4_conv1\n",
            "13 block4_conv2\n",
            "14 block4_conv3\n",
            "15 block4_conv4\n",
            "16 block4_pool\n",
            "17 block5_conv1\n",
            "18 block5_conv2\n",
            "19 block5_conv3\n",
            "20 block5_conv4\n",
            "21 block5_pool\n"
          ],
          "name": "stdout"
        }
      ]
    },
    {
      "metadata": {
        "id": "MiLp3z3FmbU4",
        "colab_type": "code",
        "colab": {}
      },
      "cell_type": "code",
      "source": [
        "conv_base.trainable = False\n",
        "from keras import layers\n",
        "from keras import models\n",
        "from keras import optimizers\n",
        "from keras.layers import Flatten"
      ],
      "execution_count": 0,
      "outputs": []
    },
    {
      "metadata": {
        "id": "sWV6vPojn5fy",
        "colab_type": "code",
        "outputId": "73f8c3ce-bc35-4e63-ac0e-1182411b1427",
        "colab": {
          "base_uri": "https://localhost:8080/",
          "height": 170
        }
      },
      "cell_type": "code",
      "source": [
        "#Data Augmentation\n",
        "train_datagen = ImageDataGenerator(rescale = 1./255,\n",
        "                                   rotation_range=40,\n",
        "                                   width_shift_range=0.2,\n",
        "                                   height_shift_range=0.2,\n",
        "                                   shear_range=0.2,\n",
        "                                   zoom_range=0.2,\n",
        "                                   horizontal_flip=True,\n",
        "                                   fill_mode='nearest')\n",
        "test_datagen = ImageDataGenerator(rescale=1./255)\n",
        "\n",
        "train_generator = train_datagen.flow_from_directory(\n",
        "    train_dir,\n",
        "    target_size = (150,150),\n",
        "    batch_size = 20,\n",
        "    class_mode = 'binary'\n",
        ")\n",
        "validation_generator = train_datagen.flow_from_directory(\n",
        "    validation_dir,\n",
        "    target_size = (150,150),\n",
        "    batch_size = 20,\n",
        "    class_mode = 'binary'\n",
        ")\n",
        "\n",
        "model = Sequential()\n",
        "model.add(conv_base)\n",
        "model.add(Flatten())\n",
        "model.add(Dense(256,activation='relu'))\n",
        "model.add(Dense(1,activation ='sigmoid'))\n",
        "model.compile(loss='binary_crossentropy',optimizer=optimizers.RMSprop(lr=2e-5),metrics=['acc'])\n",
        "history = model.fit_generator(train_generator,steps_per_epoch=100,epochs=2,\n",
        "                                validation_data=validation_generator,validation_steps=50)\n"
      ],
      "execution_count": 5,
      "outputs": [
        {
          "output_type": "stream",
          "text": [
            "Found 2000 images belonging to 2 classes.\n",
            "Found 1000 images belonging to 2 classes.\n",
            "WARNING:tensorflow:From /usr/local/lib/python3.6/dist-packages/tensorflow/python/ops/math_ops.py:3066: to_int32 (from tensorflow.python.ops.math_ops) is deprecated and will be removed in a future version.\n",
            "Instructions for updating:\n",
            "Use tf.cast instead.\n",
            "Epoch 1/2\n",
            "100/100 [==============================] - 23s 230ms/step - loss: 0.6171 - acc: 0.6670 - val_loss: 0.5576 - val_acc: 0.7340\n",
            "Epoch 2/2\n",
            "100/100 [==============================] - 22s 225ms/step - loss: 0.5213 - acc: 0.7535 - val_loss: 0.4959 - val_acc: 0.7490\n"
          ],
          "name": "stdout"
        }
      ]
    },
    {
      "metadata": {
        "id": "jT7hsdgddDR6",
        "colab_type": "text"
      },
      "cell_type": "markdown",
      "source": [
        "##Unfreezing\n",
        "\n"
      ]
    },
    {
      "metadata": {
        "id": "K2mCxOD9eRVN",
        "colab_type": "text"
      },
      "cell_type": "markdown",
      "source": [
        "Lets fine tune the last **four CNN** layers = all layers above needs to be frozen"
      ]
    },
    {
      "metadata": {
        "id": "CfXnHDrNREmj",
        "colab_type": "code",
        "colab": {
          "base_uri": "https://localhost:8080/",
          "height": 884
        },
        "outputId": "2003a5dc-8af8-4a12-ec39-a7524a4e33d4"
      },
      "cell_type": "code",
      "source": [
        "conv_base.summary()"
      ],
      "execution_count": 6,
      "outputs": [
        {
          "output_type": "stream",
          "text": [
            "_________________________________________________________________\n",
            "Layer (type)                 Output Shape              Param #   \n",
            "=================================================================\n",
            "input_1 (InputLayer)         (None, 150, 150, 3)       0         \n",
            "_________________________________________________________________\n",
            "block1_conv1 (Conv2D)        (None, 150, 150, 64)      1792      \n",
            "_________________________________________________________________\n",
            "block1_conv2 (Conv2D)        (None, 150, 150, 64)      36928     \n",
            "_________________________________________________________________\n",
            "block1_pool (MaxPooling2D)   (None, 75, 75, 64)        0         \n",
            "_________________________________________________________________\n",
            "block2_conv1 (Conv2D)        (None, 75, 75, 128)       73856     \n",
            "_________________________________________________________________\n",
            "block2_conv2 (Conv2D)        (None, 75, 75, 128)       147584    \n",
            "_________________________________________________________________\n",
            "block2_pool (MaxPooling2D)   (None, 37, 37, 128)       0         \n",
            "_________________________________________________________________\n",
            "block3_conv1 (Conv2D)        (None, 37, 37, 256)       295168    \n",
            "_________________________________________________________________\n",
            "block3_conv2 (Conv2D)        (None, 37, 37, 256)       590080    \n",
            "_________________________________________________________________\n",
            "block3_conv3 (Conv2D)        (None, 37, 37, 256)       590080    \n",
            "_________________________________________________________________\n",
            "block3_conv4 (Conv2D)        (None, 37, 37, 256)       590080    \n",
            "_________________________________________________________________\n",
            "block3_pool (MaxPooling2D)   (None, 18, 18, 256)       0         \n",
            "_________________________________________________________________\n",
            "block4_conv1 (Conv2D)        (None, 18, 18, 512)       1180160   \n",
            "_________________________________________________________________\n",
            "block4_conv2 (Conv2D)        (None, 18, 18, 512)       2359808   \n",
            "_________________________________________________________________\n",
            "block4_conv3 (Conv2D)        (None, 18, 18, 512)       2359808   \n",
            "_________________________________________________________________\n",
            "block4_conv4 (Conv2D)        (None, 18, 18, 512)       2359808   \n",
            "_________________________________________________________________\n",
            "block4_pool (MaxPooling2D)   (None, 9, 9, 512)         0         \n",
            "_________________________________________________________________\n",
            "block5_conv1 (Conv2D)        (None, 9, 9, 512)         2359808   \n",
            "_________________________________________________________________\n",
            "block5_conv2 (Conv2D)        (None, 9, 9, 512)         2359808   \n",
            "_________________________________________________________________\n",
            "block5_conv3 (Conv2D)        (None, 9, 9, 512)         2359808   \n",
            "_________________________________________________________________\n",
            "block5_conv4 (Conv2D)        (None, 9, 9, 512)         2359808   \n",
            "_________________________________________________________________\n",
            "block5_pool (MaxPooling2D)   (None, 4, 4, 512)         0         \n",
            "=================================================================\n",
            "Total params: 20,024,384\n",
            "Trainable params: 0\n",
            "Non-trainable params: 20,024,384\n",
            "_________________________________________________________________\n"
          ],
          "name": "stdout"
        }
      ]
    },
    {
      "metadata": {
        "id": "mfDD4rbUePwk",
        "colab_type": "code",
        "colab": {}
      },
      "cell_type": "code",
      "source": [
        "conv_base.trainable = True\n",
        "set_trainable = False\n",
        "for layer in conv_base.layers:\n",
        "  if layer.name == 'block3_conv1':\n",
        "    set_trainable = True\n",
        "  if set_trainable:\n",
        "    layer.trainable = True\n",
        "  else:\n",
        "    layer.trainable = False"
      ],
      "execution_count": 0,
      "outputs": []
    },
    {
      "metadata": {
        "id": "jgoinbC2fjAo",
        "colab_type": "code",
        "colab": {
          "base_uri": "https://localhost:8080/",
          "height": 1057
        },
        "outputId": "f492e3bf-5b96-4b4c-cf54-6d25302640b5"
      },
      "cell_type": "code",
      "source": [
        "model.compile(loss='binary_crossentropy',optimizer=optimizers.RMSprop(lr=2e-5),metrics=['acc'])\n",
        "history = model.fit_generator(train_generator,steps_per_epoch=100,epochs=30,validation_data=validation_generator,validation_steps = 50)"
      ],
      "execution_count": 8,
      "outputs": [
        {
          "output_type": "stream",
          "text": [
            "Epoch 1/30\n",
            "100/100 [==============================] - 28s 279ms/step - loss: 0.3762 - acc: 0.8220 - val_loss: 0.2230 - val_acc: 0.9020\n",
            "Epoch 2/30\n",
            "100/100 [==============================] - 24s 243ms/step - loss: 0.2552 - acc: 0.8935 - val_loss: 0.2527 - val_acc: 0.8910\n",
            "Epoch 3/30\n",
            "100/100 [==============================] - 24s 243ms/step - loss: 0.2053 - acc: 0.9220 - val_loss: 0.1790 - val_acc: 0.9280\n",
            "Epoch 4/30\n",
            "100/100 [==============================] - 25s 253ms/step - loss: 0.1667 - acc: 0.9310 - val_loss: 0.1777 - val_acc: 0.9220\n",
            "Epoch 5/30\n",
            "100/100 [==============================] - 24s 244ms/step - loss: 0.1551 - acc: 0.9315 - val_loss: 0.1926 - val_acc: 0.9250\n",
            "Epoch 6/30\n",
            "100/100 [==============================] - 24s 242ms/step - loss: 0.1409 - acc: 0.9465 - val_loss: 0.1956 - val_acc: 0.9190\n",
            "Epoch 7/30\n",
            "100/100 [==============================] - 25s 251ms/step - loss: 0.1246 - acc: 0.9520 - val_loss: 0.1352 - val_acc: 0.9480\n",
            "Epoch 8/30\n",
            "100/100 [==============================] - 25s 251ms/step - loss: 0.1068 - acc: 0.9600 - val_loss: 0.1395 - val_acc: 0.9510\n",
            "Epoch 9/30\n",
            "100/100 [==============================] - 24s 242ms/step - loss: 0.1172 - acc: 0.9560 - val_loss: 0.1675 - val_acc: 0.9390\n",
            "Epoch 10/30\n",
            "100/100 [==============================] - 24s 243ms/step - loss: 0.0916 - acc: 0.9700 - val_loss: 0.2740 - val_acc: 0.9130\n",
            "Epoch 11/30\n",
            "100/100 [==============================] - 25s 252ms/step - loss: 0.0919 - acc: 0.9670 - val_loss: 0.1634 - val_acc: 0.9350\n",
            "Epoch 12/30\n",
            "100/100 [==============================] - 26s 258ms/step - loss: 0.0827 - acc: 0.9700 - val_loss: 0.1471 - val_acc: 0.9520\n",
            "Epoch 13/30\n",
            "100/100 [==============================] - 24s 243ms/step - loss: 0.0784 - acc: 0.9725 - val_loss: 0.1291 - val_acc: 0.9480\n",
            "Epoch 14/30\n",
            "100/100 [==============================] - 25s 255ms/step - loss: 0.0743 - acc: 0.9730 - val_loss: 0.1638 - val_acc: 0.9570\n",
            "Epoch 15/30\n",
            "100/100 [==============================] - 24s 241ms/step - loss: 0.0727 - acc: 0.9740 - val_loss: 0.1428 - val_acc: 0.9470\n",
            "Epoch 16/30\n",
            "100/100 [==============================] - 24s 242ms/step - loss: 0.0819 - acc: 0.9690 - val_loss: 0.1704 - val_acc: 0.9470\n",
            "Epoch 17/30\n",
            "100/100 [==============================] - 25s 254ms/step - loss: 0.0630 - acc: 0.9765 - val_loss: 0.1524 - val_acc: 0.9620\n",
            "Epoch 18/30\n",
            "100/100 [==============================] - 24s 244ms/step - loss: 0.0600 - acc: 0.9785 - val_loss: 0.1760 - val_acc: 0.9420\n",
            "Epoch 19/30\n",
            "100/100 [==============================] - 25s 246ms/step - loss: 0.0801 - acc: 0.9755 - val_loss: 0.1716 - val_acc: 0.9370\n",
            "Epoch 20/30\n",
            "100/100 [==============================] - 25s 248ms/step - loss: 0.0488 - acc: 0.9810 - val_loss: 0.1630 - val_acc: 0.9550\n",
            "Epoch 21/30\n",
            "100/100 [==============================] - 25s 251ms/step - loss: 0.0643 - acc: 0.9805 - val_loss: 0.1885 - val_acc: 0.9590\n",
            "Epoch 22/30\n",
            "100/100 [==============================] - 24s 241ms/step - loss: 0.0517 - acc: 0.9840 - val_loss: 0.1832 - val_acc: 0.9490\n",
            "Epoch 23/30\n",
            "100/100 [==============================] - 24s 242ms/step - loss: 0.0549 - acc: 0.9785 - val_loss: 0.1527 - val_acc: 0.9570\n",
            "Epoch 24/30\n",
            "100/100 [==============================] - 25s 251ms/step - loss: 0.0506 - acc: 0.9795 - val_loss: 0.1562 - val_acc: 0.9590\n",
            "Epoch 25/30\n",
            "100/100 [==============================] - 25s 253ms/step - loss: 0.0485 - acc: 0.9825 - val_loss: 0.2290 - val_acc: 0.9410\n",
            "Epoch 26/30\n",
            "100/100 [==============================] - 24s 240ms/step - loss: 0.0478 - acc: 0.9850 - val_loss: 0.1694 - val_acc: 0.9590\n",
            "Epoch 27/30\n",
            "100/100 [==============================] - 25s 252ms/step - loss: 0.0576 - acc: 0.9850 - val_loss: 0.2208 - val_acc: 0.9470\n",
            "Epoch 28/30\n",
            "100/100 [==============================] - 24s 242ms/step - loss: 0.0458 - acc: 0.9830 - val_loss: 0.1464 - val_acc: 0.9670\n",
            "Epoch 29/30\n",
            "100/100 [==============================] - 24s 239ms/step - loss: 0.0492 - acc: 0.9840 - val_loss: 0.1481 - val_acc: 0.9630\n",
            "Epoch 30/30\n",
            "100/100 [==============================] - 25s 248ms/step - loss: 0.0474 - acc: 0.9855 - val_loss: 0.1614 - val_acc: 0.9490\n"
          ],
          "name": "stdout"
        }
      ]
    },
    {
      "metadata": {
        "id": "zFpr99qdhLYL",
        "colab_type": "code",
        "colab": {
          "base_uri": "https://localhost:8080/",
          "height": 51
        },
        "outputId": "ab43f79e-b173-442e-a4cc-5f2ce4553525"
      },
      "cell_type": "code",
      "source": [
        "score= model.evaluate_generator(validation_generator,steps = 50)\n",
        "print(\"Loss :\",score[0])\n",
        "print(\"Accuracy: \",score[1])\n"
      ],
      "execution_count": 11,
      "outputs": [
        {
          "output_type": "stream",
          "text": [
            "Loss : 0.14029728736786637\n",
            "Accuracy:  0.9579999923706055\n"
          ],
          "name": "stdout"
        }
      ]
    },
    {
      "metadata": {
        "id": "J7OkHOgIlXld",
        "colab_type": "text"
      },
      "cell_type": "markdown",
      "source": [
        "Accuracy of **96**%."
      ]
    },
    {
      "metadata": {
        "id": "yuHhTe7ahLsb",
        "colab_type": "code",
        "colab": {
          "base_uri": "https://localhost:8080/",
          "height": 545
        },
        "outputId": "545b5fe9-2210-481b-e731-70514a4baf63"
      },
      "cell_type": "code",
      "source": [
        "acc = history.history['acc']\n",
        "val_acc = history.history['val_acc']\n",
        "\n",
        "loss = history.history['loss']\n",
        "val_loss = history.history['val_loss']\n",
        "\n",
        "epochs = range(1, len(acc) + 1)\n",
        "\n",
        "# training and validation accuracy\n",
        "\n",
        "plt.plot(epochs, acc, 'bo', label='training acc')\n",
        "plt.plot(epochs, val_acc, 'b', label='validation acc')\n",
        "plt.title('training and validation accuracy')\n",
        "plt.legend()\n",
        "\n",
        "plt.figure()\n",
        "\n",
        "# training and validation loss\n",
        "\n",
        "plt.plot(epochs, loss, 'bo', label='training loss')\n",
        "plt.plot(epochs, val_loss, 'b', label='validation loss')\n",
        "plt.title('training and validation loss')\n",
        "plt.legend()\n",
        "\n",
        "plt.show()\n"
      ],
      "execution_count": 16,
      "outputs": [
        {
          "output_type": "display_data",
          "data": {
            "image/png": "[encoded data removed]",
            "text/plain": [
              "<Figure size 432x288 with 1 Axes>"
            ]
          },
          "metadata": {
            "tags": []
          }
        },
        {
          "output_type": "display_data",
          "data": {
            "image/png": "[encoded data removed]",
            "text/plain": [
              "<Figure size 432x288 with 1 Axes>"
            ]
          },
          "metadata": {
            "tags": []
          }
        }
      ]
    },
    {
      "metadata": {
        "id": "V0uYaUgbVH9U",
        "colab_type": "code",
        "colab": {}
      },
      "cell_type": "code",
      "source": [
        ""
      ],
      "execution_count": 0,
      "outputs": []
    }
  ]
}