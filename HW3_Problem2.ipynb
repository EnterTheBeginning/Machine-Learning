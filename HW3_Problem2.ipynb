{
  "nbformat": 4,
  "nbformat_minor": 0,
  "metadata": {
    "colab": {
      "name": "HW3_Problem2.ipynb",
      "version": "0.3.2",
      "provenance": [],
      "collapsed_sections": [],
      "include_colab_link": true
    },
    "kernelspec": {
      "name": "python3",
      "display_name": "Python 3"
    },
    "accelerator": "GPU"
  },
  "cells": [
    {
      "cell_type": "markdown",
      "metadata": {
        "id": "view-in-github",
        "colab_type": "text"
      },
      "source": [
        "<a href=\"https://colab.research.google.com/github/EnterTheBeginning/Machine-Learning/blob/master/HW3_Problem2.ipynb\" target=\"_parent\"><img src=\"https://colab.research.google.com/assets/colab-badge.svg\" alt=\"Open In Colab\"/></a>"
      ]
    },
    {
      "metadata": {
        "id": "F0m5bO4YcXZI",
        "colab_type": "text"
      },
      "cell_type": "markdown",
      "source": [
        "#Fine-Tuning"
      ]
    },
    {
      "metadata": {
        "id": "EN9zGcUPh6cV",
        "colab_type": "text"
      },
      "cell_type": "markdown",
      "source": [
        "Lets use VGG19\n",
        "![alt text](https://cdn-images-1.medium.com/max/1600/1*cufAO77aeSWdShs3ba5ndg.jpeg)"
      ]
    },
    {
      "metadata": {
        "id": "lGxBFVXoci04",
        "colab_type": "text"
      },
      "cell_type": "markdown",
      "source": [
        "Now there is a need to Unfreeze some layers in Conv Base network. \n",
        "\n",
        "Then Jointly train both layers and the parts that are added"
      ]
    },
    {
      "metadata": {
        "id": "gj_ySN13R01_",
        "colab_type": "code",
        "outputId": "d7c4537b-82a9-4c14-b93d-1bc157cfd28d",
        "colab": {
          "base_uri": "https://localhost:8080/",
          "height": 34
        }
      },
      "cell_type": "code",
      "source": [
        "import numpy as np\n",
        "import pandas as pd\n",
        "import matplotlib.pyplot as plt\n",
        "import matplotlib.image as mpimg\n",
        "\n",
        "%matplotlib inline\n",
        "import os\n",
        "import zipfile\n",
        "\n",
        "from keras.layers import Dense,Dropout,Activation,Flatten\n",
        "from keras.models import Sequential\n",
        "from keras.preprocessing.image import ImageDataGenerator\n",
        "from keras.applications import VGG19\n",
        "from keras import layers\n",
        "from keras import optimizers\n"
      ],
      "execution_count": 1,
      "outputs": [
        {
          "output_type": "stream",
          "text": [
            "Using TensorFlow backend.\n"
          ],
          "name": "stderr"
        }
      ]
    },
    {
      "metadata": {
        "id": "cYvPMvSEUH-E",
        "colab_type": "text"
      },
      "cell_type": "markdown",
      "source": [
        "##Preprocessing"
      ]
    },
    {
      "metadata": {
        "id": "16OhyjzZTCFp",
        "colab_type": "code",
        "outputId": "0b4b78f5-0b30-4905-d565-c0f85c839696",
        "colab": {
          "base_uri": "https://localhost:8080/",
          "height": 309
        }
      },
      "cell_type": "code",
      "source": [
        "!wget --no-check-certificate \\\n",
        "    https://storage.googleapis.com/mledu-datasets/cats_and_dogs_filtered.zip \\\n",
        "    -O /tmp/cats_and_dogs_filtered.zip\n",
        "  \n",
        "local_zip = '/tmp/cats_and_dogs_filtered.zip'\n",
        "zip_ref = zipfile.ZipFile(local_zip, 'r')\n",
        "zip_ref.extractall('/tmp')\n",
        "zip_ref.close()\n",
        "base_dir = '/tmp/cats_and_dogs_filtered'\n",
        "\n",
        "train_dir = os.path.join(base_dir, 'train')\n",
        "validation_dir = os.path.join(base_dir, 'validation')\n",
        "train_cats_dir = os.path.join(train_dir, 'cats')\n",
        "train_dogs_dir = os.path.join(train_dir, 'dogs')\n",
        "validation_cats_dir = os.path.join(validation_dir, 'cats')\n",
        "validation_dogs_dir = os.path.join(validation_dir, 'dogs')\n",
        "train_cat_fnames = os.listdir(train_cats_dir)\n",
        "train_cat_fnames.sort()\n",
        "train_dog_fnames = os.listdir(train_dogs_dir)\n",
        "train_dog_fnames.sort()\n",
        "#Conv Base VGG19\n",
        "conv_base = VGG19(weights='imagenet',\n",
        "                  include_top=False,\n",
        "                  input_shape=(150,150,3))"
      ],
      "execution_count": 2,
      "outputs": [
        {
          "output_type": "stream",
          "text": [
            "--2019-04-18 02:57:40--  https://storage.googleapis.com/mledu-datasets/cats_and_dogs_filtered.zip\n",
            "Resolving storage.googleapis.com (storage.googleapis.com)... 74.125.141.128, 2607:f8b0:400c:c06::80\n",
            "Connecting to storage.googleapis.com (storage.googleapis.com)|74.125.141.128|:443... connected.\n",
            "HTTP request sent, awaiting response... 200 OK\n",
            "Length: 68606236 (65M) [application/zip]\n",
            "Saving to: ‘/tmp/cats_and_dogs_filtered.zip’\n",
            "\n",
            "/tmp/cats_and_dogs_ 100%[===================>]  65.43M   184MB/s    in 0.4s    \n",
            "\n",
            "2019-04-18 02:57:41 (184 MB/s) - ‘/tmp/cats_and_dogs_filtered.zip’ saved [68606236/68606236]\n",
            "\n",
            "WARNING:tensorflow:From /usr/local/lib/python3.6/dist-packages/tensorflow/python/framework/op_def_library.py:263: colocate_with (from tensorflow.python.framework.ops) is deprecated and will be removed in a future version.\n",
            "Instructions for updating:\n",
            "Colocations handled automatically by placer.\n",
            "Downloading data from https://github.com/fchollet/deep-learning-models/releases/download/v0.1/vgg19_weights_tf_dim_ordering_tf_kernels_notop.h5\n",
            "80142336/80134624 [==============================] - 1s 0us/step\n"
          ],
          "name": "stdout"
        }
      ]
    },
    {
      "metadata": {
        "id": "tf8gdBXRIGtR",
        "colab_type": "text"
      },
      "cell_type": "markdown",
      "source": [
        "##Feature Extraction"
      ]
    },
    {
      "metadata": {
        "id": "1azcCyt3IBYR",
        "colab_type": "code",
        "outputId": "bec021af-0543-4153-c055-97f099d15e1e",
        "colab": {
          "base_uri": "https://localhost:8080/",
          "height": 85
        }
      },
      "cell_type": "code",
      "source": [
        "##Feature Extractions\n",
        "%%time\n",
        "from keras.preprocessing.image import ImageDataGenerator\n",
        "import numpy as np\n",
        "\n",
        "datagen = ImageDataGenerator(rescale=1./255)\n",
        "batch_size = 20\n",
        "\n",
        "def extract_features(directory, sample_count):\n",
        "  features = np.zeros(shape=(sample_count, 4, 4, 512))\n",
        "  labels = np.zeros(shape=(sample_count))\n",
        "  generator = datagen.flow_from_directory(\n",
        "      directory, target_size=(150, 150),\n",
        "      batch_size=batch_size,\n",
        "      class_mode='binary'\n",
        "  )\n",
        "  i = 0\n",
        "  for input_batch, labels_batch in generator:\n",
        "    features_batch = conv_base.predict(input_batch)\n",
        "    features[i * batch_size : (i + 1) * batch_size] = features_batch\n",
        "    labels[i * batch_size : (i + 1) * batch_size] = labels_batch\n",
        "    i += 1\n",
        "    if i * batch_size >= sample_count:\n",
        "      break\n",
        "  return features, labels\n",
        "\n",
        "train_features, train_labels = extract_features(train_dir, 2000)\n",
        "validation_features, validation_labels = extract_features(validation_dir, 1000)\n",
        "\n",
        "train_features = np.reshape(train_features, (2000, 4 * 4 * 512))\n",
        "validation_features = np.reshape(validation_features, (1000, 4 * 4 * 512))\n"
      ],
      "execution_count": 3,
      "outputs": [
        {
          "output_type": "stream",
          "text": [
            "Found 2000 images belonging to 2 classes.\n",
            "Found 1000 images belonging to 2 classes.\n",
            "CPU times: user 16.1 s, sys: 5.9 s, total: 22 s\n",
            "Wall time: 21.9 s\n"
          ],
          "name": "stdout"
        }
      ]
    },
    {
      "metadata": {
        "id": "3zifrS2QmYNw",
        "colab_type": "text"
      },
      "cell_type": "markdown",
      "source": [
        "##Freezing the Conv Base"
      ]
    },
    {
      "metadata": {
        "id": "MiLp3z3FmbU4",
        "colab_type": "code",
        "colab": {}
      },
      "cell_type": "code",
      "source": [
        "conv_base.trainable = False\n",
        "from keras import layers\n",
        "from keras import models\n",
        "from keras import optimizers\n",
        "from keras.layers import Flatten"
      ],
      "execution_count": 0,
      "outputs": []
    },
    {
      "metadata": {
        "id": "sWV6vPojn5fy",
        "colab_type": "code",
        "outputId": "f9a191ad-2e17-46a1-f54d-cc771c187bea",
        "colab": {
          "base_uri": "https://localhost:8080/",
          "height": 462
        }
      },
      "cell_type": "code",
      "source": [
        "#Data Augmentation\n",
        "train_datagen = ImageDataGenerator(rescale = 1./255,\n",
        "                                   rotation_range=40,\n",
        "                                   width_shift_range=0.2,\n",
        "                                   height_shift_range=0.2,\n",
        "                                   shear_range=0.2,\n",
        "                                   zoom_range=0.2,\n",
        "                                   horizontal_flip=True,\n",
        "                                   fill_mode='nearest')\n",
        "test_datagen = ImageDataGenerator(rescale=1./255)\n",
        "\n",
        "train_generator = train_datagen.flow_from_directory(\n",
        "    train_dir,\n",
        "    target_size = (150,150),\n",
        "    batch_size = 20,\n",
        "    class_mode = 'binary'\n",
        ")\n",
        "validation_generator = train_datagen.flow_from_directory(\n",
        "    validation_dir,\n",
        "    target_size = (150,150),\n",
        "    batch_size = 20,\n",
        "    class_mode = 'binary'\n",
        ")\n",
        "\n",
        "model = Sequential()\n",
        "model.add(conv_base)\n",
        "model.add(Flatten())\n",
        "model.add(Dense(256,activation='relu'))\n",
        "model.add(Dense(1,activation ='sigmoid'))\n",
        "model.compile(loss='binary_crossentropy',optimizer=optimizers.RMSprop(lr=2e-5),metrics=['acc'])\n",
        "history = model.fit_generator(train_generator,steps_per_epoch=100,epochs=10,\n",
        "                                validation_data=validation_generator,validation_steps=50)\n"
      ],
      "execution_count": 5,
      "outputs": [
        {
          "output_type": "stream",
          "text": [
            "Found 2000 images belonging to 2 classes.\n",
            "Found 1000 images belonging to 2 classes.\n",
            "WARNING:tensorflow:From /usr/local/lib/python3.6/dist-packages/tensorflow/python/ops/math_ops.py:3066: to_int32 (from tensorflow.python.ops.math_ops) is deprecated and will be removed in a future version.\n",
            "Instructions for updating:\n",
            "Use tf.cast instead.\n",
            "Epoch 1/10\n",
            "100/100 [==============================] - 23s 234ms/step - loss: 0.6006 - acc: 0.6820 - val_loss: 0.5278 - val_acc: 0.7500\n",
            "Epoch 2/10\n",
            "100/100 [==============================] - 21s 210ms/step - loss: 0.5098 - acc: 0.7600 - val_loss: 0.4767 - val_acc: 0.7920\n",
            "Epoch 3/10\n",
            "100/100 [==============================] - 21s 211ms/step - loss: 0.4694 - acc: 0.7845 - val_loss: 0.4529 - val_acc: 0.8000\n",
            "Epoch 4/10\n",
            "100/100 [==============================] - 22s 223ms/step - loss: 0.4519 - acc: 0.7865 - val_loss: 0.4304 - val_acc: 0.8180\n",
            "Epoch 5/10\n",
            "100/100 [==============================] - 21s 207ms/step - loss: 0.4132 - acc: 0.8185 - val_loss: 0.4349 - val_acc: 0.7860\n",
            "Epoch 6/10\n",
            "100/100 [==============================] - 21s 208ms/step - loss: 0.4111 - acc: 0.8175 - val_loss: 0.3963 - val_acc: 0.8350\n",
            "Epoch 7/10\n",
            "100/100 [==============================] - 22s 221ms/step - loss: 0.3920 - acc: 0.8305 - val_loss: 0.4130 - val_acc: 0.8250\n",
            "Epoch 8/10\n",
            "100/100 [==============================] - 22s 220ms/step - loss: 0.3771 - acc: 0.8350 - val_loss: 0.3832 - val_acc: 0.8370\n",
            "Epoch 9/10\n",
            "100/100 [==============================] - 21s 207ms/step - loss: 0.3959 - acc: 0.8160 - val_loss: 0.3936 - val_acc: 0.8250\n",
            "Epoch 10/10\n",
            "100/100 [==============================] - 20s 204ms/step - loss: 0.3827 - acc: 0.8330 - val_loss: 0.3794 - val_acc: 0.8310\n"
          ],
          "name": "stdout"
        }
      ]
    },
    {
      "metadata": {
        "id": "jT7hsdgddDR6",
        "colab_type": "text"
      },
      "cell_type": "markdown",
      "source": [
        "##Unfreezing\n",
        "\n"
      ]
    },
    {
      "metadata": {
        "id": "K2mCxOD9eRVN",
        "colab_type": "text"
      },
      "cell_type": "markdown",
      "source": [
        "Lets fine tune the last **four CNN** layers = all layers above needs to be frozen"
      ]
    },
    {
      "metadata": {
        "id": "CfXnHDrNREmj",
        "colab_type": "code",
        "outputId": "c74b4255-0954-4ec4-95a8-24109f04e599",
        "colab": {
          "base_uri": "https://localhost:8080/",
          "height": 884
        }
      },
      "cell_type": "code",
      "source": [
        "conv_base.summary()"
      ],
      "execution_count": 6,
      "outputs": [
        {
          "output_type": "stream",
          "text": [
            "_________________________________________________________________\n",
            "Layer (type)                 Output Shape              Param #   \n",
            "=================================================================\n",
            "input_1 (InputLayer)         (None, 150, 150, 3)       0         \n",
            "_________________________________________________________________\n",
            "block1_conv1 (Conv2D)        (None, 150, 150, 64)      1792      \n",
            "_________________________________________________________________\n",
            "block1_conv2 (Conv2D)        (None, 150, 150, 64)      36928     \n",
            "_________________________________________________________________\n",
            "block1_pool (MaxPooling2D)   (None, 75, 75, 64)        0         \n",
            "_________________________________________________________________\n",
            "block2_conv1 (Conv2D)        (None, 75, 75, 128)       73856     \n",
            "_________________________________________________________________\n",
            "block2_conv2 (Conv2D)        (None, 75, 75, 128)       147584    \n",
            "_________________________________________________________________\n",
            "block2_pool (MaxPooling2D)   (None, 37, 37, 128)       0         \n",
            "_________________________________________________________________\n",
            "block3_conv1 (Conv2D)        (None, 37, 37, 256)       295168    \n",
            "_________________________________________________________________\n",
            "block3_conv2 (Conv2D)        (None, 37, 37, 256)       590080    \n",
            "_________________________________________________________________\n",
            "block3_conv3 (Conv2D)        (None, 37, 37, 256)       590080    \n",
            "_________________________________________________________________\n",
            "block3_conv4 (Conv2D)        (None, 37, 37, 256)       590080    \n",
            "_________________________________________________________________\n",
            "block3_pool (MaxPooling2D)   (None, 18, 18, 256)       0         \n",
            "_________________________________________________________________\n",
            "block4_conv1 (Conv2D)        (None, 18, 18, 512)       1180160   \n",
            "_________________________________________________________________\n",
            "block4_conv2 (Conv2D)        (None, 18, 18, 512)       2359808   \n",
            "_________________________________________________________________\n",
            "block4_conv3 (Conv2D)        (None, 18, 18, 512)       2359808   \n",
            "_________________________________________________________________\n",
            "block4_conv4 (Conv2D)        (None, 18, 18, 512)       2359808   \n",
            "_________________________________________________________________\n",
            "block4_pool (MaxPooling2D)   (None, 9, 9, 512)         0         \n",
            "_________________________________________________________________\n",
            "block5_conv1 (Conv2D)        (None, 9, 9, 512)         2359808   \n",
            "_________________________________________________________________\n",
            "block5_conv2 (Conv2D)        (None, 9, 9, 512)         2359808   \n",
            "_________________________________________________________________\n",
            "block5_conv3 (Conv2D)        (None, 9, 9, 512)         2359808   \n",
            "_________________________________________________________________\n",
            "block5_conv4 (Conv2D)        (None, 9, 9, 512)         2359808   \n",
            "_________________________________________________________________\n",
            "block5_pool (MaxPooling2D)   (None, 4, 4, 512)         0         \n",
            "=================================================================\n",
            "Total params: 20,024,384\n",
            "Trainable params: 0\n",
            "Non-trainable params: 20,024,384\n",
            "_________________________________________________________________\n"
          ],
          "name": "stdout"
        }
      ]
    },
    {
      "metadata": {
        "id": "7F27_L6bgsOa",
        "colab_type": "code",
        "outputId": "83e17649-e661-4cba-dd10-afe83741b080",
        "colab": {
          "base_uri": "https://localhost:8080/",
          "height": 391
        }
      },
      "cell_type": "code",
      "source": [
        "for i,layer in enumerate(conv_base.layers):\n",
        "    print(i,layer.name)\n"
      ],
      "execution_count": 7,
      "outputs": [
        {
          "output_type": "stream",
          "text": [
            "0 input_1\n",
            "1 block1_conv1\n",
            "2 block1_conv2\n",
            "3 block1_pool\n",
            "4 block2_conv1\n",
            "5 block2_conv2\n",
            "6 block2_pool\n",
            "7 block3_conv1\n",
            "8 block3_conv2\n",
            "9 block3_conv3\n",
            "10 block3_conv4\n",
            "11 block3_pool\n",
            "12 block4_conv1\n",
            "13 block4_conv2\n",
            "14 block4_conv3\n",
            "15 block4_conv4\n",
            "16 block4_pool\n",
            "17 block5_conv1\n",
            "18 block5_conv2\n",
            "19 block5_conv3\n",
            "20 block5_conv4\n",
            "21 block5_pool\n"
          ],
          "name": "stdout"
        }
      ]
    },
    {
      "metadata": {
        "id": "mfDD4rbUePwk",
        "colab_type": "code",
        "colab": {}
      },
      "cell_type": "code",
      "source": [
        "conv_base.trainable = True\n",
        "set_trainable = False\n",
        "for layer in conv_base.layers:\n",
        "  if layer.name == 'block3_conv1':\n",
        "    set_trainable = True\n",
        "  if set_trainable:\n",
        "    layer.trainable = True\n",
        "  else:\n",
        "    layer.trainable = False"
      ],
      "execution_count": 0,
      "outputs": []
    },
    {
      "metadata": {
        "id": "HycBKTEAys51",
        "colab_type": "code",
        "colab": {}
      },
      "cell_type": "code",
      "source": [
        "from keras.callbacks import ModelCheckpoint, ReduceLROnPlateau"
      ],
      "execution_count": 0,
      "outputs": []
    },
    {
      "metadata": {
        "id": "v6gpQjXRZAH-",
        "colab_type": "text"
      },
      "cell_type": "markdown",
      "source": [
        "ReduceLROnPlateau: Reduce learning rate when a metric has stopped improving.\n",
        "\n"
      ]
    },
    {
      "metadata": {
        "id": "s4578wwjybhW",
        "colab_type": "code",
        "colab": {}
      },
      "cell_type": "code",
      "source": [
        "bestWeight=\"./optimal_weight.h5\"\n",
        "saveWeight = ModelCheckpoint(bestWeight, monitor='val_acc', verbose=1, save_best_only=True, mode='max', save_weights_only=False)\n",
        "reduceLROnPlat = ReduceLROnPlateau(monitor='val_acc', factor=0.75, patience=6, verbose=1, mode='max')\n",
        "callbacks = [saveWeight,reduceLROnPlat]"
      ],
      "execution_count": 0,
      "outputs": []
    },
    {
      "metadata": {
        "id": "jgoinbC2fjAo",
        "colab_type": "code",
        "outputId": "15982f3e-a2c5-4862-c6d1-65250f3c2be1",
        "colab": {
          "base_uri": "https://localhost:8080/",
          "height": 2125
        }
      },
      "cell_type": "code",
      "source": [
        "model.compile(loss='binary_crossentropy',optimizer=optimizers.RMSprop(lr=2e-5),metrics=['acc'])\n",
        "history = model.fit_generator(train_generator,steps_per_epoch=100,epochs=30,validation_data=validation_generator,validation_steps = 50,callbacks=callbacks)"
      ],
      "execution_count": 17,
      "outputs": [
        {
          "output_type": "stream",
          "text": [
            "Epoch 1/30\n",
            "100/100 [==============================] - 26s 258ms/step - loss: 0.2033 - acc: 0.9155 - val_loss: 0.1551 - val_acc: 0.9360\n",
            "\n",
            "Epoch 00001: val_acc improved from -inf to 0.93600, saving model to ./optimal_weight.h5\n",
            "Epoch 2/30\n",
            "100/100 [==============================] - 26s 257ms/step - loss: 0.1685 - acc: 0.9255 - val_loss: 0.1728 - val_acc: 0.9260\n",
            "\n",
            "Epoch 00002: val_acc did not improve from 0.93600\n",
            "Epoch 3/30\n",
            "100/100 [==============================] - 24s 242ms/step - loss: 0.1384 - acc: 0.9475 - val_loss: 0.1632 - val_acc: 0.9380\n",
            "\n",
            "Epoch 00003: val_acc improved from 0.93600 to 0.93800, saving model to ./optimal_weight.h5\n",
            "Epoch 4/30\n",
            "100/100 [==============================] - 24s 241ms/step - loss: 0.1227 - acc: 0.9520 - val_loss: 0.1779 - val_acc: 0.9180\n",
            "\n",
            "Epoch 00004: val_acc did not improve from 0.93800\n",
            "Epoch 5/30\n",
            "100/100 [==============================] - 25s 252ms/step - loss: 0.1136 - acc: 0.9565 - val_loss: 0.1761 - val_acc: 0.9420\n",
            "\n",
            "Epoch 00005: val_acc improved from 0.93800 to 0.94200, saving model to ./optimal_weight.h5\n",
            "Epoch 6/30\n",
            "100/100 [==============================] - 24s 239ms/step - loss: 0.1167 - acc: 0.9545 - val_loss: 0.3294 - val_acc: 0.8750\n",
            "\n",
            "Epoch 00006: val_acc did not improve from 0.94200\n",
            "Epoch 7/30\n",
            "100/100 [==============================] - 24s 239ms/step - loss: 0.0925 - acc: 0.9630 - val_loss: 0.2220 - val_acc: 0.9430\n",
            "\n",
            "Epoch 00007: val_acc improved from 0.94200 to 0.94300, saving model to ./optimal_weight.h5\n",
            "Epoch 8/30\n",
            "100/100 [==============================] - 25s 253ms/step - loss: 0.0971 - acc: 0.9700 - val_loss: 0.2188 - val_acc: 0.9240\n",
            "\n",
            "Epoch 00008: val_acc did not improve from 0.94300\n",
            "Epoch 9/30\n",
            "100/100 [==============================] - 25s 253ms/step - loss: 0.0889 - acc: 0.9650 - val_loss: 0.2055 - val_acc: 0.9240\n",
            "\n",
            "Epoch 00009: val_acc did not improve from 0.94300\n",
            "Epoch 10/30\n",
            "100/100 [==============================] - 24s 240ms/step - loss: 0.0966 - acc: 0.9660 - val_loss: 0.1901 - val_acc: 0.9280\n",
            "\n",
            "Epoch 00010: val_acc did not improve from 0.94300\n",
            "Epoch 11/30\n",
            "100/100 [==============================] - 24s 245ms/step - loss: 0.0827 - acc: 0.9660 - val_loss: 0.3318 - val_acc: 0.8980\n",
            "\n",
            "Epoch 00011: val_acc did not improve from 0.94300\n",
            "Epoch 12/30\n",
            "100/100 [==============================] - 24s 244ms/step - loss: 0.0733 - acc: 0.9735 - val_loss: 0.2162 - val_acc: 0.9300\n",
            "\n",
            "Epoch 00012: val_acc did not improve from 0.94300\n",
            "Epoch 13/30\n",
            "100/100 [==============================] - 24s 238ms/step - loss: 0.0779 - acc: 0.9735 - val_loss: 0.1153 - val_acc: 0.9560\n",
            "\n",
            "Epoch 00013: val_acc improved from 0.94300 to 0.95600, saving model to ./optimal_weight.h5\n",
            "Epoch 14/30\n",
            "100/100 [==============================] - 24s 238ms/step - loss: 0.0576 - acc: 0.9795 - val_loss: 0.4670 - val_acc: 0.8930\n",
            "\n",
            "Epoch 00014: val_acc did not improve from 0.95600\n",
            "Epoch 15/30\n",
            "100/100 [==============================] - 25s 251ms/step - loss: 0.0688 - acc: 0.9745 - val_loss: 0.2034 - val_acc: 0.9360\n",
            "\n",
            "Epoch 00015: val_acc did not improve from 0.95600\n",
            "Epoch 16/30\n",
            "100/100 [==============================] - 24s 238ms/step - loss: 0.0693 - acc: 0.9760 - val_loss: 0.1571 - val_acc: 0.9480\n",
            "\n",
            "Epoch 00016: val_acc did not improve from 0.95600\n",
            "Epoch 17/30\n",
            "100/100 [==============================] - 24s 238ms/step - loss: 0.0581 - acc: 0.9795 - val_loss: 0.1453 - val_acc: 0.9530\n",
            "\n",
            "Epoch 00017: val_acc did not improve from 0.95600\n",
            "Epoch 18/30\n",
            "100/100 [==============================] - 25s 251ms/step - loss: 0.0491 - acc: 0.9850 - val_loss: 0.1938 - val_acc: 0.9350\n",
            "\n",
            "Epoch 00018: val_acc did not improve from 0.95600\n",
            "Epoch 19/30\n",
            "100/100 [==============================] - 24s 240ms/step - loss: 0.0580 - acc: 0.9800 - val_loss: 0.1655 - val_acc: 0.9490\n",
            "\n",
            "Epoch 00019: val_acc did not improve from 0.95600\n",
            "\n",
            "Epoch 00019: ReduceLROnPlateau reducing learning rate to 1.4999999621068127e-05.\n",
            "Epoch 20/30\n",
            "100/100 [==============================] - 24s 238ms/step - loss: 0.0496 - acc: 0.9840 - val_loss: 0.1861 - val_acc: 0.9440\n",
            "\n",
            "Epoch 00020: val_acc did not improve from 0.95600\n",
            "Epoch 21/30\n",
            "100/100 [==============================] - 24s 243ms/step - loss: 0.0464 - acc: 0.9845 - val_loss: 0.2086 - val_acc: 0.9480\n",
            "\n",
            "Epoch 00021: val_acc did not improve from 0.95600\n",
            "Epoch 22/30\n",
            "100/100 [==============================] - 26s 255ms/step - loss: 0.0437 - acc: 0.9885 - val_loss: 0.1255 - val_acc: 0.9640\n",
            "\n",
            "Epoch 00022: val_acc improved from 0.95600 to 0.96400, saving model to ./optimal_weight.h5\n",
            "Epoch 23/30\n",
            "100/100 [==============================] - 24s 236ms/step - loss: 0.0376 - acc: 0.9885 - val_loss: 0.2110 - val_acc: 0.9570\n",
            "\n",
            "Epoch 00023: val_acc did not improve from 0.96400\n",
            "Epoch 24/30\n",
            "100/100 [==============================] - 24s 237ms/step - loss: 0.0386 - acc: 0.9860 - val_loss: 0.1720 - val_acc: 0.9540\n",
            "\n",
            "Epoch 00024: val_acc did not improve from 0.96400\n",
            "Epoch 25/30\n",
            "100/100 [==============================] - 25s 249ms/step - loss: 0.0289 - acc: 0.9895 - val_loss: 0.1900 - val_acc: 0.9380\n",
            "\n",
            "Epoch 00025: val_acc did not improve from 0.96400\n",
            "Epoch 26/30\n",
            "100/100 [==============================] - 24s 238ms/step - loss: 0.0390 - acc: 0.9880 - val_loss: 0.2282 - val_acc: 0.9540\n",
            "\n",
            "Epoch 00026: val_acc did not improve from 0.96400\n",
            "Epoch 27/30\n",
            "100/100 [==============================] - 24s 245ms/step - loss: 0.0301 - acc: 0.9910 - val_loss: 0.2471 - val_acc: 0.9490\n",
            "\n",
            "Epoch 00027: val_acc did not improve from 0.96400\n",
            "Epoch 28/30\n",
            "100/100 [==============================] - 25s 248ms/step - loss: 0.0331 - acc: 0.9895 - val_loss: 0.2171 - val_acc: 0.9480\n",
            "\n",
            "Epoch 00028: val_acc did not improve from 0.96400\n",
            "\n",
            "Epoch 00028: ReduceLROnPlateau reducing learning rate to 1.1249999715801096e-05.\n",
            "Epoch 29/30\n",
            "100/100 [==============================] - 24s 237ms/step - loss: 0.0189 - acc: 0.9930 - val_loss: 0.3026 - val_acc: 0.9400\n",
            "\n",
            "Epoch 00029: val_acc did not improve from 0.96400\n",
            "Epoch 30/30\n",
            "100/100 [==============================] - 24s 236ms/step - loss: 0.0296 - acc: 0.9910 - val_loss: 0.1685 - val_acc: 0.9630\n",
            "\n",
            "Epoch 00030: val_acc did not improve from 0.96400\n"
          ],
          "name": "stdout"
        }
      ]
    },
    {
      "metadata": {
        "id": "5jlbg8odfhV0",
        "colab_type": "code",
        "colab": {}
      },
      "cell_type": "code",
      "source": [
        "model.load_weights(\"optimal_weight.h5\")"
      ],
      "execution_count": 0,
      "outputs": []
    },
    {
      "metadata": {
        "id": "zFpr99qdhLYL",
        "colab_type": "code",
        "outputId": "99c91cab-61cd-4454-f709-3e8bfeca92af",
        "colab": {
          "base_uri": "https://localhost:8080/",
          "height": 51
        }
      },
      "cell_type": "code",
      "source": [
        "score= model.evaluate_generator(validation_generator,steps = 50)\n",
        "print(\"Loss :\",score[0])\n",
        "print(\"Accuracy: \",score[1])"
      ],
      "execution_count": 22,
      "outputs": [
        {
          "output_type": "stream",
          "text": [
            "Loss : 0.17642511652076792\n",
            "Accuracy:  0.9569999921321869\n"
          ],
          "name": "stdout"
        }
      ]
    },
    {
      "metadata": {
        "id": "J7OkHOgIlXld",
        "colab_type": "text"
      },
      "cell_type": "markdown",
      "source": [
        "Accuracy of **96**%."
      ]
    },
    {
      "metadata": {
        "id": "yuHhTe7ahLsb",
        "colab_type": "code",
        "outputId": "b4865b56-10fe-4fb6-85b1-07a690559e75",
        "colab": {
          "base_uri": "https://localhost:8080/",
          "height": 545
        }
      },
      "cell_type": "code",
      "source": [
        "acc = history.history['acc']\n",
        "val_acc = history.history['val_acc']\n",
        "loss = history.history['loss']\n",
        "val_loss = history.history['val_loss']\n",
        "epochs = range(1, len(acc) + 1)\n",
        "# training and validation accuracy\n",
        "plt.plot(epochs, acc, 'r+', label='training acc')\n",
        "plt.plot(epochs, val_acc, 'g-', label='validation acc')\n",
        "plt.title('Validation Accuracy')\n",
        "plt.legend()\n",
        "plt.figure()\n",
        "# training and validation loss\n",
        "plt.plot(epochs, loss, 'r+', label='training loss')\n",
        "plt.plot(epochs, val_loss, 'g-', label='validation loss')\n",
        "plt.title('Validation Loss')\n",
        "plt.legend()\n",
        "\n",
        "plt.show()\n"
      ],
      "execution_count": 23,
      "outputs": [
        {
          "output_type": "display_data",
          "data": {
            "image/png": "[encoded data removed]",
            "text/plain": [
              "<Figure size 432x288 with 1 Axes>"
            ]
          },
          "metadata": {
            "tags": []
          }
        },
        {
          "output_type": "display_data",
          "data": {
            "image/png": "[encoded data removed]",
            "text/plain": [
              "<Figure size 432x288 with 1 Axes>"
            ]
          },
          "metadata": {
            "tags": []
          }
        }
      ]
    }
  ]
}