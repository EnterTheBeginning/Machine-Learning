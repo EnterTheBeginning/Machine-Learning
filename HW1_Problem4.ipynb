{
  "nbformat": 4,
  "nbformat_minor": 0,
  "metadata": {
    "colab": {
      "name": "HW1_Problem4.ipynb",
      "version": "0.3.2",
      "provenance": [],
      "collapsed_sections": [],
      "include_colab_link": true
    },
    "kernelspec": {
      "name": "python3",
      "display_name": "Python 3"
    }
  },
  "cells": [
    {
      "cell_type": "markdown",
      "metadata": {
        "id": "view-in-github",
        "colab_type": "text"
      },
      "source": [
        "<a href=\"https://colab.research.google.com/github/EnterTheBeginning/Machine-Learning/blob/master/HW1_Problem4.ipynb\" target=\"_parent\"><img src=\"https://colab.research.google.com/assets/colab-badge.svg\" alt=\"Open In Colab\"/></a>"
      ]
    },
    {
      "metadata": {
        "id": "KMCKPE_ArC4P",
        "colab_type": "text"
      },
      "cell_type": "markdown",
      "source": [
        "In progress: Graph the loss function Getting lower"
      ]
    },
    {
      "metadata": {
        "id": "6gV42fK0PtaM",
        "colab_type": "text"
      },
      "cell_type": "markdown",
      "source": [
        "## Importing libaries"
      ]
    },
    {
      "metadata": {
        "id": "B7ETOLm2PgMF",
        "colab_type": "code",
        "colab": {}
      },
      "cell_type": "code",
      "source": [
        "import numpy as np\n",
        "import matplotlib.pyplot as plt\n",
        "import pandas as pd\n",
        "%matplotlib inline\n",
        "plt.rcParams['figure.figsize'] = (10,15)\n",
        "from matplotlib import pyplot as plt\n",
        "\n"
      ],
      "execution_count": 0,
      "outputs": []
    },
    {
      "metadata": {
        "id": "zJQAQY-DPsKU",
        "colab_type": "text"
      },
      "cell_type": "markdown",
      "source": [
        "## Importing dataset\n"
      ]
    },
    {
      "metadata": {
        "id": "tnOAYolNPqUE",
        "colab_type": "code",
        "outputId": "119567d4-97d7-4f3a-cf97-c35c47bef7c6",
        "colab": {
          "base_uri": "https://localhost:8080/",
          "height": 34
        }
      },
      "cell_type": "code",
      "source": [
        "from keras.datasets import mnist\n",
        "\n",
        "(train_images_original, train_labels_original), (test_images_original, test_labels_original) = mnist.load_data()"
      ],
      "execution_count": 2,
      "outputs": [
        {
          "output_type": "stream",
          "text": [
            "Using TensorFlow backend.\n"
          ],
          "name": "stderr"
        }
      ]
    },
    {
      "metadata": {
        "id": "8Ft1XmzhQiGb",
        "colab_type": "text"
      },
      "cell_type": "markdown",
      "source": [
        "##Normalize the data and Flattening"
      ]
    },
    {
      "metadata": {
        "id": "lp5CnACrQPQT",
        "colab_type": "code",
        "colab": {}
      },
      "cell_type": "code",
      "source": [
        "X_train = train_images_original.reshape((60000, 28 * 28))\n",
        "X_train = X_train.astype('float32') / 255\n",
        "y_train= train_labels_original\n",
        "X_test = test_images_original.reshape((10000, 28 * 28))\n",
        "X_test = X_test.astype('float32') / 255\n",
        "y_test= test_labels_original\n"
      ],
      "execution_count": 0,
      "outputs": []
    },
    {
      "metadata": {
        "id": "gnV_fNu3QzWT",
        "colab_type": "code",
        "outputId": "3f4084dc-92a3-4ff5-bff3-8dce469a213f",
        "colab": {
          "base_uri": "https://localhost:8080/",
          "height": 34
        }
      },
      "cell_type": "code",
      "source": [
        "X_train.shape"
      ],
      "execution_count": 7,
      "outputs": [
        {
          "output_type": "execute_result",
          "data": {
            "text/plain": [
              "(60000, 784)"
            ]
          },
          "metadata": {
            "tags": []
          },
          "execution_count": 7
        }
      ]
    },
    {
      "metadata": {
        "id": "pg0uksmzQ3Qk",
        "colab_type": "code",
        "outputId": "842b6327-3c1a-453a-c7ac-c408e53826a2",
        "colab": {
          "base_uri": "https://localhost:8080/",
          "height": 34
        }
      },
      "cell_type": "code",
      "source": [
        "X_test.shape"
      ],
      "execution_count": 8,
      "outputs": [
        {
          "output_type": "execute_result",
          "data": {
            "text/plain": [
              "(10000, 784)"
            ]
          },
          "metadata": {
            "tags": []
          },
          "execution_count": 8
        }
      ]
    },
    {
      "metadata": {
        "id": "pUp8TsT4nyn1",
        "colab_type": "code",
        "colab": {}
      },
      "cell_type": "code",
      "source": [
        "from keras.utils import to_categorical\n",
        "\n",
        "y_train = to_categorical(train_labels_original)\n",
        "y_test = to_categorical(test_labels_original)"
      ],
      "execution_count": 0,
      "outputs": []
    },
    {
      "metadata": {
        "id": "xavVyVM3kszh",
        "colab_type": "text"
      },
      "cell_type": "markdown",
      "source": [
        "##Keras "
      ]
    },
    {
      "metadata": {
        "id": "bUVSoal0RYwz",
        "colab_type": "code",
        "colab": {}
      },
      "cell_type": "code",
      "source": [
        "from keras import layers, models"
      ],
      "execution_count": 0,
      "outputs": []
    },
    {
      "metadata": {
        "id": "XmsMD7oglEsg",
        "colab_type": "code",
        "colab": {}
      },
      "cell_type": "code",
      "source": [
        "model = models.Sequential()"
      ],
      "execution_count": 0,
      "outputs": []
    },
    {
      "metadata": {
        "id": "pS7l5Vc_lH-p",
        "colab_type": "code",
        "colab": {
          "base_uri": "https://localhost:8080/",
          "height": 68
        },
        "outputId": "7a11e3e0-3822-4b24-b0df-aa8212830a26"
      },
      "cell_type": "code",
      "source": [
        "model.add(layers.Dense(10,input_shape=(784,),activation='softmax'))"
      ],
      "execution_count": 12,
      "outputs": [
        {
          "output_type": "stream",
          "text": [
            "WARNING:tensorflow:From /usr/local/lib/python3.6/dist-packages/tensorflow/python/framework/op_def_library.py:263: colocate_with (from tensorflow.python.framework.ops) is deprecated and will be removed in a future version.\n",
            "Instructions for updating:\n",
            "Colocations handled automatically by placer.\n"
          ],
          "name": "stdout"
        }
      ]
    },
    {
      "metadata": {
        "id": "YwPRCAbKlpUi",
        "colab_type": "code",
        "colab": {}
      },
      "cell_type": "code",
      "source": [
        "model.compile(optimizer='rmsprop', loss='categorical_crossentropy', metrics=['accuracy'])"
      ],
      "execution_count": 0,
      "outputs": []
    },
    {
      "metadata": {
        "id": "sLGR8SL5nCBT",
        "colab_type": "code",
        "outputId": "316da64f-ae69-4899-a4c4-2ef9a6da8d80",
        "colab": {
          "base_uri": "https://localhost:8080/",
          "height": 170
        }
      },
      "cell_type": "code",
      "source": [
        "model.summary()"
      ],
      "execution_count": 14,
      "outputs": [
        {
          "output_type": "stream",
          "text": [
            "_________________________________________________________________\n",
            "Layer (type)                 Output Shape              Param #   \n",
            "=================================================================\n",
            "dense_1 (Dense)              (None, 10)                7850      \n",
            "=================================================================\n",
            "Total params: 7,850\n",
            "Trainable params: 7,850\n",
            "Non-trainable params: 0\n",
            "_________________________________________________________________\n"
          ],
          "name": "stdout"
        }
      ]
    },
    {
      "metadata": {
        "id": "_hqBdpRwlp1J",
        "colab_type": "code",
        "outputId": "70fdd4ca-c664-484b-8452-8a2bd70ceb4d",
        "colab": {
          "base_uri": "https://localhost:8080/",
          "height": 425
        }
      },
      "cell_type": "code",
      "source": [
        "model.fit(X_train, y_train, epochs=10, batch_size=128)"
      ],
      "execution_count": 15,
      "outputs": [
        {
          "output_type": "stream",
          "text": [
            "WARNING:tensorflow:From /usr/local/lib/python3.6/dist-packages/tensorflow/python/ops/math_ops.py:3066: to_int32 (from tensorflow.python.ops.math_ops) is deprecated and will be removed in a future version.\n",
            "Instructions for updating:\n",
            "Use tf.cast instead.\n",
            "Epoch 1/10\n",
            "60000/60000 [==============================] - 1s 20us/step - loss: 0.6034 - acc: 0.8487\n",
            "Epoch 2/10\n",
            "60000/60000 [==============================] - 1s 18us/step - loss: 0.3303 - acc: 0.9083\n",
            "Epoch 3/10\n",
            "60000/60000 [==============================] - 1s 18us/step - loss: 0.3010 - acc: 0.9156\n",
            "Epoch 4/10\n",
            "60000/60000 [==============================] - 1s 18us/step - loss: 0.2878 - acc: 0.9193\n",
            "Epoch 5/10\n",
            "60000/60000 [==============================] - 1s 18us/step - loss: 0.2797 - acc: 0.9220\n",
            "Epoch 6/10\n",
            "60000/60000 [==============================] - 1s 17us/step - loss: 0.2741 - acc: 0.9234\n",
            "Epoch 7/10\n",
            "60000/60000 [==============================] - 1s 17us/step - loss: 0.2704 - acc: 0.9249\n",
            "Epoch 8/10\n",
            "60000/60000 [==============================] - 1s 17us/step - loss: 0.2674 - acc: 0.9263\n",
            "Epoch 9/10\n",
            "60000/60000 [==============================] - 1s 17us/step - loss: 0.2648 - acc: 0.9268\n",
            "Epoch 10/10\n",
            "60000/60000 [==============================] - 1s 17us/step - loss: 0.2626 - acc: 0.9281\n"
          ],
          "name": "stdout"
        },
        {
          "output_type": "execute_result",
          "data": {
            "text/plain": [
              "<keras.callbacks.History at 0x7f10c87bccf8>"
            ]
          },
          "metadata": {
            "tags": []
          },
          "execution_count": 15
        }
      ]
    },
    {
      "metadata": {
        "id": "r-c52rSBsYpz",
        "colab_type": "text"
      },
      "cell_type": "markdown",
      "source": [
        "Model loss and accuracy:"
      ]
    },
    {
      "metadata": {
        "id": "JVUuGjm6ot0f",
        "colab_type": "text"
      },
      "cell_type": "markdown",
      "source": [
        "##Test Result, Accuracy "
      ]
    },
    {
      "metadata": {
        "id": "mGO_hqzTmkNs",
        "colab_type": "code",
        "outputId": "fa0adc65-9f40-41dd-81d6-d17ec6682bd4",
        "colab": {
          "base_uri": "https://localhost:8080/",
          "height": 51
        }
      },
      "cell_type": "code",
      "source": [
        "score = model.evaluate(X_test,y_test,verbose =0)\n",
        "print('Test Loss:', score[0])\n",
        "print('Test accuracy:' , score[1])\n"
      ],
      "execution_count": 61,
      "outputs": [
        {
          "output_type": "stream",
          "text": [
            "Test Loss: 0.2683306378006935\n",
            "Test accuracy: 0.9269\n"
          ],
          "name": "stdout"
        }
      ]
    },
    {
      "metadata": {
        "id": "nZihJK4aoxfr",
        "colab_type": "text"
      },
      "cell_type": "markdown",
      "source": [
        "confusion_matrix"
      ]
    },
    {
      "metadata": {
        "id": "RVqOk_L3rH9X",
        "colab_type": "code",
        "outputId": "bc078362-1e0e-4a5d-a00d-8223289d788b",
        "colab": {
          "base_uri": "https://localhost:8080/",
          "height": 187
        }
      },
      "cell_type": "code",
      "source": [
        "from sklearn.metrics import confusion_matrix\n",
        "y_pred = model.predict_classes(X_test)\n",
        "cm = confusion_matrix(test_labels_original,y_pred)\n",
        "print(cm)"
      ],
      "execution_count": 63,
      "outputs": [
        {
          "output_type": "stream",
          "text": [
            "[[ 964    0    1    2    0    5    5    2    1    0]\n",
            " [   0 1115    2    2    0    1    4    2    9    0]\n",
            " [   5    7  924   18    7    2   13   10   42    4]\n",
            " [   4    0   20  921    0   21    2   11   24    7]\n",
            " [   1    1    6    2  915    0    9    4   11   33]\n",
            " [   9    2    2   37   11  769   17    7   33    5]\n",
            " [  13    3    6    1    7   11  912    2    3    0]\n",
            " [   1    6   22    6    7    0    0  956    3   27]\n",
            " [   6    7    5   18    9   23    9   11  881    5]\n",
            " [  11    7    1   11   28    6    0   26    7  912]]\n"
          ],
          "name": "stdout"
        }
      ]
    },
    {
      "metadata": {
        "id": "8xwvPcpBooa-",
        "colab_type": "text"
      },
      "cell_type": "markdown",
      "source": [
        "#Correct predictions"
      ]
    },
    {
      "metadata": {
        "id": "H3DILTQOndEY",
        "colab_type": "code",
        "colab": {}
      },
      "cell_type": "code",
      "source": [
        "predicted_classes = model.predict_classes(X_test)\n",
        "correct_indices = np.nonzero(predicted_classes == test_labels_original)[0]\n",
        "incorrect_indices = np.nonzero(predicted_classes != test_labels_original)[0]\n",
        "\n"
      ],
      "execution_count": 0,
      "outputs": []
    },
    {
      "metadata": {
        "id": "dqF1E5J5n57y",
        "colab_type": "code",
        "colab": {
          "base_uri": "https://localhost:8080/",
          "height": 838
        },
        "outputId": "6ab6edac-3878-450d-9000-a5768bb9b109"
      },
      "cell_type": "code",
      "source": [
        "for i, correct in enumerate(correct_indices[:9]):\n",
        "   plt.subplot(3,3,i+1)\n",
        "   plt.subplots_adjust(hspace = 0.4, wspace = 0.1)\n",
        "\n",
        "   plt.imshow(X_test[correct].reshape(28,28) , cmap ='gray', interpolation ='none')\n",
        "   plt.title(\"Predicted{}, Class {}\".format(predicted_classes[correct],test_labels_original[correct]),color = 'green')\n"
      ],
      "execution_count": 75,
      "outputs": [
        {
          "output_type": "display_data",
          "data": {
            "image/png": "[encoded data removed]",
            "text/plain": [
              "<Figure size 720x1080 with 9 Axes>"
            ]
          },
          "metadata": {
            "tags": []
          }
        }
      ]
    },
    {
      "metadata": {
        "id": "QgGRGNruoj0s",
        "colab_type": "text"
      },
      "cell_type": "markdown",
      "source": [
        "# Incorrect predictions\n"
      ]
    },
    {
      "metadata": {
        "id": "am76z5wAoGlK",
        "colab_type": "code",
        "colab": {
          "base_uri": "https://localhost:8080/",
          "height": 838
        },
        "outputId": "b76ba1a8-58a1-4444-8ca8-916497234057"
      },
      "cell_type": "code",
      "source": [
        "plt.figure()\n",
        "for i, correct in enumerate(incorrect_indices[:9]):\n",
        "   plt.subplot(3,3,i+1)\n",
        "   plt.subplots_adjust(hspace = 0.4, wspace = 0.1)\n",
        "\n",
        "   plt.imshow(X_test[correct].reshape(28,28) , cmap ='gray', interpolation ='none')\n",
        "   plt.title(\"Predicted{}, Class {}\".format(predicted_classes[correct],test_labels_original[correct]),color = 'green')\n"
      ],
      "execution_count": 80,
      "outputs": [
        {
          "output_type": "display_data",
          "data": {
            "image/png": "[encoded data removed]",
            "text/plain": [
              "<Figure size 720x1080 with 9 Axes>"
            ]
          },
          "metadata": {
            "tags": []
          }
        }
      ]
    },
    {
      "metadata": {
        "id": "fOeKUoHnoPS_",
        "colab_type": "code",
        "colab": {}
      },
      "cell_type": "code",
      "source": [
        ""
      ],
      "execution_count": 0,
      "outputs": []
    }
  ]
}