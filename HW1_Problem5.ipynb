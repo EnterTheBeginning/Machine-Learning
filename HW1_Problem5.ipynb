{
  "nbformat": 4,
  "nbformat_minor": 0,
  "metadata": {
    "colab": {
      "name": "HW1_Problem5.ipynb",
      "version": "0.3.2",
      "provenance": [],
      "collapsed_sections": [],
      "include_colab_link": true
    },
    "kernelspec": {
      "name": "python3",
      "display_name": "Python 3"
    }
  },
  "cells": [
    {
      "cell_type": "markdown",
      "metadata": {
        "id": "view-in-github",
        "colab_type": "text"
      },
      "source": [
        "<a href=\"https://colab.research.google.com/github/EnterTheBeginning/Machine-Learning/blob/master/HW1_Problem5.ipynb\" target=\"_parent\"><img src=\"https://colab.research.google.com/assets/colab-badge.svg\" alt=\"Open In Colab\"/></a>"
      ]
    },
    {
      "metadata": {
        "id": "B7ETOLm2PgMF",
        "colab_type": "code",
        "colab": {}
      },
      "cell_type": "code",
      "source": [
        "import numpy as np\n",
        "import matplotlib.pyplot as plt\n",
        "import pandas as pd\n",
        "%matplotlib inline\n",
        "plt.rcParams['figure.figsize'] = (8,5)\n",
        "\n"
      ],
      "execution_count": 0,
      "outputs": []
    },
    {
      "metadata": {
        "id": "zJQAQY-DPsKU",
        "colab_type": "text"
      },
      "cell_type": "markdown",
      "source": [
        "## Importing dataset\n"
      ]
    },
    {
      "metadata": {
        "id": "tnOAYolNPqUE",
        "colab_type": "code",
        "outputId": "cc77fd73-60ad-48db-aec7-602dcd671d52",
        "colab": {
          "base_uri": "https://localhost:8080/",
          "height": 34
        }
      },
      "cell_type": "code",
      "source": [
        "from keras.datasets import mnist\n",
        "\n",
        "(train_images_original, train_labels_original), (test_images_original, test_labels_original) = mnist.load_data()"
      ],
      "execution_count": 2,
      "outputs": [
        {
          "output_type": "stream",
          "text": [
            "Using TensorFlow backend.\n"
          ],
          "name": "stderr"
        }
      ]
    },
    {
      "metadata": {
        "id": "8Ft1XmzhQiGb",
        "colab_type": "text"
      },
      "cell_type": "markdown",
      "source": [
        "##Normalize the data and Flattening"
      ]
    },
    {
      "metadata": {
        "id": "lp5CnACrQPQT",
        "colab_type": "code",
        "colab": {}
      },
      "cell_type": "code",
      "source": [
        "X_train = train_images_original.reshape((60000, 28 * 28))\n",
        "X_train = X_train.astype('float32') / 255\n",
        "y_train= train_labels_original\n",
        "X_test = test_images_original.reshape((10000, 28 * 28))\n",
        "X_test = X_test.astype('float32') / 255\n",
        "y_test= test_labels_original\n"
      ],
      "execution_count": 0,
      "outputs": []
    },
    {
      "metadata": {
        "id": "gnV_fNu3QzWT",
        "colab_type": "code",
        "outputId": "17513fc9-9db9-4588-996b-a5d02e4720bd",
        "colab": {
          "base_uri": "https://localhost:8080/",
          "height": 34
        }
      },
      "cell_type": "code",
      "source": [
        "X_train.shape"
      ],
      "execution_count": 4,
      "outputs": [
        {
          "output_type": "execute_result",
          "data": {
            "text/plain": [
              "(60000, 784)"
            ]
          },
          "metadata": {
            "tags": []
          },
          "execution_count": 4
        }
      ]
    },
    {
      "metadata": {
        "id": "pg0uksmzQ3Qk",
        "colab_type": "code",
        "outputId": "47e49aa9-170f-4d0f-b8be-be8a7eeda14e",
        "colab": {
          "base_uri": "https://localhost:8080/",
          "height": 34
        }
      },
      "cell_type": "code",
      "source": [
        "X_test.shape"
      ],
      "execution_count": 5,
      "outputs": [
        {
          "output_type": "execute_result",
          "data": {
            "text/plain": [
              "(10000, 784)"
            ]
          },
          "metadata": {
            "tags": []
          },
          "execution_count": 5
        }
      ]
    },
    {
      "metadata": {
        "id": "pUp8TsT4nyn1",
        "colab_type": "code",
        "colab": {}
      },
      "cell_type": "code",
      "source": [
        "from keras.utils import to_categorical\n",
        "\n",
        "y_train = to_categorical(train_labels_original)\n",
        "y_test = to_categorical(test_labels_original)"
      ],
      "execution_count": 0,
      "outputs": []
    },
    {
      "metadata": {
        "id": "GoMObrIxE7Vj",
        "colab_type": "text"
      },
      "cell_type": "markdown",
      "source": [
        "##  Number of white regions"
      ]
    },
    {
      "metadata": {
        "id": "h2RbBeKzFPPC",
        "colab_type": "text"
      },
      "cell_type": "markdown",
      "source": [
        "\n",
        "\n",
        "1.   Round the grey values of the images to 1\n",
        "2.   Add as an additional feature the number of white regions\n",
        "\n"
      ]
    },
    {
      "metadata": {
        "id": "TuyIxXa7Iwon",
        "colab_type": "text"
      },
      "cell_type": "markdown",
      "source": [
        "###1.   Round the grey values of the images to 1\n"
      ]
    },
    {
      "metadata": {
        "id": "VQUhPpSoHwhM",
        "colab_type": "code",
        "colab": {}
      },
      "cell_type": "code",
      "source": [
        "class Region: \n",
        "  \n",
        "  #class constructor\n",
        "\tdef __init__(self, xaxis, yaxis, region): \n",
        "\t\tself.xaxis = xaxis \n",
        "\t\tself.yaxis = yaxis \n",
        "\t\tself.region = region\n",
        "  #Scanning the region\n",
        "\tdef Scan(self, i, j, visited): \n",
        "\t\treturn (i >= 0 and i < self.xaxis and\n",
        "\t\t\t\tj >= 0 and j < self.yaxis and\n",
        "\t\t\t\tnot visited[i][j] and self.region[i][j])\n",
        "\n",
        "\tdef DFS(self, i, j, visited): \n",
        "\n",
        "\t\t#  cell \n",
        "\t\trowNbr = [-1, -1, -1, 0, 0, 1, 1, 1]; \n",
        "\t\tcolNbr = [-1, 0, 1, -1, 1, -1, 0, 1]; \n",
        "\t\t\n",
        "\t\tvisited[i][j] = True\n",
        "\t\tfor k in range(8): \n",
        "\t\t\tif self.Scan(i + rowNbr[k], j + colNbr[k], visited): \n",
        "\t\t\t\tself.DFS(i + rowNbr[k], j + colNbr[k], visited) \n",
        "\tdef countIslands(self): \n",
        "\t\tvisited = [[False for j in range(self.yaxis)]for i in range(self.xaxis)] \n",
        "\t\tcount = 0\n",
        "\t\tfor i in range(self.xaxis): \n",
        "\t\t\tfor j in range(self.yaxis): \n",
        "\t\t\t\tif visited[i][j] == False and self.region[i][j] ==1: \n",
        "\t\t\t\t\tself.DFS(i, j, visited) \n",
        "\t\t\t\t\tcount += 1\n",
        "\t\treturn count \n"
      ],
      "execution_count": 0,
      "outputs": []
    },
    {
      "metadata": {
        "id": "EnGEDhRTJOGt",
        "colab_type": "code",
        "outputId": "cf20708a-ff0b-4d8e-f21f-bf2940ab694b",
        "colab": {
          "base_uri": "https://localhost:8080/",
          "height": 337
        }
      },
      "cell_type": "code",
      "source": [
        "X_train_images = np.array(X_train.reshape((60000,28,28))<0.5)\n",
        "numOfRegions = Region(28, 28, X_train_images[1])\n",
        "plt.imshow(X_train_images[1], cmap=\"gray\")\n",
        "print(\"Number :{}, White region :{}\".format(train_labels_original[1],numOfRegions.countIslands()))\n"
      ],
      "execution_count": 63,
      "outputs": [
        {
          "output_type": "stream",
          "text": [
            "Number :0, White region :2\n"
          ],
          "name": "stdout"
        },
        {
          "output_type": "display_data",
          "data": {
            "image/png": "[encoded data removed]",
            "text/plain": [
              "<Figure size 576x360 with 1 Axes>"
            ]
          },
          "metadata": {
            "tags": []
          }
        }
      ]
    },
    {
      "metadata": {
        "id": "L6_MaM2yJ86a",
        "colab_type": "code",
        "colab": {
          "base_uri": "https://localhost:8080/",
          "height": 34
        },
        "outputId": "f6644149-1d98-4011-8153-35cfa09f4cf8"
      },
      "cell_type": "code",
      "source": [
        "regionNum = [Region(28, 28, x).countIslands() for x in X_train_images[:2000]]\n",
        "normalizedregionNum = (np.array(regionNum)/3.).reshape((2000,1))\n",
        "X_train_NewFeat = np.hstack((X_train[:2000],normalizedregionNum))\n",
        "X_train_NewFeat.shape\n",
        "\n",
        "X_test_images = np.array(X_test.reshape((10000,28,28))<0.5)\n",
        "regionNum1 = [Region(28, 28, x).countIslands() for x in X_test_images[:2000]]\n",
        "normalizedregionNum = (np.array(regionNum1)/3.).reshape((2000,1))\n",
        "X_test_NewFeat = np.hstack((X_test[:2000],normalizedregionNum))\n",
        "X_test_NewFeat.shape"
      ],
      "execution_count": 96,
      "outputs": [
        {
          "output_type": "execute_result",
          "data": {
            "text/plain": [
              "(2000, 785)"
            ]
          },
          "metadata": {
            "tags": []
          },
          "execution_count": 96
        }
      ]
    },
    {
      "metadata": {
        "id": "xavVyVM3kszh",
        "colab_type": "text"
      },
      "cell_type": "markdown",
      "source": [
        "##Keras "
      ]
    },
    {
      "metadata": {
        "id": "bUVSoal0RYwz",
        "colab_type": "code",
        "colab": {}
      },
      "cell_type": "code",
      "source": [
        "from keras import layers, models"
      ],
      "execution_count": 0,
      "outputs": []
    },
    {
      "metadata": {
        "id": "XmsMD7oglEsg",
        "colab_type": "code",
        "colab": {}
      },
      "cell_type": "code",
      "source": [
        "model = models.Sequential()"
      ],
      "execution_count": 0,
      "outputs": []
    },
    {
      "metadata": {
        "id": "Mao41TwSK9hV",
        "colab_type": "code",
        "colab": {}
      },
      "cell_type": "code",
      "source": [
        "model.add(layers.InputLayer(input_shape=(newFeature.shape[1],)))\n"
      ],
      "execution_count": 0,
      "outputs": []
    },
    {
      "metadata": {
        "id": "pS7l5Vc_lH-p",
        "colab_type": "code",
        "colab": {}
      },
      "cell_type": "code",
      "source": [
        "model.add(layers.Dense(10,activation='softmax'))"
      ],
      "execution_count": 0,
      "outputs": []
    },
    {
      "metadata": {
        "id": "YwPRCAbKlpUi",
        "colab_type": "code",
        "colab": {}
      },
      "cell_type": "code",
      "source": [
        "model.compile(optimizer='rmsprop', loss='categorical_crossentropy', metrics=['accuracy'])"
      ],
      "execution_count": 0,
      "outputs": []
    },
    {
      "metadata": {
        "id": "sLGR8SL5nCBT",
        "colab_type": "code",
        "colab": {
          "base_uri": "https://localhost:8080/",
          "height": 170
        },
        "outputId": "e6ad0c27-d2c7-494d-b49c-d8194287c83d"
      },
      "cell_type": "code",
      "source": [
        "model.summary()"
      ],
      "execution_count": 71,
      "outputs": [
        {
          "output_type": "stream",
          "text": [
            "_________________________________________________________________\n",
            "Layer (type)                 Output Shape              Param #   \n",
            "=================================================================\n",
            "dense_4 (Dense)              (None, 10)                7860      \n",
            "=================================================================\n",
            "Total params: 7,860\n",
            "Trainable params: 7,860\n",
            "Non-trainable params: 0\n",
            "_________________________________________________________________\n"
          ],
          "name": "stdout"
        }
      ]
    },
    {
      "metadata": {
        "id": "_hqBdpRwlp1J",
        "colab_type": "code",
        "colab": {
          "base_uri": "https://localhost:8080/",
          "height": 357
        },
        "outputId": "525422c7-b05e-495f-a1c5-7dbf875c7eda"
      },
      "cell_type": "code",
      "source": [
        "result = model.fit(newFeature, y_train[:2000], epochs=10, batch_size=3)"
      ],
      "execution_count": 102,
      "outputs": [
        {
          "output_type": "stream",
          "text": [
            "Epoch 1/10\n",
            "2000/2000 [==============================] - 1s 345us/step - loss: 0.0472 - acc: 0.9910\n",
            "Epoch 2/10\n",
            "2000/2000 [==============================] - 1s 337us/step - loss: 0.0490 - acc: 0.9890\n",
            "Epoch 3/10\n",
            "2000/2000 [==============================] - 1s 359us/step - loss: 0.0521 - acc: 0.9890\n",
            "Epoch 4/10\n",
            "2000/2000 [==============================] - 1s 357us/step - loss: 0.0558 - acc: 0.9895\n",
            "Epoch 5/10\n",
            "2000/2000 [==============================] - 1s 337us/step - loss: 0.0558 - acc: 0.9885\n",
            "Epoch 6/10\n",
            "2000/2000 [==============================] - 1s 333us/step - loss: 0.0585 - acc: 0.9880\n",
            "Epoch 7/10\n",
            "2000/2000 [==============================] - 1s 336us/step - loss: 0.0600 - acc: 0.9875\n",
            "Epoch 8/10\n",
            "2000/2000 [==============================] - 1s 342us/step - loss: 0.0607 - acc: 0.9870\n",
            "Epoch 9/10\n",
            "2000/2000 [==============================] - 1s 337us/step - loss: 0.0638 - acc: 0.9880\n",
            "Epoch 10/10\n",
            "2000/2000 [==============================] - 1s 340us/step - loss: 0.0631 - acc: 0.9890\n"
          ],
          "name": "stdout"
        }
      ]
    },
    {
      "metadata": {
        "id": "sabp6foWIvQA",
        "colab_type": "text"
      },
      "cell_type": "markdown",
      "source": [
        "Clear Improvement in the Accuracy"
      ]
    },
    {
      "metadata": {
        "id": "IAY3l14xJMbi",
        "colab_type": "code",
        "colab": {
          "base_uri": "https://localhost:8080/",
          "height": 51
        },
        "outputId": "6cd632a6-fcd7-4ae5-f0f8-d679eec95650"
      },
      "cell_type": "code",
      "source": [
        "score = model.evaluate(X_test_NewFeat,y_test[:2000],verbose =0)\n",
        "print('Test Loss:', score[0])\n",
        "print('Test:' , score[1])"
      ],
      "execution_count": 105,
      "outputs": [
        {
          "output_type": "stream",
          "text": [
            "Test Loss: 0.9671060664057731\n",
            "Test: 0.8335\n"
          ],
          "name": "stdout"
        }
      ]
    },
    {
      "metadata": {
        "id": "RjIZsg77KcBf",
        "colab_type": "code",
        "colab": {}
      },
      "cell_type": "code",
      "source": [
        ""
      ],
      "execution_count": 0,
      "outputs": []
    }
  ]
}