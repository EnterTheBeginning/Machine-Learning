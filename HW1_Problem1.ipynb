{
  "nbformat": 4,
  "nbformat_minor": 0,
  "metadata": {
    "colab": {
      "name": "HW1_Problem1.ipynb",
      "version": "0.3.2",
      "provenance": [],
      "collapsed_sections": [],
      "include_colab_link": true
    },
    "kernelspec": {
      "name": "python3",
      "display_name": "Python 3"
    }
  },
  "cells": [
    {
      "cell_type": "markdown",
      "metadata": {
        "id": "view-in-github",
        "colab_type": "text"
      },
      "source": [
        "<a href=\"https://colab.research.google.com/github/EnterTheBeginning/Machine-Learning/blob/master/HW1_Problem1.ipynb\" target=\"_parent\"><img src=\"https://colab.research.google.com/assets/colab-badge.svg\" alt=\"Open In Colab\"/></a>"
      ]
    },
    {
      "metadata": {
        "id": "CEghsswc1JiU",
        "colab_type": "code",
        "colab": {}
      },
      "cell_type": "code",
      "source": [
        "import numpy as np\n",
        "import matplotlib.pyplot as plt\n",
        "%matplotlib inline"
      ],
      "execution_count": 0,
      "outputs": []
    },
    {
      "metadata": {
        "id": "5-Pl3BgX1jJw",
        "colab_type": "text"
      },
      "cell_type": "markdown",
      "source": [
        "## Importing Data\n"
      ]
    },
    {
      "metadata": {
        "id": "Ef4PxUoo1fb4",
        "colab_type": "code",
        "colab": {
          "base_uri": "https://localhost:8080/",
          "height": 34
        },
        "outputId": "9ba7de3a-e146-4b69-d10e-05424144d274"
      },
      "cell_type": "code",
      "source": [
        "from keras.datasets import mnist\n",
        "\n",
        "(X_train_original, y_train_original), (X_test_original, y_test_original) = mnist.load_data()"
      ],
      "execution_count": 2,
      "outputs": [
        {
          "output_type": "stream",
          "text": [
            "Using TensorFlow backend.\n"
          ],
          "name": "stderr"
        }
      ]
    },
    {
      "metadata": {
        "id": "pNZtsqhI1WBN",
        "colab_type": "code",
        "colab": {}
      },
      "cell_type": "code",
      "source": [
        "X_train = X_train_original.reshape((60000, 28 * 28))\n",
        "X_train = X_train.astype('float32') / 255\n",
        "\n",
        "X_test = X_test_original.reshape((10000, 28 * 28))\n",
        "X_test = X_test.astype('float32') / 255"
      ],
      "execution_count": 0,
      "outputs": []
    },
    {
      "metadata": {
        "id": "di3W4of2qd-A",
        "colab_type": "code",
        "colab": {}
      },
      "cell_type": "code",
      "source": [
        "y_train, y_test = y_train_original.reshape(60000,1),y_test_original.reshape(10000,1)\n",
        "\n"
      ],
      "execution_count": 0,
      "outputs": []
    },
    {
      "metadata": {
        "id": "4rKMQCnRrQCi",
        "colab_type": "text"
      },
      "cell_type": "markdown",
      "source": [
        "##Lucky number 7:"
      ]
    },
    {
      "metadata": {
        "id": "F-VlCj8Us0DN",
        "colab_type": "text"
      },
      "cell_type": "markdown",
      "source": [
        "Classifer for number 7.  Anything except 7 is Zero and If y == 7 we have output of 1\n",
        "\n"
      ]
    },
    {
      "metadata": {
        "id": "pj2qOVxYoyyc",
        "colab_type": "code",
        "colab": {}
      },
      "cell_type": "code",
      "source": [
        "y1_train = np.zeros(y_train.shape)\n",
        "y1_train[np.where(y_train == 7.0)[0]] = 1\n",
        "y_train = y1_train\n",
        "\n",
        "y1_test = np.zeros(y_test.shape)\n",
        "y1_test[np.where(y_test == 7.0)[0]] = 1\n",
        "y_test = y1_test\n"
      ],
      "execution_count": 0,
      "outputs": []
    },
    {
      "metadata": {
        "id": "QPrt0B0RdkiN",
        "colab_type": "text"
      },
      "cell_type": "markdown",
      "source": [
        "Now that we have input and output ready   \n",
        "Lets start building the first layer"
      ]
    },
    {
      "metadata": {
        "id": "7igJTn7qeYIE",
        "colab_type": "text"
      },
      "cell_type": "markdown",
      "source": [
        "##Logistic regression with mean squared error loss.\n",
        "\n",
        "1.   Weights\n",
        "2.   Bias\n",
        "3. Activation\n",
        "4. Input X   \n",
        "n = Number of Features which is 784   \n",
        "m = Number of samples which in training set is 60000\n"
      ]
    },
    {
      "metadata": {
        "id": "qbIDf13AupXD",
        "colab_type": "code",
        "colab": {}
      },
      "cell_type": "code",
      "source": [
        "\n",
        "np.random.seed(47)\n",
        "#W = np.random.rand(X_train.shape[1]).reshape(X_train.shape[1],1)\n",
        "W = np.zeros((X_train.shape[1], 1))\n"
      ],
      "execution_count": 0,
      "outputs": []
    },
    {
      "metadata": {
        "id": "r3Z81BUkhj2n",
        "colab_type": "code",
        "outputId": "79fd677e-fa1a-4c9b-abd2-b62ad69c2b4d",
        "colab": {
          "base_uri": "https://localhost:8080/",
          "height": 34
        }
      },
      "cell_type": "code",
      "source": [
        "W.shape"
      ],
      "execution_count": 7,
      "outputs": [
        {
          "output_type": "execute_result",
          "data": {
            "text/plain": [
              "(784, 1)"
            ]
          },
          "metadata": {
            "tags": []
          },
          "execution_count": 7
        }
      ]
    },
    {
      "metadata": {
        "id": "PUugUn0flt7U",
        "colab_type": "code",
        "outputId": "edfd572a-72c7-4f24-9997-57f1eced657f",
        "colab": {
          "base_uri": "https://localhost:8080/",
          "height": 34
        }
      },
      "cell_type": "code",
      "source": [
        "b = np.zeros((1,1))\n",
        "b.shape"
      ],
      "execution_count": 8,
      "outputs": [
        {
          "output_type": "execute_result",
          "data": {
            "text/plain": [
              "(1, 1)"
            ]
          },
          "metadata": {
            "tags": []
          },
          "execution_count": 8
        }
      ]
    },
    {
      "metadata": {
        "id": "eOO18U4-f07L",
        "colab_type": "code",
        "colab": {}
      },
      "cell_type": "code",
      "source": [
        "def Sigmoid(z):\n",
        "    arg1 = 1 / (1 + np.exp(-z))\n",
        "    return arg1\n"
      ],
      "execution_count": 0,
      "outputs": []
    },
    {
      "metadata": {
        "id": "RBsoF0VikKYW",
        "colab_type": "text"
      },
      "cell_type": "markdown",
      "source": [
        "## Mean Squared Error (MSE):\n",
        "\n",
        "---\n",
        "\n"
      ]
    },
    {
      "metadata": {
        "id": "UfVHgu9qHDbH",
        "colab_type": "code",
        "colab": {}
      },
      "cell_type": "code",
      "source": [
        "class MSE:\n",
        "  \n",
        "  #class constructor\n",
        "  #In order to save W for other methods such as prediction\n",
        "  def __init__(self,W,b):\n",
        "    self.W = np.zeros((X_train.shape[1],1))\n",
        "    self.b = np.zeros((1,1))\n",
        "  \n",
        "    #Derivative of Loss \n",
        "  def derMSELoss(self,A,y):\n",
        "    arg1 = A - y\n",
        "    return arg1\n",
        "  \n",
        "    #Derivative of Sigmoid method  \n",
        "  def derSigmoid(self,A):\n",
        "      arg1 = A*(1-A)\n",
        "      return arg1\n",
        "    \n",
        "    #Mean Squared Error method   \n",
        "  def MSELoss(self,X, y,W,b):\n",
        "      arg1 = (((Sigmoid(X.dot(W) + b)-y)**2)/2).mean()\n",
        "      return arg1\n",
        "   \n",
        "    #Training weights and Biases\n",
        "  def train(self, X, y,lr=0.01 , batch=128 , epochs = 1):\n",
        "    m=60000\n",
        "\n",
        "    history={\"Loss\":[]}\n",
        "\n",
        "    for i in range(epochs):\n",
        "      for e in range(0,m,batch):\n",
        "        X1= X[e:e+batch]\n",
        "        y1= y[e:e+batch]\n",
        "        Z= X1.dot(self.W)+self.b\n",
        "        # Activation function\n",
        "        A = Sigmoid(Z)\n",
        "        # Loss update\n",
        "        Gradient= self.derMSELoss(A,y1)*(self.derSigmoid(A))\n",
        "        # Updating the weights\n",
        "        self.W= self.W - lr * np.dot(Gradient.T,X1).T/batch\n",
        "        # Updating the bias\n",
        "        self.b= self.b- lr*Gradient.mean()\n",
        "      history[\"Loss\"] += [self.MSELoss(X,y,self.W,self.b)]\n",
        "      #Show the last history \n",
        "      print(\" Loss: {}\\n\".format(history['Loss'][-1]))\n",
        "    print(\"Test accuracy : {} %\".format(100 - np.mean(np.abs(network.predict(X_test) - y_test))*100))  \n",
        "    return history\n",
        "    \n",
        "  \n",
        "  def predict(self,X):\n",
        "        m = X.shape[0]\n",
        "        #creating a prediction vector\n",
        "        Z= X.dot(self.W)+self.b\n",
        "        A = Sigmoid(Z)\n",
        "        y_prediction = np.zeros((1,m))\n",
        "        for i in range(A.shape[0]):\n",
        "          if( A[i]>= 0.5):\n",
        "            y_prediction[0,i] = 1\n",
        "          else:\n",
        "            y_prediction[0,i] = 0\n",
        "        return y_prediction\n",
        "    \n"
      ],
      "execution_count": 0,
      "outputs": []
    },
    {
      "metadata": {
        "id": "hzSMPv85X60Q",
        "colab_type": "text"
      },
      "cell_type": "markdown",
      "source": [
        "###The results shown for the detection of Digit 7:"
      ]
    },
    {
      "metadata": {
        "id": "q5ecUlQrMbwi",
        "colab_type": "code",
        "colab": {}
      },
      "cell_type": "code",
      "source": [
        "network = MSE(None,None)"
      ],
      "execution_count": 0,
      "outputs": []
    },
    {
      "metadata": {
        "id": "0EtTNcS7ItI_",
        "colab_type": "code",
        "outputId": "5053036b-676b-45fd-ce1c-2179a5676907",
        "colab": {
          "base_uri": "https://localhost:8080/",
          "height": 68
        }
      },
      "cell_type": "code",
      "source": [
        "results = network.train(X_train, y_train)"
      ],
      "execution_count": 43,
      "outputs": [
        {
          "output_type": "stream",
          "text": [
            " Loss: 0.04319978968412678\n",
            "\n",
            "Test accuracy : 89.91 %\n"
          ],
          "name": "stdout"
        }
      ]
    },
    {
      "metadata": {
        "id": "Pjvl2Q43wj1C",
        "colab_type": "text"
      },
      "cell_type": "markdown",
      "source": [
        "###Visualization:"
      ]
    },
    {
      "metadata": {
        "id": "9uZxNofrwjb7",
        "colab_type": "code",
        "colab": {
          "base_uri": "https://localhost:8080/",
          "height": 280
        },
        "outputId": "9359cbf9-2970-44ed-c820-8b5c9242d2b1"
      },
      "cell_type": "code",
      "source": [
        "plt.figure(1)\n",
        "plt.plot(results['Loss'], label='Loss')\n",
        "# plt.plot(prediction,label='prediction',color = 'green')\n",
        "plt.legend(loc='upper right')\n",
        "plt.title('Loss reduction per epoch')\n",
        "plt.ylabel('loss') \n",
        "plt.show()\n"
      ],
      "execution_count": 37,
      "outputs": [
        {
          "output_type": "display_data",
          "data": {
            "image/png": "[encoded data removed]",
            "text/plain": [
              "<Figure size 432x288 with 1 Axes>"
            ]
          },
          "metadata": {
            "tags": []
          }
        }
      ]
    },
    {
      "metadata": {
        "id": "2DWbpo01aolJ",
        "colab_type": "code",
        "colab": {
          "base_uri": "https://localhost:8080/",
          "height": 51
        },
        "outputId": "63111d90-443b-4626-92a1-2474b1684f3c"
      },
      "cell_type": "code",
      "source": [
        "network.predict(X_test[:20])\n"
      ],
      "execution_count": 26,
      "outputs": [
        {
          "output_type": "execute_result",
          "data": {
            "text/plain": [
              "array([[0., 0., 0., 0., 0., 0., 0., 0., 0., 0., 0., 0., 0., 0., 0., 0.,\n",
              "        0., 0., 0., 0.]])"
            ]
          },
          "metadata": {
            "tags": []
          },
          "execution_count": 26
        }
      ]
    },
    {
      "metadata": {
        "id": "g0tzzRTsVkVP",
        "colab_type": "text"
      },
      "cell_type": "markdown",
      "source": [
        "##Loop for classification of all numbers\n"
      ]
    },
    {
      "metadata": {
        "id": "F6WAL_OMmaQz",
        "colab_type": "text"
      },
      "cell_type": "markdown",
      "source": [
        "Reseting the labels"
      ]
    },
    {
      "metadata": {
        "id": "6vSZmZAHV3WI",
        "colab_type": "code",
        "colab": {
          "base_uri": "https://localhost:8080/",
          "height": 867
        },
        "outputId": "0b5c475c-dff4-4d62-b47f-33171cd4cee4"
      },
      "cell_type": "code",
      "source": [
        "numbers = np.arange(10)\n",
        "networks = []\n",
        "history = []\n",
        "for i in numbers:\n",
        "    print(\"______________________________________\")\n",
        "    print(\"Training Classifier for the Number: {} \".format(i))\n",
        "    y2_train = np.zeros(y_train_original.shape)\n",
        "    y2_train[np.where(y_train_original == i)[0]] = 1\n",
        "    y_train = y2_train\n",
        "    y_train = y_train.reshape(60000,1)\n",
        "    networks += [MSE(None,None)]\n",
        "    history += [networks[-1].train(X_train, y_train)]\n",
        "    \n",
        "    y2_test = np.zeros(y_test_original.shape)\n",
        "    y2_test[np.where(y_test_original == i)[0]] = 1\n",
        "    y_test = y2_test\n",
        "    y_test = y_test.reshape(10000,1)\n",
        "\n"
      ],
      "execution_count": 27,
      "outputs": [
        {
          "output_type": "stream",
          "text": [
            "______________________________________\n",
            "Training Classifier for the Number: 0 \n",
            " Loss: 0.030129312476892323\n",
            "\n",
            "Test accuracy : 89.91 %\n",
            "______________________________________\n",
            "Training Classifier for the Number: 1 \n",
            " Loss: 0.02779257968299318\n",
            "\n",
            "Test accuracy : 90.2 %\n",
            "______________________________________\n",
            "Training Classifier for the Number: 2 \n",
            " Loss: 0.04216637457644036\n",
            "\n",
            "Test accuracy : 88.65 %\n",
            "______________________________________\n",
            "Training Classifier for the Number: 3 \n",
            " Loss: 0.04214579819978914\n",
            "\n",
            "Test accuracy : 89.68 %\n",
            "______________________________________\n",
            "Training Classifier for the Number: 4 \n",
            " Loss: 0.03824473588011028\n",
            "\n",
            "Test accuracy : 89.9 %\n",
            "______________________________________\n",
            "Training Classifier for the Number: 5 \n",
            " Loss: 0.03993786367790622\n",
            "\n",
            "Test accuracy : 90.18 %\n",
            "______________________________________\n",
            "Training Classifier for the Number: 6 \n",
            " Loss: 0.037978259013493804\n",
            "\n",
            "Test accuracy : 91.08 %\n",
            "______________________________________\n",
            "Training Classifier for the Number: 7 \n",
            " Loss: 0.0351297234929648\n",
            "\n",
            "Test accuracy : 90.42 %\n",
            "______________________________________\n",
            "Training Classifier for the Number: 8 \n",
            " Loss: 0.04746023955436256\n",
            "\n",
            "Test accuracy : 89.72 %\n",
            "______________________________________\n",
            "Training Classifier for the Number: 9 \n",
            " Loss: 0.04319978968412678\n",
            "\n",
            "Test accuracy : 90.26 %\n"
          ],
          "name": "stdout"
        }
      ]
    },
    {
      "metadata": {
        "id": "VJJVliDvLtRb",
        "colab_type": "text"
      },
      "cell_type": "markdown",
      "source": [
        "Takes a long time. This is the result for Only for 1 epoch"
      ]
    },
    {
      "metadata": {
        "id": "SNj4iUE2L3ov",
        "colab_type": "code",
        "colab": {}
      },
      "cell_type": "code",
      "source": [
        ""
      ],
      "execution_count": 0,
      "outputs": []
    }
  ]
}