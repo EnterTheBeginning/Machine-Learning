{
  "nbformat": 4,
  "nbformat_minor": 0,
  "metadata": {
    "colab": {
      "name": "HW3_Problem2_final.ipynb",
      "version": "0.3.2",
      "provenance": [],
      "collapsed_sections": [],
      "include_colab_link": true
    },
    "kernelspec": {
      "name": "python3",
      "display_name": "Python 3"
    },
    "accelerator": "GPU"
  },
  "cells": [
    {
      "cell_type": "markdown",
      "metadata": {
        "id": "view-in-github",
        "colab_type": "text"
      },
      "source": [
        "<a href=\"https://colab.research.google.com/github/EnterTheBeginning/Machine-Learning/blob/master/HW3_Problem2_final.ipynb\" target=\"_parent\"><img src=\"https://colab.research.google.com/assets/colab-badge.svg\" alt=\"Open In Colab\"/></a>"
      ]
    },
    {
      "metadata": {
        "id": "F0m5bO4YcXZI",
        "colab_type": "text"
      },
      "cell_type": "markdown",
      "source": [
        "#Fine-Tuning"
      ]
    },
    {
      "metadata": {
        "id": "EN9zGcUPh6cV",
        "colab_type": "text"
      },
      "cell_type": "markdown",
      "source": [
        "**Layers of  VGG19 **  \n",
        "![alt text](https://cdn-images-1.medium.com/max/1600/1*cufAO77aeSWdShs3ba5ndg.jpeg)"
      ]
    },
    {
      "metadata": {
        "id": "gj_ySN13R01_",
        "colab_type": "code",
        "outputId": "1d465cb7-7b87-49c8-d3c6-cc2f76bef319",
        "colab": {
          "base_uri": "https://localhost:8080/",
          "height": 88
        }
      },
      "cell_type": "code",
      "source": [
        "import numpy as np\n",
        "import pandas as pd\n",
        "import matplotlib.pyplot as plt\n",
        "import matplotlib.image as mpimg\n",
        "\n",
        "%matplotlib inline\n",
        "import os\n",
        "import zipfile\n",
        "\n",
        "from tensorflow.keras.layers import Dense,Dropout,Activation\n",
        "from tensorflow.keras.models import Sequential\n",
        "from tensorflow.keras.preprocessing.image import ImageDataGenerator\n",
        "from tensorflow.keras.applications import VGG19\n",
        "from tensorflow.keras import models,optimizers,layers\n",
        "from tensorflow.keras.models import load_model, Model\n",
        "from tensorflow.keras.callbacks import ModelCheckpoint\n",
        "from tensorflow.keras.preprocessing import image\n",
        "# from tensorflow.keras.layers import Flatten\n",
        "#Make sure to use tensorflow for better this code\n",
        "from tensorflow.keras.applications import VGG19\n",
        "conv_base = VGG19(weights='imagenet',\n",
        "                  include_top=False,\n",
        "                  input_shape=(150,150,3))"
      ],
      "execution_count": 1,
      "outputs": [
        {
          "output_type": "stream",
          "text": [
            "WARNING:tensorflow:From /usr/local/lib/python3.6/dist-packages/tensorflow/python/ops/resource_variable_ops.py:435: colocate_with (from tensorflow.python.framework.ops) is deprecated and will be removed in a future version.\n",
            "Instructions for updating:\n",
            "Colocations handled automatically by placer.\n"
          ],
          "name": "stdout"
        }
      ]
    },
    {
      "metadata": {
        "id": "cYvPMvSEUH-E",
        "colab_type": "text"
      },
      "cell_type": "markdown",
      "source": [
        "##Preprocessing"
      ]
    },
    {
      "metadata": {
        "id": "16OhyjzZTCFp",
        "colab_type": "code",
        "outputId": "67677675-1055-4ab0-c4b0-065c8ab67f45",
        "colab": {
          "base_uri": "https://localhost:8080/",
          "height": 204
        }
      },
      "cell_type": "code",
      "source": [
        "!wget --no-check-certificate \\\n",
        "    https://storage.googleapis.com/mledu-datasets/cats_and_dogs_filtered.zip \\\n",
        "    -O /tmp/cats_and_dogs_filtered.zip\n",
        "  \n",
        "local_zip = '/tmp/cats_and_dogs_filtered.zip'\n",
        "zip_ref = zipfile.ZipFile(local_zip, 'r')\n",
        "zip_ref.extractall('/tmp')\n",
        "zip_ref.close()\n",
        "base_dir = '/tmp/cats_and_dogs_filtered'\n",
        "\n",
        "train_dir = os.path.join(base_dir, 'train')\n",
        "validation_dir = os.path.join(base_dir, 'validation')\n",
        "train_cats_dir = os.path.join(train_dir, 'cats')\n",
        "train_dogs_dir = os.path.join(train_dir, 'dogs')\n",
        "validation_cats_dir = os.path.join(validation_dir, 'cats')\n",
        "validation_dogs_dir = os.path.join(validation_dir, 'dogs')\n",
        "train_cat_fnames = os.listdir(train_cats_dir)\n",
        "train_cat_fnames.sort()\n",
        "train_dog_fnames = os.listdir(train_dogs_dir)\n",
        "train_dog_fnames.sort()\n",
        "#Conv Base VGG19\n",
        "conv_base = VGG19(weights='imagenet',\n",
        "                  include_top=False,\n",
        "                  input_shape=(150,150,3))"
      ],
      "execution_count": 2,
      "outputs": [
        {
          "output_type": "stream",
          "text": [
            "--2019-04-19 03:40:13--  https://storage.googleapis.com/mledu-datasets/cats_and_dogs_filtered.zip\n",
            "Resolving storage.googleapis.com (storage.googleapis.com)... 74.125.141.128, 2607:f8b0:400c:c06::80\n",
            "Connecting to storage.googleapis.com (storage.googleapis.com)|74.125.141.128|:443... connected.\n",
            "HTTP request sent, awaiting response... 200 OK\n",
            "Length: 68606236 (65M) [application/zip]\n",
            "Saving to: ‘/tmp/cats_and_dogs_filtered.zip’\n",
            "\n",
            "/tmp/cats_and_dogs_ 100%[===================>]  65.43M   118MB/s    in 0.6s    \n",
            "\n",
            "2019-04-19 03:40:14 (118 MB/s) - ‘/tmp/cats_and_dogs_filtered.zip’ saved [68606236/68606236]\n",
            "\n"
          ],
          "name": "stdout"
        }
      ]
    },
    {
      "metadata": {
        "id": "3zifrS2QmYNw",
        "colab_type": "text"
      },
      "cell_type": "markdown",
      "source": [
        "##Freezing the pretrained VGG19"
      ]
    },
    {
      "metadata": {
        "id": "5c4puC_bm10I",
        "colab_type": "text"
      },
      "cell_type": "markdown",
      "source": [
        "Since VGG19 is a pretrained model. First we freeze all the layers so that we get the accuracy of the model"
      ]
    },
    {
      "metadata": {
        "id": "sWV6vPojn5fy",
        "colab_type": "code",
        "outputId": "fc035d8a-ec5b-4068-c039-f901b25ade37",
        "colab": {
          "base_uri": "https://localhost:8080/",
          "height": 51
        }
      },
      "cell_type": "code",
      "source": [
        "#Data Augmentation\n",
        "train_datagen = ImageDataGenerator(rescale = 1./255,\n",
        "                                   rotation_range=40,\n",
        "                                   width_shift_range=0.2,\n",
        "                                   height_shift_range=0.2,\n",
        "                                   shear_range=0.2,\n",
        "                                   zoom_range=0.2,\n",
        "                                   horizontal_flip=True,\n",
        "                                   fill_mode='nearest')\n",
        "test_datagen = ImageDataGenerator(rescale=1./255)\n",
        "\n",
        "train_generator = train_datagen.flow_from_directory(\n",
        "    train_dir,\n",
        "    target_size = (150,150),\n",
        "    batch_size = 20,\n",
        "    class_mode = 'binary'\n",
        ")\n",
        "validation_generator = train_datagen.flow_from_directory(\n",
        "    validation_dir,\n",
        "    target_size = (150,150),\n",
        "    batch_size = 20,\n",
        "    class_mode = 'binary'\n",
        ")"
      ],
      "execution_count": 6,
      "outputs": [
        {
          "output_type": "stream",
          "text": [
            "Found 2000 images belonging to 2 classes.\n",
            "Found 1000 images belonging to 2 classes.\n"
          ],
          "name": "stdout"
        }
      ]
    },
    {
      "metadata": {
        "id": "ixFWwXDouZUH",
        "colab_type": "text"
      },
      "cell_type": "markdown",
      "source": [
        "Model needs to be in Functional format, If not (Sequential) the whole layers cannot be shown in summary and there is trouble freezing them"
      ]
    },
    {
      "metadata": {
        "id": "XLOmixZBrz2F",
        "colab_type": "code",
        "colab": {}
      },
      "cell_type": "code",
      "source": [
        "for layer in conv_base.layers:\n",
        "  set_trainable = False\n",
        "  layer.trainable = False\n",
        "arg1 = conv_base.output\n",
        "arg1 = layers.Flatten(name='flatten')(arg1)\n",
        "arg1 = layers.Dense(256,activation='relu')(arg1)\n",
        "arg1 = layers.Dense(1,activation ='sigmoid')(arg1)\n",
        "model = models.Model(inputs=[conv_base.input],outputs=[arg1])\n",
        "model.compile(loss='binary_crossentropy',optimizer=optimizers.RMSprop(lr=2e-5),metrics=['acc'])"
      ],
      "execution_count": 0,
      "outputs": []
    },
    {
      "metadata": {
        "id": "QGX_y9S8mj_x",
        "colab_type": "code",
        "colab": {
          "base_uri": "https://localhost:8080/",
          "height": 442
        },
        "outputId": "46396314-3a72-4076-e8c9-5152cc001426"
      },
      "cell_type": "code",
      "source": [
        "for i,layer in enumerate(model.layers):\n",
        "  print(i,' ',layer.name,' ',layer.trainable)"
      ],
      "execution_count": 13,
      "outputs": [
        {
          "output_type": "stream",
          "text": [
            "0   input_2   False\n",
            "1   block1_conv1   False\n",
            "2   block1_conv2   False\n",
            "3   block1_pool   False\n",
            "4   block2_conv1   False\n",
            "5   block2_conv2   False\n",
            "6   block2_pool   False\n",
            "7   block3_conv1   False\n",
            "8   block3_conv2   False\n",
            "9   block3_conv3   False\n",
            "10   block3_conv4   False\n",
            "11   block3_pool   False\n",
            "12   block4_conv1   False\n",
            "13   block4_conv2   False\n",
            "14   block4_conv3   False\n",
            "15   block4_conv4   False\n",
            "16   block4_pool   False\n",
            "17   block5_conv1   False\n",
            "18   block5_conv2   False\n",
            "19   block5_conv3   False\n",
            "20   block5_conv4   False\n",
            "21   block5_pool   False\n",
            "22   flatten   True\n",
            "23   dense_8   True\n",
            "24   dense_9   True\n"
          ],
          "name": "stdout"
        }
      ]
    },
    {
      "metadata": {
        "id": "PGz4MxyQmlMB",
        "colab_type": "code",
        "colab": {
          "base_uri": "https://localhost:8080/",
          "height": 1088
        },
        "outputId": "29f42cc0-bc52-4bfc-f337-4633d5f3c198"
      },
      "cell_type": "code",
      "source": [
        "history = model.fit_generator(train_generator,steps_per_epoch=100,epochs=20,\n",
        "                                validation_data=validation_generator,validation_steps=50)"
      ],
      "execution_count": 14,
      "outputs": [
        {
          "output_type": "stream",
          "text": [
            "WARNING:tensorflow:From /usr/local/lib/python3.6/dist-packages/tensorflow/python/ops/math_ops.py:3066: to_int32 (from tensorflow.python.ops.math_ops) is deprecated and will be removed in a future version.\n",
            "Instructions for updating:\n",
            "Use tf.cast instead.\n",
            "Epoch 1/20\n",
            "50/50 [==============================] - 8s 170ms/step - loss: 0.5542 - acc: 0.7470\n",
            "100/100 [==============================] - 28s 278ms/step - loss: 0.6169 - acc: 0.6690 - val_loss: 0.5542 - val_acc: 0.7470\n",
            "Epoch 2/20\n",
            "50/50 [==============================] - 9s 170ms/step - loss: 0.5031 - acc: 0.7600\n",
            "100/100 [==============================] - 24s 241ms/step - loss: 0.5173 - acc: 0.7575 - val_loss: 0.5031 - val_acc: 0.7600\n",
            "Epoch 3/20\n",
            "50/50 [==============================] - 9s 170ms/step - loss: 0.4709 - acc: 0.7810\n",
            "100/100 [==============================] - 23s 229ms/step - loss: 0.4799 - acc: 0.7765 - val_loss: 0.4709 - val_acc: 0.7810\n",
            "Epoch 4/20\n",
            "50/50 [==============================] - 8s 169ms/step - loss: 0.4621 - acc: 0.7850\n",
            "100/100 [==============================] - 23s 227ms/step - loss: 0.4460 - acc: 0.8100 - val_loss: 0.4621 - val_acc: 0.7850\n",
            "Epoch 5/20\n",
            "50/50 [==============================] - 10s 198ms/step - loss: 0.4235 - acc: 0.8200\n",
            "100/100 [==============================] - 24s 242ms/step - loss: 0.4318 - acc: 0.7995 - val_loss: 0.4235 - val_acc: 0.8200\n",
            "Epoch 6/20\n",
            "50/50 [==============================] - 8s 169ms/step - loss: 0.4424 - acc: 0.7880\n",
            "100/100 [==============================] - 23s 229ms/step - loss: 0.4049 - acc: 0.8225 - val_loss: 0.4424 - val_acc: 0.7880\n",
            "Epoch 7/20\n",
            "50/50 [==============================] - 8s 170ms/step - loss: 0.4219 - acc: 0.8110\n",
            "100/100 [==============================] - 23s 227ms/step - loss: 0.3986 - acc: 0.8330 - val_loss: 0.4219 - val_acc: 0.8110\n",
            "Epoch 8/20\n",
            "50/50 [==============================] - 8s 169ms/step - loss: 0.3822 - acc: 0.8370\n",
            "100/100 [==============================] - 23s 227ms/step - loss: 0.4037 - acc: 0.8165 - val_loss: 0.3822 - val_acc: 0.8370\n",
            "Epoch 9/20\n",
            "50/50 [==============================] - 8s 168ms/step - loss: 0.4003 - acc: 0.8120\n",
            "100/100 [==============================] - 24s 238ms/step - loss: 0.3901 - acc: 0.8230 - val_loss: 0.4003 - val_acc: 0.8120\n",
            "Epoch 10/20\n",
            "50/50 [==============================] - 9s 170ms/step - loss: 0.3868 - acc: 0.8230\n",
            "100/100 [==============================] - 23s 227ms/step - loss: 0.3899 - acc: 0.8215 - val_loss: 0.3868 - val_acc: 0.8230\n",
            "Epoch 11/20\n",
            "50/50 [==============================] - 9s 170ms/step - loss: 0.4009 - acc: 0.8230\n",
            "100/100 [==============================] - 23s 228ms/step - loss: 0.3772 - acc: 0.8260 - val_loss: 0.4009 - val_acc: 0.8230\n",
            "Epoch 12/20\n",
            "50/50 [==============================] - 10s 193ms/step - loss: 0.3745 - acc: 0.8230\n",
            "100/100 [==============================] - 24s 241ms/step - loss: 0.3738 - acc: 0.8320 - val_loss: 0.3745 - val_acc: 0.8230\n",
            "Epoch 13/20\n",
            "50/50 [==============================] - 8s 170ms/step - loss: 0.3769 - acc: 0.8230\n",
            "100/100 [==============================] - 23s 228ms/step - loss: 0.3692 - acc: 0.8305 - val_loss: 0.3769 - val_acc: 0.8230\n",
            "Epoch 14/20\n",
            "50/50 [==============================] - 8s 169ms/step - loss: 0.3858 - acc: 0.8280\n",
            "100/100 [==============================] - 23s 227ms/step - loss: 0.3640 - acc: 0.8415 - val_loss: 0.3858 - val_acc: 0.8280\n",
            "Epoch 15/20\n",
            "50/50 [==============================] - 9s 170ms/step - loss: 0.3609 - acc: 0.8410\n",
            "100/100 [==============================] - 23s 228ms/step - loss: 0.3671 - acc: 0.8345 - val_loss: 0.3609 - val_acc: 0.8410\n",
            "Epoch 16/20\n",
            "50/50 [==============================] - 8s 169ms/step - loss: 0.3651 - acc: 0.8390\n",
            "100/100 [==============================] - 24s 240ms/step - loss: 0.3451 - acc: 0.8515 - val_loss: 0.3651 - val_acc: 0.8390\n",
            "Epoch 17/20\n",
            "50/50 [==============================] - 9s 170ms/step - loss: 0.3647 - acc: 0.8280\n",
            "100/100 [==============================] - 23s 226ms/step - loss: 0.3464 - acc: 0.8530 - val_loss: 0.3647 - val_acc: 0.8280\n",
            "Epoch 18/20\n",
            "50/50 [==============================] - 8s 170ms/step - loss: 0.3560 - acc: 0.8520\n",
            "100/100 [==============================] - 23s 228ms/step - loss: 0.3440 - acc: 0.8540 - val_loss: 0.3560 - val_acc: 0.8520\n",
            "Epoch 19/20\n",
            "50/50 [==============================] - 9s 185ms/step - loss: 0.3625 - acc: 0.8260\n",
            "100/100 [==============================] - 25s 254ms/step - loss: 0.3506 - acc: 0.8450 - val_loss: 0.3625 - val_acc: 0.8260\n",
            "Epoch 20/20\n",
            "50/50 [==============================] - 9s 170ms/step - loss: 0.3450 - acc: 0.8520\n",
            "100/100 [==============================] - 23s 226ms/step - loss: 0.3550 - acc: 0.8420 - val_loss: 0.3450 - val_acc: 0.8520\n"
          ],
          "name": "stdout"
        }
      ]
    },
    {
      "metadata": {
        "id": "5iyOTEvgsXZh",
        "colab_type": "code",
        "colab": {
          "base_uri": "https://localhost:8080/",
          "height": 51
        },
        "outputId": "9168542a-92bc-40fc-add6-0e5d9e5cf0a2"
      },
      "cell_type": "code",
      "source": [
        "score= model.evaluate_generator(validation_generator,steps = 50)\n",
        "print(\"Loss :\",score[0])\n",
        "print(\"Accuracy: %\",score[1]*100)"
      ],
      "execution_count": 15,
      "outputs": [
        {
          "output_type": "stream",
          "text": [
            "Loss : 0.3677135810256004\n",
            "Accuracy: % 83.79999995231628\n"
          ],
          "name": "stdout"
        }
      ]
    },
    {
      "metadata": {
        "id": "mQKc2VAlt4NB",
        "colab_type": "text"
      },
      "cell_type": "markdown",
      "source": [
        "Freezing the whole Conv Layers concluded to: ** 83 %**"
      ]
    },
    {
      "metadata": {
        "id": "jT7hsdgddDR6",
        "colab_type": "text"
      },
      "cell_type": "markdown",
      "source": [
        "##Unfreezing\n",
        "\n"
      ]
    },
    {
      "metadata": {
        "id": "K2mCxOD9eRVN",
        "colab_type": "text"
      },
      "cell_type": "markdown",
      "source": [
        "Lets fine tune the last **Four CNN** layers = all layers above needs to be frozen.   "
      ]
    },
    {
      "metadata": {
        "id": "CfXnHDrNREmj",
        "colab_type": "code",
        "colab": {
          "base_uri": "https://localhost:8080/",
          "height": 884
        },
        "outputId": "d582e084-ede2-438b-8a08-543e97da3b0c"
      },
      "cell_type": "code",
      "source": [
        "conv_base.summary()"
      ],
      "execution_count": 19,
      "outputs": [
        {
          "output_type": "stream",
          "text": [
            "_________________________________________________________________\n",
            "Layer (type)                 Output Shape              Param #   \n",
            "=================================================================\n",
            "input_2 (InputLayer)         (None, 150, 150, 3)       0         \n",
            "_________________________________________________________________\n",
            "block1_conv1 (Conv2D)        (None, 150, 150, 64)      1792      \n",
            "_________________________________________________________________\n",
            "block1_conv2 (Conv2D)        (None, 150, 150, 64)      36928     \n",
            "_________________________________________________________________\n",
            "block1_pool (MaxPooling2D)   (None, 75, 75, 64)        0         \n",
            "_________________________________________________________________\n",
            "block2_conv1 (Conv2D)        (None, 75, 75, 128)       73856     \n",
            "_________________________________________________________________\n",
            "block2_conv2 (Conv2D)        (None, 75, 75, 128)       147584    \n",
            "_________________________________________________________________\n",
            "block2_pool (MaxPooling2D)   (None, 37, 37, 128)       0         \n",
            "_________________________________________________________________\n",
            "block3_conv1 (Conv2D)        (None, 37, 37, 256)       295168    \n",
            "_________________________________________________________________\n",
            "block3_conv2 (Conv2D)        (None, 37, 37, 256)       590080    \n",
            "_________________________________________________________________\n",
            "block3_conv3 (Conv2D)        (None, 37, 37, 256)       590080    \n",
            "_________________________________________________________________\n",
            "block3_conv4 (Conv2D)        (None, 37, 37, 256)       590080    \n",
            "_________________________________________________________________\n",
            "block3_pool (MaxPooling2D)   (None, 18, 18, 256)       0         \n",
            "_________________________________________________________________\n",
            "block4_conv1 (Conv2D)        (None, 18, 18, 512)       1180160   \n",
            "_________________________________________________________________\n",
            "block4_conv2 (Conv2D)        (None, 18, 18, 512)       2359808   \n",
            "_________________________________________________________________\n",
            "block4_conv3 (Conv2D)        (None, 18, 18, 512)       2359808   \n",
            "_________________________________________________________________\n",
            "block4_conv4 (Conv2D)        (None, 18, 18, 512)       2359808   \n",
            "_________________________________________________________________\n",
            "block4_pool (MaxPooling2D)   (None, 9, 9, 512)         0         \n",
            "_________________________________________________________________\n",
            "block5_conv1 (Conv2D)        (None, 9, 9, 512)         2359808   \n",
            "_________________________________________________________________\n",
            "block5_conv2 (Conv2D)        (None, 9, 9, 512)         2359808   \n",
            "_________________________________________________________________\n",
            "block5_conv3 (Conv2D)        (None, 9, 9, 512)         2359808   \n",
            "_________________________________________________________________\n",
            "block5_conv4 (Conv2D)        (None, 9, 9, 512)         2359808   \n",
            "_________________________________________________________________\n",
            "block5_pool (MaxPooling2D)   (None, 4, 4, 512)         0         \n",
            "=================================================================\n",
            "Total params: 20,024,384\n",
            "Trainable params: 9,439,232\n",
            "Non-trainable params: 10,585,152\n",
            "_________________________________________________________________\n"
          ],
          "name": "stdout"
        }
      ]
    },
    {
      "metadata": {
        "id": "mfDD4rbUePwk",
        "colab_type": "code",
        "colab": {}
      },
      "cell_type": "code",
      "source": [
        "conv_base.trainable = True\n",
        "set_trainable = False\n",
        "for layer in conv_base.layers:\n",
        "  if layer.name == 'block5_conv1':\n",
        "    set_trainable = True\n",
        "  if set_trainable:\n",
        "    layer.trainable = True\n",
        "  else:\n",
        "    layer.trainable = False"
      ],
      "execution_count": 0,
      "outputs": []
    },
    {
      "metadata": {
        "id": "sZVsGZV2mo9Y",
        "colab_type": "code",
        "colab": {
          "base_uri": "https://localhost:8080/",
          "height": 442
        },
        "outputId": "16f80ebd-a049-46a5-c585-ad69a73736ad"
      },
      "cell_type": "code",
      "source": [
        "for i,layer in enumerate(model.layers):\n",
        "  print(i,' ',layer.name,' ',layer.trainable)"
      ],
      "execution_count": 21,
      "outputs": [
        {
          "output_type": "stream",
          "text": [
            "0   input_2   False\n",
            "1   block1_conv1   False\n",
            "2   block1_conv2   False\n",
            "3   block1_pool   False\n",
            "4   block2_conv1   False\n",
            "5   block2_conv2   False\n",
            "6   block2_pool   False\n",
            "7   block3_conv1   False\n",
            "8   block3_conv2   False\n",
            "9   block3_conv3   False\n",
            "10   block3_conv4   False\n",
            "11   block3_pool   False\n",
            "12   block4_conv1   False\n",
            "13   block4_conv2   False\n",
            "14   block4_conv3   False\n",
            "15   block4_conv4   False\n",
            "16   block4_pool   False\n",
            "17   block5_conv1   True\n",
            "18   block5_conv2   True\n",
            "19   block5_conv3   True\n",
            "20   block5_conv4   True\n",
            "21   block5_pool   True\n",
            "22   flatten   True\n",
            "23   dense_8   True\n",
            "24   dense_9   True\n"
          ],
          "name": "stdout"
        }
      ]
    },
    {
      "metadata": {
        "id": "HycBKTEAys51",
        "colab_type": "code",
        "colab": {}
      },
      "cell_type": "code",
      "source": [
        "from tensorflow.keras.callbacks import ModelCheckpoint"
      ],
      "execution_count": 0,
      "outputs": []
    },
    {
      "metadata": {
        "id": "v6gpQjXRZAH-",
        "colab_type": "text"
      },
      "cell_type": "markdown",
      "source": [
        "ReduceLROnPlateau: Reduce learning rate when a metric has stopped improving.\n",
        "\n"
      ]
    },
    {
      "metadata": {
        "id": "s4578wwjybhW",
        "colab_type": "code",
        "colab": {}
      },
      "cell_type": "code",
      "source": [
        "bestWeight=\"./optimal_weight.h5\"\n",
        "saveWeight = ModelCheckpoint(bestWeight, monitor='val_acc', verbose=1, save_best_only=True, mode='max', save_weights_only=False)\n",
        "callbacks = [saveWeight]"
      ],
      "execution_count": 0,
      "outputs": []
    },
    {
      "metadata": {
        "id": "jgoinbC2fjAo",
        "colab_type": "code",
        "colab": {
          "base_uri": "https://localhost:8080/",
          "height": 2567
        },
        "outputId": "8f7d41c2-7f90-4937-b6cf-b3d81553cde5"
      },
      "cell_type": "code",
      "source": [
        "verbose = 2\n",
        "model.compile(loss='binary_crossentropy',optimizer=optimizers.RMSprop(lr=2e-5),metrics=['acc'])\n",
        "history = model.fit_generator(train_generator,steps_per_epoch=100,epochs=30,verbose = verbose,validation_data=validation_generator,validation_steps = 50,callbacks=callbacks)"
      ],
      "execution_count": 31,
      "outputs": [
        {
          "output_type": "stream",
          "text": [
            "Epoch 1/30\n",
            "50/50 [==============================] - 9s 171ms/step - loss: 0.3018 - acc: 0.8800\n",
            "\n",
            "Epoch 00001: val_acc improved from 0.84200 to 0.88000, saving model to ./optimal_weight.h5\n",
            " - 26s - loss: 0.2681 - acc: 0.8860 - val_loss: 0.3018 - val_acc: 0.8800\n",
            "Epoch 2/30\n",
            "50/50 [==============================] - 9s 171ms/step - loss: 0.3149 - acc: 0.8780\n",
            "\n",
            "Epoch 00002: val_acc did not improve from 0.88000\n",
            " - 23s - loss: 0.2452 - acc: 0.9000 - val_loss: 0.3149 - val_acc: 0.8780\n",
            "Epoch 3/30\n",
            "50/50 [==============================] - 8s 168ms/step - loss: 0.3576 - acc: 0.8570\n",
            "\n",
            "Epoch 00003: val_acc did not improve from 0.88000\n",
            " - 23s - loss: 0.2367 - acc: 0.9040 - val_loss: 0.3576 - val_acc: 0.8570\n",
            "Epoch 4/30\n",
            "50/50 [==============================] - 9s 182ms/step - loss: 0.2498 - acc: 0.8960\n",
            "\n",
            "Epoch 00004: val_acc improved from 0.88000 to 0.89600, saving model to ./optimal_weight.h5\n",
            " - 25s - loss: 0.2011 - acc: 0.9110 - val_loss: 0.2498 - val_acc: 0.8960\n",
            "Epoch 5/30\n",
            "50/50 [==============================] - 8s 168ms/step - loss: 0.2367 - acc: 0.9020\n",
            "\n",
            "Epoch 00005: val_acc improved from 0.89600 to 0.90200, saving model to ./optimal_weight.h5\n",
            " - 23s - loss: 0.1907 - acc: 0.9215 - val_loss: 0.2367 - val_acc: 0.9020\n",
            "Epoch 6/30\n",
            "50/50 [==============================] - 9s 187ms/step - loss: 0.2380 - acc: 0.9070\n",
            "\n",
            "Epoch 00006: val_acc improved from 0.90200 to 0.90700, saving model to ./optimal_weight.h5\n",
            " - 25s - loss: 0.1714 - acc: 0.9245 - val_loss: 0.2380 - val_acc: 0.9070\n",
            "Epoch 7/30\n",
            "50/50 [==============================] - 9s 185ms/step - loss: 0.2984 - acc: 0.8890\n",
            "\n",
            "Epoch 00007: val_acc did not improve from 0.90700\n",
            " - 24s - loss: 0.1616 - acc: 0.9365 - val_loss: 0.2984 - val_acc: 0.8890\n",
            "Epoch 8/30\n",
            "50/50 [==============================] - 8s 169ms/step - loss: 0.2835 - acc: 0.9030\n",
            "\n",
            "Epoch 00008: val_acc did not improve from 0.90700\n",
            " - 23s - loss: 0.1582 - acc: 0.9380 - val_loss: 0.2835 - val_acc: 0.9030\n",
            "Epoch 9/30\n",
            "50/50 [==============================] - 8s 170ms/step - loss: 0.2398 - acc: 0.9070\n",
            "\n",
            "Epoch 00009: val_acc did not improve from 0.90700\n",
            " - 23s - loss: 0.1393 - acc: 0.9440 - val_loss: 0.2398 - val_acc: 0.9070\n",
            "Epoch 10/30\n",
            "50/50 [==============================] - 8s 169ms/step - loss: 0.3075 - acc: 0.8900\n",
            "\n",
            "Epoch 00010: val_acc did not improve from 0.90700\n",
            " - 23s - loss: 0.1416 - acc: 0.9475 - val_loss: 0.3075 - val_acc: 0.8900\n",
            "Epoch 11/30\n",
            "50/50 [==============================] - 8s 168ms/step - loss: 0.2372 - acc: 0.9110\n",
            "\n",
            "Epoch 00011: val_acc improved from 0.90700 to 0.91100, saving model to ./optimal_weight.h5\n",
            " - 24s - loss: 0.1269 - acc: 0.9500 - val_loss: 0.2372 - val_acc: 0.9110\n",
            "Epoch 12/30\n",
            "50/50 [==============================] - 9s 176ms/step - loss: 0.2641 - acc: 0.9030\n",
            "\n",
            "Epoch 00012: val_acc did not improve from 0.91100\n",
            " - 24s - loss: 0.1251 - acc: 0.9490 - val_loss: 0.2641 - val_acc: 0.9030\n",
            "Epoch 13/30\n",
            "50/50 [==============================] - 8s 169ms/step - loss: 0.3589 - acc: 0.8980\n",
            "\n",
            "Epoch 00013: val_acc did not improve from 0.91100\n",
            " - 23s - loss: 0.1116 - acc: 0.9545 - val_loss: 0.3589 - val_acc: 0.8980\n",
            "Epoch 14/30\n",
            "50/50 [==============================] - 10s 194ms/step - loss: 0.2296 - acc: 0.9040\n",
            "\n",
            "Epoch 00014: val_acc did not improve from 0.91100\n",
            " - 24s - loss: 0.1073 - acc: 0.9560 - val_loss: 0.2296 - val_acc: 0.9040\n",
            "Epoch 15/30\n",
            "50/50 [==============================] - 8s 169ms/step - loss: 0.2956 - acc: 0.8940\n",
            "\n",
            "Epoch 00015: val_acc did not improve from 0.91100\n",
            " - 23s - loss: 0.1033 - acc: 0.9570 - val_loss: 0.2956 - val_acc: 0.8940\n",
            "Epoch 16/30\n",
            "50/50 [==============================] - 8s 168ms/step - loss: 0.2698 - acc: 0.9150\n",
            "\n",
            "Epoch 00016: val_acc improved from 0.91100 to 0.91500, saving model to ./optimal_weight.h5\n",
            " - 23s - loss: 0.0902 - acc: 0.9675 - val_loss: 0.2698 - val_acc: 0.9150\n",
            "Epoch 17/30\n",
            "50/50 [==============================] - 8s 170ms/step - loss: 0.2313 - acc: 0.9210\n",
            "\n",
            "Epoch 00017: val_acc improved from 0.91500 to 0.92100, saving model to ./optimal_weight.h5\n",
            " - 24s - loss: 0.0862 - acc: 0.9700 - val_loss: 0.2313 - val_acc: 0.9210\n",
            "Epoch 18/30\n",
            "50/50 [==============================] - 8s 168ms/step - loss: 0.3787 - acc: 0.8910\n",
            "\n",
            "Epoch 00018: val_acc did not improve from 0.92100\n",
            " - 24s - loss: 0.0600 - acc: 0.9745 - val_loss: 0.3787 - val_acc: 0.8910\n",
            "Epoch 19/30\n",
            "50/50 [==============================] - 10s 199ms/step - loss: 0.3094 - acc: 0.9150\n",
            "\n",
            "Epoch 00019: val_acc did not improve from 0.92100\n",
            " - 24s - loss: 0.0846 - acc: 0.9650 - val_loss: 0.3094 - val_acc: 0.9150\n",
            "Epoch 20/30\n",
            "50/50 [==============================] - 8s 169ms/step - loss: 0.3163 - acc: 0.9030\n",
            "\n",
            "Epoch 00020: val_acc did not improve from 0.92100\n",
            " - 23s - loss: 0.0871 - acc: 0.9680 - val_loss: 0.3163 - val_acc: 0.9030\n",
            "Epoch 21/30\n",
            "50/50 [==============================] - 9s 181ms/step - loss: 0.2615 - acc: 0.9150\n",
            "\n",
            "Epoch 00021: val_acc did not improve from 0.92100\n",
            " - 24s - loss: 0.0824 - acc: 0.9690 - val_loss: 0.2615 - val_acc: 0.9150\n",
            "Epoch 22/30\n",
            "50/50 [==============================] - 8s 169ms/step - loss: 0.3097 - acc: 0.9240\n",
            "\n",
            "Epoch 00022: val_acc improved from 0.92100 to 0.92400, saving model to ./optimal_weight.h5\n",
            " - 23s - loss: 0.0702 - acc: 0.9725 - val_loss: 0.3097 - val_acc: 0.9240\n",
            "Epoch 23/30\n",
            "50/50 [==============================] - 8s 169ms/step - loss: 0.2894 - acc: 0.9160\n",
            "\n",
            "Epoch 00023: val_acc did not improve from 0.92400\n",
            " - 23s - loss: 0.0697 - acc: 0.9770 - val_loss: 0.2894 - val_acc: 0.9160\n",
            "Epoch 24/30\n",
            "50/50 [==============================] - 9s 179ms/step - loss: 0.3199 - acc: 0.9150\n",
            "\n",
            "Epoch 00024: val_acc did not improve from 0.92400\n",
            " - 23s - loss: 0.0801 - acc: 0.9730 - val_loss: 0.3199 - val_acc: 0.9150\n",
            "Epoch 25/30\n",
            "50/50 [==============================] - 8s 170ms/step - loss: 0.3013 - acc: 0.9150\n",
            "\n",
            "Epoch 00025: val_acc did not improve from 0.92400\n",
            " - 24s - loss: 0.0780 - acc: 0.9695 - val_loss: 0.3013 - val_acc: 0.9150\n",
            "Epoch 26/30\n",
            "50/50 [==============================] - 8s 168ms/step - loss: 0.3601 - acc: 0.9180\n",
            "\n",
            "Epoch 00026: val_acc did not improve from 0.92400\n",
            " - 23s - loss: 0.0521 - acc: 0.9810 - val_loss: 0.3601 - val_acc: 0.9180\n",
            "Epoch 27/30\n",
            "50/50 [==============================] - 8s 167ms/step - loss: 0.3565 - acc: 0.9180\n",
            "\n",
            "Epoch 00027: val_acc did not improve from 0.92400\n",
            " - 23s - loss: 0.0612 - acc: 0.9770 - val_loss: 0.3565 - val_acc: 0.9180\n",
            "Epoch 28/30\n",
            "50/50 [==============================] - 9s 171ms/step - loss: 0.4182 - acc: 0.8920\n",
            "\n",
            "Epoch 00028: val_acc did not improve from 0.92400\n",
            " - 24s - loss: 0.0591 - acc: 0.9750 - val_loss: 0.4182 - val_acc: 0.8920\n",
            "Epoch 29/30\n",
            "50/50 [==============================] - 8s 168ms/step - loss: 0.4272 - acc: 0.9050\n",
            "\n",
            "Epoch 00029: val_acc did not improve from 0.92400\n",
            " - 23s - loss: 0.0554 - acc: 0.9780 - val_loss: 0.4272 - val_acc: 0.9050\n",
            "Epoch 30/30\n",
            "50/50 [==============================] - 8s 168ms/step - loss: 0.3959 - acc: 0.9170\n",
            "\n",
            "Epoch 00030: val_acc did not improve from 0.92400\n",
            " - 23s - loss: 0.0533 - acc: 0.9760 - val_loss: 0.3959 - val_acc: 0.9170\n"
          ],
          "name": "stdout"
        }
      ]
    },
    {
      "metadata": {
        "id": "zFpr99qdhLYL",
        "colab_type": "code",
        "colab": {
          "base_uri": "https://localhost:8080/",
          "height": 51
        },
        "outputId": "100e77f3-4af6-4b30-9cf9-b3bdf2109fea"
      },
      "cell_type": "code",
      "source": [
        "model.load_weights(\"optimal_weight.h5\")\n",
        "score= model.evaluate_generator(validation_generator,steps = 50)\n",
        "print(\"Loss :\",score[0])\n",
        "print(\"Accuracy: \",score[1])"
      ],
      "execution_count": 36,
      "outputs": [
        {
          "output_type": "stream",
          "text": [
            "Loss : 0.26494279231876133\n",
            "Accuracy:  0.923\n"
          ],
          "name": "stdout"
        }
      ]
    },
    {
      "metadata": {
        "id": "J7OkHOgIlXld",
        "colab_type": "text"
      },
      "cell_type": "markdown",
      "source": [
        "Accuracy of ** 92 %** Increase of: 9%"
      ]
    },
    {
      "metadata": {
        "id": "OscuuLmHuKvA",
        "colab_type": "code",
        "colab": {}
      },
      "cell_type": "code",
      "source": [
        "model.save('optimal_model.h5')"
      ],
      "execution_count": 0,
      "outputs": []
    },
    {
      "metadata": {
        "id": "yuHhTe7ahLsb",
        "colab_type": "code",
        "colab": {
          "base_uri": "https://localhost:8080/",
          "height": 545
        },
        "outputId": "72f5e164-3d09-4c90-fea1-77073447ef7b"
      },
      "cell_type": "code",
      "source": [
        "acc = history.history['acc']\n",
        "val_acc = history.history['val_acc']\n",
        "loss = history.history['loss']\n",
        "val_loss = history.history['val_loss']\n",
        "epochs = range(1, len(acc) + 1)\n",
        "# training and validation accuracy\n",
        "plt.plot(epochs, acc, 'r+', label='training acc')\n",
        "plt.plot(epochs, val_acc, 'g-', label='validation acc')\n",
        "plt.title('Validation Accuracy')\n",
        "plt.legend()\n",
        "plt.figure()\n",
        "# training and validation loss\n",
        "plt.plot(epochs, loss, 'r+', label='training loss')\n",
        "plt.plot(epochs, val_loss, 'g-', label='validation loss')\n",
        "plt.title('Validation Loss')\n",
        "plt.legend()\n",
        "\n",
        "plt.show()\n"
      ],
      "execution_count": 38,
      "outputs": [
        {
          "output_type": "display_data",
          "data": {
            "image/png": "[encoded data removed]",
            "text/plain": [
              "<Figure size 432x288 with 1 Axes>"
            ]
          },
          "metadata": {
            "tags": []
          }
        },
        {
          "output_type": "display_data",
          "data": {
            "image/png": "[encoded data removed]",
            "text/plain": [
              "<Figure size 432x288 with 1 Axes>"
            ]
          },
          "metadata": {
            "tags": []
          }
        }
      ]
    }
  ]
}