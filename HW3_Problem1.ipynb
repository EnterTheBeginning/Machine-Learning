{
  "nbformat": 4,
  "nbformat_minor": 0,
  "metadata": {
    "colab": {
      "name": "HW3_Problem1.ipynb",
      "version": "0.3.2",
      "provenance": [],
      "collapsed_sections": [],
      "include_colab_link": true
    },
    "kernelspec": {
      "name": "python3",
      "display_name": "Python 3"
    },
    "accelerator": "GPU"
  },
  "cells": [
    {
      "cell_type": "markdown",
      "metadata": {
        "id": "view-in-github",
        "colab_type": "text"
      },
      "source": [
        "<a href=\"https://colab.research.google.com/github/EnterTheBeginning/Machine-Learning/blob/master/HW3_Problem1.ipynb\" target=\"_parent\"><img src=\"https://colab.research.google.com/assets/colab-badge.svg\" alt=\"Open In Colab\"/></a>"
      ]
    },
    {
      "metadata": {
        "id": "gj_ySN13R01_",
        "colab_type": "code",
        "outputId": "ebeabaa1-d001-4f3f-d849-8bc1d07b7798",
        "colab": {
          "base_uri": "https://localhost:8080/",
          "height": 34
        }
      },
      "cell_type": "code",
      "source": [
        "import numpy as np\n",
        "import pandas as pd\n",
        "import matplotlib.pyplot as plt\n",
        "import matplotlib.image as mpimg\n",
        "\n",
        "%matplotlib inline\n",
        "import os\n",
        "import zipfile\n",
        "\n",
        "from keras.layers import Dense,Dropout,Activation\n",
        "from keras.models import Sequential\n",
        "from keras.preprocessing.image import ImageDataGenerator\n",
        "from keras.applications import VGG19\n",
        "from keras import layers"
      ],
      "execution_count": 1,
      "outputs": [
        {
          "output_type": "stream",
          "text": [
            "Using TensorFlow backend.\n"
          ],
          "name": "stderr"
        }
      ]
    },
    {
      "metadata": {
        "id": "cYvPMvSEUH-E",
        "colab_type": "text"
      },
      "cell_type": "markdown",
      "source": [
        "##Preprocessing"
      ]
    },
    {
      "metadata": {
        "id": "16OhyjzZTCFp",
        "colab_type": "code",
        "outputId": "77271b7e-a6d3-4a19-96cb-6bf7c6649dc3",
        "colab": {
          "base_uri": "https://localhost:8080/",
          "height": 204
        }
      },
      "cell_type": "code",
      "source": [
        "!wget --no-check-certificate \\\n",
        "    https://storage.googleapis.com/mledu-datasets/cats_and_dogs_filtered.zip \\\n",
        "    -O /tmp/cats_and_dogs_filtered.zip\n",
        "  \n",
        "local_zip = '/tmp/cats_and_dogs_filtered.zip'\n",
        "zip_ref = zipfile.ZipFile(local_zip, 'r')\n",
        "zip_ref.extractall('/tmp')\n",
        "zip_ref.close()"
      ],
      "execution_count": 2,
      "outputs": [
        {
          "output_type": "stream",
          "text": [
            "--2019-04-16 17:46:01--  https://storage.googleapis.com/mledu-datasets/cats_and_dogs_filtered.zip\n",
            "Resolving storage.googleapis.com (storage.googleapis.com)... 173.194.69.128, 2a00:1450:4013:c04::80\n",
            "Connecting to storage.googleapis.com (storage.googleapis.com)|173.194.69.128|:443... connected.\n",
            "HTTP request sent, awaiting response... 200 OK\n",
            "Length: 68606236 (65M) [application/zip]\n",
            "Saving to: ‘/tmp/cats_and_dogs_filtered.zip’\n",
            "\n",
            "/tmp/cats_and_dogs_ 100%[===================>]  65.43M  62.1MB/s    in 1.1s    \n",
            "\n",
            "2019-04-16 17:46:03 (62.1 MB/s) - ‘/tmp/cats_and_dogs_filtered.zip’ saved [68606236/68606236]\n",
            "\n"
          ],
          "name": "stdout"
        }
      ]
    },
    {
      "metadata": {
        "id": "otRBtapFVx5e",
        "colab_type": "code",
        "colab": {}
      },
      "cell_type": "code",
      "source": [
        "base_dir = '/tmp/cats_and_dogs_filtered'\n",
        "\n",
        "train_dir = os.path.join(base_dir, 'train')\n",
        "validation_dir = os.path.join(base_dir, 'validation')\n",
        "\n",
        "train_cats_dir = os.path.join(train_dir, 'cats')\n",
        "train_dogs_dir = os.path.join(train_dir, 'dogs')\n",
        "validation_cats_dir = os.path.join(validation_dir, 'cats')\n",
        "validation_dogs_dir = os.path.join(validation_dir, 'dogs')\n",
        "train_cat_fnames = os.listdir(train_cats_dir)\n",
        "train_cat_fnames.sort()\n",
        "train_dog_fnames = os.listdir(train_dogs_dir)\n",
        "train_dog_fnames.sort()\n"
      ],
      "execution_count": 0,
      "outputs": []
    },
    {
      "metadata": {
        "id": "Aa3jnnVat23c",
        "colab_type": "code",
        "outputId": "71f3eeb5-d8ae-4ec6-8000-ecf7f56322c3",
        "colab": {
          "base_uri": "https://localhost:8080/",
          "height": 51
        }
      },
      "cell_type": "code",
      "source": [
        "generator = ImageDataGenerator(rescale = 1./255)\n",
        "\n",
        "train_generator = generator.flow_from_directory(\n",
        "    train_dir,\n",
        "    target_size = (150,150),\n",
        "    batch_size = 20,\n",
        "    class_mode = 'binary'\n",
        ")\n",
        "validation_generator = generator.flow_from_directory(\n",
        "    validation_dir,\n",
        "    target_size = (150,150),\n",
        "    batch_size = 20,\n",
        "    class_mode = 'binary'\n",
        ")"
      ],
      "execution_count": 4,
      "outputs": [
        {
          "output_type": "stream",
          "text": [
            "Found 2000 images belonging to 2 classes.\n",
            "Found 1000 images belonging to 2 classes.\n"
          ],
          "name": "stdout"
        }
      ]
    },
    {
      "metadata": {
        "id": "avzCzczA0dY4",
        "colab_type": "code",
        "outputId": "e0bf6e8b-c882-41a6-d2c9-dcca0761ac2a",
        "colab": {
          "base_uri": "https://localhost:8080/",
          "height": 102
        }
      },
      "cell_type": "code",
      "source": [
        "conv_base = VGG19(weights ='imagenet',\n",
        "                 include_top=False,\n",
        "                 input_shape=(150,150,3))"
      ],
      "execution_count": 5,
      "outputs": [
        {
          "output_type": "stream",
          "text": [
            "WARNING:tensorflow:From /usr/local/lib/python3.6/dist-packages/tensorflow/python/framework/op_def_library.py:263: colocate_with (from tensorflow.python.framework.ops) is deprecated and will be removed in a future version.\n",
            "Instructions for updating:\n",
            "Colocations handled automatically by placer.\n",
            "Downloading data from https://github.com/fchollet/deep-learning-models/releases/download/v0.1/vgg19_weights_tf_dim_ordering_tf_kernels_notop.h5\n",
            "80142336/80134624 [==============================] - 3s 0us/step\n"
          ],
          "name": "stdout"
        }
      ]
    },
    {
      "metadata": {
        "id": "TxLH10zD9dL1",
        "colab_type": "text"
      },
      "cell_type": "markdown",
      "source": [
        "##Feature Extraction"
      ]
    },
    {
      "metadata": {
        "id": "mK4ihbX_AVmY",
        "colab_type": "code",
        "outputId": "310df735-4e03-45bb-bed7-837c3a0f31af",
        "colab": {
          "base_uri": "https://localhost:8080/",
          "height": 85
        }
      },
      "cell_type": "code",
      "source": [
        "%%time\n",
        "from keras.preprocessing.image import ImageDataGenerator\n",
        "import numpy as np\n",
        "\n",
        "datagen = ImageDataGenerator(rescale=1./255)\n",
        "batch_size = 20\n",
        "\n",
        "def extract_features(directory, sample_count):\n",
        "  features = np.zeros(shape=(sample_count, 4, 4, 512))\n",
        "  labels = np.zeros(shape=(sample_count))\n",
        "  generator = datagen.flow_from_directory(\n",
        "      directory, target_size=(150, 150),\n",
        "      batch_size=batch_size,\n",
        "      class_mode='binary'\n",
        "  )\n",
        "  i = 0\n",
        "  for input_batch, labels_batch in generator:\n",
        "    features_batch = conv_base.predict(input_batch)\n",
        "    features[i * batch_size : (i + 1) * batch_size] = features_batch\n",
        "    labels[i * batch_size : (i + 1) * batch_size] = labels_batch\n",
        "    i += 1\n",
        "    if i * batch_size >= sample_count:\n",
        "      break\n",
        "  return features, labels\n",
        "\n",
        "train_features, train_labels = extract_features(train_dir, 2000)\n",
        "validation_features, validation_labels = extract_features(validation_dir, 1000)\n",
        "\n",
        "train_features = np.reshape(train_features, (2000, 4 * 4 * 512))\n",
        "validation_features = np.reshape(validation_features, (1000, 4 * 4 * 512))\n"
      ],
      "execution_count": 6,
      "outputs": [
        {
          "output_type": "stream",
          "text": [
            "Found 2000 images belonging to 2 classes.\n",
            "Found 1000 images belonging to 2 classes.\n",
            "CPU times: user 16.9 s, sys: 6.03 s, total: 22.9 s\n",
            "Wall time: 22.8 s\n"
          ],
          "name": "stdout"
        }
      ]
    },
    {
      "metadata": {
        "id": "o0j_C5B49fNG",
        "colab_type": "text"
      },
      "cell_type": "markdown",
      "source": [
        "##Model 1 Without Augmentation"
      ]
    },
    {
      "metadata": {
        "id": "COA9trMI03fP",
        "colab_type": "code",
        "outputId": "d6cf5763-421e-4b28-fb15-82dad419820c",
        "colab": {
          "base_uri": "https://localhost:8080/",
          "height": 1156
        }
      },
      "cell_type": "code",
      "source": [
        "from keras import optimizers\n",
        "model = Sequential()\n",
        "model.add(Dense(256,input_dim=4*4*512))\n",
        "model.add(Dropout(.5))\n",
        "model.add(Dense(1, activation='sigmoid'))\n",
        "model.compile(optimizer=optimizers.RMSprop(lr=2e-5),\n",
        "              loss='binary_crossentropy',\n",
        "              metrics=['acc'])\n",
        "history = model.fit(train_features, \n",
        "          train_labels, \n",
        "           epochs=30, \n",
        "            batch_size=20, \n",
        "              validation_data=(validation_features, validation_labels))"
      ],
      "execution_count": 7,
      "outputs": [
        {
          "output_type": "stream",
          "text": [
            "WARNING:tensorflow:From /usr/local/lib/python3.6/dist-packages/keras/backend/tensorflow_backend.py:3445: calling dropout (from tensorflow.python.ops.nn_ops) with keep_prob is deprecated and will be removed in a future version.\n",
            "Instructions for updating:\n",
            "Please use `rate` instead of `keep_prob`. Rate should be set to `rate = 1 - keep_prob`.\n",
            "WARNING:tensorflow:From /usr/local/lib/python3.6/dist-packages/tensorflow/python/ops/math_ops.py:3066: to_int32 (from tensorflow.python.ops.math_ops) is deprecated and will be removed in a future version.\n",
            "Instructions for updating:\n",
            "Use tf.cast instead.\n",
            "Train on 2000 samples, validate on 1000 samples\n",
            "Epoch 1/30\n",
            "2000/2000 [==============================] - 1s 746us/step - loss: 0.6338 - acc: 0.6615 - val_loss: 0.4398 - val_acc: 0.8090\n",
            "Epoch 2/30\n",
            "2000/2000 [==============================] - 1s 276us/step - loss: 0.4305 - acc: 0.7950 - val_loss: 0.3694 - val_acc: 0.8280\n",
            "Epoch 3/30\n",
            "2000/2000 [==============================] - 1s 273us/step - loss: 0.3622 - acc: 0.8350 - val_loss: 0.3271 - val_acc: 0.8650\n",
            "Epoch 4/30\n",
            "2000/2000 [==============================] - 1s 269us/step - loss: 0.3196 - acc: 0.8610 - val_loss: 0.3092 - val_acc: 0.8660\n",
            "Epoch 5/30\n",
            "2000/2000 [==============================] - 1s 272us/step - loss: 0.2832 - acc: 0.8845 - val_loss: 0.3104 - val_acc: 0.8560\n",
            "Epoch 6/30\n",
            "2000/2000 [==============================] - 1s 265us/step - loss: 0.2634 - acc: 0.8970 - val_loss: 0.2996 - val_acc: 0.8710\n",
            "Epoch 7/30\n",
            "2000/2000 [==============================] - 1s 266us/step - loss: 0.2433 - acc: 0.9060 - val_loss: 0.2978 - val_acc: 0.8660\n",
            "Epoch 8/30\n",
            "2000/2000 [==============================] - 1s 269us/step - loss: 0.2277 - acc: 0.9090 - val_loss: 0.2786 - val_acc: 0.8830\n",
            "Epoch 9/30\n",
            "2000/2000 [==============================] - 1s 269us/step - loss: 0.2222 - acc: 0.9125 - val_loss: 0.2738 - val_acc: 0.8850\n",
            "Epoch 10/30\n",
            "2000/2000 [==============================] - 1s 262us/step - loss: 0.2113 - acc: 0.9215 - val_loss: 0.2708 - val_acc: 0.8860\n",
            "Epoch 11/30\n",
            "2000/2000 [==============================] - 1s 266us/step - loss: 0.2025 - acc: 0.9270 - val_loss: 0.2698 - val_acc: 0.8870\n",
            "Epoch 12/30\n",
            "2000/2000 [==============================] - 1s 264us/step - loss: 0.1877 - acc: 0.9260 - val_loss: 0.2750 - val_acc: 0.8900\n",
            "Epoch 13/30\n",
            "2000/2000 [==============================] - 1s 268us/step - loss: 0.1865 - acc: 0.9255 - val_loss: 0.2997 - val_acc: 0.8730\n",
            "Epoch 14/30\n",
            "2000/2000 [==============================] - 1s 263us/step - loss: 0.1793 - acc: 0.9360 - val_loss: 0.2680 - val_acc: 0.8880\n",
            "Epoch 15/30\n",
            "2000/2000 [==============================] - 1s 271us/step - loss: 0.1685 - acc: 0.9420 - val_loss: 0.2736 - val_acc: 0.8880\n",
            "Epoch 16/30\n",
            "2000/2000 [==============================] - 1s 262us/step - loss: 0.1635 - acc: 0.9435 - val_loss: 0.2666 - val_acc: 0.8860\n",
            "Epoch 17/30\n",
            "2000/2000 [==============================] - 1s 274us/step - loss: 0.1575 - acc: 0.9435 - val_loss: 0.2838 - val_acc: 0.8810\n",
            "Epoch 18/30\n",
            "2000/2000 [==============================] - 1s 273us/step - loss: 0.1577 - acc: 0.9475 - val_loss: 0.2674 - val_acc: 0.8940\n",
            "Epoch 19/30\n",
            "2000/2000 [==============================] - 1s 274us/step - loss: 0.1459 - acc: 0.9500 - val_loss: 0.2677 - val_acc: 0.8920\n",
            "Epoch 20/30\n",
            "2000/2000 [==============================] - 1s 266us/step - loss: 0.1406 - acc: 0.9520 - val_loss: 0.2673 - val_acc: 0.8910\n",
            "Epoch 21/30\n",
            "2000/2000 [==============================] - 1s 266us/step - loss: 0.1395 - acc: 0.9505 - val_loss: 0.2733 - val_acc: 0.8860\n",
            "Epoch 22/30\n",
            "2000/2000 [==============================] - 1s 263us/step - loss: 0.1332 - acc: 0.9570 - val_loss: 0.2680 - val_acc: 0.8950\n",
            "Epoch 23/30\n",
            "2000/2000 [==============================] - 1s 268us/step - loss: 0.1258 - acc: 0.9625 - val_loss: 0.2695 - val_acc: 0.8900\n",
            "Epoch 24/30\n",
            "2000/2000 [==============================] - 1s 267us/step - loss: 0.1233 - acc: 0.9565 - val_loss: 0.2704 - val_acc: 0.8890\n",
            "Epoch 25/30\n",
            "2000/2000 [==============================] - 1s 265us/step - loss: 0.1205 - acc: 0.9600 - val_loss: 0.2715 - val_acc: 0.8900\n",
            "Epoch 26/30\n",
            "2000/2000 [==============================] - 1s 262us/step - loss: 0.1184 - acc: 0.9630 - val_loss: 0.2801 - val_acc: 0.8880\n",
            "Epoch 27/30\n",
            "2000/2000 [==============================] - 1s 263us/step - loss: 0.1124 - acc: 0.9625 - val_loss: 0.2778 - val_acc: 0.8890\n",
            "Epoch 28/30\n",
            "2000/2000 [==============================] - 1s 273us/step - loss: 0.1073 - acc: 0.9635 - val_loss: 0.2743 - val_acc: 0.8920\n",
            "Epoch 29/30\n",
            "2000/2000 [==============================] - 1s 265us/step - loss: 0.1067 - acc: 0.9670 - val_loss: 0.2808 - val_acc: 0.8880\n",
            "Epoch 30/30\n",
            "2000/2000 [==============================] - 1s 269us/step - loss: 0.1002 - acc: 0.9695 - val_loss: 0.2815 - val_acc: 0.8870\n"
          ],
          "name": "stdout"
        }
      ]
    },
    {
      "metadata": {
        "id": "eYvo_s7kBTQk",
        "colab_type": "code",
        "outputId": "b63b8e2a-3239-48a0-ff0e-01fd70272601",
        "colab": {
          "base_uri": "https://localhost:8080/",
          "height": 545
        }
      },
      "cell_type": "code",
      "source": [
        "%matplotlib inline\n",
        "\n",
        "import matplotlib.pyplot as plt\n",
        "\n",
        "acc = history.history['acc']\n",
        "val_acc = history.history['val_acc']\n",
        "\n",
        "loss = history.history['loss']\n",
        "val_loss = history.history['val_loss']\n",
        "\n",
        "epochs = range(1, len(acc) + 1)\n",
        "\n",
        "# training and validation accuracy\n",
        "\n",
        "plt.plot(epochs, acc, 'bo', label='training acc')\n",
        "plt.plot(epochs, val_acc, 'b', label='validation acc')\n",
        "plt.title('training and validation accuracy')\n",
        "plt.legend()\n",
        "\n",
        "plt.figure()\n",
        "\n",
        "# training and validation loss\n",
        "\n",
        "plt.plot(epochs, loss, 'bo', label='training loss')\n",
        "plt.plot(epochs, val_loss, 'b', label='validation loss')\n",
        "plt.title('training and validation loss')\n",
        "plt.legend()\n",
        "\n",
        "plt.show()"
      ],
      "execution_count": 8,
      "outputs": [
        {
          "output_type": "display_data",
          "data": {
            "image/png": "[encoded data removed]",
            "text/plain": [
              "<Figure size 432x288 with 1 Axes>"
            ]
          },
          "metadata": {
            "tags": []
          }
        },
        {
          "output_type": "display_data",
          "data": {
            "image/png": "[encoded data removed]",
            "text/plain": [
              "<Figure size 432x288 with 1 Axes>"
            ]
          },
          "metadata": {
            "tags": []
          }
        }
      ]
    },
    {
      "metadata": {
        "id": "y3Uct1RVQndc",
        "colab_type": "text"
      },
      "cell_type": "markdown",
      "source": [
        "##Model 2 With Data Augmentation"
      ]
    },
    {
      "metadata": {
        "id": "aoAZ7A12QqUS",
        "colab_type": "code",
        "colab": {
          "base_uri": "https://localhost:8080/",
          "height": 1071
        },
        "outputId": "0e07389d-a6d0-402a-82ca-78ebf5502078"
      },
      "cell_type": "code",
      "source": [
        "from keras.layers import Flatten\n",
        "#Data Augmentation\n",
        "train_datagen = ImageDataGenerator(rescale = 1./255,\n",
        "                                   rotation_range=40,\n",
        "                                   width_shift_range=0.2,\n",
        "                                   height_shift_range=0.2,\n",
        "                                   shear_range=0.2,\n",
        "                                   zoom_range=0.2,\n",
        "                                   horizontal_flip=True,\n",
        "                                   fill_mode='nearest')\n",
        "test_datagen = ImageDataGenerator(rescale=1./255)\n",
        "\n",
        "train_generator = train_datagen.flow_from_directory(\n",
        "    train_dir,\n",
        "    target_size = (150,150),\n",
        "    batch_size = 20,\n",
        "    class_mode = 'binary'\n",
        ")\n",
        "validation_generator = train_datagen.flow_from_directory(\n",
        "    validation_dir,\n",
        "    target_size = (150,150),\n",
        "    batch_size = 20,\n",
        "    class_mode = 'binary'\n",
        ")\n",
        "\n",
        "model2 = Sequential()\n",
        "model2.add(conv_base)\n",
        "model2.add(Flatten())\n",
        "model2.add(Dense(256,activation='relu'))\n",
        "model2.add(Dense(1,activation ='sigmoid'))\n",
        "model2.compile(loss='binary_crossentropy',optimizer=optimizers.RMSprop(lr=2e-5),metrics=['acc'])\n",
        "history2 = model2.fit_generator(train_generator,steps_per_epoch=100,epochs=30,\n",
        "                                validation_data=validation_generator,validation_steps=50)\n"
      ],
      "execution_count": 31,
      "outputs": [
        {
          "output_type": "stream",
          "text": [
            "Found 2000 images belonging to 2 classes.\n",
            "Found 1000 images belonging to 2 classes.\n",
            "Epoch 1/30\n",
            "100/100 [==============================] - 32s 324ms/step - loss: 0.5261 - acc: 0.7185 - val_loss: 1.0356 - val_acc: 0.6450\n",
            "Epoch 2/30\n",
            "100/100 [==============================] - 28s 285ms/step - loss: 0.2909 - acc: 0.8760 - val_loss: 0.4746 - val_acc: 0.7560\n",
            "Epoch 3/30\n",
            "100/100 [==============================] - 29s 286ms/step - loss: 0.2178 - acc: 0.9030 - val_loss: 0.2433 - val_acc: 0.8860\n",
            "Epoch 4/30\n",
            "100/100 [==============================] - 28s 279ms/step - loss: 0.1731 - acc: 0.9300 - val_loss: 0.2616 - val_acc: 0.8850\n",
            "Epoch 5/30\n",
            "100/100 [==============================] - 28s 283ms/step - loss: 0.1658 - acc: 0.9340 - val_loss: 0.2500 - val_acc: 0.9020\n",
            "Epoch 6/30\n",
            "100/100 [==============================] - 28s 283ms/step - loss: 0.1395 - acc: 0.9460 - val_loss: 0.1497 - val_acc: 0.9400\n",
            "Epoch 7/30\n",
            "100/100 [==============================] - 28s 282ms/step - loss: 0.1229 - acc: 0.9505 - val_loss: 0.1174 - val_acc: 0.9600\n",
            "Epoch 8/30\n",
            "100/100 [==============================] - 28s 280ms/step - loss: 0.1155 - acc: 0.9565 - val_loss: 0.1802 - val_acc: 0.9270\n",
            "Epoch 9/30\n",
            "100/100 [==============================] - 28s 283ms/step - loss: 0.1020 - acc: 0.9570 - val_loss: 0.2167 - val_acc: 0.9290\n",
            "Epoch 10/30\n",
            "100/100 [==============================] - 28s 283ms/step - loss: 0.0995 - acc: 0.9620 - val_loss: 0.1769 - val_acc: 0.9330\n",
            "Epoch 11/30\n",
            "100/100 [==============================] - 28s 280ms/step - loss: 0.0964 - acc: 0.9640 - val_loss: 0.1584 - val_acc: 0.9440\n",
            "Epoch 12/30\n",
            "100/100 [==============================] - 28s 279ms/step - loss: 0.0824 - acc: 0.9685 - val_loss: 0.1770 - val_acc: 0.9470\n",
            "Epoch 13/30\n",
            "100/100 [==============================] - 29s 285ms/step - loss: 0.0774 - acc: 0.9720 - val_loss: 0.1637 - val_acc: 0.9490\n",
            "Epoch 14/30\n",
            "100/100 [==============================] - 28s 279ms/step - loss: 0.0669 - acc: 0.9730 - val_loss: 0.1564 - val_acc: 0.9430\n",
            "Epoch 15/30\n",
            "100/100 [==============================] - 28s 280ms/step - loss: 0.0666 - acc: 0.9770 - val_loss: 0.1221 - val_acc: 0.9620\n",
            "Epoch 16/30\n",
            "100/100 [==============================] - 29s 287ms/step - loss: 0.0723 - acc: 0.9785 - val_loss: 0.1334 - val_acc: 0.9500\n",
            "Epoch 17/30\n",
            "100/100 [==============================] - 28s 279ms/step - loss: 0.0693 - acc: 0.9780 - val_loss: 0.1462 - val_acc: 0.9530\n",
            "Epoch 18/30\n",
            "100/100 [==============================] - 28s 280ms/step - loss: 0.0587 - acc: 0.9805 - val_loss: 0.1182 - val_acc: 0.9600\n",
            "Epoch 19/30\n",
            "100/100 [==============================] - 28s 282ms/step - loss: 0.0608 - acc: 0.9775 - val_loss: 0.1344 - val_acc: 0.9610\n",
            "Epoch 20/30\n",
            "100/100 [==============================] - 28s 279ms/step - loss: 0.0467 - acc: 0.9865 - val_loss: 0.1726 - val_acc: 0.9550\n",
            "Epoch 21/30\n",
            "100/100 [==============================] - 28s 278ms/step - loss: 0.0703 - acc: 0.9760 - val_loss: 0.1333 - val_acc: 0.9500\n",
            "Epoch 22/30\n",
            "100/100 [==============================] - 28s 279ms/step - loss: 0.0483 - acc: 0.9840 - val_loss: 0.1430 - val_acc: 0.9660\n",
            "Epoch 23/30\n",
            "100/100 [==============================] - 28s 279ms/step - loss: 0.0410 - acc: 0.9835 - val_loss: 0.1621 - val_acc: 0.9580\n",
            "Epoch 24/30\n",
            "100/100 [==============================] - 28s 276ms/step - loss: 0.0605 - acc: 0.9815 - val_loss: 0.2183 - val_acc: 0.9350\n",
            "Epoch 25/30\n",
            "100/100 [==============================] - 28s 278ms/step - loss: 0.0366 - acc: 0.9880 - val_loss: 0.1322 - val_acc: 0.9630\n",
            "Epoch 26/30\n",
            "100/100 [==============================] - 28s 277ms/step - loss: 0.0503 - acc: 0.9850 - val_loss: 0.1220 - val_acc: 0.9600\n",
            "Epoch 27/30\n",
            "100/100 [==============================] - 28s 277ms/step - loss: 0.0563 - acc: 0.9825 - val_loss: 0.1490 - val_acc: 0.9640\n",
            "Epoch 28/30\n",
            "100/100 [==============================] - 28s 277ms/step - loss: 0.0349 - acc: 0.9900 - val_loss: 0.2067 - val_acc: 0.9430\n",
            "Epoch 29/30\n",
            "100/100 [==============================] - 28s 277ms/step - loss: 0.0516 - acc: 0.9835 - val_loss: 0.1446 - val_acc: 0.9620\n",
            "Epoch 30/30\n",
            "100/100 [==============================] - 28s 277ms/step - loss: 0.0533 - acc: 0.9840 - val_loss: 0.1060 - val_acc: 0.9740\n"
          ],
          "name": "stdout"
        }
      ]
    },
    {
      "metadata": {
        "id": "tAGizxvkZYxx",
        "colab_type": "code",
        "colab": {
          "base_uri": "https://localhost:8080/",
          "height": 51
        },
        "outputId": "8ab99bd9-3ce0-410c-a46b-7610a1459c6c"
      },
      "cell_type": "code",
      "source": [
        "score= model2.evaluate_generator(validation_generator,steps = 50)\n",
        "print(\"Loss :\",score[0])\n",
        "print(\"Accuracy: \",score[1])"
      ],
      "execution_count": 43,
      "outputs": [
        {
          "output_type": "stream",
          "text": [
            "Loss : 0.11294988745765294\n",
            "Accuracy:  0.9739999938011169\n"
          ],
          "name": "stdout"
        }
      ]
    },
    {
      "metadata": {
        "id": "75L8KTeobEKz",
        "colab_type": "text"
      },
      "cell_type": "markdown",
      "source": [
        "Results in 97% accuracy "
      ]
    },
    {
      "metadata": {
        "id": "zLSwFwDmUc9s",
        "colab_type": "code",
        "colab": {
          "base_uri": "https://localhost:8080/",
          "height": 545
        },
        "outputId": "5cb720b1-06a4-4b94-9f7a-4026f669abce"
      },
      "cell_type": "code",
      "source": [
        "#Plot the results\n",
        "acc = history2.history['acc']\n",
        "val_acc = history2.history['val_acc']\n",
        "\n",
        "loss = history2.history['loss']\n",
        "val_loss = history2.history['val_loss']\n",
        "\n",
        "epochs = range(1, len(acc) + 1)\n",
        "\n",
        "# training and validation accuracy\n",
        "\n",
        "plt.plot(epochs, acc, 'bo', label='training acc')\n",
        "plt.plot(epochs, val_acc, 'b', label='validation acc')\n",
        "plt.title('training and validation accuracy')\n",
        "plt.legend()\n",
        "\n",
        "plt.figure()\n",
        "\n",
        "# training and validation loss\n",
        "\n",
        "plt.plot(epochs, loss, 'bo', label='training loss')\n",
        "plt.plot(epochs, val_loss, 'b', label='validation loss')\n",
        "plt.title('training and validation loss')\n",
        "plt.legend()\n",
        "\n",
        "plt.show()"
      ],
      "execution_count": 44,
      "outputs": [
        {
          "output_type": "display_data",
          "data": {
            "image/png": "[encoded data removed]",
            "text/plain": [
              "<Figure size 432x288 with 1 Axes>"
            ]
          },
          "metadata": {
            "tags": []
          }
        },
        {
          "output_type": "display_data",
          "data": {
            "image/png": "[encoded data removed]",
            "text/plain": [
              "<Figure size 432x288 with 1 Axes>"
            ]
          },
          "metadata": {
            "tags": []
          }
        }
      ]
    }
  ]
}