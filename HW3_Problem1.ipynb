{
  "nbformat": 4,
  "nbformat_minor": 0,
  "metadata": {
    "colab": {
      "name": "HW3_Problem1.ipynb",
      "version": "0.3.2",
      "provenance": [],
      "collapsed_sections": [],
      "include_colab_link": true
    },
    "kernelspec": {
      "name": "python3",
      "display_name": "Python 3"
    },
    "accelerator": "GPU"
  },
  "cells": [
    {
      "cell_type": "markdown",
      "metadata": {
        "id": "view-in-github",
        "colab_type": "text"
      },
      "source": [
        "<a href=\"https://colab.research.google.com/github/EnterTheBeginning/Machine-Learning/blob/master/HW3_Problem1.ipynb\" target=\"_parent\"><img src=\"https://colab.research.google.com/assets/colab-badge.svg\" alt=\"Open In Colab\"/></a>"
      ]
    },
    {
      "metadata": {
        "id": "gj_ySN13R01_",
        "colab_type": "code",
        "colab": {
          "base_uri": "https://localhost:8080/",
          "height": 34
        },
        "outputId": "4ad828a8-a175-4cb8-b497-4d5d9cd65887"
      },
      "cell_type": "code",
      "source": [
        "import numpy as np\n",
        "import pandas as pd\n",
        "import matplotlib.pyplot as plt\n",
        "import matplotlib.image as mpimg\n",
        "\n",
        "%matplotlib inline\n",
        "import os\n",
        "import zipfile\n",
        "\n",
        "from keras.layers import Dense,Dropout,Activation\n",
        "from keras.models import Sequential\n",
        "from keras.preprocessing.image import ImageDataGenerator\n",
        "from keras.applications import VGG19\n",
        "from keras import layers"
      ],
      "execution_count": 9,
      "outputs": [
        {
          "output_type": "stream",
          "text": [
            "Using TensorFlow backend.\n"
          ],
          "name": "stderr"
        }
      ]
    },
    {
      "metadata": {
        "id": "cYvPMvSEUH-E",
        "colab_type": "text"
      },
      "cell_type": "markdown",
      "source": [
        "##Preprocessing"
      ]
    },
    {
      "metadata": {
        "id": "16OhyjzZTCFp",
        "colab_type": "code",
        "outputId": "442fa52f-26d7-46f6-910b-b7a41fd9ef12",
        "colab": {
          "base_uri": "https://localhost:8080/",
          "height": 391
        }
      },
      "cell_type": "code",
      "source": [
        "!wget --no-check-certificate \\\n",
        "    https://storage.googleapis.com/mledu-datasets/cats_and_dogs_filtered.zip \\\n",
        "    -O /tmp/cats_and_dogs_filtered.zip\n",
        "  \n",
        "local_zip = '/tmp/cats_and_dogs_filtered.zip'\n",
        "zip_ref = zipfile.ZipFile(local_zip, 'r')\n",
        "zip_ref.extractall('/tmp')\n",
        "zip_ref.close()"
      ],
      "execution_count": 10,
      "outputs": [
        {
          "output_type": "stream",
          "text": [
            "--2019-04-16 04:03:28--  https://storage.googleapis.com/mledu-datasets/cats_and_dogs_filtered.zip\n",
            "Resolving storage.googleapis.com (storage.googleapis.com)... 74.125.195.128, 2607:f8b0:400e:c07::80\n",
            "Connecting to storage.googleapis.com (storage.googleapis.com)|74.125.195.128|:443... connected.\n",
            "HTTP request sent, awaiting response... 200 OK\n",
            "Length: 68606236 (65M) [application/zip]\n",
            "Saving to: ‘/tmp/cats_and_dogs_filtered.zip’\n",
            "\n",
            "/tmp/cats_and_dogs_ 100%[===================>]  65.43M   142MB/s    in 0.5s    \n",
            "\n",
            "2019-04-16 04:03:29 (142 MB/s) - ‘/tmp/cats_and_dogs_filtered.zip’ saved [68606236/68606236]\n",
            "\n",
            "--2019-04-16 04:04:13--  https://storage.googleapis.com/mledu-datasets/cats_and_dogs_filtered.zip\n",
            "Resolving storage.googleapis.com (storage.googleapis.com)... 74.125.195.128, 2607:f8b0:400e:c08::80\n",
            "Connecting to storage.googleapis.com (storage.googleapis.com)|74.125.195.128|:443... connected.\n",
            "HTTP request sent, awaiting response... 200 OK\n",
            "Length: 68606236 (65M) [application/zip]\n",
            "Saving to: ‘/tmp/cats_and_dogs_filtered.zip’\n",
            "\n",
            "/tmp/cats_and_dogs_ 100%[===================>]  65.43M  70.2MB/s    in 0.9s    \n",
            "\n",
            "2019-04-16 04:04:15 (70.2 MB/s) - ‘/tmp/cats_and_dogs_filtered.zip’ saved [68606236/68606236]\n",
            "\n"
          ],
          "name": "stdout"
        }
      ]
    },
    {
      "metadata": {
        "id": "otRBtapFVx5e",
        "colab_type": "code",
        "colab": {}
      },
      "cell_type": "code",
      "source": [
        "base_dir = '/tmp/cats_and_dogs_filtered'\n",
        "\n",
        "train_dir = os.path.join(base_dir, 'train')\n",
        "validation_dir = os.path.join(base_dir, 'validation')\n",
        "\n",
        "train_cats_dir = os.path.join(train_dir, 'cats')\n",
        "train_dogs_dir = os.path.join(train_dir, 'dogs')\n",
        "validation_cats_dir = os.path.join(validation_dir, 'cats')\n",
        "validation_dogs_dir = os.path.join(validation_dir, 'dogs')\n",
        "train_cat_fnames = os.listdir(train_cats_dir)\n",
        "train_cat_fnames.sort()\n",
        "train_dog_fnames = os.listdir(train_dogs_dir)\n",
        "train_dog_fnames.sort()\n"
      ],
      "execution_count": 0,
      "outputs": []
    },
    {
      "metadata": {
        "id": "Aa3jnnVat23c",
        "colab_type": "code",
        "outputId": "1274aa80-00bd-46fc-ba0f-33861b57f7e8",
        "colab": {
          "base_uri": "https://localhost:8080/",
          "height": 85
        }
      },
      "cell_type": "code",
      "source": [
        "generator = ImageDataGenerator(rescale = 1./255)\n",
        "\n",
        "train_generator = generator.flow_from_directory(\n",
        "    train_dir,\n",
        "    target_size = (150,150),\n",
        "    batch_size = 20,\n",
        "    class_mode = 'binary'\n",
        ")\n",
        "validation_generator = generator.flow_from_directory(\n",
        "    validation_dir,\n",
        "    target_size = (150,150),\n",
        "    batch_size = 20,\n",
        "    class_mode = 'binary'\n",
        ")"
      ],
      "execution_count": 12,
      "outputs": [
        {
          "output_type": "stream",
          "text": [
            "Found 2000 images belonging to 2 classes.\n",
            "Found 1000 images belonging to 2 classes.\n",
            "Found 2000 images belonging to 2 classes.\n",
            "Found 1000 images belonging to 2 classes.\n"
          ],
          "name": "stdout"
        }
      ]
    },
    {
      "metadata": {
        "id": "avzCzczA0dY4",
        "colab_type": "code",
        "colab": {
          "base_uri": "https://localhost:8080/",
          "height": 88
        },
        "outputId": "e44cb027-3e88-4369-eaf5-c676d83ffffd"
      },
      "cell_type": "code",
      "source": [
        "conv_base = VGG19(weights ='imagenet',\n",
        "                 include_top=False,\n",
        "                 input_shape=(150,150,3))"
      ],
      "execution_count": 13,
      "outputs": [
        {
          "output_type": "stream",
          "text": [
            "WARNING:tensorflow:From /usr/local/lib/python3.6/dist-packages/tensorflow/python/framework/op_def_library.py:263: colocate_with (from tensorflow.python.framework.ops) is deprecated and will be removed in a future version.\n",
            "Instructions for updating:\n",
            "Colocations handled automatically by placer.\n"
          ],
          "name": "stdout"
        }
      ]
    },
    {
      "metadata": {
        "id": "TxLH10zD9dL1",
        "colab_type": "text"
      },
      "cell_type": "markdown",
      "source": [
        "##Feature Extraction"
      ]
    },
    {
      "metadata": {
        "id": "mK4ihbX_AVmY",
        "colab_type": "code",
        "colab": {
          "base_uri": "https://localhost:8080/",
          "height": 153
        },
        "outputId": "fa85484c-3714-402a-f9f8-98adc0f214c6"
      },
      "cell_type": "code",
      "source": [
        "%%time\n",
        "from keras.preprocessing.image import ImageDataGenerator\n",
        "import numpy as np\n",
        "\n",
        "datagen = ImageDataGenerator(rescale=1./255)\n",
        "batch_size = 20\n",
        "\n",
        "def extract_features(directory, sample_count):\n",
        "  features = np.zeros(shape=(sample_count, 4, 4, 512))\n",
        "  labels = np.zeros(shape=(sample_count))\n",
        "  generator = datagen.flow_from_directory(\n",
        "      directory, target_size=(150, 150),\n",
        "      batch_size=batch_size,\n",
        "      class_mode='binary'\n",
        "  )\n",
        "  i = 0\n",
        "  for input_batch, labels_batch in generator:\n",
        "    features_batch = conv_base.predict(input_batch)\n",
        "    features[i * batch_size : (i + 1) * batch_size] = features_batch\n",
        "    labels[i * batch_size : (i + 1) * batch_size] = labels_batch\n",
        "    i += 1\n",
        "    if i * batch_size >= sample_count:\n",
        "      break\n",
        "  return features, labels\n",
        "\n",
        "train_features, train_labels = extract_features(train_dir, 2000)\n",
        "validation_features, validation_labels = extract_features(validation_dir, 1000)\n",
        "\n",
        "train_features = np.reshape(train_features, (2000, 4 * 4 * 512))\n",
        "validation_features = np.reshape(validation_features, (1000, 4 * 4 * 512))\n"
      ],
      "execution_count": 14,
      "outputs": [
        {
          "output_type": "stream",
          "text": [
            "Found 2000 images belonging to 2 classes.\n",
            "Found 1000 images belonging to 2 classes.\n",
            "CPU times: user 16 s, sys: 6.5 s, total: 22.5 s\n",
            "Wall time: 21.5 s\n",
            "Found 2000 images belonging to 2 classes.\n",
            "Found 1000 images belonging to 2 classes.\n",
            "CPU times: user 14.3 s, sys: 5.28 s, total: 19.6 s\n",
            "Wall time: 18.6 s\n"
          ],
          "name": "stdout"
        }
      ]
    },
    {
      "metadata": {
        "id": "o0j_C5B49fNG",
        "colab_type": "text"
      },
      "cell_type": "markdown",
      "source": [
        "##Model 1"
      ]
    },
    {
      "metadata": {
        "id": "COA9trMI03fP",
        "colab_type": "code",
        "colab": {
          "base_uri": "https://localhost:8080/",
          "height": 2213
        },
        "outputId": "08a8adb6-7a34-4105-f364-89aca334605e"
      },
      "cell_type": "code",
      "source": [
        "from keras import optimizers\n",
        "model = Sequential()\n",
        "model.add(Dense(256,input_dim=4*4*512))\n",
        "model.add(Dropout(.5))\n",
        "model.add(Dense(1, activation='sigmoid'))\n",
        "model.compile(optimizer=optimizers.RMSprop(lr=2e-5),\n",
        "              loss='binary_crossentropy',\n",
        "              metrics=['acc'])\n",
        "history = model.fit(train_features, \n",
        "          train_labels, \n",
        "           epochs=30, \n",
        "            batch_size=20, \n",
        "              validation_data=(validation_features, validation_labels))"
      ],
      "execution_count": 15,
      "outputs": [
        {
          "output_type": "stream",
          "text": [
            "WARNING:tensorflow:From /usr/local/lib/python3.6/dist-packages/keras/backend/tensorflow_backend.py:3445: calling dropout (from tensorflow.python.ops.nn_ops) with keep_prob is deprecated and will be removed in a future version.\n",
            "Instructions for updating:\n",
            "Please use `rate` instead of `keep_prob`. Rate should be set to `rate = 1 - keep_prob`.\n",
            "WARNING:tensorflow:From /usr/local/lib/python3.6/dist-packages/tensorflow/python/ops/math_ops.py:3066: to_int32 (from tensorflow.python.ops.math_ops) is deprecated and will be removed in a future version.\n",
            "Instructions for updating:\n",
            "Use tf.cast instead.\n",
            "Train on 2000 samples, validate on 1000 samples\n",
            "Epoch 1/30\n",
            "2000/2000 [==============================] - 1s 570us/step - loss: 0.6279 - acc: 0.6725 - val_loss: 0.4222 - val_acc: 0.8100\n",
            "Epoch 2/30\n",
            "2000/2000 [==============================] - 1s 281us/step - loss: 0.4301 - acc: 0.7950 - val_loss: 0.3613 - val_acc: 0.8400\n",
            "Epoch 3/30\n",
            "2000/2000 [==============================] - 1s 280us/step - loss: 0.3689 - acc: 0.8360 - val_loss: 0.3303 - val_acc: 0.8590\n",
            "Epoch 4/30\n",
            "2000/2000 [==============================] - 1s 286us/step - loss: 0.3151 - acc: 0.8635 - val_loss: 0.3088 - val_acc: 0.8640\n",
            "Epoch 5/30\n",
            "2000/2000 [==============================] - 1s 280us/step - loss: 0.2839 - acc: 0.8780 - val_loss: 0.3063 - val_acc: 0.8820\n",
            "Epoch 6/30\n",
            "2000/2000 [==============================] - 1s 287us/step - loss: 0.2711 - acc: 0.8860 - val_loss: 0.2877 - val_acc: 0.8850\n",
            "Epoch 7/30\n",
            "2000/2000 [==============================] - 1s 279us/step - loss: 0.2547 - acc: 0.8955 - val_loss: 0.2798 - val_acc: 0.8840\n",
            "Epoch 8/30\n",
            "2000/2000 [==============================] - 1s 281us/step - loss: 0.2406 - acc: 0.8995 - val_loss: 0.2762 - val_acc: 0.8870\n",
            "Epoch 9/30\n",
            "2000/2000 [==============================] - 1s 286us/step - loss: 0.2261 - acc: 0.9145 - val_loss: 0.2723 - val_acc: 0.8860\n",
            "Epoch 10/30\n",
            "2000/2000 [==============================] - 1s 280us/step - loss: 0.2120 - acc: 0.9185 - val_loss: 0.2840 - val_acc: 0.8910\n",
            "Epoch 11/30\n",
            "2000/2000 [==============================] - 1s 285us/step - loss: 0.2030 - acc: 0.9245 - val_loss: 0.2694 - val_acc: 0.8880\n",
            "Epoch 12/30\n",
            "2000/2000 [==============================] - 1s 274us/step - loss: 0.1931 - acc: 0.9260 - val_loss: 0.2685 - val_acc: 0.8870\n",
            "Epoch 13/30\n",
            "2000/2000 [==============================] - 1s 286us/step - loss: 0.1918 - acc: 0.9300 - val_loss: 0.2654 - val_acc: 0.8850\n",
            "Epoch 14/30\n",
            "2000/2000 [==============================] - 1s 280us/step - loss: 0.1846 - acc: 0.9300 - val_loss: 0.2683 - val_acc: 0.8890\n",
            "Epoch 15/30\n",
            "2000/2000 [==============================] - 1s 286us/step - loss: 0.1770 - acc: 0.9320 - val_loss: 0.2635 - val_acc: 0.8880\n",
            "Epoch 16/30\n",
            "2000/2000 [==============================] - 1s 285us/step - loss: 0.1644 - acc: 0.9400 - val_loss: 0.2644 - val_acc: 0.8860\n",
            "Epoch 17/30\n",
            "2000/2000 [==============================] - 1s 294us/step - loss: 0.1622 - acc: 0.9420 - val_loss: 0.2636 - val_acc: 0.8890\n",
            "Epoch 18/30\n",
            "2000/2000 [==============================] - 1s 339us/step - loss: 0.1498 - acc: 0.9510 - val_loss: 0.2657 - val_acc: 0.8840\n",
            "Epoch 19/30\n",
            "2000/2000 [==============================] - 1s 284us/step - loss: 0.1508 - acc: 0.9520 - val_loss: 0.2680 - val_acc: 0.8840\n",
            "Epoch 20/30\n",
            "2000/2000 [==============================] - 1s 284us/step - loss: 0.1414 - acc: 0.9530 - val_loss: 0.2678 - val_acc: 0.8870\n",
            "Epoch 21/30\n",
            "2000/2000 [==============================] - 1s 288us/step - loss: 0.1418 - acc: 0.9490 - val_loss: 0.2697 - val_acc: 0.8920\n",
            "Epoch 22/30\n",
            "2000/2000 [==============================] - 1s 282us/step - loss: 0.1319 - acc: 0.9585 - val_loss: 0.2693 - val_acc: 0.8830\n",
            "Epoch 23/30\n",
            "2000/2000 [==============================] - 1s 279us/step - loss: 0.1316 - acc: 0.9605 - val_loss: 0.2761 - val_acc: 0.8820\n",
            "Epoch 24/30\n",
            "2000/2000 [==============================] - 1s 282us/step - loss: 0.1249 - acc: 0.9585 - val_loss: 0.2691 - val_acc: 0.8900\n",
            "Epoch 25/30\n",
            "2000/2000 [==============================] - 1s 285us/step - loss: 0.1231 - acc: 0.9625 - val_loss: 0.2701 - val_acc: 0.8910\n",
            "Epoch 26/30\n",
            "2000/2000 [==============================] - 1s 276us/step - loss: 0.1220 - acc: 0.9620 - val_loss: 0.2749 - val_acc: 0.8850\n",
            "Epoch 27/30\n",
            "2000/2000 [==============================] - 1s 282us/step - loss: 0.1118 - acc: 0.9640 - val_loss: 0.2738 - val_acc: 0.8890\n",
            "Epoch 28/30\n",
            "2000/2000 [==============================] - 1s 276us/step - loss: 0.1079 - acc: 0.9675 - val_loss: 0.2726 - val_acc: 0.8890\n",
            "Epoch 29/30\n",
            "2000/2000 [==============================] - 1s 280us/step - loss: 0.1084 - acc: 0.9610 - val_loss: 0.2771 - val_acc: 0.8870\n",
            "Epoch 30/30\n",
            "2000/2000 [==============================] - 1s 281us/step - loss: 0.1023 - acc: 0.9655 - val_loss: 0.2745 - val_acc: 0.8890\n",
            "Train on 2000 samples, validate on 1000 samples\n",
            "Epoch 1/30\n",
            "2000/2000 [==============================] - 1s 485us/step - loss: 0.6574 - acc: 0.6440 - val_loss: 0.4214 - val_acc: 0.8230\n",
            "Epoch 2/30\n",
            "2000/2000 [==============================] - 1s 312us/step - loss: 0.4145 - acc: 0.8040 - val_loss: 0.3621 - val_acc: 0.8340\n",
            "Epoch 3/30\n",
            "2000/2000 [==============================] - 1s 305us/step - loss: 0.3453 - acc: 0.8515 - val_loss: 0.3239 - val_acc: 0.8730\n",
            "Epoch 4/30\n",
            "2000/2000 [==============================] - 1s 313us/step - loss: 0.3048 - acc: 0.8695 - val_loss: 0.3060 - val_acc: 0.8800\n",
            "Epoch 5/30\n",
            "2000/2000 [==============================] - 1s 307us/step - loss: 0.2916 - acc: 0.8840 - val_loss: 0.2944 - val_acc: 0.8870\n",
            "Epoch 6/30\n",
            "2000/2000 [==============================] - 1s 309us/step - loss: 0.2609 - acc: 0.8895 - val_loss: 0.2873 - val_acc: 0.8850\n",
            "Epoch 7/30\n",
            "2000/2000 [==============================] - 1s 317us/step - loss: 0.2492 - acc: 0.8945 - val_loss: 0.2841 - val_acc: 0.8810\n",
            "Epoch 8/30\n",
            "2000/2000 [==============================] - 1s 307us/step - loss: 0.2305 - acc: 0.9125 - val_loss: 0.2827 - val_acc: 0.8800\n",
            "Epoch 9/30\n",
            "2000/2000 [==============================] - 1s 290us/step - loss: 0.2164 - acc: 0.9140 - val_loss: 0.2733 - val_acc: 0.8880\n",
            "Epoch 10/30\n",
            "2000/2000 [==============================] - 1s 284us/step - loss: 0.2073 - acc: 0.9240 - val_loss: 0.2719 - val_acc: 0.8900\n",
            "Epoch 11/30\n",
            "2000/2000 [==============================] - 1s 290us/step - loss: 0.2030 - acc: 0.9230 - val_loss: 0.2770 - val_acc: 0.8880\n",
            "Epoch 12/30\n",
            "2000/2000 [==============================] - 1s 283us/step - loss: 0.1931 - acc: 0.9260 - val_loss: 0.2788 - val_acc: 0.8870\n",
            "Epoch 13/30\n",
            "2000/2000 [==============================] - 1s 288us/step - loss: 0.1861 - acc: 0.9300 - val_loss: 0.2685 - val_acc: 0.8910\n",
            "Epoch 14/30\n",
            "2000/2000 [==============================] - 1s 285us/step - loss: 0.1752 - acc: 0.9310 - val_loss: 0.2874 - val_acc: 0.8780\n",
            "Epoch 15/30\n",
            "2000/2000 [==============================] - 1s 283us/step - loss: 0.1738 - acc: 0.9345 - val_loss: 0.2677 - val_acc: 0.8840\n",
            "Epoch 16/30\n",
            "2000/2000 [==============================] - 1s 291us/step - loss: 0.1609 - acc: 0.9440 - val_loss: 0.2664 - val_acc: 0.8850\n",
            "Epoch 17/30\n",
            "2000/2000 [==============================] - 1s 283us/step - loss: 0.1636 - acc: 0.9425 - val_loss: 0.2670 - val_acc: 0.8920\n",
            "Epoch 18/30\n",
            "2000/2000 [==============================] - 1s 289us/step - loss: 0.1540 - acc: 0.9425 - val_loss: 0.2675 - val_acc: 0.8910\n",
            "Epoch 19/30\n",
            "2000/2000 [==============================] - 1s 284us/step - loss: 0.1510 - acc: 0.9480 - val_loss: 0.2739 - val_acc: 0.8900\n",
            "Epoch 20/30\n",
            "2000/2000 [==============================] - 1s 287us/step - loss: 0.1431 - acc: 0.9500 - val_loss: 0.2697 - val_acc: 0.8900\n",
            "Epoch 21/30\n",
            "2000/2000 [==============================] - 1s 280us/step - loss: 0.1407 - acc: 0.9505 - val_loss: 0.2679 - val_acc: 0.8870\n",
            "Epoch 22/30\n",
            "2000/2000 [==============================] - 1s 287us/step - loss: 0.1293 - acc: 0.9550 - val_loss: 0.2697 - val_acc: 0.8850\n",
            "Epoch 23/30\n",
            "2000/2000 [==============================] - 1s 280us/step - loss: 0.1295 - acc: 0.9600 - val_loss: 0.2698 - val_acc: 0.8880\n",
            "Epoch 24/30\n",
            "2000/2000 [==============================] - 1s 282us/step - loss: 0.1261 - acc: 0.9540 - val_loss: 0.2708 - val_acc: 0.8850\n",
            "Epoch 25/30\n",
            "2000/2000 [==============================] - 1s 295us/step - loss: 0.1154 - acc: 0.9625 - val_loss: 0.2749 - val_acc: 0.8840\n",
            "Epoch 26/30\n",
            "2000/2000 [==============================] - 1s 278us/step - loss: 0.1140 - acc: 0.9615 - val_loss: 0.2851 - val_acc: 0.8820\n",
            "Epoch 27/30\n",
            "2000/2000 [==============================] - 1s 288us/step - loss: 0.1108 - acc: 0.9670 - val_loss: 0.2890 - val_acc: 0.8810\n",
            "Epoch 28/30\n",
            "2000/2000 [==============================] - 1s 284us/step - loss: 0.1077 - acc: 0.9655 - val_loss: 0.2763 - val_acc: 0.8890\n",
            "Epoch 29/30\n",
            "2000/2000 [==============================] - 1s 289us/step - loss: 0.1090 - acc: 0.9675 - val_loss: 0.2815 - val_acc: 0.8820\n",
            "Epoch 30/30\n",
            "2000/2000 [==============================] - 1s 277us/step - loss: 0.1033 - acc: 0.9675 - val_loss: 0.2806 - val_acc: 0.8860\n"
          ],
          "name": "stdout"
        }
      ]
    },
    {
      "metadata": {
        "id": "eYvo_s7kBTQk",
        "colab_type": "code",
        "colab": {
          "base_uri": "https://localhost:8080/",
          "height": 1073
        },
        "outputId": "c6cd6b8c-345a-42b0-9800-9d25f225766d"
      },
      "cell_type": "code",
      "source": [
        "%matplotlib inline\n",
        "\n",
        "import matplotlib.pyplot as plt\n",
        "\n",
        "acc = history.history['acc']\n",
        "val_acc = history.history['val_acc']\n",
        "\n",
        "loss = history.history['loss']\n",
        "val_loss = history.history['val_loss']\n",
        "\n",
        "epochs = range(1, len(acc) + 1)\n",
        "\n",
        "# training and validation accuracy\n",
        "\n",
        "plt.plot(epochs, acc, 'bo', label='training acc')\n",
        "plt.plot(epochs, val_acc, 'b', label='validation acc')\n",
        "plt.title('training and validation accuracy')\n",
        "plt.legend()\n",
        "\n",
        "plt.figure()\n",
        "\n",
        "# training and validation loss\n",
        "\n",
        "plt.plot(epochs, loss, 'bo', label='training loss')\n",
        "plt.plot(epochs, val_loss, 'b', label='validation loss')\n",
        "plt.title('training and validation loss')\n",
        "plt.legend()\n",
        "\n",
        "plt.show()"
      ],
      "execution_count": 16,
      "outputs": [
        {
          "output_type": "display_data",
          "data": {
            "image/png": "[encoded data removed]",
            "text/plain": [
              "<Figure size 432x288 with 1 Axes>"
            ]
          },
          "metadata": {
            "tags": []
          }
        },
        {
          "output_type": "display_data",
          "data": {
            "image/png": "[encoded data removed]",
            "text/plain": [
              "<Figure size 432x288 with 1 Axes>"
            ]
          },
          "metadata": {
            "tags": []
          }
        },
        {
          "output_type": "display_data",
          "data": {
            "image/png": "[encoded data removed]",
            "text/plain": [
              "<Figure size 432x288 with 1 Axes>"
            ]
          },
          "metadata": {
            "tags": []
          }
        },
        {
          "output_type": "display_data",
          "data": {
            "image/png": "[encoded data removed]",
            "text/plain": [
              "<Figure size 432x288 with 1 Axes>"
            ]
          },
          "metadata": {
            "tags": []
          }
        }
      ]
    },
    {
      "metadata": {
        "id": "p-g-xM_3Sbh6",
        "colab_type": "code",
        "colab": {}
      },
      "cell_type": "code",
      "source": [
        ""
      ],
      "execution_count": 0,
      "outputs": []
    }
  ]
}