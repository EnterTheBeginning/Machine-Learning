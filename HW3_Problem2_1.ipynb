{
  "nbformat": 4,
  "nbformat_minor": 0,
  "metadata": {
    "colab": {
      "name": "HW3_Problem2_1.ipynb",
      "version": "0.3.2",
      "provenance": [],
      "collapsed_sections": [],
      "include_colab_link": true
    },
    "kernelspec": {
      "name": "python3",
      "display_name": "Python 3"
    },
    "accelerator": "GPU"
  },
  "cells": [
    {
      "cell_type": "markdown",
      "metadata": {
        "id": "view-in-github",
        "colab_type": "text"
      },
      "source": [
        "<a href=\"https://colab.research.google.com/github/EnterTheBeginning/Machine-Learning/blob/master/HW3_Problem2_1.ipynb\" target=\"_parent\"><img src=\"https://colab.research.google.com/assets/colab-badge.svg\" alt=\"Open In Colab\"/></a>"
      ]
    },
    {
      "metadata": {
        "id": "F0m5bO4YcXZI",
        "colab_type": "text"
      },
      "cell_type": "markdown",
      "source": [
        "#Fine-Tuning"
      ]
    },
    {
      "metadata": {
        "id": "EN9zGcUPh6cV",
        "colab_type": "text"
      },
      "cell_type": "markdown",
      "source": [
        "Lets use VGG19\n",
        "![alt text](https://cdn-images-1.medium.com/max/1600/1*cufAO77aeSWdShs3ba5ndg.jpeg)"
      ]
    },
    {
      "metadata": {
        "id": "lGxBFVXoci04",
        "colab_type": "text"
      },
      "cell_type": "markdown",
      "source": [
        "Now there is a need to Unfreeze some layers in Conv Base network. \n",
        "\n",
        "Then Jointly train both layers and the parts that are added"
      ]
    },
    {
      "metadata": {
        "id": "gj_ySN13R01_",
        "colab_type": "code",
        "outputId": "85b21d54-95bf-4201-f568-d7a03fe416de",
        "colab": {
          "base_uri": "https://localhost:8080/",
          "height": 34
        }
      },
      "cell_type": "code",
      "source": [
        "import numpy as np\n",
        "import pandas as pd\n",
        "import matplotlib.pyplot as plt\n",
        "import matplotlib.image as mpimg\n",
        "\n",
        "%matplotlib inline\n",
        "import os\n",
        "import zipfile\n",
        "\n",
        "from keras.layers import Dense,Dropout,Activation,Flatten\n",
        "from keras.models import Sequential\n",
        "from keras.preprocessing.image import ImageDataGenerator\n",
        "from keras.applications import VGG19\n",
        "from keras import layers\n",
        "from keras import optimizers\n"
      ],
      "execution_count": 1,
      "outputs": [
        {
          "output_type": "stream",
          "text": [
            "Using TensorFlow backend.\n"
          ],
          "name": "stderr"
        }
      ]
    },
    {
      "metadata": {
        "id": "cYvPMvSEUH-E",
        "colab_type": "text"
      },
      "cell_type": "markdown",
      "source": [
        "##Preprocessing"
      ]
    },
    {
      "metadata": {
        "id": "16OhyjzZTCFp",
        "colab_type": "code",
        "outputId": "2b899cc9-4667-4660-af62-0368b227602a",
        "colab": {
          "base_uri": "https://localhost:8080/",
          "height": 255
        }
      },
      "cell_type": "code",
      "source": [
        "!wget --no-check-certificate \\\n",
        "    https://storage.googleapis.com/mledu-datasets/cats_and_dogs_filtered.zip \\\n",
        "    -O /tmp/cats_and_dogs_filtered.zip\n",
        "  \n",
        "local_zip = '/tmp/cats_and_dogs_filtered.zip'\n",
        "zip_ref = zipfile.ZipFile(local_zip, 'r')\n",
        "zip_ref.extractall('/tmp')\n",
        "zip_ref.close()\n",
        "base_dir = '/tmp/cats_and_dogs_filtered'\n",
        "\n",
        "train_dir = os.path.join(base_dir, 'train')\n",
        "validation_dir = os.path.join(base_dir, 'validation')\n",
        "train_cats_dir = os.path.join(train_dir, 'cats')\n",
        "train_dogs_dir = os.path.join(train_dir, 'dogs')\n",
        "validation_cats_dir = os.path.join(validation_dir, 'cats')\n",
        "validation_dogs_dir = os.path.join(validation_dir, 'dogs')\n",
        "train_cat_fnames = os.listdir(train_cats_dir)\n",
        "train_cat_fnames.sort()\n",
        "train_dog_fnames = os.listdir(train_dogs_dir)\n",
        "train_dog_fnames.sort()\n",
        "#Conv Base VGG19\n",
        "conv_base = VGG19(weights='imagenet',\n",
        "                  include_top=False,\n",
        "                  input_shape=(150,150,3))"
      ],
      "execution_count": 2,
      "outputs": [
        {
          "output_type": "stream",
          "text": [
            "--2019-04-17 22:55:31--  https://storage.googleapis.com/mledu-datasets/cats_and_dogs_filtered.zip\n",
            "Resolving storage.googleapis.com (storage.googleapis.com)... 172.217.212.128, 2607:f8b0:4001:c12::80\n",
            "Connecting to storage.googleapis.com (storage.googleapis.com)|172.217.212.128|:443... connected.\n",
            "HTTP request sent, awaiting response... 200 OK\n",
            "Length: 68606236 (65M) [application/zip]\n",
            "Saving to: ‘/tmp/cats_and_dogs_filtered.zip’\n",
            "\n",
            "/tmp/cats_and_dogs_ 100%[===================>]  65.43M   232MB/s    in 0.3s    \n",
            "\n",
            "2019-04-17 22:55:31 (232 MB/s) - ‘/tmp/cats_and_dogs_filtered.zip’ saved [68606236/68606236]\n",
            "\n",
            "WARNING:tensorflow:From /usr/local/lib/python3.6/dist-packages/tensorflow/python/framework/op_def_library.py:263: colocate_with (from tensorflow.python.framework.ops) is deprecated and will be removed in a future version.\n",
            "Instructions for updating:\n",
            "Colocations handled automatically by placer.\n"
          ],
          "name": "stdout"
        }
      ]
    },
    {
      "metadata": {
        "id": "tf8gdBXRIGtR",
        "colab_type": "text"
      },
      "cell_type": "markdown",
      "source": [
        "##Feature Extraction"
      ]
    },
    {
      "metadata": {
        "id": "1azcCyt3IBYR",
        "colab_type": "code",
        "outputId": "55b61b6e-6162-42db-9a20-e0650c2bb8bd",
        "colab": {
          "base_uri": "https://localhost:8080/",
          "height": 85
        }
      },
      "cell_type": "code",
      "source": [
        "##Feature Extractions\n",
        "%%time\n",
        "from keras.preprocessing.image import ImageDataGenerator\n",
        "import numpy as np\n",
        "\n",
        "datagen = ImageDataGenerator(rescale=1./255)\n",
        "batch_size = 20\n",
        "\n",
        "def extract_features(directory, sample_count):\n",
        "  features = np.zeros(shape=(sample_count, 4, 4, 512))\n",
        "  labels = np.zeros(shape=(sample_count))\n",
        "  generator = datagen.flow_from_directory(\n",
        "      directory, target_size=(150, 150),\n",
        "      batch_size=batch_size,\n",
        "      class_mode='binary'\n",
        "  )\n",
        "  i = 0\n",
        "  for input_batch, labels_batch in generator:\n",
        "    features_batch = conv_base.predict(input_batch)\n",
        "    features[i * batch_size : (i + 1) * batch_size] = features_batch\n",
        "    labels[i * batch_size : (i + 1) * batch_size] = labels_batch\n",
        "    i += 1\n",
        "    if i * batch_size >= sample_count:\n",
        "      break\n",
        "  return features, labels\n",
        "\n",
        "train_features, train_labels = extract_features(train_dir, 2000)\n",
        "validation_features, validation_labels = extract_features(validation_dir, 1000)\n",
        "\n",
        "train_features = np.reshape(train_features, (2000, 4 * 4 * 512))\n",
        "validation_features = np.reshape(validation_features, (1000, 4 * 4 * 512))\n"
      ],
      "execution_count": 3,
      "outputs": [
        {
          "output_type": "stream",
          "text": [
            "Found 2000 images belonging to 2 classes.\n",
            "Found 1000 images belonging to 2 classes.\n",
            "CPU times: user 15.9 s, sys: 6.01 s, total: 21.9 s\n",
            "Wall time: 20.9 s\n"
          ],
          "name": "stdout"
        }
      ]
    },
    {
      "metadata": {
        "id": "3zifrS2QmYNw",
        "colab_type": "text"
      },
      "cell_type": "markdown",
      "source": [
        "##Freezing the Conv Base"
      ]
    },
    {
      "metadata": {
        "id": "MiLp3z3FmbU4",
        "colab_type": "code",
        "colab": {}
      },
      "cell_type": "code",
      "source": [
        "conv_base.trainable = False\n",
        "from keras import layers\n",
        "from keras import models\n",
        "from keras import optimizers\n",
        "from keras.layers import Flatten"
      ],
      "execution_count": 0,
      "outputs": []
    },
    {
      "metadata": {
        "id": "sWV6vPojn5fy",
        "colab_type": "code",
        "outputId": "fa1c662b-9df3-4ead-a324-0163cd47a254",
        "colab": {
          "base_uri": "https://localhost:8080/",
          "height": 442
        }
      },
      "cell_type": "code",
      "source": [
        "#Data Augmentation\n",
        "train_datagen = ImageDataGenerator(rescale = 1./255,\n",
        "                                   rotation_range=40,\n",
        "                                   width_shift_range=0.2,\n",
        "                                   height_shift_range=0.2,\n",
        "                                   shear_range=0.2,\n",
        "                                   zoom_range=0.2,\n",
        "                                   horizontal_flip=True,\n",
        "                                   fill_mode='nearest')\n",
        "test_datagen = ImageDataGenerator(rescale=1./255)\n",
        "\n",
        "train_generator = train_datagen.flow_from_directory(\n",
        "    train_dir,\n",
        "    target_size = (150,150),\n",
        "    batch_size = 20,\n",
        "    class_mode = 'binary'\n",
        ")\n",
        "validation_generator = train_datagen.flow_from_directory(\n",
        "    validation_dir,\n",
        "    target_size = (150,150),\n",
        "    batch_size = 20,\n",
        "    class_mode = 'binary'\n",
        ")\n",
        "\n",
        "model = Sequential()\n",
        "model.add(conv_base)\n",
        "model.add(Flatten())\n",
        "model.add(Dense(256,activation='relu'))\n",
        "model.add(Dense(1,activation ='sigmoid'))\n",
        "model.compile(loss='binary_crossentropy',optimizer=optimizers.RMSprop(lr=2e-5),metrics=['acc'])\n",
        "history = model.fit_generator(train_generator,steps_per_epoch=100,epochs=10,\n",
        "                                validation_data=validation_generator,validation_steps=50)\n"
      ],
      "execution_count": 5,
      "outputs": [
        {
          "output_type": "stream",
          "text": [
            "Found 2000 images belonging to 2 classes.\n",
            "Found 1000 images belonging to 2 classes.\n",
            "WARNING:tensorflow:From /usr/local/lib/python3.6/dist-packages/tensorflow/python/ops/math_ops.py:3066: to_int32 (from tensorflow.python.ops.math_ops) is deprecated and will be removed in a future version.\n",
            "Instructions for updating:\n",
            "Use tf.cast instead.\n",
            "Epoch 1/10\n",
            "100/100 [==============================] - 23s 228ms/step - loss: 0.6122 - acc: 0.6745 - val_loss: 0.5468 - val_acc: 0.7540\n",
            "Epoch 2/10\n",
            "100/100 [==============================] - 21s 208ms/step - loss: 0.5227 - acc: 0.7570 - val_loss: 0.4871 - val_acc: 0.7820\n",
            "Epoch 3/10\n",
            "100/100 [==============================] - 22s 222ms/step - loss: 0.4842 - acc: 0.7710 - val_loss: 0.4664 - val_acc: 0.7870\n",
            "Epoch 4/10\n",
            "100/100 [==============================] - 21s 207ms/step - loss: 0.4457 - acc: 0.8045 - val_loss: 0.4453 - val_acc: 0.7950\n",
            "Epoch 5/10\n",
            "100/100 [==============================] - 21s 209ms/step - loss: 0.4369 - acc: 0.8005 - val_loss: 0.4291 - val_acc: 0.8110\n",
            "Epoch 6/10\n",
            "100/100 [==============================] - 23s 229ms/step - loss: 0.4173 - acc: 0.8140 - val_loss: 0.4342 - val_acc: 0.8050\n",
            "Epoch 7/10\n",
            "100/100 [==============================] - 22s 216ms/step - loss: 0.3951 - acc: 0.8345 - val_loss: 0.4037 - val_acc: 0.8150\n",
            "Epoch 8/10\n",
            "100/100 [==============================] - 21s 208ms/step - loss: 0.3858 - acc: 0.8290 - val_loss: 0.3931 - val_acc: 0.8170\n",
            "Epoch 9/10\n",
            "100/100 [==============================] - 21s 208ms/step - loss: 0.3947 - acc: 0.8180 - val_loss: 0.4020 - val_acc: 0.8210\n",
            "Epoch 10/10\n",
            "100/100 [==============================] - 22s 220ms/step - loss: 0.3816 - acc: 0.8255 - val_loss: 0.4011 - val_acc: 0.8180\n"
          ],
          "name": "stdout"
        }
      ]
    },
    {
      "metadata": {
        "id": "jT7hsdgddDR6",
        "colab_type": "text"
      },
      "cell_type": "markdown",
      "source": [
        "##Unfreezing\n",
        "\n"
      ]
    },
    {
      "metadata": {
        "id": "K2mCxOD9eRVN",
        "colab_type": "text"
      },
      "cell_type": "markdown",
      "source": [
        "Lets fine tune the last **four CNN** layers = all layers above needs to be frozen"
      ]
    },
    {
      "metadata": {
        "id": "CfXnHDrNREmj",
        "colab_type": "code",
        "colab": {
          "base_uri": "https://localhost:8080/",
          "height": 884
        },
        "outputId": "694d9d59-c0a8-4b84-d0dd-cffe75149d0a"
      },
      "cell_type": "code",
      "source": [
        "conv_base.summary()"
      ],
      "execution_count": 6,
      "outputs": [
        {
          "output_type": "stream",
          "text": [
            "_________________________________________________________________\n",
            "Layer (type)                 Output Shape              Param #   \n",
            "=================================================================\n",
            "input_1 (InputLayer)         (None, 150, 150, 3)       0         \n",
            "_________________________________________________________________\n",
            "block1_conv1 (Conv2D)        (None, 150, 150, 64)      1792      \n",
            "_________________________________________________________________\n",
            "block1_conv2 (Conv2D)        (None, 150, 150, 64)      36928     \n",
            "_________________________________________________________________\n",
            "block1_pool (MaxPooling2D)   (None, 75, 75, 64)        0         \n",
            "_________________________________________________________________\n",
            "block2_conv1 (Conv2D)        (None, 75, 75, 128)       73856     \n",
            "_________________________________________________________________\n",
            "block2_conv2 (Conv2D)        (None, 75, 75, 128)       147584    \n",
            "_________________________________________________________________\n",
            "block2_pool (MaxPooling2D)   (None, 37, 37, 128)       0         \n",
            "_________________________________________________________________\n",
            "block3_conv1 (Conv2D)        (None, 37, 37, 256)       295168    \n",
            "_________________________________________________________________\n",
            "block3_conv2 (Conv2D)        (None, 37, 37, 256)       590080    \n",
            "_________________________________________________________________\n",
            "block3_conv3 (Conv2D)        (None, 37, 37, 256)       590080    \n",
            "_________________________________________________________________\n",
            "block3_conv4 (Conv2D)        (None, 37, 37, 256)       590080    \n",
            "_________________________________________________________________\n",
            "block3_pool (MaxPooling2D)   (None, 18, 18, 256)       0         \n",
            "_________________________________________________________________\n",
            "block4_conv1 (Conv2D)        (None, 18, 18, 512)       1180160   \n",
            "_________________________________________________________________\n",
            "block4_conv2 (Conv2D)        (None, 18, 18, 512)       2359808   \n",
            "_________________________________________________________________\n",
            "block4_conv3 (Conv2D)        (None, 18, 18, 512)       2359808   \n",
            "_________________________________________________________________\n",
            "block4_conv4 (Conv2D)        (None, 18, 18, 512)       2359808   \n",
            "_________________________________________________________________\n",
            "block4_pool (MaxPooling2D)   (None, 9, 9, 512)         0         \n",
            "_________________________________________________________________\n",
            "block5_conv1 (Conv2D)        (None, 9, 9, 512)         2359808   \n",
            "_________________________________________________________________\n",
            "block5_conv2 (Conv2D)        (None, 9, 9, 512)         2359808   \n",
            "_________________________________________________________________\n",
            "block5_conv3 (Conv2D)        (None, 9, 9, 512)         2359808   \n",
            "_________________________________________________________________\n",
            "block5_conv4 (Conv2D)        (None, 9, 9, 512)         2359808   \n",
            "_________________________________________________________________\n",
            "block5_pool (MaxPooling2D)   (None, 4, 4, 512)         0         \n",
            "=================================================================\n",
            "Total params: 20,024,384\n",
            "Trainable params: 0\n",
            "Non-trainable params: 20,024,384\n",
            "_________________________________________________________________\n"
          ],
          "name": "stdout"
        }
      ]
    },
    {
      "metadata": {
        "id": "7F27_L6bgsOa",
        "colab_type": "code",
        "colab": {
          "base_uri": "https://localhost:8080/",
          "height": 391
        },
        "outputId": "666abeb0-a115-4f82-b56b-bcc97230bdc4"
      },
      "cell_type": "code",
      "source": [
        "for i,layer in enumerate(conv_base.layers):\n",
        "    print(i,layer.name)\n"
      ],
      "execution_count": 7,
      "outputs": [
        {
          "output_type": "stream",
          "text": [
            "0 input_1\n",
            "1 block1_conv1\n",
            "2 block1_conv2\n",
            "3 block1_pool\n",
            "4 block2_conv1\n",
            "5 block2_conv2\n",
            "6 block2_pool\n",
            "7 block3_conv1\n",
            "8 block3_conv2\n",
            "9 block3_conv3\n",
            "10 block3_conv4\n",
            "11 block3_pool\n",
            "12 block4_conv1\n",
            "13 block4_conv2\n",
            "14 block4_conv3\n",
            "15 block4_conv4\n",
            "16 block4_pool\n",
            "17 block5_conv1\n",
            "18 block5_conv2\n",
            "19 block5_conv3\n",
            "20 block5_conv4\n",
            "21 block5_pool\n"
          ],
          "name": "stdout"
        }
      ]
    },
    {
      "metadata": {
        "id": "mfDD4rbUePwk",
        "colab_type": "code",
        "colab": {}
      },
      "cell_type": "code",
      "source": [
        "conv_base.trainable = True\n",
        "set_trainable = False\n",
        "for layer in conv_base.layers:\n",
        "  if layer.name == 'block3_conv1':\n",
        "    set_trainable = True\n",
        "  if set_trainable:\n",
        "    layer.trainable = True\n",
        "  else:\n",
        "    layer.trainable = False"
      ],
      "execution_count": 0,
      "outputs": []
    },
    {
      "metadata": {
        "id": "jgoinbC2fjAo",
        "colab_type": "code",
        "colab": {
          "base_uri": "https://localhost:8080/",
          "height": 1037
        },
        "outputId": "bd170783-683d-4e89-8e03-42c102ad13bd"
      },
      "cell_type": "code",
      "source": [
        "model.compile(loss='binary_crossentropy',optimizer=optimizers.RMSprop(lr=2e-5),metrics=['acc'])\n",
        "history = model.fit_generator(train_generator,steps_per_epoch=100,epochs=30,validation_data=validation_generator,validation_steps = 50)"
      ],
      "execution_count": 9,
      "outputs": [
        {
          "output_type": "stream",
          "text": [
            "Epoch 1/30\n",
            "100/100 [==============================] - 27s 272ms/step - loss: 0.4127 - acc: 0.8285 - val_loss: 0.5084 - val_acc: 0.7880\n",
            "Epoch 2/30\n",
            "100/100 [==============================] - 24s 240ms/step - loss: 0.2296 - acc: 0.9065 - val_loss: 0.2586 - val_acc: 0.8920\n",
            "Epoch 3/30\n",
            "100/100 [==============================] - 25s 246ms/step - loss: 0.1996 - acc: 0.9175 - val_loss: 0.4605 - val_acc: 0.8100\n",
            "Epoch 4/30\n",
            "100/100 [==============================] - 25s 245ms/step - loss: 0.1647 - acc: 0.9380 - val_loss: 0.2046 - val_acc: 0.9180\n",
            "Epoch 5/30\n",
            "100/100 [==============================] - 24s 239ms/step - loss: 0.1505 - acc: 0.9385 - val_loss: 0.1450 - val_acc: 0.9410\n",
            "Epoch 6/30\n",
            "100/100 [==============================] - 24s 240ms/step - loss: 0.1308 - acc: 0.9385 - val_loss: 0.4127 - val_acc: 0.8430\n",
            "Epoch 7/30\n",
            "100/100 [==============================] - 25s 251ms/step - loss: 0.1243 - acc: 0.9490 - val_loss: 0.2095 - val_acc: 0.9220\n",
            "Epoch 8/30\n",
            "100/100 [==============================] - 24s 237ms/step - loss: 0.1019 - acc: 0.9585 - val_loss: 0.1968 - val_acc: 0.9280\n",
            "Epoch 9/30\n",
            "100/100 [==============================] - 25s 251ms/step - loss: 0.0985 - acc: 0.9610 - val_loss: 0.1456 - val_acc: 0.9490\n",
            "Epoch 10/30\n",
            "100/100 [==============================] - 25s 250ms/step - loss: 0.0902 - acc: 0.9680 - val_loss: 0.1580 - val_acc: 0.9460\n",
            "Epoch 11/30\n",
            "100/100 [==============================] - 24s 237ms/step - loss: 0.1014 - acc: 0.9610 - val_loss: 0.1170 - val_acc: 0.9480\n",
            "Epoch 12/30\n",
            "100/100 [==============================] - 24s 238ms/step - loss: 0.0843 - acc: 0.9705 - val_loss: 0.1470 - val_acc: 0.9420\n",
            "Epoch 13/30\n",
            "100/100 [==============================] - 25s 250ms/step - loss: 0.0773 - acc: 0.9720 - val_loss: 0.2066 - val_acc: 0.9330\n",
            "Epoch 14/30\n",
            "100/100 [==============================] - 24s 240ms/step - loss: 0.0755 - acc: 0.9715 - val_loss: 0.1813 - val_acc: 0.9400\n",
            "Epoch 15/30\n",
            "100/100 [==============================] - 24s 237ms/step - loss: 0.0635 - acc: 0.9820 - val_loss: 0.1823 - val_acc: 0.9420\n",
            "Epoch 16/30\n",
            "100/100 [==============================] - 24s 236ms/step - loss: 0.0619 - acc: 0.9735 - val_loss: 0.1427 - val_acc: 0.9490\n",
            "Epoch 17/30\n",
            "100/100 [==============================] - 25s 249ms/step - loss: 0.0722 - acc: 0.9735 - val_loss: 0.1900 - val_acc: 0.9430\n",
            "Epoch 18/30\n",
            "100/100 [==============================] - 24s 236ms/step - loss: 0.0602 - acc: 0.9785 - val_loss: 0.1981 - val_acc: 0.9480\n",
            "Epoch 19/30\n",
            "100/100 [==============================] - 24s 238ms/step - loss: 0.0618 - acc: 0.9775 - val_loss: 0.1424 - val_acc: 0.9510\n",
            "Epoch 20/30\n",
            "100/100 [==============================] - 25s 249ms/step - loss: 0.0504 - acc: 0.9820 - val_loss: 0.1401 - val_acc: 0.9590\n",
            "Epoch 21/30\n",
            "100/100 [==============================] - 24s 237ms/step - loss: 0.0535 - acc: 0.9810 - val_loss: 0.1838 - val_acc: 0.9570\n",
            "Epoch 22/30\n",
            "100/100 [==============================] - 25s 248ms/step - loss: 0.0536 - acc: 0.9815 - val_loss: 0.1554 - val_acc: 0.9540\n",
            "Epoch 23/30\n",
            "100/100 [==============================] - 25s 249ms/step - loss: 0.0539 - acc: 0.9850 - val_loss: 0.2087 - val_acc: 0.9520\n",
            "Epoch 24/30\n",
            "100/100 [==============================] - 24s 238ms/step - loss: 0.0606 - acc: 0.9845 - val_loss: 0.2145 - val_acc: 0.9410\n",
            "Epoch 25/30\n",
            "100/100 [==============================] - 24s 236ms/step - loss: 0.0501 - acc: 0.9850 - val_loss: 0.1329 - val_acc: 0.9540\n",
            "Epoch 26/30\n",
            "100/100 [==============================] - 24s 245ms/step - loss: 0.0519 - acc: 0.9815 - val_loss: 0.1880 - val_acc: 0.9590\n",
            "Epoch 27/30\n",
            "100/100 [==============================] - 25s 248ms/step - loss: 0.0477 - acc: 0.9850 - val_loss: 0.2003 - val_acc: 0.9430\n",
            "Epoch 28/30\n",
            "100/100 [==============================] - 24s 236ms/step - loss: 0.0466 - acc: 0.9840 - val_loss: 0.1993 - val_acc: 0.9450\n",
            "Epoch 29/30\n",
            "100/100 [==============================] - 24s 236ms/step - loss: 0.0590 - acc: 0.9820 - val_loss: 0.2267 - val_acc: 0.9380\n",
            "Epoch 30/30\n",
            "100/100 [==============================] - 25s 248ms/step - loss: 0.0524 - acc: 0.9825 - val_loss: 0.2591 - val_acc: 0.9260\n"
          ],
          "name": "stdout"
        }
      ]
    },
    {
      "metadata": {
        "id": "zFpr99qdhLYL",
        "colab_type": "code",
        "colab": {
          "base_uri": "https://localhost:8080/",
          "height": 51
        },
        "outputId": "ef2cafd5-7477-413b-f4a1-533bf5033125"
      },
      "cell_type": "code",
      "source": [
        "score= model.evaluate_generator(validation_generator,steps = 50)\n",
        "print(\"Loss :\",score[0])\n",
        "print(\"Accuracy: \",score[1])\n"
      ],
      "execution_count": 10,
      "outputs": [
        {
          "output_type": "stream",
          "text": [
            "Loss : 0.2466195760318078\n",
            "Accuracy:  0.9359999930858612\n"
          ],
          "name": "stdout"
        }
      ]
    },
    {
      "metadata": {
        "id": "J7OkHOgIlXld",
        "colab_type": "text"
      },
      "cell_type": "markdown",
      "source": [
        "Accuracy of **96**%."
      ]
    },
    {
      "metadata": {
        "id": "yuHhTe7ahLsb",
        "colab_type": "code",
        "colab": {
          "base_uri": "https://localhost:8080/",
          "height": 545
        },
        "outputId": "077212c4-fb44-455e-a5b6-a9fa48580f0d"
      },
      "cell_type": "code",
      "source": [
        "acc = history.history['acc']\n",
        "val_acc = history.history['val_acc']\n",
        "loss = history.history['loss']\n",
        "val_loss = history.history['val_loss']\n",
        "epochs = range(1, len(acc) + 1)\n",
        "# training and validation accuracy\n",
        "plt.plot(epochs, acc, 'r+', label='training acc')\n",
        "plt.plot(epochs, val_acc, 'g-', label='validation acc')\n",
        "plt.title('Validation Accuracy')\n",
        "plt.legend()\n",
        "plt.figure()\n",
        "# training and validation loss\n",
        "plt.plot(epochs, loss, 'r+', label='training loss')\n",
        "plt.plot(epochs, val_loss, 'g-', label='validation loss')\n",
        "plt.title('Validation Loss')\n",
        "plt.legend()\n",
        "\n",
        "plt.show()\n"
      ],
      "execution_count": 13,
      "outputs": [
        {
          "output_type": "display_data",
          "data": {
            "image/png": "[encoded data removed]",
            "text/plain": [
              "<Figure size 432x288 with 1 Axes>"
            ]
          },
          "metadata": {
            "tags": []
          }
        },
        {
          "output_type": "display_data",
          "data": {
            "image/png": "[encoded data removed]",
            "text/plain": [
              "<Figure size 432x288 with 1 Axes>"
            ]
          },
          "metadata": {
            "tags": []
          }
        }
      ]
    },
    {
      "metadata": {
        "id": "IQvYIJdAkkVT",
        "colab_type": "code",
        "colab": {}
      },
      "cell_type": "code",
      "source": [
        ""
      ],
      "execution_count": 0,
      "outputs": []
    }
  ]
}