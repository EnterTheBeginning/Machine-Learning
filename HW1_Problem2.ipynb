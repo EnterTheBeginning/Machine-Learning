{
  "nbformat": 4,
  "nbformat_minor": 0,
  "metadata": {
    "colab": {
      "name": "HW1_Problem2.ipynb",
      "version": "0.3.2",
      "provenance": [],
      "collapsed_sections": [],
      "include_colab_link": true
    },
    "kernelspec": {
      "name": "python3",
      "display_name": "Python 3"
    }
  },
  "cells": [
    {
      "cell_type": "markdown",
      "metadata": {
        "id": "view-in-github",
        "colab_type": "text"
      },
      "source": [
        "<a href=\"https://colab.research.google.com/github/EnterTheBeginning/Machine-Learning/blob/master/HW1_Problem2.ipynb\" target=\"_parent\"><img src=\"https://colab.research.google.com/assets/colab-badge.svg\" alt=\"Open In Colab\"/></a>"
      ]
    },
    {
      "metadata": {
        "id": "CEghsswc1JiU",
        "colab_type": "code",
        "colab": {}
      },
      "cell_type": "code",
      "source": [
        "import numpy as np\n",
        "import matplotlib.pyplot as plt\n",
        "%matplotlib inline"
      ],
      "execution_count": 0,
      "outputs": []
    },
    {
      "metadata": {
        "id": "5-Pl3BgX1jJw",
        "colab_type": "text"
      },
      "cell_type": "markdown",
      "source": [
        "## Importing Data\n"
      ]
    },
    {
      "metadata": {
        "id": "Ef4PxUoo1fb4",
        "colab_type": "code",
        "colab": {}
      },
      "cell_type": "code",
      "source": [
        "from keras.datasets import mnist\n",
        "\n",
        "(X_trainori, y_trainori), (X_testori, y_testori) = mnist.load_data()"
      ],
      "execution_count": 0,
      "outputs": []
    },
    {
      "metadata": {
        "id": "pNZtsqhI1WBN",
        "colab_type": "code",
        "colab": {}
      },
      "cell_type": "code",
      "source": [
        "X_train = X_trainori.reshape((60000, 28 * 28))\n",
        "X_train = X_train.astype('float32') / 255\n",
        "\n",
        "X_test = X_testori.reshape((10000, 28 * 28))\n",
        "X_test = X_test.astype('float32') / 255"
      ],
      "execution_count": 0,
      "outputs": []
    },
    {
      "metadata": {
        "id": "di3W4of2qd-A",
        "colab_type": "code",
        "colab": {}
      },
      "cell_type": "code",
      "source": [
        "y_train, y_test = y_trainori.reshape(60000,1),y_testori.reshape(10000,1)\n",
        "\n"
      ],
      "execution_count": 0,
      "outputs": []
    },
    {
      "metadata": {
        "id": "BgYz-Sdzqh-w",
        "colab_type": "text"
      },
      "cell_type": "markdown",
      "source": [
        "Categorical Output One hot Encoder\n"
      ]
    },
    {
      "metadata": {
        "id": "4rKMQCnRrQCi",
        "colab_type": "text"
      },
      "cell_type": "markdown",
      "source": [
        "###First model For the lucky number 7:"
      ]
    },
    {
      "metadata": {
        "id": "F-VlCj8Us0DN",
        "colab_type": "text"
      },
      "cell_type": "markdown",
      "source": [
        " classifer for number 7.  Anything except 7 is Zero and If y == 7 we have output of 1\n",
        "\n"
      ]
    },
    {
      "metadata": {
        "id": "pj2qOVxYoyyc",
        "colab_type": "code",
        "colab": {}
      },
      "cell_type": "code",
      "source": [
        "y1_train = np.zeros(y_train.shape)\n",
        "y1_train[np.where(y_train == 7.0)[0]] = 1\n",
        "y_train = y1_train\n",
        "\n",
        "y1_test = np.zeros(y_test.shape)\n",
        "y1_test[np.where(y_test == 7.0)[0]] = 1\n",
        "y_test = y1_test\n"
      ],
      "execution_count": 0,
      "outputs": []
    },
    {
      "metadata": {
        "id": "QPrt0B0RdkiN",
        "colab_type": "text"
      },
      "cell_type": "markdown",
      "source": [
        "Now that we have input and output ready\n",
        "\n",
        "> Indented block\n",
        "\n",
        "\n",
        "Lets start building the first layer"
      ]
    },
    {
      "metadata": {
        "id": "7igJTn7qeYIE",
        "colab_type": "text"
      },
      "cell_type": "markdown",
      "source": [
        "##Logistic regression with binary cross entropy loss..\n",
        "\n",
        "1.   Weights\n",
        "2.   Bias\n",
        "3. Activation\n",
        "4. Input X   \n",
        "n = Number of Features which is 784   \n",
        "m = Number of samples which in training set is 60000\n"
      ]
    },
    {
      "metadata": {
        "id": "qbIDf13AupXD",
        "colab_type": "code",
        "colab": {}
      },
      "cell_type": "code",
      "source": [
        "\n",
        "np.random.seed(47)\n",
        "W = np.zeros((X_train.shape[1], 1))\n"
      ],
      "execution_count": 0,
      "outputs": []
    },
    {
      "metadata": {
        "id": "r3Z81BUkhj2n",
        "colab_type": "code",
        "outputId": "5ce6c4cf-5207-4440-ae9a-41ee59cc4016",
        "colab": {
          "base_uri": "https://localhost:8080/",
          "height": 34
        }
      },
      "cell_type": "code",
      "source": [
        "W.shape"
      ],
      "execution_count": 14,
      "outputs": [
        {
          "output_type": "execute_result",
          "data": {
            "text/plain": [
              "(784, 1)"
            ]
          },
          "metadata": {
            "tags": []
          },
          "execution_count": 14
        }
      ]
    },
    {
      "metadata": {
        "id": "PUugUn0flt7U",
        "colab_type": "code",
        "outputId": "2dfe8a0d-3d3c-4a37-a61d-8cc986bc882e",
        "colab": {
          "base_uri": "https://localhost:8080/",
          "height": 34
        }
      },
      "cell_type": "code",
      "source": [
        "b = np.zeros((1,1))\n",
        "b.shape"
      ],
      "execution_count": 15,
      "outputs": [
        {
          "output_type": "execute_result",
          "data": {
            "text/plain": [
              "(1, 1)"
            ]
          },
          "metadata": {
            "tags": []
          },
          "execution_count": 15
        }
      ]
    },
    {
      "metadata": {
        "id": "eOO18U4-f07L",
        "colab_type": "code",
        "colab": {}
      },
      "cell_type": "code",
      "source": [
        "def Sigmoid(z):\n",
        "    arg1 = 1 / (1 + np.exp(-z))\n",
        "    return arg1\n"
      ],
      "execution_count": 0,
      "outputs": []
    },
    {
      "metadata": {
        "id": "RBsoF0VikKYW",
        "colab_type": "text"
      },
      "cell_type": "markdown",
      "source": [
        "## Binary Cross Entropy (CRS) class:\n",
        "\n",
        "---\n",
        "\n"
      ]
    },
    {
      "metadata": {
        "id": "UfVHgu9qHDbH",
        "colab_type": "code",
        "colab": {}
      },
      "cell_type": "code",
      "source": [
        "class CRS:\n",
        "  \n",
        "  #class constructor\n",
        "  #In order to save W for other methods such as prediction\n",
        "  def __init__(self,W,b):\n",
        "    self.W = W\n",
        "    self.b = b\n",
        "  \n",
        "    #Derivative of Loss \n",
        "  def derCRSLoss(self,A,y):\n",
        "    arg1 = (-y/A) + ((1-y)/(1-A))\n",
        "    return arg1\n",
        "  \n",
        "    #Derivative of Sigmoid method  \n",
        "  def derSigmoid(self,A):\n",
        "      arg1 = A*(1-A)\n",
        "      return arg1\n",
        "    \n",
        "    #Cross Error method   \n",
        "  def CRSLoss(self,A,y):\n",
        "      arg1 = (np.log(A)*(-y)-np.log(1-A)*(1-y)).mean()\n",
        "      return arg1\n",
        "    #Training weights and Biases\n",
        "  def train(self, X, y,lr=0.01 , batch=128 , epochs = 1):\n",
        "    self.W = np.zeros((X_train.shape[1],1))\n",
        "    self.b = np.zeros((1,1))\n",
        "\n",
        "    history={\"Loss\":[]}\n",
        "\n",
        "    for i in range(epochs):\n",
        "      object_Loss = []\n",
        "      shuffle = np.random.permutation(m)\n",
        "      X_shuffled = X[shuffle]\n",
        "      y_shuffled = y[shuffle]\n",
        "      for e in range(0,m,batch):\n",
        "        \n",
        "        X1= X_shuffled[e:e+batch]\n",
        "        y1= y_shuffled[e:e+batch]\n",
        "        Z= X1.dot(self.W)+self.b\n",
        "        # Activation function\n",
        "        A1 = Sigmoid(Z)\n",
        "        # Loss update\n",
        "        Gradient= self.derCRSLoss(A1,y1)*(self.derSigmoid(A1))\n",
        "        # Updating the weights\n",
        "        self.W= self.W - lr * (Gradient.T @ X1).T/batch\n",
        "        # Updating the bias\n",
        "        self.b= self.b- lr*Gradient.mean()\n",
        "        object_Loss += [self.CRSLoss(A1,y1)]\n",
        "      history['Loss'] += [np.mean(object_Loss)]\n",
        "      print(\" Loss: {}\\n\".format(history['Loss'][-1]))\n",
        "      \n",
        "    return history\n",
        "    print(\"Test accuracy : {} %\".format(100 - np.mean(np.abs(network.predict(X_test) - y_test))*100))\n",
        "  \n",
        "  def predict(self,X):\n",
        "        m = X.shape[0]\n",
        "        #creating a prediction vector\n",
        "        Z= X.dot(self.W)+self.b\n",
        "        A = Sigmoid(Z)\n",
        "        y_prediction = np.zeros((1,m))\n",
        "        for i in range(A.shape[0]):\n",
        "          if( A[i]>= 0.5):\n",
        "            y_prediction[0,i] = 1\n",
        "          else:\n",
        "            y_prediction[0,i] = 0\n",
        "        return y_prediction\n",
        "    \n"
      ],
      "execution_count": 0,
      "outputs": []
    },
    {
      "metadata": {
        "id": "hzSMPv85X60Q",
        "colab_type": "text"
      },
      "cell_type": "markdown",
      "source": [
        "###The results shown for the detection of Digit 7:"
      ]
    },
    {
      "metadata": {
        "id": "q5ecUlQrMbwi",
        "colab_type": "code",
        "colab": {}
      },
      "cell_type": "code",
      "source": [
        "network = CRS(None,None)"
      ],
      "execution_count": 0,
      "outputs": []
    },
    {
      "metadata": {
        "id": "0EtTNcS7ItI_",
        "colab_type": "code",
        "outputId": "cfdf4051-c5cf-470c-bb7c-1506461264b3",
        "colab": {
          "base_uri": "https://localhost:8080/",
          "height": 51
        }
      },
      "cell_type": "code",
      "source": [
        "results = network.train(X_train, y_train)"
      ],
      "execution_count": 33,
      "outputs": [
        {
          "output_type": "stream",
          "text": [
            " Loss: 0.24216602814441684\n",
            "\n"
          ],
          "name": "stdout"
        }
      ]
    },
    {
      "metadata": {
        "id": "2DWbpo01aolJ",
        "colab_type": "code",
        "outputId": "7d8f4152-c9d1-4603-d2ae-49ad26c95851",
        "colab": {
          "base_uri": "https://localhost:8080/",
          "height": 51
        }
      },
      "cell_type": "code",
      "source": [
        "network.predict(X_test[:20])\n"
      ],
      "execution_count": 34,
      "outputs": [
        {
          "output_type": "execute_result",
          "data": {
            "text/plain": [
              "array([[0., 0., 0., 0., 0., 0., 0., 0., 0., 0., 0., 0., 0., 0., 0., 0.,\n",
              "        0., 0., 0., 0.]])"
            ]
          },
          "metadata": {
            "tags": []
          },
          "execution_count": 34
        }
      ]
    },
    {
      "metadata": {
        "id": "c1fU-xOdVzPw",
        "colab_type": "text"
      },
      "cell_type": "markdown",
      "source": [
        "Test Accuracy:"
      ]
    },
    {
      "metadata": {
        "id": "MYzhyrLbRXmg",
        "colab_type": "code",
        "outputId": "9dc539c1-7a4f-4ea9-c9e0-094085eca1fb",
        "colab": {
          "base_uri": "https://localhost:8080/",
          "height": 34
        }
      },
      "cell_type": "code",
      "source": [
        "print(\"Test accuracy : {} %\".format(100 - np.mean(np.abs(network.predict(X_test) - y_test))*100))\n"
      ],
      "execution_count": 35,
      "outputs": [
        {
          "output_type": "stream",
          "text": [
            "Test accuracy : 85.21015 %\n"
          ],
          "name": "stdout"
        }
      ]
    },
    {
      "metadata": {
        "id": "g0tzzRTsVkVP",
        "colab_type": "text"
      },
      "cell_type": "markdown",
      "source": [
        "##Loop for classification of all numbers\n"
      ]
    },
    {
      "metadata": {
        "id": "jJRCjQUrU5mG",
        "colab_type": "code",
        "colab": {}
      },
      "cell_type": "code",
      "source": [
        "numbers = np.arange(10)\n",
        "networks = []\n",
        "hist = []\n"
      ],
      "execution_count": 0,
      "outputs": []
    },
    {
      "metadata": {
        "id": "F6WAL_OMmaQz",
        "colab_type": "text"
      },
      "cell_type": "markdown",
      "source": [
        "Reseting the labels"
      ]
    },
    {
      "metadata": {
        "id": "6vSZmZAHV3WI",
        "colab_type": "code",
        "outputId": "8f56eb2f-3bd3-414f-fbb4-4b5612960b54",
        "colab": {
          "base_uri": "https://localhost:8080/",
          "height": 867
        }
      },
      "cell_type": "code",
      "source": [
        "for i in numbers:\n",
        "    print(\"______________________________________\")\n",
        "    print(\"Training Classifier for the Number: {} \".format(i))\n",
        "    y2_train = np.zeros(y_trainori.shape)\n",
        "    y2_train[np.where(y_trainori == i)[0]] = 1\n",
        "    y_train = y2_train\n",
        "    y_train = y_train.reshape(60000,1)\n",
        "    networks += [CRS(None,None)]\n",
        "    hist += [networks[-1].train(X_train, y_train)]\n",
        "    \n",
        "    y2_test = np.zeros(y_testori.shape)\n",
        "    y2_test[np.where(y_testori == i)[0]] = 1\n",
        "    y_test = y2_test\n",
        "    y_test = y_test.reshape(10000,1)\n",
        "    print(\"Test accuracy : {} %\".format(100 - np.mean(np.abs(network.predict(X_test) - y_test))*100))\n",
        "\n"
      ],
      "execution_count": 38,
      "outputs": [
        {
          "output_type": "stream",
          "text": [
            "______________________________________\n",
            "Training Classifier for the Number: 0 \n",
            " Loss: 0.18126880890665975\n",
            "\n",
            "Test accuracy : 86.62219999999999 %\n",
            "______________________________________\n",
            "Training Classifier for the Number: 1 \n",
            " Loss: 0.16393322983140798\n",
            "\n",
            "Test accuracy : 85.21015 %\n",
            "______________________________________\n",
            "Training Classifier for the Number: 2 \n",
            " Loss: 0.24258652188633933\n",
            "\n",
            "Test accuracy : 86.14848 %\n",
            "______________________________________\n",
            "Training Classifier for the Number: 3 \n",
            " Loss: 0.2467022767722284\n",
            "\n",
            "Test accuracy : 86.3489 %\n",
            "______________________________________\n",
            "Training Classifier for the Number: 4 \n",
            " Loss: 0.22414675968704822\n",
            "\n",
            "Test accuracy : 86.60398 %\n",
            "______________________________________\n",
            "Training Classifier for the Number: 5 \n",
            " Loss: 0.25645209023177157\n",
            "\n",
            "Test accuracy : 87.42388 %\n",
            "______________________________________\n",
            "Training Classifier for the Number: 6 \n",
            " Loss: 0.21088272406027428\n",
            "\n",
            "Test accuracy : 86.82262 %\n",
            "______________________________________\n",
            "Training Classifier for the Number: 7 \n",
            " Loss: 0.20203339406273801\n",
            "\n",
            "Test accuracy : 86.18492 %\n",
            "______________________________________\n",
            "Training Classifier for the Number: 8 \n",
            " Loss: 0.30863792031853765\n",
            "\n",
            "Test accuracy : 86.67686 %\n",
            "______________________________________\n",
            "Training Classifier for the Number: 9 \n",
            " Loss: 0.2667671970366265\n",
            "\n",
            "Test accuracy : 86.35801 %\n"
          ],
          "name": "stdout"
        }
      ]
    },
    {
      "metadata": {
        "id": "895mbg9OqDZI",
        "colab_type": "code",
        "colab": {}
      },
      "cell_type": "code",
      "source": [
        ""
      ],
      "execution_count": 0,
      "outputs": []
    }
  ]
}