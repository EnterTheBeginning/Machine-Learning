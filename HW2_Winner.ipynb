{
  "nbformat": 4,
  "nbformat_minor": 0,
  "metadata": {
    "colab": {
      "name": "HW2_Winner.ipynb",
      "version": "0.3.2",
      "provenance": [],
      "collapsed_sections": [],
      "include_colab_link": true
    },
    "kernelspec": {
      "name": "python3",
      "display_name": "Python 3"
    },
    "accelerator": "GPU"
  },
  "cells": [
    {
      "cell_type": "markdown",
      "metadata": {
        "id": "view-in-github",
        "colab_type": "text"
      },
      "source": [
        "<a href=\"https://colab.research.google.com/github/EnterTheBeginning/Machine-Learning/blob/master/HW2_Winner.ipynb\" target=\"_parent\"><img src=\"https://colab.research.google.com/assets/colab-badge.svg\" alt=\"Open In Colab\"/></a>"
      ]
    },
    {
      "metadata": {
        "id": "voN80VP4NR7x",
        "colab_type": "code",
        "outputId": "725189d7-fbf0-417e-c8cc-a6917a934a37",
        "colab": {
          "base_uri": "https://localhost:8080/",
          "height": 34
        }
      },
      "cell_type": "code",
      "source": [
        "import numpy as np\n",
        "import pandas as pd\n",
        "import keras\n",
        "import matplotlib.pyplot as plt\n",
        "%matplotlib inline\n",
        "import warnings\n",
        "warnings.filterwarnings('ignore')\n",
        "from keras.utils import np_utils\n",
        "from keras.models import Sequential\n",
        "from scipy.misc import toimage\n",
        "from keras.layers import Dense, Activation, Flatten,Conv2D,MaxPooling2D,Dropout, BatchNormalization\n",
        "from keras.optimizers import SGD, Adam, RMSprop\n",
        "from keras.preprocessing.image import ImageDataGenerator\n",
        "from keras import regularizers\n",
        "\n",
        "#use of Learning rate scheduler to avoid overfitting\n",
        "from keras.callbacks import LearningRateScheduler"
      ],
      "execution_count": 1,
      "outputs": [
        {
          "output_type": "stream",
          "text": [
            "Using TensorFlow backend.\n"
          ],
          "name": "stderr"
        }
      ]
    },
    {
      "metadata": {
        "id": "pwO-fucWTV_B",
        "colab_type": "code",
        "colab": {}
      },
      "cell_type": "code",
      "source": [
        "from keras.datasets import cifar10 \n",
        "(X_train_original, y_train_original), (X_test_original, y_test_original) = cifar10.load_data()\n"
      ],
      "execution_count": 0,
      "outputs": []
    },
    {
      "metadata": {
        "id": "RGrZ-tj_AFCC",
        "colab_type": "code",
        "colab": {}
      },
      "cell_type": "code",
      "source": [
        "#OneHotEncoding\n",
        "y_train = np_utils.to_categorical(y_train_original,10)\n",
        "y_test = np_utils.to_categorical(y_test_original,10)\n",
        "#Using Z-Score as the normalization\n",
        "X_train = X_train_original.astype('float32')\n",
        "X_test = X_test_original.astype('float32')\n",
        "\n",
        "mean = np.mean(X_train,axis=(0,1,2,3))\n",
        "std = np.std(X_train,axis=(0,1,2,3))\n",
        "X_train = (X_train-mean)/(std+1e-7)\n",
        "X_test = (X_test-mean)/(std+1e-7)\n",
        "#Weight Decay \n",
        "w_decay = 0.0001"
      ],
      "execution_count": 0,
      "outputs": []
    },
    {
      "metadata": {
        "id": "ZnNdaA9_XsiQ",
        "colab_type": "text"
      },
      "cell_type": "markdown",
      "source": [
        "**Description**  \n",
        "Kernel_regularizer  which allows to apply penalties on layer parameters during optimization. weights will decay after a while   \n",
        "Activation = ELU &  \n",
        "Batch Normalization   \n",
        "ELU is far better than Relu since the model will underfit    \n",
        "Dropout and Batch normalization will further improve the model"
      ]
    },
    {
      "metadata": {
        "id": "qcZeZeM1cTsX",
        "colab_type": "text"
      },
      "cell_type": "markdown",
      "source": [
        "![alt text](https://www.researchgate.net/profile/Sepp_Hochreiter/publication/284579051/figure/fig1/AS:614057178578955@1523414048184/The-rectified-linear-unit-ReLU-the-leaky-ReLU-LReLU-a-01-the-shifted-ReLUs.png)"
      ]
    },
    {
      "metadata": {
        "colab_type": "code",
        "id": "PbRrCVudeSZ2",
        "colab": {
          "base_uri": "https://localhost:8080/",
          "height": 1122
        },
        "outputId": "38247e4c-6daf-4481-f1f6-201bdb2a8f85"
      },
      "cell_type": "code",
      "source": [
        "model = Sequential()\n",
        "model.add(Conv2D(32, (3,3), padding='same',\n",
        "                 kernel_regularizer=regularizers.l2(w_decay), input_shape=X_train.shape[1:]))\n",
        "model.add(Activation('elu'))\n",
        "model.add(BatchNormalization())\n",
        "model.add(Conv2D(32, (3,3), padding='same',\n",
        "                 kernel_regularizer=regularizers.l2(w_decay)))\n",
        "model.add(Activation('elu'))\n",
        "model.add(BatchNormalization())\n",
        "model.add(MaxPooling2D(pool_size=(2,2)))\n",
        "model.add(Dropout(0.2))\n",
        " \n",
        "model.add(Conv2D(64, (3,3), padding='same',\n",
        "                 kernel_regularizer=regularizers.l2(w_decay)))\n",
        "model.add(Activation('elu'))\n",
        "model.add(BatchNormalization())\n",
        "model.add(Conv2D(64, (3,3), padding='same',\n",
        "                 kernel_regularizer=regularizers.l2(w_decay)))\n",
        "model.add(Activation('elu'))\n",
        "model.add(BatchNormalization())\n",
        "model.add(MaxPooling2D(pool_size=(2,2)))\n",
        "model.add(Dropout(0.3))\n",
        " \n",
        "model.add(Conv2D(128, (3,3), padding='same',\n",
        "                 kernel_regularizer=regularizers.l2(w_decay)))\n",
        "model.add(Activation('elu'))\n",
        "model.add(BatchNormalization())\n",
        "model.add(Conv2D(128, (3,3), padding='same',\n",
        "                 kernel_regularizer=regularizers.l2(w_decay)))\n",
        "model.add(Activation('elu'))\n",
        "model.add(BatchNormalization())\n",
        "model.add(MaxPooling2D(pool_size=(2,2)))\n",
        "model.add(Dropout(0.4))\n",
        " \n",
        "model.add(Flatten())\n",
        "model.add(Dense(10, activation='softmax'))\n",
        "\n",
        "opt_rms = keras.optimizers.rmsprop(lr=0.001,decay=0.000001)\n",
        "model.compile(loss='categorical_crossentropy', optimizer=opt_rms, metrics=['accuracy'])\n",
        "\n",
        "model.summary()\n",
        "\n",
        " \n",
        " \n"
      ],
      "execution_count": 4,
      "outputs": [
        {
          "output_type": "stream",
          "text": [
            "WARNING:tensorflow:From /usr/local/lib/python3.6/dist-packages/tensorflow/python/framework/op_def_library.py:263: colocate_with (from tensorflow.python.framework.ops) is deprecated and will be removed in a future version.\n",
            "Instructions for updating:\n",
            "Colocations handled automatically by placer.\n",
            "WARNING:tensorflow:From /usr/local/lib/python3.6/dist-packages/keras/backend/tensorflow_backend.py:3445: calling dropout (from tensorflow.python.ops.nn_ops) with keep_prob is deprecated and will be removed in a future version.\n",
            "Instructions for updating:\n",
            "Please use `rate` instead of `keep_prob`. Rate should be set to `rate = 1 - keep_prob`.\n",
            "_________________________________________________________________\n",
            "Layer (type)                 Output Shape              Param #   \n",
            "=================================================================\n",
            "conv2d_1 (Conv2D)            (None, 32, 32, 32)        896       \n",
            "_________________________________________________________________\n",
            "activation_1 (Activation)    (None, 32, 32, 32)        0         \n",
            "_________________________________________________________________\n",
            "batch_normalization_1 (Batch (None, 32, 32, 32)        128       \n",
            "_________________________________________________________________\n",
            "conv2d_2 (Conv2D)            (None, 32, 32, 32)        9248      \n",
            "_________________________________________________________________\n",
            "activation_2 (Activation)    (None, 32, 32, 32)        0         \n",
            "_________________________________________________________________\n",
            "batch_normalization_2 (Batch (None, 32, 32, 32)        128       \n",
            "_________________________________________________________________\n",
            "max_pooling2d_1 (MaxPooling2 (None, 16, 16, 32)        0         \n",
            "_________________________________________________________________\n",
            "dropout_1 (Dropout)          (None, 16, 16, 32)        0         \n",
            "_________________________________________________________________\n",
            "conv2d_3 (Conv2D)            (None, 16, 16, 64)        18496     \n",
            "_________________________________________________________________\n",
            "activation_3 (Activation)    (None, 16, 16, 64)        0         \n",
            "_________________________________________________________________\n",
            "batch_normalization_3 (Batch (None, 16, 16, 64)        256       \n",
            "_________________________________________________________________\n",
            "conv2d_4 (Conv2D)            (None, 16, 16, 64)        36928     \n",
            "_________________________________________________________________\n",
            "activation_4 (Activation)    (None, 16, 16, 64)        0         \n",
            "_________________________________________________________________\n",
            "batch_normalization_4 (Batch (None, 16, 16, 64)        256       \n",
            "_________________________________________________________________\n",
            "max_pooling2d_2 (MaxPooling2 (None, 8, 8, 64)          0         \n",
            "_________________________________________________________________\n",
            "dropout_2 (Dropout)          (None, 8, 8, 64)          0         \n",
            "_________________________________________________________________\n",
            "conv2d_5 (Conv2D)            (None, 8, 8, 128)         73856     \n",
            "_________________________________________________________________\n",
            "activation_5 (Activation)    (None, 8, 8, 128)         0         \n",
            "_________________________________________________________________\n",
            "batch_normalization_5 (Batch (None, 8, 8, 128)         512       \n",
            "_________________________________________________________________\n",
            "conv2d_6 (Conv2D)            (None, 8, 8, 128)         147584    \n",
            "_________________________________________________________________\n",
            "activation_6 (Activation)    (None, 8, 8, 128)         0         \n",
            "_________________________________________________________________\n",
            "batch_normalization_6 (Batch (None, 8, 8, 128)         512       \n",
            "_________________________________________________________________\n",
            "max_pooling2d_3 (MaxPooling2 (None, 4, 4, 128)         0         \n",
            "_________________________________________________________________\n",
            "dropout_3 (Dropout)          (None, 4, 4, 128)         0         \n",
            "_________________________________________________________________\n",
            "flatten_1 (Flatten)          (None, 2048)              0         \n",
            "_________________________________________________________________\n",
            "dense_1 (Dense)              (None, 10)                20490     \n",
            "=================================================================\n",
            "Total params: 309,290\n",
            "Trainable params: 308,394\n",
            "Non-trainable params: 896\n",
            "_________________________________________________________________\n"
          ],
          "name": "stdout"
        }
      ]
    },
    {
      "metadata": {
        "id": "3iP4dCadopPH",
        "colab_type": "code",
        "colab": {}
      },
      "cell_type": "code",
      "source": [
        "#data Augmentation 3 {Winner}\n",
        "datagen = ImageDataGenerator(\n",
        "    rotation_range=15,\n",
        "    width_shift_range=0.1,\n",
        "    height_shift_range=0.1,\n",
        "    horizontal_flip=True,\n",
        "    )\n",
        "datagen.fit(X_train)"
      ],
      "execution_count": 0,
      "outputs": []
    },
    {
      "metadata": {
        "id": "UE7dQeo-uuv3",
        "colab_type": "code",
        "colab": {}
      },
      "cell_type": "code",
      "source": [
        "def learning(epoch):\n",
        "    lrate = 0.001\n",
        "    if epoch > 75:\n",
        "        lrate = 0.0005\n",
        "    if epoch > 100:\n",
        "        lrate = 0.0003\n",
        "    return lrate"
      ],
      "execution_count": 0,
      "outputs": []
    },
    {
      "metadata": {
        "id": "mJP_uQY9tlp-",
        "colab_type": "text"
      },
      "cell_type": "markdown",
      "source": [
        "The learning rate should increase after epoch 75 "
      ]
    },
    {
      "metadata": {
        "id": "8oWUq6ZsNegJ",
        "colab_type": "code",
        "outputId": "214f9299-aa2a-454a-fb78-d3fff531c3e6",
        "colab": {
          "base_uri": "https://localhost:8080/",
          "height": 3264
        }
      },
      "cell_type": "code",
      "source": [
        "#batch size 64 gives the best result following by 128 which results in below 89%\n",
        "batch_size = 64\n",
        "epochs = 200\n",
        "history = model.fit_generator(datagen.flow(X_train, y_train, batch_size=batch_size),steps_per_epoch=X_train.shape[0] // batch_size, epochs=epochs,verbose=1,validation_data=[X_test,y_test],,callbacks=[LearningRateScheduler(lr_schedule)])\n",
        "                              \n",
        "score = model.evaluate(X_test, y_test, batch_size=128, verbose=1)\n",
        "print(\"\\n Test score: \", score[0])\n",
        "print(\"\\nTest accuracy: \", score[1]*100)\n"
      ],
      "execution_count": 6,
      "outputs": [
        {
          "output_type": "stream",
          "text": [
            "WARNING:tensorflow:From /usr/local/lib/python3.6/dist-packages/tensorflow/python/ops/math_ops.py:3066: to_int32 (from tensorflow.python.ops.math_ops) is deprecated and will be removed in a future version.\n",
            "Instructions for updating:\n",
            "Use tf.cast instead.\n",
            "Epoch 1/200\n",
            "781/781 [==============================] - 42s 54ms/step - loss: 1.8880 - acc: 0.4323 - val_loss: 1.2502 - val_acc: 0.5933\n",
            "Epoch 2/200\n",
            "781/781 [==============================] - 39s 50ms/step - loss: 1.2926 - acc: 0.5923 - val_loss: 0.9751 - val_acc: 0.6908\n",
            "Epoch 3/200\n",
            "781/781 [==============================] - 42s 53ms/step - loss: 1.0953 - acc: 0.6546 - val_loss: 1.2760 - val_acc: 0.6416\n",
            "Epoch 4/200\n",
            "781/781 [==============================] - 42s 53ms/step - loss: 0.9950 - acc: 0.6895 - val_loss: 0.8984 - val_acc: 0.7307\n",
            "Epoch 5/200\n",
            "781/781 [==============================] - 42s 53ms/step - loss: 0.9238 - acc: 0.7142 - val_loss: 0.8961 - val_acc: 0.7403\n",
            "Epoch 6/200\n",
            "781/781 [==============================] - 41s 53ms/step - loss: 0.8826 - acc: 0.7317 - val_loss: 0.8437 - val_acc: 0.7552\n",
            "Epoch 7/200\n",
            "781/781 [==============================] - 42s 54ms/step - loss: 0.8478 - acc: 0.7433 - val_loss: 0.7527 - val_acc: 0.7825\n",
            "Epoch 8/200\n",
            "781/781 [==============================] - 42s 54ms/step - loss: 0.8137 - acc: 0.7585 - val_loss: 0.7481 - val_acc: 0.7788\n",
            "Epoch 9/200\n",
            "781/781 [==============================] - 42s 53ms/step - loss: 0.8006 - acc: 0.7622 - val_loss: 0.7537 - val_acc: 0.7869\n",
            "Epoch 10/200\n",
            "781/781 [==============================] - 41s 53ms/step - loss: 0.7705 - acc: 0.7738 - val_loss: 0.7478 - val_acc: 0.7842\n",
            "Epoch 11/200\n",
            "781/781 [==============================] - 42s 54ms/step - loss: 0.7593 - acc: 0.7799 - val_loss: 0.7829 - val_acc: 0.7819\n",
            "Epoch 12/200\n",
            "781/781 [==============================] - 42s 54ms/step - loss: 0.7444 - acc: 0.7841 - val_loss: 0.7393 - val_acc: 0.7945\n",
            "Epoch 13/200\n",
            "781/781 [==============================] - 42s 54ms/step - loss: 0.7290 - acc: 0.7922 - val_loss: 0.7713 - val_acc: 0.7867\n",
            "Epoch 14/200\n",
            "781/781 [==============================] - 41s 53ms/step - loss: 0.7114 - acc: 0.7974 - val_loss: 0.7847 - val_acc: 0.7879\n",
            "Epoch 15/200\n",
            "781/781 [==============================] - 40s 52ms/step - loss: 0.7091 - acc: 0.7994 - val_loss: 0.7678 - val_acc: 0.7941\n",
            "Epoch 16/200\n",
            "781/781 [==============================] - 41s 52ms/step - loss: 0.6993 - acc: 0.8032 - val_loss: 0.6876 - val_acc: 0.8089\n",
            "Epoch 17/200\n",
            "781/781 [==============================] - 39s 50ms/step - loss: 0.6920 - acc: 0.8067 - val_loss: 0.6935 - val_acc: 0.8137\n",
            "Epoch 18/200\n",
            "781/781 [==============================] - 40s 51ms/step - loss: 0.6840 - acc: 0.8097 - val_loss: 0.7188 - val_acc: 0.8039\n",
            "Epoch 19/200\n",
            "781/781 [==============================] - 41s 53ms/step - loss: 0.6763 - acc: 0.8137 - val_loss: 0.6861 - val_acc: 0.8163\n",
            "Epoch 20/200\n",
            "781/781 [==============================] - 43s 55ms/step - loss: 0.6683 - acc: 0.8182 - val_loss: 0.6761 - val_acc: 0.8202\n",
            "Epoch 21/200\n",
            "781/781 [==============================] - 42s 54ms/step - loss: 0.6629 - acc: 0.8191 - val_loss: 0.7120 - val_acc: 0.8109\n",
            "Epoch 22/200\n",
            "781/781 [==============================] - 43s 55ms/step - loss: 0.6623 - acc: 0.8187 - val_loss: 0.5906 - val_acc: 0.8484\n",
            "Epoch 23/200\n",
            "781/781 [==============================] - 42s 54ms/step - loss: 0.6533 - acc: 0.8216 - val_loss: 0.6019 - val_acc: 0.8454\n",
            "Epoch 24/200\n",
            "781/781 [==============================] - 41s 53ms/step - loss: 0.6480 - acc: 0.8223 - val_loss: 0.7076 - val_acc: 0.8114\n",
            "Epoch 25/200\n",
            "781/781 [==============================] - 41s 53ms/step - loss: 0.6486 - acc: 0.8240 - val_loss: 0.6411 - val_acc: 0.8329\n",
            "Epoch 26/200\n",
            "781/781 [==============================] - 40s 51ms/step - loss: 0.6427 - acc: 0.8273 - val_loss: 0.6569 - val_acc: 0.8308\n",
            "Epoch 27/200\n",
            "781/781 [==============================] - 40s 52ms/step - loss: 0.6438 - acc: 0.8295 - val_loss: 0.6321 - val_acc: 0.8365\n",
            "Epoch 28/200\n",
            "781/781 [==============================] - 39s 50ms/step - loss: 0.6399 - acc: 0.8282 - val_loss: 0.6138 - val_acc: 0.8428\n",
            "Epoch 29/200\n",
            "781/781 [==============================] - 39s 50ms/step - loss: 0.6317 - acc: 0.8325 - val_loss: 0.6300 - val_acc: 0.8375\n",
            "Epoch 30/200\n",
            "781/781 [==============================] - 42s 54ms/step - loss: 0.6313 - acc: 0.8316 - val_loss: 0.6988 - val_acc: 0.8258\n",
            "Epoch 31/200\n",
            "781/781 [==============================] - 42s 54ms/step - loss: 0.6289 - acc: 0.8332 - val_loss: 0.6061 - val_acc: 0.8483\n",
            "Epoch 32/200\n",
            "781/781 [==============================] - 42s 54ms/step - loss: 0.6266 - acc: 0.8327 - val_loss: 0.5810 - val_acc: 0.8537\n",
            "Epoch 33/200\n",
            "781/781 [==============================] - 42s 54ms/step - loss: 0.6241 - acc: 0.8356 - val_loss: 0.6614 - val_acc: 0.8347\n",
            "Epoch 34/200\n",
            "781/781 [==============================] - 42s 53ms/step - loss: 0.6229 - acc: 0.8367 - val_loss: 0.6083 - val_acc: 0.8465\n",
            "Epoch 35/200\n",
            "781/781 [==============================] - 42s 54ms/step - loss: 0.6228 - acc: 0.8354 - val_loss: 0.5916 - val_acc: 0.8489\n",
            "Epoch 36/200\n",
            "781/781 [==============================] - 41s 53ms/step - loss: 0.6185 - acc: 0.8369 - val_loss: 0.6803 - val_acc: 0.8284\n",
            "Epoch 37/200\n",
            "781/781 [==============================] - 42s 53ms/step - loss: 0.6178 - acc: 0.8368 - val_loss: 0.6710 - val_acc: 0.8292\n",
            "Epoch 38/200\n",
            "781/781 [==============================] - 41s 53ms/step - loss: 0.6107 - acc: 0.8390 - val_loss: 0.6794 - val_acc: 0.8279\n",
            "Epoch 39/200\n",
            "781/781 [==============================] - 42s 54ms/step - loss: 0.6159 - acc: 0.8378 - val_loss: 0.6281 - val_acc: 0.8407\n",
            "Epoch 40/200\n",
            "781/781 [==============================] - 42s 54ms/step - loss: 0.6104 - acc: 0.8408 - val_loss: 0.6195 - val_acc: 0.8453\n",
            "Epoch 41/200\n",
            "781/781 [==============================] - 43s 55ms/step - loss: 0.6088 - acc: 0.8403 - val_loss: 0.5746 - val_acc: 0.8552\n",
            "Epoch 42/200\n",
            "781/781 [==============================] - 43s 55ms/step - loss: 0.6070 - acc: 0.8425 - val_loss: 0.6266 - val_acc: 0.8473\n",
            "Epoch 43/200\n",
            "781/781 [==============================] - 43s 55ms/step - loss: 0.6070 - acc: 0.8426 - val_loss: 0.5891 - val_acc: 0.8564\n",
            "Epoch 44/200\n",
            "781/781 [==============================] - 43s 55ms/step - loss: 0.6057 - acc: 0.8424 - val_loss: 0.6415 - val_acc: 0.8382\n",
            "Epoch 45/200\n",
            "781/781 [==============================] - 43s 55ms/step - loss: 0.6032 - acc: 0.8431 - val_loss: 0.5809 - val_acc: 0.8539\n",
            "Epoch 46/200\n",
            "781/781 [==============================] - 43s 55ms/step - loss: 0.5966 - acc: 0.8458 - val_loss: 0.5955 - val_acc: 0.8524\n",
            "Epoch 47/200\n",
            "781/781 [==============================] - 43s 55ms/step - loss: 0.6024 - acc: 0.8427 - val_loss: 0.6148 - val_acc: 0.8449\n",
            "Epoch 48/200\n",
            "781/781 [==============================] - 42s 54ms/step - loss: 0.5995 - acc: 0.8447 - val_loss: 0.6256 - val_acc: 0.8439\n",
            "Epoch 49/200\n",
            "781/781 [==============================] - 42s 54ms/step - loss: 0.5949 - acc: 0.8448 - val_loss: 0.6696 - val_acc: 0.8310\n",
            "Epoch 50/200\n",
            "781/781 [==============================] - 40s 52ms/step - loss: 0.5928 - acc: 0.8481 - val_loss: 0.5745 - val_acc: 0.8603\n",
            "Epoch 51/200\n",
            "781/781 [==============================] - 38s 48ms/step - loss: 0.5981 - acc: 0.8447 - val_loss: 0.5661 - val_acc: 0.8664\n",
            "Epoch 52/200\n",
            "781/781 [==============================] - 38s 48ms/step - loss: 0.5980 - acc: 0.8465 - val_loss: 0.6601 - val_acc: 0.8330\n",
            "Epoch 53/200\n",
            "781/781 [==============================] - 39s 50ms/step - loss: 0.5966 - acc: 0.8456 - val_loss: 0.5444 - val_acc: 0.8681\n",
            "Epoch 54/200\n",
            "781/781 [==============================] - 40s 52ms/step - loss: 0.5948 - acc: 0.8470 - val_loss: 0.5819 - val_acc: 0.8576\n",
            "Epoch 55/200\n",
            "781/781 [==============================] - 41s 52ms/step - loss: 0.5908 - acc: 0.8485 - val_loss: 0.6166 - val_acc: 0.8510\n",
            "Epoch 56/200\n",
            "781/781 [==============================] - 43s 55ms/step - loss: 0.5915 - acc: 0.8469 - val_loss: 0.6550 - val_acc: 0.8385\n",
            "Epoch 57/200\n",
            "781/781 [==============================] - 43s 55ms/step - loss: 0.5825 - acc: 0.8528 - val_loss: 0.6024 - val_acc: 0.8535\n",
            "Epoch 58/200\n",
            "781/781 [==============================] - 43s 54ms/step - loss: 0.5891 - acc: 0.8510 - val_loss: 0.6172 - val_acc: 0.8458\n",
            "Epoch 59/200\n",
            "781/781 [==============================] - 43s 55ms/step - loss: 0.5920 - acc: 0.8470 - val_loss: 0.5831 - val_acc: 0.8579\n",
            "Epoch 60/200\n",
            "781/781 [==============================] - 43s 54ms/step - loss: 0.5869 - acc: 0.8500 - val_loss: 0.5693 - val_acc: 0.8628\n",
            "Epoch 61/200\n",
            "781/781 [==============================] - 41s 53ms/step - loss: 0.5870 - acc: 0.8495 - val_loss: 0.5760 - val_acc: 0.8608\n",
            "Epoch 62/200\n",
            "781/781 [==============================] - 42s 54ms/step - loss: 0.5800 - acc: 0.8529 - val_loss: 0.5469 - val_acc: 0.8718\n",
            "Epoch 63/200\n",
            "781/781 [==============================] - 42s 54ms/step - loss: 0.5861 - acc: 0.8496 - val_loss: 0.6031 - val_acc: 0.8536\n",
            "Epoch 64/200\n",
            "781/781 [==============================] - 41s 53ms/step - loss: 0.5864 - acc: 0.8493 - val_loss: 0.5911 - val_acc: 0.8574\n",
            "Epoch 65/200\n",
            "781/781 [==============================] - 39s 51ms/step - loss: 0.5842 - acc: 0.8520 - val_loss: 0.5527 - val_acc: 0.8660\n",
            "Epoch 66/200\n",
            "781/781 [==============================] - 42s 54ms/step - loss: 0.5794 - acc: 0.8519 - val_loss: 0.5927 - val_acc: 0.8605\n",
            "Epoch 67/200\n",
            "781/781 [==============================] - 41s 52ms/step - loss: 0.5800 - acc: 0.8530 - val_loss: 0.5663 - val_acc: 0.8632\n",
            "Epoch 68/200\n",
            "781/781 [==============================] - 42s 54ms/step - loss: 0.5797 - acc: 0.8512 - val_loss: 0.5611 - val_acc: 0.8639\n",
            "Epoch 69/200\n",
            "781/781 [==============================] - 42s 54ms/step - loss: 0.5840 - acc: 0.8508 - val_loss: 0.5947 - val_acc: 0.8549\n",
            "Epoch 70/200\n",
            "781/781 [==============================] - 42s 54ms/step - loss: 0.5780 - acc: 0.8535 - val_loss: 0.6236 - val_acc: 0.8507\n",
            "Epoch 71/200\n",
            "781/781 [==============================] - 42s 54ms/step - loss: 0.5758 - acc: 0.8546 - val_loss: 0.5827 - val_acc: 0.8588\n",
            "Epoch 72/200\n",
            "781/781 [==============================] - 42s 54ms/step - loss: 0.5805 - acc: 0.8513 - val_loss: 0.5592 - val_acc: 0.8635\n",
            "Epoch 73/200\n",
            "781/781 [==============================] - 42s 54ms/step - loss: 0.5716 - acc: 0.8562 - val_loss: 0.6109 - val_acc: 0.8550\n",
            "Epoch 74/200\n",
            "781/781 [==============================] - 42s 54ms/step - loss: 0.5754 - acc: 0.8547 - val_loss: 0.6137 - val_acc: 0.8513\n",
            "Epoch 75/200\n",
            "781/781 [==============================] - 43s 55ms/step - loss: 0.5802 - acc: 0.8528 - val_loss: 0.5394 - val_acc: 0.8681\n",
            "Epoch 76/200\n",
            "781/781 [==============================] - 42s 54ms/step - loss: 0.5738 - acc: 0.8544 - val_loss: 0.5272 - val_acc: 0.8751\n",
            "Epoch 77/200\n",
            "781/781 [==============================] - 42s 53ms/step - loss: 0.5739 - acc: 0.8532 - val_loss: 0.5498 - val_acc: 0.8675\n",
            "Epoch 78/200\n",
            "781/781 [==============================] - 42s 54ms/step - loss: 0.5705 - acc: 0.8559 - val_loss: 0.5941 - val_acc: 0.8549\n",
            "Epoch 79/200\n",
            "781/781 [==============================] - 42s 53ms/step - loss: 0.5718 - acc: 0.8547 - val_loss: 0.5595 - val_acc: 0.8687\n",
            "Epoch 80/200\n",
            "781/781 [==============================] - 42s 54ms/step - loss: 0.5723 - acc: 0.8554 - val_loss: 0.6294 - val_acc: 0.8464\n",
            "Epoch 81/200\n",
            "781/781 [==============================] - 42s 54ms/step - loss: 0.5700 - acc: 0.8549 - val_loss: 0.5920 - val_acc: 0.8576\n",
            "Epoch 82/200\n",
            "781/781 [==============================] - 42s 54ms/step - loss: 0.5724 - acc: 0.8565 - val_loss: 0.6723 - val_acc: 0.8355\n",
            "Epoch 83/200\n",
            "781/781 [==============================] - 42s 54ms/step - loss: 0.5702 - acc: 0.8573 - val_loss: 0.5822 - val_acc: 0.8602\n",
            "Epoch 84/200\n",
            "781/781 [==============================] - 42s 54ms/step - loss: 0.5760 - acc: 0.8538 - val_loss: 0.5745 - val_acc: 0.8643\n",
            "Epoch 85/200\n",
            "781/781 [==============================] - 42s 54ms/step - loss: 0.5679 - acc: 0.8572 - val_loss: 0.5737 - val_acc: 0.8648\n",
            "Epoch 86/200\n",
            "781/781 [==============================] - 42s 54ms/step - loss: 0.5694 - acc: 0.8566 - val_loss: 0.5727 - val_acc: 0.8646\n",
            "Epoch 87/200\n",
            "781/781 [==============================] - 48s 61ms/step - loss: 0.5650 - acc: 0.8569 - val_loss: 0.5533 - val_acc: 0.8713\n",
            "Epoch 88/200\n",
            "781/781 [==============================] - 47s 60ms/step - loss: 0.5722 - acc: 0.8556 - val_loss: 0.5509 - val_acc: 0.8676\n",
            "Epoch 89/200\n",
            "781/781 [==============================] - 44s 56ms/step - loss: 0.5664 - acc: 0.8574 - val_loss: 0.5793 - val_acc: 0.8620\n",
            "Epoch 90/200\n",
            "781/781 [==============================] - 44s 57ms/step - loss: 0.5681 - acc: 0.8567 - val_loss: 0.6718 - val_acc: 0.8381\n",
            "Epoch 91/200\n",
            "781/781 [==============================] - 44s 56ms/step - loss: 0.5697 - acc: 0.8563 - val_loss: 0.6249 - val_acc: 0.8479\n",
            "Epoch 92/200\n",
            "781/781 [==============================] - 54s 70ms/step - loss: 0.5695 - acc: 0.8562 - val_loss: 0.5958 - val_acc: 0.8509\n",
            "Epoch 93/200\n",
            "781/781 [==============================] - 43s 55ms/step - loss: 0.5641 - acc: 0.8570 - val_loss: 0.5840 - val_acc: 0.8592\n",
            "Epoch 94/200\n",
            "323/781 [===========>..................] - ETA: 23s - loss: 0.5666 - acc: 0.8568Buffered data was truncated after reaching the output size limit."
          ],
          "name": "stdout"
        }
      ]
    },
    {
      "metadata": {
        "id": "8rcGNCeQsQHf",
        "colab_type": "code",
        "outputId": "2034b534-13e9-41cf-b9e2-203e84d01e2e",
        "colab": {
          "base_uri": "https://localhost:8080/",
          "height": 543
        }
      },
      "cell_type": "code",
      "source": [
        "acc = history.history['acc']\n",
        "val_acc = history.history['val_acc']\n",
        "\n",
        "loss = history.history['loss']\n",
        "val_loss = history.history['val_loss']\n",
        "\n",
        "epochs = range(1, len(acc) + 1)\n",
        "\n",
        "# training and validation accuracy\n",
        "\n",
        "plt.plot(epochs, acc, 'bo', label='training acc')\n",
        "plt.plot(epochs, val_acc, 'b', label='validation acc')\n",
        "plt.title('training and validation accuracy')\n",
        "plt.legend()\n",
        "\n",
        "plt.figure()\n",
        "\n",
        "# training and validation loss\n",
        "\n",
        "plt.plot(epochs, loss, 'bo', label='training loss')\n",
        "plt.plot(epochs, val_loss, 'b', label='validation loss')\n",
        "plt.title('training and validation loss')\n",
        "plt.legend()\n",
        "\n",
        "plt.show()"
      ],
      "execution_count": 7,
      "outputs": [
        {
          "output_type": "display_data",
          "data": {
            "image/png": "[encoded data removed]",
            "text/plain": [
              "<Figure size 432x288 with 1 Axes>"
            ]
          },
          "metadata": {
            "tags": []
          }
        },
        {
          "output_type": "display_data",
          "data": {
            "image/png": "[encoded data removed]",
            "text/plain": [
              "<Figure size 432x288 with 1 Axes>"
            ]
          },
          "metadata": {
            "tags": []
          }
        }
      ]
    },
    {
      "metadata": {
        "id": "gNgiBFrXFxu0",
        "colab_type": "code",
        "outputId": "e1aa71a6-d269-4a8a-cc2a-e5e5edea07e4",
        "colab": {
          "base_uri": "https://localhost:8080/",
          "height": 280
        }
      },
      "cell_type": "code",
      "source": [
        "history_dict = history.history\n",
        "loss_values = history_dict['loss']\n",
        "\n",
        "plt.figure(1)\n",
        "plt.plot(loss_values, label='Loss')\n",
        "# plt.plot(prediction,label='prediction',color = 'green')\n",
        "plt.legend(loc='upper right')\n",
        "plt.title('Loss reduction per epoch')\n",
        "plt.ylabel('loss') \n",
        "plt.show()\n"
      ],
      "execution_count": 8,
      "outputs": [
        {
          "output_type": "display_data",
          "data": {
            "image/png": "[encoded data removed]",
            "text/plain": [
              "<Figure size 432x288 with 1 Axes>"
            ]
          },
          "metadata": {
            "tags": []
          }
        }
      ]
    }
  ]
}